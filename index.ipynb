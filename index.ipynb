{
 "cells": [
  {
   "cell_type": "markdown",
   "metadata": {},
   "source": [
    "# Thilanka's Machine Learning Notebooks\n",
    "\n",
    "*Welcome to Thilanka's Machine Learning Notebooks!*\n",
    "\n",
    "[Prerequisites](#Prerequisites) (see below)\n",
    "\n",
    "## Notebooks\n",
    "[CS-493D (Introduction to Machine Learning) Final Project](final_project.ipynb)\n"
   ]
  },
  {
   "cell_type": "markdown",
   "metadata": {
    "collapsed": true
   },
   "source": [
    "## Prerequisites\n",
    "### To understand\n",
    "* **Python** – you don't need to be an expert python programmer, but you do need to know the basics. If you don't, the official [Python tutorial](https://docs.python.org/3/tutorial/) is a good place to start.\n",
    "* **Scientific Python** – A few popular python libraries used in this project, in particular NumPy, matplotlib and pandas. If you are not familiar with these libraries, you should probably start by going through the tutorials in the Tools section (especially NumPy).\n",
    "* **Math** – Some notions of Linear Algebra, Calculus, Statistics and Probability theory are helpful to understand the code. You should be able to follow along if you learned these in the past as it won't be very advanced.\n",
    "\n",
    "### To run the examples\n",
    "* **Jupyter** – These notebooks are based on Jupyter. If you just plan to read without running any code, there's really nothing more to know, just keep reading! But if you want to experiment with the code examples you need to:\n",
    "    * follow the [installation instructions](https://github.com/thilankam/opioid-data-ml/#installation),\n",
    "    * learn how to use Jupyter. Start the User Interface Tour from the Help menu.\n",
    "\n",
    "### To activate extensions\n",
    "* If this is an interactive session (see above), you may want to turn on a few Jupyter extensions by going to the [Extension Configuration](../nbextensions/) page. In particular the \"*Table of Contents (2)*\" extension is quite useful.\n"
   ]
  },
  {
   "cell_type": "code",
   "execution_count": null,
   "metadata": {
    "collapsed": true
   },
   "outputs": [],
   "source": []
  }
 ],
 "metadata": {
  "kernelspec": {
   "display_name": "Python 3",
   "language": "python",
   "name": "python3"
  },
  "language_info": {
   "codemirror_mode": {
    "name": "ipython",
    "version": 3
   },
   "file_extension": ".py",
   "mimetype": "text/x-python",
   "name": "python",
   "nbconvert_exporter": "python",
   "pygments_lexer": "ipython3",
   "version": "3.5.4"
  },
  "nav_menu": {},
  "toc": {
   "nav_menu": {},
   "number_sections": true,
   "sideBar": true,
   "skip_h1_title": false,
   "toc_cell": false,
   "toc_position": {},
   "toc_section_display": "block",
   "toc_window_display": false
  }
 },
 "nbformat": 4,
 "nbformat_minor": 1
}
