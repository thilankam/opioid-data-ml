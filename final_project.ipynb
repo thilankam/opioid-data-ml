{
 "cells": [
  {
   "cell_type": "markdown",
   "metadata": {},
   "source": [
    "# CS-493D Machine Learning Final Project\n",
    "\n",
    "*This project uses several machine learning models to gain insights from opioid data available from data.gov.*\n"
   ]
  },
  {
   "cell_type": "markdown",
   "metadata": {},
   "source": [
    "I looked at the data set titled \"Accidental Drug Related Deaths 2012-June 2017\" available at: https://catalog.data.gov/dataset/accidental-drug-related-deaths-january-2012-sept-2015.\n",
    "\n",
    "In particular, I attempted to answer the following question:\n",
    "\"Given an accidental drug overdose related death, can we accurately predict the drug that was used? i.e. whether the overdose is related Heroin, Cocaine, Fentanyl, Oxycodone, Oxymorphone, EtOH, Hydrocodone, Benzodiazepine, Methadone, Amphet, Tramad, Morphine, or Other kind of drug?\"\n"
   ]
  },
  {
   "cell_type": "markdown",
   "metadata": {},
   "source": [
    "## Setup "
   ]
  },
  {
   "cell_type": "markdown",
   "metadata": {},
   "source": [
    "First, let's make sure this notebook works well in both python 2 and 3, import a few common modules, ensure MatplotLib plots figures inline and prepare a function to save the figures:"
   ]
  },
  {
   "cell_type": "code",
   "execution_count": 307,
   "metadata": {
    "collapsed": true
   },
   "outputs": [],
   "source": [
    "# To support both python 2 and python 3\n",
    "from __future__ import division, print_function, unicode_literals\n",
    "\n",
    "# Common imports\n",
    "import numpy as np\n",
    "import os\n",
    "\n",
    "# to make this notebook's output stable across runs\n",
    "np.random.seed(42)\n",
    "\n",
    "# To plot pretty figures\n",
    "%matplotlib inline\n",
    "import matplotlib\n",
    "import matplotlib.pyplot as plt\n",
    "\n",
    "plt.rcParams['axes.labelsize'] = 14\n",
    "plt.rcParams['xtick.labelsize'] = 12\n",
    "plt.rcParams['ytick.labelsize'] = 12\n",
    "\n",
    "# Where to save the figures\n",
    "PROJECT_ROOT_DIR = \".\"\n",
    "IMAGES_PATH = os.path.join(PROJECT_ROOT_DIR, \"images\")\n",
    "\n",
    "def save_fig(fig_id, tight_layout=True, fig_extension=\"png\", resolution=300):\n",
    "    if not os.path.exists(IMAGES_PATH):\n",
    "        os.makedirs(IMAGES)\n",
    "    path = os.path.join(IMAGES_PATH, fig_id + \".\" + fig_extension)\n",
    "    print(\"Saving figure\", fig_id)\n",
    "    if tight_layout:\n",
    "        plt.tight_layout()\n",
    "    plt.savefig(path, format=fig_extension, dpi=resolution)"
   ]
  },
  {
   "cell_type": "markdown",
   "metadata": {},
   "source": [
    "# Get the Data"
   ]
  },
  {
   "cell_type": "code",
   "execution_count": 353,
   "metadata": {
    "collapsed": true
   },
   "outputs": [],
   "source": [
    "import io\n",
    "import requests\n",
    "import pandas as pd\n",
    "\n",
    "DOWNLOAD_URL = \"https://data.ct.gov/api/views/rybz-nyjw/rows.csv\"\n",
    "DATA_SET_FILE = \"Accidental_Drug_Related_Deaths__2012-June_2017.csv\"\n",
    "\n",
    "def fetch_opioid_data():\n",
    "    s=requests.get(DOWNLOAD_URL).content\n",
    "    return pd.read_csv(io.StringIO(s.decode('utf-8')))"
   ]
  },
  {
   "cell_type": "code",
   "execution_count": 354,
   "metadata": {},
   "outputs": [
    {
     "name": "stdout",
     "output_type": "stream",
     "text": [
      "<class 'pandas.core.frame.DataFrame'>\n",
      "RangeIndex: 3583 entries, 0 to 3582\n",
      "Data columns (total 32 columns):\n",
      "CaseNumber               3583 non-null object\n",
      "Date                     3581 non-null object\n",
      "Sex                      3580 non-null object\n",
      "Race                     3573 non-null object\n",
      "Age                      3581 non-null float64\n",
      "Residence City           3490 non-null object\n",
      "Residence State          1663 non-null object\n",
      "Residence County         2885 non-null object\n",
      "Death City               3579 non-null object\n",
      "Death State              1702 non-null object\n",
      "Death County             2405 non-null object\n",
      "Location                 3561 non-null object\n",
      "DescriptionofInjury      998 non-null object\n",
      "InjuryPlace              3506 non-null object\n",
      "ImmediateCauseA          3581 non-null object\n",
      "Heroin                   1936 non-null object\n",
      "Cocaine                  998 non-null object\n",
      "Fentanyl                 1114 non-null object\n",
      "Oxycodone                491 non-null object\n",
      "Oxymorphone              95 non-null object\n",
      "EtOH                     772 non-null object\n",
      "Hydrocodone              98 non-null object\n",
      "Benzodiazepine           884 non-null object\n",
      "Methadone                336 non-null object\n",
      "Amphet                   81 non-null object\n",
      "Tramad                   79 non-null object\n",
      "Morphine (not heroin)    50 non-null object\n",
      "Other                    321 non-null object\n",
      "Any Opioid               710 non-null object\n",
      "MannerofDeath            3576 non-null object\n",
      "AmendedMannerofDeath     538 non-null object\n",
      "DeathLoc                 3583 non-null object\n",
      "dtypes: float64(1), object(31)\n",
      "memory usage: 895.8+ KB\n"
     ]
    }
   ],
   "source": [
    "data = fetch_opioid_data()\n",
    "data.info()"
   ]
  },
  {
   "cell_type": "markdown",
   "metadata": {},
   "source": [
    "## Clean the Data"
   ]
  },
  {
   "cell_type": "code",
   "execution_count": 355,
   "metadata": {},
   "outputs": [
    {
     "data": {
      "text/html": [
       "<div>\n",
       "<style>\n",
       "    .dataframe thead tr:only-child th {\n",
       "        text-align: right;\n",
       "    }\n",
       "\n",
       "    .dataframe thead th {\n",
       "        text-align: left;\n",
       "    }\n",
       "\n",
       "    .dataframe tbody tr th {\n",
       "        vertical-align: top;\n",
       "    }\n",
       "</style>\n",
       "<table border=\"1\" class=\"dataframe\">\n",
       "  <thead>\n",
       "    <tr style=\"text-align: right;\">\n",
       "      <th></th>\n",
       "      <th>CaseNumber</th>\n",
       "      <th>Date</th>\n",
       "      <th>Sex</th>\n",
       "      <th>Race</th>\n",
       "      <th>Age</th>\n",
       "      <th>Residence City</th>\n",
       "      <th>Residence State</th>\n",
       "      <th>Residence County</th>\n",
       "      <th>Death City</th>\n",
       "      <th>Death State</th>\n",
       "      <th>...</th>\n",
       "      <th>Benzodiazepine</th>\n",
       "      <th>Methadone</th>\n",
       "      <th>Amphet</th>\n",
       "      <th>Tramad</th>\n",
       "      <th>Morphine (not heroin)</th>\n",
       "      <th>Other</th>\n",
       "      <th>Any Opioid</th>\n",
       "      <th>MannerofDeath</th>\n",
       "      <th>AmendedMannerofDeath</th>\n",
       "      <th>DeathLoc</th>\n",
       "    </tr>\n",
       "  </thead>\n",
       "  <tbody>\n",
       "    <tr>\n",
       "      <th>0</th>\n",
       "      <td>13-16336</td>\n",
       "      <td>11/09/2013</td>\n",
       "      <td>Female</td>\n",
       "      <td>White</td>\n",
       "      <td>53.0</td>\n",
       "      <td>GROTON</td>\n",
       "      <td>NaN</td>\n",
       "      <td>NEW LONDON</td>\n",
       "      <td>GROTON</td>\n",
       "      <td>NaN</td>\n",
       "      <td>...</td>\n",
       "      <td>Y</td>\n",
       "      <td>NaN</td>\n",
       "      <td>NaN</td>\n",
       "      <td>NaN</td>\n",
       "      <td>NaN</td>\n",
       "      <td>NaN</td>\n",
       "      <td>NaN</td>\n",
       "      <td>Accident</td>\n",
       "      <td>NaN</td>\n",
       "      <td>GROTON, CT\\n(41.343693, -72.07877)</td>\n",
       "    </tr>\n",
       "    <tr>\n",
       "      <th>1</th>\n",
       "      <td>12-18447</td>\n",
       "      <td>12/29/2012</td>\n",
       "      <td>Male</td>\n",
       "      <td>White</td>\n",
       "      <td>30.0</td>\n",
       "      <td>WOLCOTT</td>\n",
       "      <td>NaN</td>\n",
       "      <td>NEW HAVEN</td>\n",
       "      <td>WATERBURY</td>\n",
       "      <td>NaN</td>\n",
       "      <td>...</td>\n",
       "      <td>NaN</td>\n",
       "      <td>NaN</td>\n",
       "      <td>NaN</td>\n",
       "      <td>NaN</td>\n",
       "      <td>NaN</td>\n",
       "      <td>NaN</td>\n",
       "      <td>NaN</td>\n",
       "      <td>Accident</td>\n",
       "      <td>NaN</td>\n",
       "      <td>WATERBURY, CT\\n(41.554261, -73.043069)</td>\n",
       "    </tr>\n",
       "    <tr>\n",
       "      <th>2</th>\n",
       "      <td>14-2758</td>\n",
       "      <td>02/18/2014</td>\n",
       "      <td>Male</td>\n",
       "      <td>White</td>\n",
       "      <td>43.0</td>\n",
       "      <td>ENFIELD</td>\n",
       "      <td>NaN</td>\n",
       "      <td>NaN</td>\n",
       "      <td>ENFIELD</td>\n",
       "      <td>NaN</td>\n",
       "      <td>...</td>\n",
       "      <td>Y</td>\n",
       "      <td>NaN</td>\n",
       "      <td>NaN</td>\n",
       "      <td>NaN</td>\n",
       "      <td>NaN</td>\n",
       "      <td>NaN</td>\n",
       "      <td>NaN</td>\n",
       "      <td>Accident</td>\n",
       "      <td>NaN</td>\n",
       "      <td>ENFIELD, CT\\n(41.976501, -72.591985)</td>\n",
       "    </tr>\n",
       "    <tr>\n",
       "      <th>3</th>\n",
       "      <td>14-13497</td>\n",
       "      <td>09/07/2014</td>\n",
       "      <td>Female</td>\n",
       "      <td>White</td>\n",
       "      <td>24.0</td>\n",
       "      <td>WALLINGFORD</td>\n",
       "      <td>NaN</td>\n",
       "      <td>NaN</td>\n",
       "      <td>WALLINGFORD</td>\n",
       "      <td>NaN</td>\n",
       "      <td>...</td>\n",
       "      <td>NaN</td>\n",
       "      <td>NaN</td>\n",
       "      <td>NaN</td>\n",
       "      <td>NaN</td>\n",
       "      <td>NaN</td>\n",
       "      <td>NaN</td>\n",
       "      <td>NaN</td>\n",
       "      <td>Accident</td>\n",
       "      <td>NaN</td>\n",
       "      <td>WALLINGFORD, CT\\n(41.454408, -72.818414)</td>\n",
       "    </tr>\n",
       "    <tr>\n",
       "      <th>4</th>\n",
       "      <td>13-14421</td>\n",
       "      <td>10/04/2013</td>\n",
       "      <td>Female</td>\n",
       "      <td>White</td>\n",
       "      <td>26.0</td>\n",
       "      <td>WEST HAVEN</td>\n",
       "      <td>NaN</td>\n",
       "      <td>NEW HAVEN</td>\n",
       "      <td>WEST HAVEN</td>\n",
       "      <td>NaN</td>\n",
       "      <td>...</td>\n",
       "      <td>NaN</td>\n",
       "      <td>NaN</td>\n",
       "      <td>NaN</td>\n",
       "      <td>NaN</td>\n",
       "      <td>NaN</td>\n",
       "      <td>NaN</td>\n",
       "      <td>NaN</td>\n",
       "      <td>Accident</td>\n",
       "      <td>NaN</td>\n",
       "      <td>WEST HAVEN, CT\\n(41.272336, -72.949817)</td>\n",
       "    </tr>\n",
       "    <tr>\n",
       "      <th>5</th>\n",
       "      <td>13-18018</td>\n",
       "      <td>12/10/2013</td>\n",
       "      <td>Female</td>\n",
       "      <td>White</td>\n",
       "      <td>45.0</td>\n",
       "      <td>RIDGEFIELD</td>\n",
       "      <td>NaN</td>\n",
       "      <td>FAIRFIELD</td>\n",
       "      <td>DANBURY</td>\n",
       "      <td>NaN</td>\n",
       "      <td>...</td>\n",
       "      <td>Y</td>\n",
       "      <td>NaN</td>\n",
       "      <td>NaN</td>\n",
       "      <td>NaN</td>\n",
       "      <td>NaN</td>\n",
       "      <td>NaN</td>\n",
       "      <td>NaN</td>\n",
       "      <td>Accident</td>\n",
       "      <td>NaN</td>\n",
       "      <td>DANBURY, CT\\n(41.393666, -73.451539)</td>\n",
       "    </tr>\n",
       "    <tr>\n",
       "      <th>6</th>\n",
       "      <td>13-19004</td>\n",
       "      <td>12/27/2013</td>\n",
       "      <td>Male</td>\n",
       "      <td>White</td>\n",
       "      <td>55.0</td>\n",
       "      <td>WEST HAVEN</td>\n",
       "      <td>NaN</td>\n",
       "      <td>NEW HAVEN</td>\n",
       "      <td>BRIDGEPORT</td>\n",
       "      <td>NaN</td>\n",
       "      <td>...</td>\n",
       "      <td>Y</td>\n",
       "      <td>NaN</td>\n",
       "      <td>NaN</td>\n",
       "      <td>NaN</td>\n",
       "      <td>NaN</td>\n",
       "      <td>NaN</td>\n",
       "      <td>NaN</td>\n",
       "      <td>Pending</td>\n",
       "      <td>NaN</td>\n",
       "      <td>BRIDGEPORT, CT\\n(41.179195, -73.189476)</td>\n",
       "    </tr>\n",
       "    <tr>\n",
       "      <th>7</th>\n",
       "      <td>13-3783</td>\n",
       "      <td>03/04/2013</td>\n",
       "      <td>Male</td>\n",
       "      <td>Hispanic, White</td>\n",
       "      <td>47.0</td>\n",
       "      <td>NEW HAVEN</td>\n",
       "      <td>NaN</td>\n",
       "      <td>NEW HAVEN</td>\n",
       "      <td>NEW HAVEN</td>\n",
       "      <td>NaN</td>\n",
       "      <td>...</td>\n",
       "      <td>NaN</td>\n",
       "      <td>Y</td>\n",
       "      <td>NaN</td>\n",
       "      <td>NaN</td>\n",
       "      <td>NaN</td>\n",
       "      <td>NaN</td>\n",
       "      <td>NaN</td>\n",
       "      <td>Accident</td>\n",
       "      <td>NaN</td>\n",
       "      <td>NEW HAVEN, CT\\n(41.308252, -72.924161)</td>\n",
       "    </tr>\n",
       "    <tr>\n",
       "      <th>8</th>\n",
       "      <td>14-5669</td>\n",
       "      <td>04/09/2014</td>\n",
       "      <td>Female</td>\n",
       "      <td>White</td>\n",
       "      <td>53.0</td>\n",
       "      <td>DANBURY</td>\n",
       "      <td>NaN</td>\n",
       "      <td>NaN</td>\n",
       "      <td>DANBURY</td>\n",
       "      <td>NaN</td>\n",
       "      <td>...</td>\n",
       "      <td>NaN</td>\n",
       "      <td>NaN</td>\n",
       "      <td>NaN</td>\n",
       "      <td>NaN</td>\n",
       "      <td>NaN</td>\n",
       "      <td>NaN</td>\n",
       "      <td>NaN</td>\n",
       "      <td>Accident</td>\n",
       "      <td>NaN</td>\n",
       "      <td>DANBURY, CT\\n(41.393666, -73.451539)</td>\n",
       "    </tr>\n",
       "    <tr>\n",
       "      <th>9</th>\n",
       "      <td>13-9675</td>\n",
       "      <td>06/28/2013</td>\n",
       "      <td>Male</td>\n",
       "      <td>White</td>\n",
       "      <td>29.0</td>\n",
       "      <td>WATERBURY</td>\n",
       "      <td>NaN</td>\n",
       "      <td>NEW HAVEN</td>\n",
       "      <td>WATERBURY</td>\n",
       "      <td>NaN</td>\n",
       "      <td>...</td>\n",
       "      <td>NaN</td>\n",
       "      <td>NaN</td>\n",
       "      <td>NaN</td>\n",
       "      <td>NaN</td>\n",
       "      <td>NaN</td>\n",
       "      <td>NaN</td>\n",
       "      <td>NaN</td>\n",
       "      <td>Accident</td>\n",
       "      <td>NaN</td>\n",
       "      <td>WATERBURY, CT\\n(41.554261, -73.043069)</td>\n",
       "    </tr>\n",
       "    <tr>\n",
       "      <th>10</th>\n",
       "      <td>12-14640</td>\n",
       "      <td>10/18/2012</td>\n",
       "      <td>Male</td>\n",
       "      <td>White</td>\n",
       "      <td>19.0</td>\n",
       "      <td>SUDBURY</td>\n",
       "      <td>NaN</td>\n",
       "      <td>MIDDLESEX</td>\n",
       "      <td>BRIDGEPORT</td>\n",
       "      <td>NaN</td>\n",
       "      <td>...</td>\n",
       "      <td>Y</td>\n",
       "      <td>NaN</td>\n",
       "      <td>NaN</td>\n",
       "      <td>NaN</td>\n",
       "      <td>NaN</td>\n",
       "      <td>NaN</td>\n",
       "      <td>NaN</td>\n",
       "      <td>Accident</td>\n",
       "      <td>NaN</td>\n",
       "      <td>BRIDGEPORT, CT\\n(41.179195, -73.189476)</td>\n",
       "    </tr>\n",
       "    <tr>\n",
       "      <th>11</th>\n",
       "      <td>14-6116</td>\n",
       "      <td>04/17/2014</td>\n",
       "      <td>Male</td>\n",
       "      <td>White</td>\n",
       "      <td>28.0</td>\n",
       "      <td>WINDSOR</td>\n",
       "      <td>NaN</td>\n",
       "      <td>NaN</td>\n",
       "      <td>WINDSOR</td>\n",
       "      <td>NaN</td>\n",
       "      <td>...</td>\n",
       "      <td>NaN</td>\n",
       "      <td>NaN</td>\n",
       "      <td>NaN</td>\n",
       "      <td>NaN</td>\n",
       "      <td>NaN</td>\n",
       "      <td>NaN</td>\n",
       "      <td>NaN</td>\n",
       "      <td>Accident</td>\n",
       "      <td>NaN</td>\n",
       "      <td>WINDSOR, CT\\n(41.852781, -72.64379)</td>\n",
       "    </tr>\n",
       "    <tr>\n",
       "      <th>12</th>\n",
       "      <td>15-14945</td>\n",
       "      <td>09/17/2015</td>\n",
       "      <td>Male</td>\n",
       "      <td>White</td>\n",
       "      <td>27.0</td>\n",
       "      <td>HEBRON</td>\n",
       "      <td>CT</td>\n",
       "      <td>TOLLAND</td>\n",
       "      <td>NEW HARTFORD</td>\n",
       "      <td>NaN</td>\n",
       "      <td>...</td>\n",
       "      <td>NaN</td>\n",
       "      <td>NaN</td>\n",
       "      <td>NaN</td>\n",
       "      <td>NaN</td>\n",
       "      <td>NaN</td>\n",
       "      <td>NaN</td>\n",
       "      <td>Y</td>\n",
       "      <td>Accident</td>\n",
       "      <td>NaN</td>\n",
       "      <td>NEW HARTFORD, CT\\n(41.879454, -72.976047)</td>\n",
       "    </tr>\n",
       "    <tr>\n",
       "      <th>13</th>\n",
       "      <td>13-16986</td>\n",
       "      <td>11/21/2013</td>\n",
       "      <td>Male</td>\n",
       "      <td>Hispanic, White</td>\n",
       "      <td>44.0</td>\n",
       "      <td>HARTFORD</td>\n",
       "      <td>NaN</td>\n",
       "      <td>HARTFORD</td>\n",
       "      <td>HARTFORD</td>\n",
       "      <td>NaN</td>\n",
       "      <td>...</td>\n",
       "      <td>NaN</td>\n",
       "      <td>NaN</td>\n",
       "      <td>NaN</td>\n",
       "      <td>NaN</td>\n",
       "      <td>NaN</td>\n",
       "      <td>NaN</td>\n",
       "      <td>NaN</td>\n",
       "      <td>Accident</td>\n",
       "      <td>NaN</td>\n",
       "      <td>HARTFORD, CT\\n(41.765775, -72.673356)</td>\n",
       "    </tr>\n",
       "    <tr>\n",
       "      <th>14</th>\n",
       "      <td>15-10196</td>\n",
       "      <td>06/19/2015</td>\n",
       "      <td>Male</td>\n",
       "      <td>White</td>\n",
       "      <td>50.0</td>\n",
       "      <td>DANBURY</td>\n",
       "      <td>CT</td>\n",
       "      <td>FAIRFIELD</td>\n",
       "      <td>DANBURY</td>\n",
       "      <td>CT</td>\n",
       "      <td>...</td>\n",
       "      <td>NaN</td>\n",
       "      <td>NaN</td>\n",
       "      <td>NaN</td>\n",
       "      <td>NaN</td>\n",
       "      <td>NaN</td>\n",
       "      <td>NaN</td>\n",
       "      <td>Y</td>\n",
       "      <td>Accident</td>\n",
       "      <td>NaN</td>\n",
       "      <td>DANBURY, CT\\n(41.393666, -73.451539)</td>\n",
       "    </tr>\n",
       "    <tr>\n",
       "      <th>15</th>\n",
       "      <td>13-14650</td>\n",
       "      <td>10/08/2013</td>\n",
       "      <td>Male</td>\n",
       "      <td>Unknown</td>\n",
       "      <td>60.0</td>\n",
       "      <td>EAST HARTFORD</td>\n",
       "      <td>NaN</td>\n",
       "      <td>NaN</td>\n",
       "      <td>MANCHESTER</td>\n",
       "      <td>NaN</td>\n",
       "      <td>...</td>\n",
       "      <td>NaN</td>\n",
       "      <td>NaN</td>\n",
       "      <td>NaN</td>\n",
       "      <td>NaN</td>\n",
       "      <td>NaN</td>\n",
       "      <td>NaN</td>\n",
       "      <td>NaN</td>\n",
       "      <td>Accident</td>\n",
       "      <td>NaN</td>\n",
       "      <td>MANCHESTER, CT\\n(41.770668, -72.520868)</td>\n",
       "    </tr>\n",
       "    <tr>\n",
       "      <th>16</th>\n",
       "      <td>15-10732</td>\n",
       "      <td>06/30/2015</td>\n",
       "      <td>Male</td>\n",
       "      <td>White</td>\n",
       "      <td>20.0</td>\n",
       "      <td>STAFFORD SPRINGS</td>\n",
       "      <td>CT</td>\n",
       "      <td>TOLLAND</td>\n",
       "      <td>HARTFORD</td>\n",
       "      <td>CT</td>\n",
       "      <td>...</td>\n",
       "      <td>NaN</td>\n",
       "      <td>NaN</td>\n",
       "      <td>NaN</td>\n",
       "      <td>NaN</td>\n",
       "      <td>NaN</td>\n",
       "      <td>NaN</td>\n",
       "      <td>Y</td>\n",
       "      <td>Accident</td>\n",
       "      <td>NaN</td>\n",
       "      <td>HARTFORD, CT\\n(41.765775, -72.673356)</td>\n",
       "    </tr>\n",
       "    <tr>\n",
       "      <th>17</th>\n",
       "      <td>14-7655</td>\n",
       "      <td>05/14/2014</td>\n",
       "      <td>Male</td>\n",
       "      <td>White</td>\n",
       "      <td>49.0</td>\n",
       "      <td>SOUTHBURY</td>\n",
       "      <td>NaN</td>\n",
       "      <td>NaN</td>\n",
       "      <td>WATERBURY</td>\n",
       "      <td>NaN</td>\n",
       "      <td>...</td>\n",
       "      <td>NaN</td>\n",
       "      <td>NaN</td>\n",
       "      <td>NaN</td>\n",
       "      <td>NaN</td>\n",
       "      <td>NaN</td>\n",
       "      <td>NaN</td>\n",
       "      <td>NaN</td>\n",
       "      <td>Accident</td>\n",
       "      <td>NaN</td>\n",
       "      <td>WATERBURY, CT\\n(41.554261, -73.043069)</td>\n",
       "    </tr>\n",
       "    <tr>\n",
       "      <th>18</th>\n",
       "      <td>15-10989</td>\n",
       "      <td>07/05/2015</td>\n",
       "      <td>Male</td>\n",
       "      <td>Hispanic, White</td>\n",
       "      <td>43.0</td>\n",
       "      <td>NAUGATUCK</td>\n",
       "      <td>CT</td>\n",
       "      <td>NEW HAVEN</td>\n",
       "      <td>NAUGATUCK</td>\n",
       "      <td>CT</td>\n",
       "      <td>...</td>\n",
       "      <td>NaN</td>\n",
       "      <td>NaN</td>\n",
       "      <td>NaN</td>\n",
       "      <td>NaN</td>\n",
       "      <td>NaN</td>\n",
       "      <td>NaN</td>\n",
       "      <td>Y</td>\n",
       "      <td>Accident</td>\n",
       "      <td>NaN</td>\n",
       "      <td>NAUGATUCK, CT\\n(41.491113, -73.056564)</td>\n",
       "    </tr>\n",
       "    <tr>\n",
       "      <th>19</th>\n",
       "      <td>15-9564</td>\n",
       "      <td>06/08/2015</td>\n",
       "      <td>Male</td>\n",
       "      <td>White</td>\n",
       "      <td>54.0</td>\n",
       "      <td>NEW HAVEN</td>\n",
       "      <td>CT</td>\n",
       "      <td>NEW HAVEN</td>\n",
       "      <td>NEW HAVEN</td>\n",
       "      <td>CT</td>\n",
       "      <td>...</td>\n",
       "      <td>NaN</td>\n",
       "      <td>NaN</td>\n",
       "      <td>NaN</td>\n",
       "      <td>NaN</td>\n",
       "      <td>NaN</td>\n",
       "      <td>NaN</td>\n",
       "      <td>NaN</td>\n",
       "      <td>Accident</td>\n",
       "      <td>NaN</td>\n",
       "      <td>NEW HAVEN, CT\\n(41.308252, -72.924161)</td>\n",
       "    </tr>\n",
       "    <tr>\n",
       "      <th>20</th>\n",
       "      <td>14-9439</td>\n",
       "      <td>06/19/2014</td>\n",
       "      <td>Male</td>\n",
       "      <td>White</td>\n",
       "      <td>24.0</td>\n",
       "      <td>NEW BRITAIN</td>\n",
       "      <td>NaN</td>\n",
       "      <td>NaN</td>\n",
       "      <td>NEW BRITAIN</td>\n",
       "      <td>NaN</td>\n",
       "      <td>...</td>\n",
       "      <td>NaN</td>\n",
       "      <td>NaN</td>\n",
       "      <td>NaN</td>\n",
       "      <td>NaN</td>\n",
       "      <td>NaN</td>\n",
       "      <td>NaN</td>\n",
       "      <td>NaN</td>\n",
       "      <td>Accident</td>\n",
       "      <td>NaN</td>\n",
       "      <td>NEW BRITAIN, CT\\n(41.667528, -72.783437)</td>\n",
       "    </tr>\n",
       "    <tr>\n",
       "      <th>21</th>\n",
       "      <td>13-14790</td>\n",
       "      <td>10/11/2013</td>\n",
       "      <td>Male</td>\n",
       "      <td>White</td>\n",
       "      <td>33.0</td>\n",
       "      <td>STRATFORD</td>\n",
       "      <td>NaN</td>\n",
       "      <td>FAIRFIELD</td>\n",
       "      <td>BRIDGEPORT</td>\n",
       "      <td>NaN</td>\n",
       "      <td>...</td>\n",
       "      <td>NaN</td>\n",
       "      <td>Y</td>\n",
       "      <td>NaN</td>\n",
       "      <td>NaN</td>\n",
       "      <td>NaN</td>\n",
       "      <td>NaN</td>\n",
       "      <td>NaN</td>\n",
       "      <td>Accident</td>\n",
       "      <td>NaN</td>\n",
       "      <td>BRIDGEPORT, CT\\n(41.179195, -73.189476)</td>\n",
       "    </tr>\n",
       "    <tr>\n",
       "      <th>22</th>\n",
       "      <td>14-15926</td>\n",
       "      <td>10/24/2014</td>\n",
       "      <td>Male</td>\n",
       "      <td>White</td>\n",
       "      <td>26.0</td>\n",
       "      <td>MANCHESTER</td>\n",
       "      <td>NaN</td>\n",
       "      <td>NaN</td>\n",
       "      <td>HARTFORD</td>\n",
       "      <td>NaN</td>\n",
       "      <td>...</td>\n",
       "      <td>NaN</td>\n",
       "      <td>NaN</td>\n",
       "      <td>NaN</td>\n",
       "      <td>NaN</td>\n",
       "      <td>NaN</td>\n",
       "      <td>NaN</td>\n",
       "      <td>NaN</td>\n",
       "      <td>Accident</td>\n",
       "      <td>NaN</td>\n",
       "      <td>HARTFORD, CT\\n(41.765775, -72.673356)</td>\n",
       "    </tr>\n",
       "    <tr>\n",
       "      <th>23</th>\n",
       "      <td>12-7859</td>\n",
       "      <td>05/30/2012</td>\n",
       "      <td>Male</td>\n",
       "      <td>White</td>\n",
       "      <td>35.0</td>\n",
       "      <td>BRIDGEPORT</td>\n",
       "      <td>NaN</td>\n",
       "      <td>FAIRFIELD</td>\n",
       "      <td>BRIDGEPORT</td>\n",
       "      <td>NaN</td>\n",
       "      <td>...</td>\n",
       "      <td>NaN</td>\n",
       "      <td>NaN</td>\n",
       "      <td>NaN</td>\n",
       "      <td>NaN</td>\n",
       "      <td>NaN</td>\n",
       "      <td>NaN</td>\n",
       "      <td>NaN</td>\n",
       "      <td>Accident</td>\n",
       "      <td>NaN</td>\n",
       "      <td>BRIDGEPORT, CT\\n(41.179195, -73.189476)</td>\n",
       "    </tr>\n",
       "    <tr>\n",
       "      <th>24</th>\n",
       "      <td>12-8855</td>\n",
       "      <td>06/21/2012</td>\n",
       "      <td>Male</td>\n",
       "      <td>White</td>\n",
       "      <td>29.0</td>\n",
       "      <td>ROCKY HILL</td>\n",
       "      <td>NaN</td>\n",
       "      <td>HARTFORD</td>\n",
       "      <td>HARTFORD</td>\n",
       "      <td>NaN</td>\n",
       "      <td>...</td>\n",
       "      <td>NaN</td>\n",
       "      <td>NaN</td>\n",
       "      <td>NaN</td>\n",
       "      <td>NaN</td>\n",
       "      <td>NaN</td>\n",
       "      <td>NaN</td>\n",
       "      <td>NaN</td>\n",
       "      <td>Accident</td>\n",
       "      <td>NaN</td>\n",
       "      <td>HARTFORD, CT\\n(41.765775, -72.673356)</td>\n",
       "    </tr>\n",
       "    <tr>\n",
       "      <th>25</th>\n",
       "      <td>13-17615</td>\n",
       "      <td>12/03/2013</td>\n",
       "      <td>Female</td>\n",
       "      <td>Hispanic, White</td>\n",
       "      <td>44.0</td>\n",
       "      <td>HARTFORD</td>\n",
       "      <td>NaN</td>\n",
       "      <td>HARTFORD</td>\n",
       "      <td>HARTFORD</td>\n",
       "      <td>NaN</td>\n",
       "      <td>...</td>\n",
       "      <td>NaN</td>\n",
       "      <td>NaN</td>\n",
       "      <td>NaN</td>\n",
       "      <td>NaN</td>\n",
       "      <td>NaN</td>\n",
       "      <td>NaN</td>\n",
       "      <td>NaN</td>\n",
       "      <td>Accident</td>\n",
       "      <td>NaN</td>\n",
       "      <td>HARTFORD, CT\\n(41.765775, -72.673356)</td>\n",
       "    </tr>\n",
       "    <tr>\n",
       "      <th>26</th>\n",
       "      <td>13-2866</td>\n",
       "      <td>02/16/2013</td>\n",
       "      <td>Male</td>\n",
       "      <td>White</td>\n",
       "      <td>26.0</td>\n",
       "      <td>DURHAM</td>\n",
       "      <td>NaN</td>\n",
       "      <td>MIDDLESEX</td>\n",
       "      <td>DURHAM</td>\n",
       "      <td>NaN</td>\n",
       "      <td>...</td>\n",
       "      <td>NaN</td>\n",
       "      <td>NaN</td>\n",
       "      <td>NaN</td>\n",
       "      <td>NaN</td>\n",
       "      <td>NaN</td>\n",
       "      <td>NaN</td>\n",
       "      <td>NaN</td>\n",
       "      <td>Accident</td>\n",
       "      <td>NaN</td>\n",
       "      <td>DURHAM, CT\\n(41.485881, -72.681864)</td>\n",
       "    </tr>\n",
       "    <tr>\n",
       "      <th>27</th>\n",
       "      <td>15-15001</td>\n",
       "      <td>09/18/2015</td>\n",
       "      <td>Female</td>\n",
       "      <td>White</td>\n",
       "      <td>57.0</td>\n",
       "      <td>NORTH CANAAN</td>\n",
       "      <td>CT</td>\n",
       "      <td>LITCHFIELD</td>\n",
       "      <td>NORTH CANAAN</td>\n",
       "      <td>CT</td>\n",
       "      <td>...</td>\n",
       "      <td>NaN</td>\n",
       "      <td>Y</td>\n",
       "      <td>NaN</td>\n",
       "      <td>NaN</td>\n",
       "      <td>NaN</td>\n",
       "      <td>NaN</td>\n",
       "      <td>Y</td>\n",
       "      <td>Accident</td>\n",
       "      <td>NaN</td>\n",
       "      <td>NORTH CANAAN, CT\\n(42.025992, -73.32814)</td>\n",
       "    </tr>\n",
       "    <tr>\n",
       "      <th>28</th>\n",
       "      <td>15-7074</td>\n",
       "      <td>04/24/2015</td>\n",
       "      <td>Female</td>\n",
       "      <td>Hispanic, White</td>\n",
       "      <td>42.0</td>\n",
       "      <td>MIDDLETOWN</td>\n",
       "      <td>CT</td>\n",
       "      <td>MIDDLESEX</td>\n",
       "      <td>MIDDLETOWN</td>\n",
       "      <td>CT</td>\n",
       "      <td>...</td>\n",
       "      <td>NaN</td>\n",
       "      <td>NaN</td>\n",
       "      <td>NaN</td>\n",
       "      <td>NaN</td>\n",
       "      <td>NaN</td>\n",
       "      <td>NaN</td>\n",
       "      <td>Y</td>\n",
       "      <td>Accident</td>\n",
       "      <td>NaN</td>\n",
       "      <td>MIDDLETOWN, CT\\n(41.544654, -72.651713)</td>\n",
       "    </tr>\n",
       "    <tr>\n",
       "      <th>29</th>\n",
       "      <td>15-8366</td>\n",
       "      <td>05/18/2015</td>\n",
       "      <td>Female</td>\n",
       "      <td>White</td>\n",
       "      <td>22.0</td>\n",
       "      <td>KILLINGWORTH</td>\n",
       "      <td>CT</td>\n",
       "      <td>MIDDLESEX</td>\n",
       "      <td>KILLINGWORTH</td>\n",
       "      <td>CT</td>\n",
       "      <td>...</td>\n",
       "      <td>NaN</td>\n",
       "      <td>NaN</td>\n",
       "      <td>NaN</td>\n",
       "      <td>NaN</td>\n",
       "      <td>NaN</td>\n",
       "      <td>NaN</td>\n",
       "      <td>Y</td>\n",
       "      <td>Accident</td>\n",
       "      <td>NaN</td>\n",
       "      <td>KILLINGWORTH, CT\\n(41.357274, -72.554824)</td>\n",
       "    </tr>\n",
       "    <tr>\n",
       "      <th>...</th>\n",
       "      <td>...</td>\n",
       "      <td>...</td>\n",
       "      <td>...</td>\n",
       "      <td>...</td>\n",
       "      <td>...</td>\n",
       "      <td>...</td>\n",
       "      <td>...</td>\n",
       "      <td>...</td>\n",
       "      <td>...</td>\n",
       "      <td>...</td>\n",
       "      <td>...</td>\n",
       "      <td>...</td>\n",
       "      <td>...</td>\n",
       "      <td>...</td>\n",
       "      <td>...</td>\n",
       "      <td>...</td>\n",
       "      <td>...</td>\n",
       "      <td>...</td>\n",
       "      <td>...</td>\n",
       "      <td>...</td>\n",
       "      <td>...</td>\n",
       "    </tr>\n",
       "    <tr>\n",
       "      <th>3553</th>\n",
       "      <td>17-48</td>\n",
       "      <td>01/15/2017</td>\n",
       "      <td>Male</td>\n",
       "      <td>White</td>\n",
       "      <td>41.0</td>\n",
       "      <td>MIDDLETOWN</td>\n",
       "      <td>CT</td>\n",
       "      <td>MIDDLESEX</td>\n",
       "      <td>MIDDLETOWN</td>\n",
       "      <td>CT</td>\n",
       "      <td>...</td>\n",
       "      <td>NaN</td>\n",
       "      <td>NaN</td>\n",
       "      <td>NaN</td>\n",
       "      <td>NaN</td>\n",
       "      <td>NaN</td>\n",
       "      <td>NaN</td>\n",
       "      <td>NaN</td>\n",
       "      <td>Accident</td>\n",
       "      <td>Acute Intoxication From the Combined Effects o...</td>\n",
       "      <td>Middletown, CT\\n(41.544654, -72.651713)</td>\n",
       "    </tr>\n",
       "    <tr>\n",
       "      <th>3554</th>\n",
       "      <td>17-413</td>\n",
       "      <td>05/21/2017</td>\n",
       "      <td>Male</td>\n",
       "      <td>White</td>\n",
       "      <td>34.0</td>\n",
       "      <td>EAST WINDSOR</td>\n",
       "      <td>CT</td>\n",
       "      <td>HARTFORD</td>\n",
       "      <td>EAST WINDSOR</td>\n",
       "      <td>CT</td>\n",
       "      <td>...</td>\n",
       "      <td>NaN</td>\n",
       "      <td>NaN</td>\n",
       "      <td>NaN</td>\n",
       "      <td>NaN</td>\n",
       "      <td>NaN</td>\n",
       "      <td>NaN</td>\n",
       "      <td>NaN</td>\n",
       "      <td>Accident</td>\n",
       "      <td>FENTANYL AND HEROIN TOXICITY</td>\n",
       "      <td>East Windsor, CT\\n(41.899986, -72.58032)</td>\n",
       "    </tr>\n",
       "    <tr>\n",
       "      <th>3555</th>\n",
       "      <td>17-135</td>\n",
       "      <td>02/12/2017</td>\n",
       "      <td>Female</td>\n",
       "      <td>White</td>\n",
       "      <td>37.0</td>\n",
       "      <td>MYSTIC</td>\n",
       "      <td>CT</td>\n",
       "      <td>NEW LONDON</td>\n",
       "      <td>MYSTIC</td>\n",
       "      <td>CT</td>\n",
       "      <td>...</td>\n",
       "      <td>Y</td>\n",
       "      <td>NaN</td>\n",
       "      <td>Y</td>\n",
       "      <td>NaN</td>\n",
       "      <td>NaN</td>\n",
       "      <td>NaN</td>\n",
       "      <td>NaN</td>\n",
       "      <td>Accident</td>\n",
       "      <td>Acute Intoxication due to the Combined Effects...</td>\n",
       "      <td>Mystic, CT\\n(41.35461, -71.967648)</td>\n",
       "    </tr>\n",
       "    <tr>\n",
       "      <th>3556</th>\n",
       "      <td>17-14</td>\n",
       "      <td>01/05/2017</td>\n",
       "      <td>Male</td>\n",
       "      <td>White</td>\n",
       "      <td>34.0</td>\n",
       "      <td>EAST HARTFORD</td>\n",
       "      <td>CT</td>\n",
       "      <td>HARTFORD</td>\n",
       "      <td>NEW LONDON</td>\n",
       "      <td>CT</td>\n",
       "      <td>...</td>\n",
       "      <td>NaN</td>\n",
       "      <td>NaN</td>\n",
       "      <td>NaN</td>\n",
       "      <td>NaN</td>\n",
       "      <td>NaN</td>\n",
       "      <td>NaN</td>\n",
       "      <td>NaN</td>\n",
       "      <td>Accident</td>\n",
       "      <td>Acute Intoxication From the Combined Effects o...</td>\n",
       "      <td>New London, CT\\n(41.355167, -72.099561)</td>\n",
       "    </tr>\n",
       "    <tr>\n",
       "      <th>3557</th>\n",
       "      <td>17-311</td>\n",
       "      <td>04/15/2017</td>\n",
       "      <td>Male</td>\n",
       "      <td>White</td>\n",
       "      <td>33.0</td>\n",
       "      <td>BRISTOL</td>\n",
       "      <td>CT</td>\n",
       "      <td>HARTFORD</td>\n",
       "      <td>BRISTOL</td>\n",
       "      <td>CT</td>\n",
       "      <td>...</td>\n",
       "      <td>NaN</td>\n",
       "      <td>Y</td>\n",
       "      <td>NaN</td>\n",
       "      <td>NaN</td>\n",
       "      <td>NaN</td>\n",
       "      <td>NaN</td>\n",
       "      <td>NaN</td>\n",
       "      <td>Accident</td>\n",
       "      <td>Combined Effects of Ethanol and Methadone</td>\n",
       "      <td>Bristol, CT\\n(41.673037, -72.945791)</td>\n",
       "    </tr>\n",
       "    <tr>\n",
       "      <th>3558</th>\n",
       "      <td>17-49</td>\n",
       "      <td>01/16/2017</td>\n",
       "      <td>Male</td>\n",
       "      <td>White</td>\n",
       "      <td>25.0</td>\n",
       "      <td>CHESHIRE</td>\n",
       "      <td>CT</td>\n",
       "      <td>NEW HAVEN</td>\n",
       "      <td>HARTFORD</td>\n",
       "      <td>CT</td>\n",
       "      <td>...</td>\n",
       "      <td>NaN</td>\n",
       "      <td>NaN</td>\n",
       "      <td>NaN</td>\n",
       "      <td>NaN</td>\n",
       "      <td>NaN</td>\n",
       "      <td>NaN</td>\n",
       "      <td>NaN</td>\n",
       "      <td>Accident</td>\n",
       "      <td>Acute Intoxication due to the Combined Effects...</td>\n",
       "      <td>Hartford, CT\\n(41.765775, -72.673356)</td>\n",
       "    </tr>\n",
       "    <tr>\n",
       "      <th>3559</th>\n",
       "      <td>17-76</td>\n",
       "      <td>01/27/2017</td>\n",
       "      <td>Female</td>\n",
       "      <td>White</td>\n",
       "      <td>48.0</td>\n",
       "      <td>WILLIMANTIC</td>\n",
       "      <td>CT</td>\n",
       "      <td>WINDHAM</td>\n",
       "      <td>WILLIMANTIC</td>\n",
       "      <td>CT</td>\n",
       "      <td>...</td>\n",
       "      <td>NaN</td>\n",
       "      <td>NaN</td>\n",
       "      <td>NaN</td>\n",
       "      <td>NaN</td>\n",
       "      <td>NaN</td>\n",
       "      <td>NaN</td>\n",
       "      <td>NaN</td>\n",
       "      <td>Accident</td>\n",
       "      <td>Acute Intox with Furanyl Fentanyl, Heroin, and...</td>\n",
       "      <td>Willimantic, CT\\n(41.711724, -72.211975)</td>\n",
       "    </tr>\n",
       "    <tr>\n",
       "      <th>3560</th>\n",
       "      <td>17-127</td>\n",
       "      <td>02/11/2017</td>\n",
       "      <td>Female</td>\n",
       "      <td>White</td>\n",
       "      <td>38.0</td>\n",
       "      <td>DANBURY</td>\n",
       "      <td>CT</td>\n",
       "      <td>FAIRFIELD</td>\n",
       "      <td>BRIDGEPORT</td>\n",
       "      <td>CT</td>\n",
       "      <td>...</td>\n",
       "      <td>Y</td>\n",
       "      <td>NaN</td>\n",
       "      <td>NaN</td>\n",
       "      <td>NaN</td>\n",
       "      <td>NaN</td>\n",
       "      <td>NaN</td>\n",
       "      <td>NaN</td>\n",
       "      <td>Accident</td>\n",
       "      <td>Acute and Chronic Substance Abuse (Cocaine and...</td>\n",
       "      <td>Bridgeport, CT\\n(41.179195, -73.189476)</td>\n",
       "    </tr>\n",
       "    <tr>\n",
       "      <th>3561</th>\n",
       "      <td>17-283</td>\n",
       "      <td>04/04/2017</td>\n",
       "      <td>Male</td>\n",
       "      <td>White</td>\n",
       "      <td>53.0</td>\n",
       "      <td>NEW BRITAIN</td>\n",
       "      <td>CT</td>\n",
       "      <td>HARTFORD</td>\n",
       "      <td>NEW BRITAIN</td>\n",
       "      <td>CT</td>\n",
       "      <td>...</td>\n",
       "      <td>NaN</td>\n",
       "      <td>NaN</td>\n",
       "      <td>NaN</td>\n",
       "      <td>Y</td>\n",
       "      <td>NaN</td>\n",
       "      <td>NaN</td>\n",
       "      <td>NaN</td>\n",
       "      <td>Accident</td>\n",
       "      <td>Acute Intoxication due to the Combined Effects...</td>\n",
       "      <td>New Britain, CT\\n(41.667528, -72.783437)</td>\n",
       "    </tr>\n",
       "    <tr>\n",
       "      <th>3562</th>\n",
       "      <td>17-9</td>\n",
       "      <td>01/04/2017</td>\n",
       "      <td>Male</td>\n",
       "      <td>White</td>\n",
       "      <td>56.0</td>\n",
       "      <td>HAMDEN</td>\n",
       "      <td>CT</td>\n",
       "      <td>NEW HAVEN</td>\n",
       "      <td>HAMDEN</td>\n",
       "      <td>CT</td>\n",
       "      <td>...</td>\n",
       "      <td>Y</td>\n",
       "      <td>NaN</td>\n",
       "      <td>NaN</td>\n",
       "      <td>NaN</td>\n",
       "      <td>NaN</td>\n",
       "      <td>NaN</td>\n",
       "      <td>NaN</td>\n",
       "      <td>Accident</td>\n",
       "      <td>Acute Intoxication Alprazolam, Clonazepam, Oxy...</td>\n",
       "      <td>Hamden, CT\\n(41.382918, -72.907743)</td>\n",
       "    </tr>\n",
       "    <tr>\n",
       "      <th>3563</th>\n",
       "      <td>17-39</td>\n",
       "      <td>01/12/2017</td>\n",
       "      <td>Female</td>\n",
       "      <td>White</td>\n",
       "      <td>49.0</td>\n",
       "      <td>WATERBURY</td>\n",
       "      <td>CT</td>\n",
       "      <td>NEW HAVEN</td>\n",
       "      <td>WATERBURY</td>\n",
       "      <td>CT</td>\n",
       "      <td>...</td>\n",
       "      <td>NaN</td>\n",
       "      <td>NaN</td>\n",
       "      <td>NaN</td>\n",
       "      <td>NaN</td>\n",
       "      <td>NaN</td>\n",
       "      <td>NaN</td>\n",
       "      <td>NaN</td>\n",
       "      <td>Accident</td>\n",
       "      <td>Acute Cocaine Intoxication</td>\n",
       "      <td>Waterbury, CT\\n(41.554261, -73.043069)</td>\n",
       "    </tr>\n",
       "    <tr>\n",
       "      <th>3564</th>\n",
       "      <td>17-219</td>\n",
       "      <td>03/13/2017</td>\n",
       "      <td>Male</td>\n",
       "      <td>White</td>\n",
       "      <td>27.0</td>\n",
       "      <td>WINDSOR LOCKS</td>\n",
       "      <td>CT</td>\n",
       "      <td>HARTFORD</td>\n",
       "      <td>WINDSOR LOCKS</td>\n",
       "      <td>CT</td>\n",
       "      <td>...</td>\n",
       "      <td>NaN</td>\n",
       "      <td>NaN</td>\n",
       "      <td>NaN</td>\n",
       "      <td>NaN</td>\n",
       "      <td>NaN</td>\n",
       "      <td>NaN</td>\n",
       "      <td>NaN</td>\n",
       "      <td>Accident</td>\n",
       "      <td>Acute Fentanyl Intoxication</td>\n",
       "      <td>Windsor Locks, CT\\n(41.924953, -72.627177)</td>\n",
       "    </tr>\n",
       "    <tr>\n",
       "      <th>3565</th>\n",
       "      <td>17-200</td>\n",
       "      <td>03/07/2017</td>\n",
       "      <td>Male</td>\n",
       "      <td>White</td>\n",
       "      <td>43.0</td>\n",
       "      <td>BRIDGEPORT</td>\n",
       "      <td>CT</td>\n",
       "      <td>FAIRFIELD</td>\n",
       "      <td>BRIDGEPORT</td>\n",
       "      <td>CT</td>\n",
       "      <td>...</td>\n",
       "      <td>NaN</td>\n",
       "      <td>NaN</td>\n",
       "      <td>NaN</td>\n",
       "      <td>NaN</td>\n",
       "      <td>NaN</td>\n",
       "      <td>NaN</td>\n",
       "      <td>NaN</td>\n",
       "      <td>Accident</td>\n",
       "      <td>Acute Intoxication due to the Combined Effects...</td>\n",
       "      <td>Bridgeport, CT\\n(41.179195, -73.189476)</td>\n",
       "    </tr>\n",
       "    <tr>\n",
       "      <th>3566</th>\n",
       "      <td>17-409</td>\n",
       "      <td>05/20/2017</td>\n",
       "      <td>Male</td>\n",
       "      <td>White</td>\n",
       "      <td>37.0</td>\n",
       "      <td>NEW FAIRFIELD</td>\n",
       "      <td>CT</td>\n",
       "      <td>FAIRFIELD</td>\n",
       "      <td>NEW FAIRFIELD</td>\n",
       "      <td>CT</td>\n",
       "      <td>...</td>\n",
       "      <td>NaN</td>\n",
       "      <td>NaN</td>\n",
       "      <td>NaN</td>\n",
       "      <td>NaN</td>\n",
       "      <td>NaN</td>\n",
       "      <td>NaN</td>\n",
       "      <td>NaN</td>\n",
       "      <td>Accident</td>\n",
       "      <td>Fentanyl, Heroin, Hydromorphone, And Diazepam</td>\n",
       "      <td>New Fairfield, CT\\n(41.466074, -73.485613)</td>\n",
       "    </tr>\n",
       "    <tr>\n",
       "      <th>3567</th>\n",
       "      <td>17-393</td>\n",
       "      <td>05/13/2017</td>\n",
       "      <td>Male</td>\n",
       "      <td>White</td>\n",
       "      <td>34.0</td>\n",
       "      <td>BERLIN</td>\n",
       "      <td>CT</td>\n",
       "      <td>HARTFORD</td>\n",
       "      <td>NEW HAVEN</td>\n",
       "      <td>CT</td>\n",
       "      <td>...</td>\n",
       "      <td>Y</td>\n",
       "      <td>Y</td>\n",
       "      <td>NaN</td>\n",
       "      <td>NaN</td>\n",
       "      <td>NaN</td>\n",
       "      <td>NaN</td>\n",
       "      <td>NaN</td>\n",
       "      <td>Accident</td>\n",
       "      <td>ACUTE COMBINED METHADONE, ALPRAZOLAM, DIAZEPAM...</td>\n",
       "      <td>New Haven, CT\\n(41.308252, -72.924161)</td>\n",
       "    </tr>\n",
       "    <tr>\n",
       "      <th>3568</th>\n",
       "      <td>17-188</td>\n",
       "      <td>03/04/2017</td>\n",
       "      <td>Female</td>\n",
       "      <td>White</td>\n",
       "      <td>54.0</td>\n",
       "      <td>CORNWALL BRIDGE</td>\n",
       "      <td>CT</td>\n",
       "      <td>LITCHFIELD</td>\n",
       "      <td>CORNWALL BRIDGE</td>\n",
       "      <td>CT</td>\n",
       "      <td>...</td>\n",
       "      <td>NaN</td>\n",
       "      <td>NaN</td>\n",
       "      <td>NaN</td>\n",
       "      <td>NaN</td>\n",
       "      <td>NaN</td>\n",
       "      <td>NaN</td>\n",
       "      <td>NaN</td>\n",
       "      <td>Accident</td>\n",
       "      <td>Acute Intoxication due to the Combined Effects...</td>\n",
       "      <td>Cornwall Bridge, CT\\n(41.8186, -73.371399)</td>\n",
       "    </tr>\n",
       "    <tr>\n",
       "      <th>3569</th>\n",
       "      <td>17-368</td>\n",
       "      <td>05/05/2017</td>\n",
       "      <td>Male</td>\n",
       "      <td>Hispanic, White</td>\n",
       "      <td>49.0</td>\n",
       "      <td>BRIDGEPORT</td>\n",
       "      <td>CT</td>\n",
       "      <td>FAIRFIELD</td>\n",
       "      <td>BRIDGEPORT</td>\n",
       "      <td>CT</td>\n",
       "      <td>...</td>\n",
       "      <td>NaN</td>\n",
       "      <td>Y</td>\n",
       "      <td>NaN</td>\n",
       "      <td>NaN</td>\n",
       "      <td>NaN</td>\n",
       "      <td>NaN</td>\n",
       "      <td>NaN</td>\n",
       "      <td>Accident</td>\n",
       "      <td>ACUTE INTOXICATION DUE TO THE COMBINED EFFECTS...</td>\n",
       "      <td>Bridgeport, CT\\n(41.179195, -73.189476)</td>\n",
       "    </tr>\n",
       "    <tr>\n",
       "      <th>3570</th>\n",
       "      <td>17-122</td>\n",
       "      <td>02/09/2017</td>\n",
       "      <td>Female</td>\n",
       "      <td>White</td>\n",
       "      <td>56.0</td>\n",
       "      <td>NEW BRITAIN</td>\n",
       "      <td>CT</td>\n",
       "      <td>HARTFORD</td>\n",
       "      <td>NEW BRITAIN</td>\n",
       "      <td>CT</td>\n",
       "      <td>...</td>\n",
       "      <td>NaN</td>\n",
       "      <td>NaN</td>\n",
       "      <td>NaN</td>\n",
       "      <td>NaN</td>\n",
       "      <td></td>\n",
       "      <td>NaN</td>\n",
       "      <td>Y</td>\n",
       "      <td>Accident</td>\n",
       "      <td>COMPLICATIONS OF ACUTE AND CHRONIC ALCOHOL AND...</td>\n",
       "      <td>New Britain, CT\\n(41.667528, -72.783437)</td>\n",
       "    </tr>\n",
       "    <tr>\n",
       "      <th>3571</th>\n",
       "      <td>17-22</td>\n",
       "      <td>01/09/2017</td>\n",
       "      <td>Male</td>\n",
       "      <td>Hispanic, White</td>\n",
       "      <td>29.0</td>\n",
       "      <td>HARTFORD</td>\n",
       "      <td>CT</td>\n",
       "      <td>HARTFORD</td>\n",
       "      <td>HARTFORD</td>\n",
       "      <td>CT</td>\n",
       "      <td>...</td>\n",
       "      <td>NaN</td>\n",
       "      <td>NaN</td>\n",
       "      <td>NaN</td>\n",
       "      <td>NaN</td>\n",
       "      <td>NaN</td>\n",
       "      <td>NaN</td>\n",
       "      <td>NaN</td>\n",
       "      <td>Accident</td>\n",
       "      <td>Acute Fentanyl and Phencyclidine Intoxication</td>\n",
       "      <td>Hartford, CT\\n(41.765775, -72.673356)</td>\n",
       "    </tr>\n",
       "    <tr>\n",
       "      <th>3572</th>\n",
       "      <td>17-440</td>\n",
       "      <td>05/29/2017</td>\n",
       "      <td>Male</td>\n",
       "      <td>White</td>\n",
       "      <td>54.0</td>\n",
       "      <td>ENFIELD</td>\n",
       "      <td>CT</td>\n",
       "      <td>HARTFORD</td>\n",
       "      <td>ENFIELD</td>\n",
       "      <td>CT</td>\n",
       "      <td>...</td>\n",
       "      <td>NaN</td>\n",
       "      <td>Y</td>\n",
       "      <td>NaN</td>\n",
       "      <td>NaN</td>\n",
       "      <td>NaN</td>\n",
       "      <td>NaN</td>\n",
       "      <td>NaN</td>\n",
       "      <td>Accident</td>\n",
       "      <td>Acute Methadone and Ethanol Intoxication</td>\n",
       "      <td>Enfield, CT\\n(41.976501, -72.591985)</td>\n",
       "    </tr>\n",
       "    <tr>\n",
       "      <th>3573</th>\n",
       "      <td>17-181</td>\n",
       "      <td>03/03/2017</td>\n",
       "      <td>Female</td>\n",
       "      <td>White</td>\n",
       "      <td>23.0</td>\n",
       "      <td>NEW BRITAIN</td>\n",
       "      <td>CT</td>\n",
       "      <td>HARTFORD</td>\n",
       "      <td>NEW BRITAIN</td>\n",
       "      <td>CT</td>\n",
       "      <td>...</td>\n",
       "      <td>NaN</td>\n",
       "      <td>NaN</td>\n",
       "      <td>NaN</td>\n",
       "      <td>NaN</td>\n",
       "      <td>NaN</td>\n",
       "      <td>NaN</td>\n",
       "      <td>NaN</td>\n",
       "      <td>Accident</td>\n",
       "      <td>Acute Intoxication due to the Combined Effects...</td>\n",
       "      <td>New Britain, CT\\n(41.667528, -72.783437)</td>\n",
       "    </tr>\n",
       "    <tr>\n",
       "      <th>3574</th>\n",
       "      <td>17-536</td>\n",
       "      <td>06/30/2017</td>\n",
       "      <td>Female</td>\n",
       "      <td>White</td>\n",
       "      <td>48.0</td>\n",
       "      <td>WINCHESTER</td>\n",
       "      <td>CT</td>\n",
       "      <td>LITCHFIELD</td>\n",
       "      <td>WINCHESTER</td>\n",
       "      <td>CT</td>\n",
       "      <td>...</td>\n",
       "      <td>NaN</td>\n",
       "      <td>NaN</td>\n",
       "      <td>NaN</td>\n",
       "      <td>NaN</td>\n",
       "      <td>NaN</td>\n",
       "      <td>NaN</td>\n",
       "      <td>NaN</td>\n",
       "      <td>Accident</td>\n",
       "      <td>Acute Intoxication From the Combined Effects o...</td>\n",
       "      <td>Winchester, CT\\n(41.901973, -73.133851)</td>\n",
       "    </tr>\n",
       "    <tr>\n",
       "      <th>3575</th>\n",
       "      <td>17-156</td>\n",
       "      <td>02/19/2017</td>\n",
       "      <td>Female</td>\n",
       "      <td>White</td>\n",
       "      <td>53.0</td>\n",
       "      <td>WINSTED</td>\n",
       "      <td>CT</td>\n",
       "      <td>LITCHFIELD</td>\n",
       "      <td>TORRINGTON</td>\n",
       "      <td>CT</td>\n",
       "      <td>...</td>\n",
       "      <td>NaN</td>\n",
       "      <td>NaN</td>\n",
       "      <td>NaN</td>\n",
       "      <td>Y</td>\n",
       "      <td>NaN</td>\n",
       "      <td>NaN</td>\n",
       "      <td>NaN</td>\n",
       "      <td>Accident</td>\n",
       "      <td>Combined Effects of Diazepam, Oxazepam, Temaze...</td>\n",
       "      <td>Torrington, CT\\n(41.812186, -73.101552)</td>\n",
       "    </tr>\n",
       "    <tr>\n",
       "      <th>3576</th>\n",
       "      <td>17-267</td>\n",
       "      <td>03/30/2017</td>\n",
       "      <td>Male</td>\n",
       "      <td>White</td>\n",
       "      <td>59.0</td>\n",
       "      <td>GROTON</td>\n",
       "      <td>CT</td>\n",
       "      <td>NEW LONDON</td>\n",
       "      <td>GROTON</td>\n",
       "      <td>CT</td>\n",
       "      <td>...</td>\n",
       "      <td>Y</td>\n",
       "      <td>NaN</td>\n",
       "      <td>NaN</td>\n",
       "      <td>Y</td>\n",
       "      <td>NaN</td>\n",
       "      <td>NaN</td>\n",
       "      <td>NaN</td>\n",
       "      <td>Accident</td>\n",
       "      <td>Acute Intoxication due to the Combined Effects...</td>\n",
       "      <td>Groton, CT\\n(41.343693, -72.07877)</td>\n",
       "    </tr>\n",
       "    <tr>\n",
       "      <th>3577</th>\n",
       "      <td>17-406</td>\n",
       "      <td>05/19/2017</td>\n",
       "      <td>Male</td>\n",
       "      <td>White</td>\n",
       "      <td>22.0</td>\n",
       "      <td>GREENWICH</td>\n",
       "      <td>CT</td>\n",
       "      <td>FAIRFIELD</td>\n",
       "      <td>HARTFORD</td>\n",
       "      <td>CT</td>\n",
       "      <td>...</td>\n",
       "      <td>Y</td>\n",
       "      <td>NaN</td>\n",
       "      <td>NaN</td>\n",
       "      <td>NaN</td>\n",
       "      <td>NaN</td>\n",
       "      <td>NaN</td>\n",
       "      <td>NaN</td>\n",
       "      <td>Accident</td>\n",
       "      <td>Fentanyl, Heroin, And Clonazepam</td>\n",
       "      <td>Hartford, CT\\n(41.765775, -72.673356)</td>\n",
       "    </tr>\n",
       "    <tr>\n",
       "      <th>3578</th>\n",
       "      <td>17-51</td>\n",
       "      <td>01/16/2017</td>\n",
       "      <td>Female</td>\n",
       "      <td>White</td>\n",
       "      <td>57.0</td>\n",
       "      <td>BRIDGEPORT</td>\n",
       "      <td>CT</td>\n",
       "      <td>FAIRFIELD</td>\n",
       "      <td>BRIDGEPORT</td>\n",
       "      <td>CT</td>\n",
       "      <td>...</td>\n",
       "      <td>NaN</td>\n",
       "      <td>NaN</td>\n",
       "      <td>NaN</td>\n",
       "      <td>NaN</td>\n",
       "      <td>NaN</td>\n",
       "      <td>NaN</td>\n",
       "      <td>NaN</td>\n",
       "      <td>Accident</td>\n",
       "      <td>Complications of Acute Cocaine Intoxication</td>\n",
       "      <td>Bridgeport, CT\\n(41.179195, -73.189476)</td>\n",
       "    </tr>\n",
       "    <tr>\n",
       "      <th>3579</th>\n",
       "      <td>17-231</td>\n",
       "      <td>03/18/2017</td>\n",
       "      <td>Male</td>\n",
       "      <td>Black</td>\n",
       "      <td>53.0</td>\n",
       "      <td>HARTFORD</td>\n",
       "      <td>CT</td>\n",
       "      <td>HARTFORD</td>\n",
       "      <td>HARTFORD</td>\n",
       "      <td>CT</td>\n",
       "      <td>...</td>\n",
       "      <td>NaN</td>\n",
       "      <td>Y</td>\n",
       "      <td>NaN</td>\n",
       "      <td>NaN</td>\n",
       "      <td>NaN</td>\n",
       "      <td>NaN</td>\n",
       "      <td>NaN</td>\n",
       "      <td>Accident</td>\n",
       "      <td>Combined Effects of Cocaine, Methadone, Amitri...</td>\n",
       "      <td>Hartford, CT\\n(41.765775, -72.673356)</td>\n",
       "    </tr>\n",
       "    <tr>\n",
       "      <th>3580</th>\n",
       "      <td>17-125</td>\n",
       "      <td>02/10/2017</td>\n",
       "      <td>Female</td>\n",
       "      <td>White</td>\n",
       "      <td>63.0</td>\n",
       "      <td>STRATFORD</td>\n",
       "      <td>CT</td>\n",
       "      <td>FAIRFIELD</td>\n",
       "      <td>STRATFORD</td>\n",
       "      <td>CT</td>\n",
       "      <td>...</td>\n",
       "      <td>NaN</td>\n",
       "      <td>NaN</td>\n",
       "      <td>NaN</td>\n",
       "      <td>Y</td>\n",
       "      <td>NaN</td>\n",
       "      <td>NaN</td>\n",
       "      <td>NaN</td>\n",
       "      <td>Accident</td>\n",
       "      <td>Acute Intoxication due to the Combined Effects...</td>\n",
       "      <td>Stratford, CT\\n(41.200888, -73.131323)</td>\n",
       "    </tr>\n",
       "    <tr>\n",
       "      <th>3581</th>\n",
       "      <td>17-280</td>\n",
       "      <td>04/03/2017</td>\n",
       "      <td>Female</td>\n",
       "      <td>White</td>\n",
       "      <td>53.0</td>\n",
       "      <td>BRIDGEPORT</td>\n",
       "      <td>CT</td>\n",
       "      <td>FAIRFIELD</td>\n",
       "      <td>BRIDGEPORT</td>\n",
       "      <td>CT</td>\n",
       "      <td>...</td>\n",
       "      <td>NaN</td>\n",
       "      <td>NaN</td>\n",
       "      <td>NaN</td>\n",
       "      <td>NaN</td>\n",
       "      <td>NaN</td>\n",
       "      <td>NaN</td>\n",
       "      <td>NaN</td>\n",
       "      <td>Accident</td>\n",
       "      <td>ACUTE COMBINED FENTANYL, HEROIN, COCAINE AND A...</td>\n",
       "      <td>Bridgeport, CT\\n(41.179195, -73.189476)</td>\n",
       "    </tr>\n",
       "    <tr>\n",
       "      <th>3582</th>\n",
       "      <td>17-4</td>\n",
       "      <td>01/02/2017</td>\n",
       "      <td>Male</td>\n",
       "      <td>White</td>\n",
       "      <td>54.0</td>\n",
       "      <td>HAMDEN</td>\n",
       "      <td>CT</td>\n",
       "      <td>NEW HAVEN</td>\n",
       "      <td>NEW HAVEN</td>\n",
       "      <td>CT</td>\n",
       "      <td>...</td>\n",
       "      <td>NaN</td>\n",
       "      <td>NaN</td>\n",
       "      <td>NaN</td>\n",
       "      <td>NaN</td>\n",
       "      <td>NaN</td>\n",
       "      <td>NaN</td>\n",
       "      <td>NaN</td>\n",
       "      <td>Accident</td>\n",
       "      <td>COMPLICATIONS OF ACUTE FENTANYL AND ALCOHOL TO...</td>\n",
       "      <td>New Haven, CT\\n(41.308252, -72.924161)</td>\n",
       "    </tr>\n",
       "  </tbody>\n",
       "</table>\n",
       "<p>3581 rows × 32 columns</p>\n",
       "</div>"
      ],
      "text/plain": [
       "     CaseNumber        Date     Sex             Race   Age    Residence City  \\\n",
       "0      13-16336  11/09/2013  Female            White  53.0            GROTON   \n",
       "1      12-18447  12/29/2012    Male            White  30.0           WOLCOTT   \n",
       "2       14-2758  02/18/2014    Male            White  43.0           ENFIELD   \n",
       "3      14-13497  09/07/2014  Female            White  24.0       WALLINGFORD   \n",
       "4      13-14421  10/04/2013  Female            White  26.0        WEST HAVEN   \n",
       "5      13-18018  12/10/2013  Female            White  45.0        RIDGEFIELD   \n",
       "6      13-19004  12/27/2013    Male            White  55.0        WEST HAVEN   \n",
       "7       13-3783  03/04/2013    Male  Hispanic, White  47.0         NEW HAVEN   \n",
       "8       14-5669  04/09/2014  Female            White  53.0           DANBURY   \n",
       "9       13-9675  06/28/2013    Male            White  29.0         WATERBURY   \n",
       "10     12-14640  10/18/2012    Male            White  19.0           SUDBURY   \n",
       "11      14-6116  04/17/2014    Male            White  28.0           WINDSOR   \n",
       "12     15-14945  09/17/2015    Male            White  27.0            HEBRON   \n",
       "13     13-16986  11/21/2013    Male  Hispanic, White  44.0          HARTFORD   \n",
       "14     15-10196  06/19/2015    Male            White  50.0           DANBURY   \n",
       "15     13-14650  10/08/2013    Male          Unknown  60.0     EAST HARTFORD   \n",
       "16     15-10732  06/30/2015    Male            White  20.0  STAFFORD SPRINGS   \n",
       "17      14-7655  05/14/2014    Male            White  49.0         SOUTHBURY   \n",
       "18     15-10989  07/05/2015    Male  Hispanic, White  43.0         NAUGATUCK   \n",
       "19      15-9564  06/08/2015    Male            White  54.0         NEW HAVEN   \n",
       "20      14-9439  06/19/2014    Male            White  24.0       NEW BRITAIN   \n",
       "21     13-14790  10/11/2013    Male            White  33.0         STRATFORD   \n",
       "22     14-15926  10/24/2014    Male            White  26.0        MANCHESTER   \n",
       "23      12-7859  05/30/2012    Male            White  35.0        BRIDGEPORT   \n",
       "24      12-8855  06/21/2012    Male            White  29.0        ROCKY HILL   \n",
       "25     13-17615  12/03/2013  Female  Hispanic, White  44.0          HARTFORD   \n",
       "26      13-2866  02/16/2013    Male            White  26.0            DURHAM   \n",
       "27     15-15001  09/18/2015  Female            White  57.0      NORTH CANAAN   \n",
       "28      15-7074  04/24/2015  Female  Hispanic, White  42.0        MIDDLETOWN   \n",
       "29      15-8366  05/18/2015  Female            White  22.0      KILLINGWORTH   \n",
       "...         ...         ...     ...              ...   ...               ...   \n",
       "3553      17-48  01/15/2017    Male            White  41.0        MIDDLETOWN   \n",
       "3554     17-413  05/21/2017    Male            White  34.0      EAST WINDSOR   \n",
       "3555     17-135  02/12/2017  Female            White  37.0            MYSTIC   \n",
       "3556      17-14  01/05/2017    Male            White  34.0     EAST HARTFORD   \n",
       "3557     17-311  04/15/2017    Male            White  33.0           BRISTOL   \n",
       "3558      17-49  01/16/2017    Male            White  25.0          CHESHIRE   \n",
       "3559      17-76  01/27/2017  Female            White  48.0       WILLIMANTIC   \n",
       "3560     17-127  02/11/2017  Female            White  38.0           DANBURY   \n",
       "3561     17-283  04/04/2017    Male            White  53.0       NEW BRITAIN   \n",
       "3562       17-9  01/04/2017    Male            White  56.0            HAMDEN   \n",
       "3563      17-39  01/12/2017  Female            White  49.0         WATERBURY   \n",
       "3564     17-219  03/13/2017    Male            White  27.0     WINDSOR LOCKS   \n",
       "3565     17-200  03/07/2017    Male            White  43.0        BRIDGEPORT   \n",
       "3566     17-409  05/20/2017    Male            White  37.0     NEW FAIRFIELD   \n",
       "3567     17-393  05/13/2017    Male            White  34.0            BERLIN   \n",
       "3568     17-188  03/04/2017  Female            White  54.0   CORNWALL BRIDGE   \n",
       "3569     17-368  05/05/2017    Male  Hispanic, White  49.0        BRIDGEPORT   \n",
       "3570     17-122  02/09/2017  Female            White  56.0       NEW BRITAIN   \n",
       "3571      17-22  01/09/2017    Male  Hispanic, White  29.0          HARTFORD   \n",
       "3572     17-440  05/29/2017    Male            White  54.0           ENFIELD   \n",
       "3573     17-181  03/03/2017  Female            White  23.0       NEW BRITAIN   \n",
       "3574     17-536  06/30/2017  Female            White  48.0        WINCHESTER   \n",
       "3575     17-156  02/19/2017  Female            White  53.0           WINSTED   \n",
       "3576     17-267  03/30/2017    Male            White  59.0            GROTON   \n",
       "3577     17-406  05/19/2017    Male            White  22.0         GREENWICH   \n",
       "3578      17-51  01/16/2017  Female            White  57.0        BRIDGEPORT   \n",
       "3579     17-231  03/18/2017    Male            Black  53.0          HARTFORD   \n",
       "3580     17-125  02/10/2017  Female            White  63.0         STRATFORD   \n",
       "3581     17-280  04/03/2017  Female            White  53.0        BRIDGEPORT   \n",
       "3582       17-4  01/02/2017    Male            White  54.0            HAMDEN   \n",
       "\n",
       "     Residence State Residence County       Death City Death State  \\\n",
       "0                NaN       NEW LONDON           GROTON         NaN   \n",
       "1                NaN        NEW HAVEN        WATERBURY         NaN   \n",
       "2                NaN              NaN          ENFIELD         NaN   \n",
       "3                NaN              NaN      WALLINGFORD         NaN   \n",
       "4                NaN        NEW HAVEN       WEST HAVEN         NaN   \n",
       "5                NaN        FAIRFIELD          DANBURY         NaN   \n",
       "6                NaN        NEW HAVEN       BRIDGEPORT         NaN   \n",
       "7                NaN        NEW HAVEN        NEW HAVEN         NaN   \n",
       "8                NaN              NaN          DANBURY         NaN   \n",
       "9                NaN        NEW HAVEN        WATERBURY         NaN   \n",
       "10               NaN        MIDDLESEX       BRIDGEPORT         NaN   \n",
       "11               NaN              NaN          WINDSOR         NaN   \n",
       "12                CT          TOLLAND     NEW HARTFORD         NaN   \n",
       "13               NaN         HARTFORD         HARTFORD         NaN   \n",
       "14                CT        FAIRFIELD          DANBURY          CT   \n",
       "15               NaN              NaN       MANCHESTER         NaN   \n",
       "16                CT          TOLLAND         HARTFORD          CT   \n",
       "17               NaN              NaN        WATERBURY         NaN   \n",
       "18                CT        NEW HAVEN        NAUGATUCK          CT   \n",
       "19                CT        NEW HAVEN        NEW HAVEN          CT   \n",
       "20               NaN              NaN      NEW BRITAIN         NaN   \n",
       "21               NaN        FAIRFIELD       BRIDGEPORT         NaN   \n",
       "22               NaN              NaN         HARTFORD         NaN   \n",
       "23               NaN        FAIRFIELD       BRIDGEPORT         NaN   \n",
       "24               NaN         HARTFORD         HARTFORD         NaN   \n",
       "25               NaN         HARTFORD         HARTFORD         NaN   \n",
       "26               NaN        MIDDLESEX           DURHAM         NaN   \n",
       "27                CT       LITCHFIELD     NORTH CANAAN          CT   \n",
       "28                CT        MIDDLESEX       MIDDLETOWN          CT   \n",
       "29                CT        MIDDLESEX     KILLINGWORTH          CT   \n",
       "...              ...              ...              ...         ...   \n",
       "3553              CT        MIDDLESEX       MIDDLETOWN          CT   \n",
       "3554              CT         HARTFORD     EAST WINDSOR          CT   \n",
       "3555              CT       NEW LONDON           MYSTIC          CT   \n",
       "3556              CT         HARTFORD       NEW LONDON          CT   \n",
       "3557              CT         HARTFORD          BRISTOL          CT   \n",
       "3558              CT        NEW HAVEN         HARTFORD          CT   \n",
       "3559              CT          WINDHAM      WILLIMANTIC          CT   \n",
       "3560              CT        FAIRFIELD       BRIDGEPORT          CT   \n",
       "3561              CT         HARTFORD      NEW BRITAIN          CT   \n",
       "3562              CT        NEW HAVEN           HAMDEN          CT   \n",
       "3563              CT        NEW HAVEN        WATERBURY          CT   \n",
       "3564              CT         HARTFORD    WINDSOR LOCKS          CT   \n",
       "3565              CT        FAIRFIELD       BRIDGEPORT          CT   \n",
       "3566              CT        FAIRFIELD    NEW FAIRFIELD          CT   \n",
       "3567              CT         HARTFORD        NEW HAVEN          CT   \n",
       "3568              CT       LITCHFIELD  CORNWALL BRIDGE          CT   \n",
       "3569              CT        FAIRFIELD       BRIDGEPORT          CT   \n",
       "3570              CT         HARTFORD      NEW BRITAIN          CT   \n",
       "3571              CT         HARTFORD         HARTFORD          CT   \n",
       "3572              CT         HARTFORD          ENFIELD          CT   \n",
       "3573              CT         HARTFORD      NEW BRITAIN          CT   \n",
       "3574              CT       LITCHFIELD       WINCHESTER          CT   \n",
       "3575              CT       LITCHFIELD       TORRINGTON          CT   \n",
       "3576              CT       NEW LONDON           GROTON          CT   \n",
       "3577              CT        FAIRFIELD         HARTFORD          CT   \n",
       "3578              CT        FAIRFIELD       BRIDGEPORT          CT   \n",
       "3579              CT         HARTFORD         HARTFORD          CT   \n",
       "3580              CT        FAIRFIELD        STRATFORD          CT   \n",
       "3581              CT        FAIRFIELD       BRIDGEPORT          CT   \n",
       "3582              CT        NEW HAVEN        NEW HAVEN          CT   \n",
       "\n",
       "                         ...                     Benzodiazepine Methadone  \\\n",
       "0                        ...                                  Y       NaN   \n",
       "1                        ...                                NaN       NaN   \n",
       "2                        ...                                  Y       NaN   \n",
       "3                        ...                                NaN       NaN   \n",
       "4                        ...                                NaN       NaN   \n",
       "5                        ...                                  Y       NaN   \n",
       "6                        ...                                  Y       NaN   \n",
       "7                        ...                                NaN         Y   \n",
       "8                        ...                                NaN       NaN   \n",
       "9                        ...                                NaN       NaN   \n",
       "10                       ...                                  Y       NaN   \n",
       "11                       ...                                NaN       NaN   \n",
       "12                       ...                                NaN       NaN   \n",
       "13                       ...                                NaN       NaN   \n",
       "14                       ...                                NaN       NaN   \n",
       "15                       ...                                NaN       NaN   \n",
       "16                       ...                                NaN       NaN   \n",
       "17                       ...                                NaN       NaN   \n",
       "18                       ...                                NaN       NaN   \n",
       "19                       ...                                NaN       NaN   \n",
       "20                       ...                                NaN       NaN   \n",
       "21                       ...                                NaN         Y   \n",
       "22                       ...                                NaN       NaN   \n",
       "23                       ...                                NaN       NaN   \n",
       "24                       ...                                NaN       NaN   \n",
       "25                       ...                                NaN       NaN   \n",
       "26                       ...                                NaN       NaN   \n",
       "27                       ...                                NaN         Y   \n",
       "28                       ...                                NaN       NaN   \n",
       "29                       ...                                NaN       NaN   \n",
       "...                      ...                                ...       ...   \n",
       "3553                     ...                                NaN       NaN   \n",
       "3554                     ...                                NaN       NaN   \n",
       "3555                     ...                                  Y       NaN   \n",
       "3556                     ...                                NaN       NaN   \n",
       "3557                     ...                                NaN         Y   \n",
       "3558                     ...                                NaN       NaN   \n",
       "3559                     ...                                NaN       NaN   \n",
       "3560                     ...                                  Y       NaN   \n",
       "3561                     ...                                NaN       NaN   \n",
       "3562                     ...                                  Y       NaN   \n",
       "3563                     ...                                NaN       NaN   \n",
       "3564                     ...                                NaN       NaN   \n",
       "3565                     ...                                NaN       NaN   \n",
       "3566                     ...                                NaN       NaN   \n",
       "3567                     ...                                  Y         Y   \n",
       "3568                     ...                                NaN       NaN   \n",
       "3569                     ...                                NaN         Y   \n",
       "3570                     ...                                NaN       NaN   \n",
       "3571                     ...                                NaN       NaN   \n",
       "3572                     ...                                NaN         Y   \n",
       "3573                     ...                                NaN       NaN   \n",
       "3574                     ...                                NaN       NaN   \n",
       "3575                     ...                                NaN       NaN   \n",
       "3576                     ...                                  Y       NaN   \n",
       "3577                     ...                                  Y       NaN   \n",
       "3578                     ...                                NaN       NaN   \n",
       "3579                     ...                                NaN         Y   \n",
       "3580                     ...                                NaN       NaN   \n",
       "3581                     ...                                NaN       NaN   \n",
       "3582                     ...                                NaN       NaN   \n",
       "\n",
       "     Amphet Tramad Morphine (not heroin) Other Any Opioid MannerofDeath  \\\n",
       "0       NaN    NaN                   NaN   NaN        NaN      Accident   \n",
       "1       NaN    NaN                   NaN   NaN        NaN      Accident   \n",
       "2       NaN    NaN                   NaN   NaN        NaN      Accident   \n",
       "3       NaN    NaN                   NaN   NaN        NaN      Accident   \n",
       "4       NaN    NaN                   NaN   NaN        NaN      Accident   \n",
       "5       NaN    NaN                   NaN   NaN        NaN      Accident   \n",
       "6       NaN    NaN                   NaN   NaN        NaN       Pending   \n",
       "7       NaN    NaN                   NaN   NaN        NaN      Accident   \n",
       "8       NaN    NaN                   NaN   NaN        NaN      Accident   \n",
       "9       NaN    NaN                   NaN   NaN        NaN      Accident   \n",
       "10      NaN    NaN                   NaN   NaN        NaN      Accident   \n",
       "11      NaN    NaN                   NaN   NaN        NaN      Accident   \n",
       "12      NaN    NaN                   NaN   NaN          Y      Accident   \n",
       "13      NaN    NaN                   NaN   NaN        NaN      Accident   \n",
       "14      NaN    NaN                   NaN   NaN          Y      Accident   \n",
       "15      NaN    NaN                   NaN   NaN        NaN      Accident   \n",
       "16      NaN    NaN                   NaN   NaN          Y      Accident   \n",
       "17      NaN    NaN                   NaN   NaN        NaN      Accident   \n",
       "18      NaN    NaN                   NaN   NaN          Y      Accident   \n",
       "19      NaN    NaN                   NaN   NaN        NaN      Accident   \n",
       "20      NaN    NaN                   NaN   NaN        NaN      Accident   \n",
       "21      NaN    NaN                   NaN   NaN        NaN      Accident   \n",
       "22      NaN    NaN                   NaN   NaN        NaN      Accident   \n",
       "23      NaN    NaN                   NaN   NaN        NaN      Accident   \n",
       "24      NaN    NaN                   NaN   NaN        NaN      Accident   \n",
       "25      NaN    NaN                   NaN   NaN        NaN      Accident   \n",
       "26      NaN    NaN                   NaN   NaN        NaN      Accident   \n",
       "27      NaN    NaN                   NaN   NaN          Y      Accident   \n",
       "28      NaN    NaN                   NaN   NaN          Y      Accident   \n",
       "29      NaN    NaN                   NaN   NaN          Y      Accident   \n",
       "...     ...    ...                   ...   ...        ...           ...   \n",
       "3553    NaN    NaN                   NaN   NaN        NaN      Accident   \n",
       "3554    NaN    NaN                   NaN   NaN        NaN      Accident   \n",
       "3555      Y    NaN                   NaN   NaN        NaN      Accident   \n",
       "3556    NaN    NaN                   NaN   NaN        NaN      Accident   \n",
       "3557    NaN    NaN                   NaN   NaN        NaN      Accident   \n",
       "3558    NaN    NaN                   NaN   NaN        NaN      Accident   \n",
       "3559    NaN    NaN                   NaN   NaN        NaN      Accident   \n",
       "3560    NaN    NaN                   NaN   NaN        NaN      Accident   \n",
       "3561    NaN      Y                   NaN   NaN        NaN      Accident   \n",
       "3562    NaN    NaN                   NaN   NaN        NaN      Accident   \n",
       "3563    NaN    NaN                   NaN   NaN        NaN      Accident   \n",
       "3564    NaN    NaN                   NaN   NaN        NaN      Accident   \n",
       "3565    NaN    NaN                   NaN   NaN        NaN      Accident   \n",
       "3566    NaN    NaN                   NaN   NaN        NaN      Accident   \n",
       "3567    NaN    NaN                   NaN   NaN        NaN      Accident   \n",
       "3568    NaN    NaN                   NaN   NaN        NaN      Accident   \n",
       "3569    NaN    NaN                   NaN   NaN        NaN      Accident   \n",
       "3570    NaN    NaN                         NaN          Y      Accident   \n",
       "3571    NaN    NaN                   NaN   NaN        NaN      Accident   \n",
       "3572    NaN    NaN                   NaN   NaN        NaN      Accident   \n",
       "3573    NaN    NaN                   NaN   NaN        NaN      Accident   \n",
       "3574    NaN    NaN                   NaN   NaN        NaN      Accident   \n",
       "3575    NaN      Y                   NaN   NaN        NaN      Accident   \n",
       "3576    NaN      Y                   NaN   NaN        NaN      Accident   \n",
       "3577    NaN    NaN                   NaN   NaN        NaN      Accident   \n",
       "3578    NaN    NaN                   NaN   NaN        NaN      Accident   \n",
       "3579    NaN    NaN                   NaN   NaN        NaN      Accident   \n",
       "3580    NaN      Y                   NaN   NaN        NaN      Accident   \n",
       "3581    NaN    NaN                   NaN   NaN        NaN      Accident   \n",
       "3582    NaN    NaN                   NaN   NaN        NaN      Accident   \n",
       "\n",
       "                                   AmendedMannerofDeath  \\\n",
       "0                                                   NaN   \n",
       "1                                                   NaN   \n",
       "2                                                   NaN   \n",
       "3                                                   NaN   \n",
       "4                                                   NaN   \n",
       "5                                                   NaN   \n",
       "6                                                   NaN   \n",
       "7                                                   NaN   \n",
       "8                                                   NaN   \n",
       "9                                                   NaN   \n",
       "10                                                  NaN   \n",
       "11                                                  NaN   \n",
       "12                                                  NaN   \n",
       "13                                                  NaN   \n",
       "14                                                  NaN   \n",
       "15                                                  NaN   \n",
       "16                                                  NaN   \n",
       "17                                                  NaN   \n",
       "18                                                  NaN   \n",
       "19                                                  NaN   \n",
       "20                                                  NaN   \n",
       "21                                                  NaN   \n",
       "22                                                  NaN   \n",
       "23                                                  NaN   \n",
       "24                                                  NaN   \n",
       "25                                                  NaN   \n",
       "26                                                  NaN   \n",
       "27                                                  NaN   \n",
       "28                                                  NaN   \n",
       "29                                                  NaN   \n",
       "...                                                 ...   \n",
       "3553  Acute Intoxication From the Combined Effects o...   \n",
       "3554                       FENTANYL AND HEROIN TOXICITY   \n",
       "3555  Acute Intoxication due to the Combined Effects...   \n",
       "3556  Acute Intoxication From the Combined Effects o...   \n",
       "3557          Combined Effects of Ethanol and Methadone   \n",
       "3558  Acute Intoxication due to the Combined Effects...   \n",
       "3559  Acute Intox with Furanyl Fentanyl, Heroin, and...   \n",
       "3560  Acute and Chronic Substance Abuse (Cocaine and...   \n",
       "3561  Acute Intoxication due to the Combined Effects...   \n",
       "3562  Acute Intoxication Alprazolam, Clonazepam, Oxy...   \n",
       "3563                         Acute Cocaine Intoxication   \n",
       "3564                        Acute Fentanyl Intoxication   \n",
       "3565  Acute Intoxication due to the Combined Effects...   \n",
       "3566      Fentanyl, Heroin, Hydromorphone, And Diazepam   \n",
       "3567  ACUTE COMBINED METHADONE, ALPRAZOLAM, DIAZEPAM...   \n",
       "3568  Acute Intoxication due to the Combined Effects...   \n",
       "3569  ACUTE INTOXICATION DUE TO THE COMBINED EFFECTS...   \n",
       "3570  COMPLICATIONS OF ACUTE AND CHRONIC ALCOHOL AND...   \n",
       "3571      Acute Fentanyl and Phencyclidine Intoxication   \n",
       "3572           Acute Methadone and Ethanol Intoxication   \n",
       "3573  Acute Intoxication due to the Combined Effects...   \n",
       "3574  Acute Intoxication From the Combined Effects o...   \n",
       "3575  Combined Effects of Diazepam, Oxazepam, Temaze...   \n",
       "3576  Acute Intoxication due to the Combined Effects...   \n",
       "3577                   Fentanyl, Heroin, And Clonazepam   \n",
       "3578        Complications of Acute Cocaine Intoxication   \n",
       "3579  Combined Effects of Cocaine, Methadone, Amitri...   \n",
       "3580  Acute Intoxication due to the Combined Effects...   \n",
       "3581  ACUTE COMBINED FENTANYL, HEROIN, COCAINE AND A...   \n",
       "3582  COMPLICATIONS OF ACUTE FENTANYL AND ALCOHOL TO...   \n",
       "\n",
       "                                        DeathLoc  \n",
       "0             GROTON, CT\\n(41.343693, -72.07877)  \n",
       "1         WATERBURY, CT\\n(41.554261, -73.043069)  \n",
       "2           ENFIELD, CT\\n(41.976501, -72.591985)  \n",
       "3       WALLINGFORD, CT\\n(41.454408, -72.818414)  \n",
       "4        WEST HAVEN, CT\\n(41.272336, -72.949817)  \n",
       "5           DANBURY, CT\\n(41.393666, -73.451539)  \n",
       "6        BRIDGEPORT, CT\\n(41.179195, -73.189476)  \n",
       "7         NEW HAVEN, CT\\n(41.308252, -72.924161)  \n",
       "8           DANBURY, CT\\n(41.393666, -73.451539)  \n",
       "9         WATERBURY, CT\\n(41.554261, -73.043069)  \n",
       "10       BRIDGEPORT, CT\\n(41.179195, -73.189476)  \n",
       "11           WINDSOR, CT\\n(41.852781, -72.64379)  \n",
       "12     NEW HARTFORD, CT\\n(41.879454, -72.976047)  \n",
       "13         HARTFORD, CT\\n(41.765775, -72.673356)  \n",
       "14          DANBURY, CT\\n(41.393666, -73.451539)  \n",
       "15       MANCHESTER, CT\\n(41.770668, -72.520868)  \n",
       "16         HARTFORD, CT\\n(41.765775, -72.673356)  \n",
       "17        WATERBURY, CT\\n(41.554261, -73.043069)  \n",
       "18        NAUGATUCK, CT\\n(41.491113, -73.056564)  \n",
       "19        NEW HAVEN, CT\\n(41.308252, -72.924161)  \n",
       "20      NEW BRITAIN, CT\\n(41.667528, -72.783437)  \n",
       "21       BRIDGEPORT, CT\\n(41.179195, -73.189476)  \n",
       "22         HARTFORD, CT\\n(41.765775, -72.673356)  \n",
       "23       BRIDGEPORT, CT\\n(41.179195, -73.189476)  \n",
       "24         HARTFORD, CT\\n(41.765775, -72.673356)  \n",
       "25         HARTFORD, CT\\n(41.765775, -72.673356)  \n",
       "26           DURHAM, CT\\n(41.485881, -72.681864)  \n",
       "27      NORTH CANAAN, CT\\n(42.025992, -73.32814)  \n",
       "28       MIDDLETOWN, CT\\n(41.544654, -72.651713)  \n",
       "29     KILLINGWORTH, CT\\n(41.357274, -72.554824)  \n",
       "...                                          ...  \n",
       "3553     Middletown, CT\\n(41.544654, -72.651713)  \n",
       "3554    East Windsor, CT\\n(41.899986, -72.58032)  \n",
       "3555          Mystic, CT\\n(41.35461, -71.967648)  \n",
       "3556     New London, CT\\n(41.355167, -72.099561)  \n",
       "3557        Bristol, CT\\n(41.673037, -72.945791)  \n",
       "3558       Hartford, CT\\n(41.765775, -72.673356)  \n",
       "3559    Willimantic, CT\\n(41.711724, -72.211975)  \n",
       "3560     Bridgeport, CT\\n(41.179195, -73.189476)  \n",
       "3561    New Britain, CT\\n(41.667528, -72.783437)  \n",
       "3562         Hamden, CT\\n(41.382918, -72.907743)  \n",
       "3563      Waterbury, CT\\n(41.554261, -73.043069)  \n",
       "3564  Windsor Locks, CT\\n(41.924953, -72.627177)  \n",
       "3565     Bridgeport, CT\\n(41.179195, -73.189476)  \n",
       "3566  New Fairfield, CT\\n(41.466074, -73.485613)  \n",
       "3567      New Haven, CT\\n(41.308252, -72.924161)  \n",
       "3568  Cornwall Bridge, CT\\n(41.8186, -73.371399)  \n",
       "3569     Bridgeport, CT\\n(41.179195, -73.189476)  \n",
       "3570    New Britain, CT\\n(41.667528, -72.783437)  \n",
       "3571       Hartford, CT\\n(41.765775, -72.673356)  \n",
       "3572        Enfield, CT\\n(41.976501, -72.591985)  \n",
       "3573    New Britain, CT\\n(41.667528, -72.783437)  \n",
       "3574     Winchester, CT\\n(41.901973, -73.133851)  \n",
       "3575     Torrington, CT\\n(41.812186, -73.101552)  \n",
       "3576          Groton, CT\\n(41.343693, -72.07877)  \n",
       "3577       Hartford, CT\\n(41.765775, -72.673356)  \n",
       "3578     Bridgeport, CT\\n(41.179195, -73.189476)  \n",
       "3579       Hartford, CT\\n(41.765775, -72.673356)  \n",
       "3580      Stratford, CT\\n(41.200888, -73.131323)  \n",
       "3581     Bridgeport, CT\\n(41.179195, -73.189476)  \n",
       "3582      New Haven, CT\\n(41.308252, -72.924161)  \n",
       "\n",
       "[3581 rows x 32 columns]"
      ]
     },
     "execution_count": 355,
     "metadata": {},
     "output_type": "execute_result"
    }
   ],
   "source": [
    "# Remove all the rows where the age is missing\n",
    "data.dropna(subset=[\"Age\"])"
   ]
  },
  {
   "cell_type": "code",
   "execution_count": null,
   "metadata": {
    "collapsed": true
   },
   "outputs": [],
   "source": [
    "data.describe()"
   ]
  },
  {
   "cell_type": "code",
   "execution_count": 356,
   "metadata": {},
   "outputs": [
    {
     "data": {
      "text/html": [
       "<div>\n",
       "<style>\n",
       "    .dataframe thead tr:only-child th {\n",
       "        text-align: right;\n",
       "    }\n",
       "\n",
       "    .dataframe thead th {\n",
       "        text-align: left;\n",
       "    }\n",
       "\n",
       "    .dataframe tbody tr th {\n",
       "        vertical-align: top;\n",
       "    }\n",
       "</style>\n",
       "<table border=\"1\" class=\"dataframe\">\n",
       "  <thead>\n",
       "    <tr style=\"text-align: right;\">\n",
       "      <th></th>\n",
       "      <th>Age</th>\n",
       "    </tr>\n",
       "  </thead>\n",
       "  <tbody>\n",
       "    <tr>\n",
       "      <th>count</th>\n",
       "      <td>3581.000000</td>\n",
       "    </tr>\n",
       "    <tr>\n",
       "      <th>mean</th>\n",
       "      <td>41.999721</td>\n",
       "    </tr>\n",
       "    <tr>\n",
       "      <th>std</th>\n",
       "      <td>12.337627</td>\n",
       "    </tr>\n",
       "    <tr>\n",
       "      <th>min</th>\n",
       "      <td>14.000000</td>\n",
       "    </tr>\n",
       "    <tr>\n",
       "      <th>25%</th>\n",
       "      <td>32.000000</td>\n",
       "    </tr>\n",
       "    <tr>\n",
       "      <th>50%</th>\n",
       "      <td>43.000000</td>\n",
       "    </tr>\n",
       "    <tr>\n",
       "      <th>75%</th>\n",
       "      <td>52.000000</td>\n",
       "    </tr>\n",
       "    <tr>\n",
       "      <th>max</th>\n",
       "      <td>87.000000</td>\n",
       "    </tr>\n",
       "  </tbody>\n",
       "</table>\n",
       "</div>"
      ],
      "text/plain": [
       "               Age\n",
       "count  3581.000000\n",
       "mean     41.999721\n",
       "std      12.337627\n",
       "min      14.000000\n",
       "25%      32.000000\n",
       "50%      43.000000\n",
       "75%      52.000000\n",
       "max      87.000000"
      ]
     },
     "execution_count": 356,
     "metadata": {},
     "output_type": "execute_result"
    }
   ],
   "source": [
    "\"\"\"\n",
    "The DeathLoc includes the city, state as well as the lattitude (lat) and longitude (lon) values. \n",
    "By extracting the lat and lon\n",
    "\"\"\"\n",
    "import re\n",
    "\n",
    "data['DeathLoc2'] = data['DeathLoc'].apply( lambda x: re.sub(\"\\s*[A-Za-z()\\s]+\\s*\", \"\", str(x)) );\n",
    "\n",
    "data['lat'] = data['DeathLoc2'].apply( lambda x: x.split(',')[1] )\n",
    "data['lon'] = data['DeathLoc2'].apply( lambda x: x.split(',')[-1] )"
   ]
  },
  {
   "cell_type": "markdown",
   "metadata": {},
   "source": [
    "## Visualize the Data"
   ]
  },
  {
   "cell_type": "code",
   "execution_count": 360,
   "metadata": {},
   "outputs": [
    {
     "name": "stdout",
     "output_type": "stream",
     "text": [
      "Saving figure age_histogram_plot\n"
     ]
    },
    {
     "data": {
      "image/png": "[encoded data removed]",
      "text/plain": [
       "<matplotlib.figure.Figure at 0x1a2a114cc0>"
      ]
     },
     "metadata": {},
     "output_type": "display_data"
    }
   ],
   "source": [
    "%matplotlib inline\n",
    "import matplotlib.pyplot as plt\n",
    "data.hist(bins=50, figsize=(20,15))\n",
    "save_fig(\"age_histogram_plot\")\n",
    "plt.show()"
   ]
  },
  {
   "cell_type": "code",
   "execution_count": null,
   "metadata": {},
   "outputs": [],
   "source": []
  },
  {
   "cell_type": "code",
   "execution_count": null,
   "metadata": {},
   "outputs": [],
   "source": []
  },
  {
   "cell_type": "code",
   "execution_count": 315,
   "metadata": {
    "collapsed": true
   },
   "outputs": [],
   "source": [
    "# to make this notebook's output identical at every run\n",
    "np.random.seed(42)"
   ]
  },
  {
   "cell_type": "code",
   "execution_count": 316,
   "metadata": {
    "collapsed": true
   },
   "outputs": [],
   "source": [
    "import numpy as np\n",
    "\n",
    "# For illustration only. Sklearn has train_test_split()\n",
    "def split_train_test(data, test_ratio):\n",
    "    shuffled_indices = np.random.permutation(len(data))\n",
    "    test_set_size = int(len(data) * test_ratio)\n",
    "    test_indices = shuffled_indices[:test_set_size]\n",
    "    train_indices = shuffled_indices[test_set_size:]\n",
    "    return data.iloc[train_indices], data.iloc[test_indices]"
   ]
  },
  {
   "cell_type": "code",
   "execution_count": 317,
   "metadata": {},
   "outputs": [
    {
     "name": "stdout",
     "output_type": "stream",
     "text": [
      "2867 train + 716 test\n"
     ]
    }
   ],
   "source": [
    "train_set, test_set = split_train_test(data, 0.2)\n",
    "print(len(train_set), \"train +\", len(test_set), \"test\")"
   ]
  },
  {
   "cell_type": "code",
   "execution_count": 318,
   "metadata": {
    "collapsed": true
   },
   "outputs": [],
   "source": [
    "import hashlib\n",
    "\n",
    "def test_set_check(identifier, test_ratio, hash):\n",
    "    return hash(np.int64(identifier)).digest()[-1] < 256 * test_ratio\n",
    "\n",
    "def split_train_test_by_id(data, test_ratio, id_column, hash=hashlib.md5):\n",
    "    ids = data[id_column]\n",
    "    in_test_set = ids.apply(lambda id_: test_set_check(id_, test_ratio, hash))\n",
    "    return data.loc[~in_test_set], data.loc[in_test_set]"
   ]
  },
  {
   "cell_type": "code",
   "execution_count": 319,
   "metadata": {
    "collapsed": true
   },
   "outputs": [],
   "source": [
    "# This version supports both Python 2 and Python 3, instead of just Python 3.\n",
    "def test_set_check(identifier, test_ratio, hash):\n",
    "    return bytearray(hash(np.int64(identifier)).digest())[-1] < 256 * test_ratio"
   ]
  },
  {
   "cell_type": "code",
   "execution_count": null,
   "metadata": {
    "collapsed": true
   },
   "outputs": [],
   "source": []
  },
  {
   "cell_type": "code",
   "execution_count": null,
   "metadata": {
    "collapsed": true
   },
   "outputs": [],
   "source": []
  },
  {
   "cell_type": "code",
   "execution_count": 320,
   "metadata": {},
   "outputs": [
    {
     "data": {
      "text/html": [
       "<div>\n",
       "<style>\n",
       "    .dataframe thead tr:only-child th {\n",
       "        text-align: right;\n",
       "    }\n",
       "\n",
       "    .dataframe thead th {\n",
       "        text-align: left;\n",
       "    }\n",
       "\n",
       "    .dataframe tbody tr th {\n",
       "        vertical-align: top;\n",
       "    }\n",
       "</style>\n",
       "<table border=\"1\" class=\"dataframe\">\n",
       "  <thead>\n",
       "    <tr style=\"text-align: right;\">\n",
       "      <th></th>\n",
       "      <th>CaseNumber</th>\n",
       "      <th>Date</th>\n",
       "      <th>Sex</th>\n",
       "      <th>Race</th>\n",
       "      <th>Age</th>\n",
       "      <th>Residence City</th>\n",
       "      <th>Residence State</th>\n",
       "      <th>Residence County</th>\n",
       "      <th>Death City</th>\n",
       "      <th>Death State</th>\n",
       "      <th>...</th>\n",
       "      <th>Benzodiazepine</th>\n",
       "      <th>Methadone</th>\n",
       "      <th>Amphet</th>\n",
       "      <th>Tramad</th>\n",
       "      <th>Morphine (not heroin)</th>\n",
       "      <th>Other</th>\n",
       "      <th>Any Opioid</th>\n",
       "      <th>MannerofDeath</th>\n",
       "      <th>AmendedMannerofDeath</th>\n",
       "      <th>DeathLoc</th>\n",
       "    </tr>\n",
       "  </thead>\n",
       "  <tbody>\n",
       "    <tr>\n",
       "      <th>1407</th>\n",
       "      <td>15-18095</td>\n",
       "      <td>11/12/2015</td>\n",
       "      <td>Male</td>\n",
       "      <td>White</td>\n",
       "      <td>55.0</td>\n",
       "      <td>WATERBURY</td>\n",
       "      <td>CT</td>\n",
       "      <td>NEW HAVEN</td>\n",
       "      <td>WATERBURY</td>\n",
       "      <td>CT</td>\n",
       "      <td>...</td>\n",
       "      <td>NaN</td>\n",
       "      <td>NaN</td>\n",
       "      <td>NaN</td>\n",
       "      <td>NaN</td>\n",
       "      <td>NaN</td>\n",
       "      <td>NaN</td>\n",
       "      <td>Y</td>\n",
       "      <td>Accident</td>\n",
       "      <td>NaN</td>\n",
       "      <td>WATERBURY, CT\\n(41.554261, -73.043069)</td>\n",
       "    </tr>\n",
       "    <tr>\n",
       "      <th>411</th>\n",
       "      <td>14-14611</td>\n",
       "      <td>09/29/2014</td>\n",
       "      <td>Male</td>\n",
       "      <td>White</td>\n",
       "      <td>28.0</td>\n",
       "      <td>NEW BRITAIN</td>\n",
       "      <td>NaN</td>\n",
       "      <td>NaN</td>\n",
       "      <td>NEW BRITAIN</td>\n",
       "      <td>NaN</td>\n",
       "      <td>...</td>\n",
       "      <td>NaN</td>\n",
       "      <td>NaN</td>\n",
       "      <td>NaN</td>\n",
       "      <td>NaN</td>\n",
       "      <td>NaN</td>\n",
       "      <td>NaN</td>\n",
       "      <td>NaN</td>\n",
       "      <td>Accident</td>\n",
       "      <td>NaN</td>\n",
       "      <td>NEW BRITAIN, CT\\n(41.667528, -72.783437)</td>\n",
       "    </tr>\n",
       "    <tr>\n",
       "      <th>802</th>\n",
       "      <td>15-12466</td>\n",
       "      <td>07/31/2015</td>\n",
       "      <td>Female</td>\n",
       "      <td>White</td>\n",
       "      <td>40.0</td>\n",
       "      <td>TORRINGTON</td>\n",
       "      <td>CT</td>\n",
       "      <td>LITCHFIELD</td>\n",
       "      <td>HARTFORD</td>\n",
       "      <td>CT</td>\n",
       "      <td>...</td>\n",
       "      <td>Y</td>\n",
       "      <td>NaN</td>\n",
       "      <td>NaN</td>\n",
       "      <td>NaN</td>\n",
       "      <td>NaN</td>\n",
       "      <td>MORPHINE</td>\n",
       "      <td>Y</td>\n",
       "      <td>Accident</td>\n",
       "      <td>NaN</td>\n",
       "      <td>HARTFORD, CT\\n(41.765775, -72.673356)</td>\n",
       "    </tr>\n",
       "    <tr>\n",
       "      <th>3033</th>\n",
       "      <td>16-3031</td>\n",
       "      <td>11/20/2016</td>\n",
       "      <td>Male</td>\n",
       "      <td>White</td>\n",
       "      <td>48.0</td>\n",
       "      <td>WALLINGFORD</td>\n",
       "      <td>NaN</td>\n",
       "      <td>NEW HAVEN</td>\n",
       "      <td>HARTFORD</td>\n",
       "      <td>NaN</td>\n",
       "      <td>...</td>\n",
       "      <td>Y</td>\n",
       "      <td>Y</td>\n",
       "      <td>NaN</td>\n",
       "      <td>NaN</td>\n",
       "      <td>NaN</td>\n",
       "      <td>NaN</td>\n",
       "      <td>NaN</td>\n",
       "      <td>Accident</td>\n",
       "      <td>NaN</td>\n",
       "      <td>HARTFORD, CT\\n(41.765775, -72.673356)</td>\n",
       "    </tr>\n",
       "    <tr>\n",
       "      <th>1546</th>\n",
       "      <td>14-9762</td>\n",
       "      <td>06/25/2014</td>\n",
       "      <td>Female</td>\n",
       "      <td>White</td>\n",
       "      <td>41.0</td>\n",
       "      <td>MIDDLETOWN</td>\n",
       "      <td>NaN</td>\n",
       "      <td>NaN</td>\n",
       "      <td>MIDDLETOWN</td>\n",
       "      <td>NaN</td>\n",
       "      <td>...</td>\n",
       "      <td>Y</td>\n",
       "      <td>NaN</td>\n",
       "      <td>NaN</td>\n",
       "      <td>NaN</td>\n",
       "      <td>NaN</td>\n",
       "      <td>NaN</td>\n",
       "      <td>NaN</td>\n",
       "      <td>Accident</td>\n",
       "      <td>NaN</td>\n",
       "      <td>MIDDLETOWN, CT\\n(41.544654, -72.651713)</td>\n",
       "    </tr>\n",
       "  </tbody>\n",
       "</table>\n",
       "<p>5 rows × 32 columns</p>\n",
       "</div>"
      ],
      "text/plain": [
       "     CaseNumber        Date     Sex   Race   Age Residence City  \\\n",
       "1407   15-18095  11/12/2015    Male  White  55.0      WATERBURY   \n",
       "411    14-14611  09/29/2014    Male  White  28.0    NEW BRITAIN   \n",
       "802    15-12466  07/31/2015  Female  White  40.0     TORRINGTON   \n",
       "3033    16-3031  11/20/2016    Male  White  48.0    WALLINGFORD   \n",
       "1546    14-9762  06/25/2014  Female  White  41.0     MIDDLETOWN   \n",
       "\n",
       "     Residence State Residence County   Death City Death State  \\\n",
       "1407              CT        NEW HAVEN    WATERBURY          CT   \n",
       "411              NaN              NaN  NEW BRITAIN         NaN   \n",
       "802               CT       LITCHFIELD     HARTFORD          CT   \n",
       "3033             NaN        NEW HAVEN     HARTFORD         NaN   \n",
       "1546             NaN              NaN   MIDDLETOWN         NaN   \n",
       "\n",
       "                        ...                    Benzodiazepine Methadone  \\\n",
       "1407                    ...                               NaN       NaN   \n",
       "411                     ...                               NaN       NaN   \n",
       "802                     ...                                 Y       NaN   \n",
       "3033                    ...                                 Y         Y   \n",
       "1546                    ...                                 Y       NaN   \n",
       "\n",
       "     Amphet Tramad Morphine (not heroin)     Other Any Opioid MannerofDeath  \\\n",
       "1407    NaN    NaN                   NaN       NaN          Y      Accident   \n",
       "411     NaN    NaN                   NaN       NaN        NaN      Accident   \n",
       "802     NaN    NaN                   NaN  MORPHINE          Y      Accident   \n",
       "3033    NaN    NaN                   NaN       NaN        NaN      Accident   \n",
       "1546    NaN    NaN                   NaN       NaN        NaN      Accident   \n",
       "\n",
       "     AmendedMannerofDeath                                  DeathLoc  \n",
       "1407                  NaN    WATERBURY, CT\\n(41.554261, -73.043069)  \n",
       "411                   NaN  NEW BRITAIN, CT\\n(41.667528, -72.783437)  \n",
       "802                   NaN     HARTFORD, CT\\n(41.765775, -72.673356)  \n",
       "3033                  NaN     HARTFORD, CT\\n(41.765775, -72.673356)  \n",
       "1546                  NaN   MIDDLETOWN, CT\\n(41.544654, -72.651713)  \n",
       "\n",
       "[5 rows x 32 columns]"
      ]
     },
     "execution_count": 320,
     "metadata": {},
     "output_type": "execute_result"
    }
   ],
   "source": [
    "test_set.head()"
   ]
  },
  {
   "cell_type": "code",
   "execution_count": 321,
   "metadata": {
    "collapsed": true
   },
   "outputs": [],
   "source": [
    "from sklearn.model_selection import train_test_split\n",
    "\n",
    "train_set, test_set = train_test_split(data, test_size=0.2, random_state=42)"
   ]
  },
  {
   "cell_type": "code",
   "execution_count": 322,
   "metadata": {},
   "outputs": [
    {
     "data": {
      "text/html": [
       "<div>\n",
       "<style>\n",
       "    .dataframe thead tr:only-child th {\n",
       "        text-align: right;\n",
       "    }\n",
       "\n",
       "    .dataframe thead th {\n",
       "        text-align: left;\n",
       "    }\n",
       "\n",
       "    .dataframe tbody tr th {\n",
       "        vertical-align: top;\n",
       "    }\n",
       "</style>\n",
       "<table border=\"1\" class=\"dataframe\">\n",
       "  <thead>\n",
       "    <tr style=\"text-align: right;\">\n",
       "      <th></th>\n",
       "      <th>CaseNumber</th>\n",
       "      <th>Date</th>\n",
       "      <th>Sex</th>\n",
       "      <th>Race</th>\n",
       "      <th>Age</th>\n",
       "      <th>Residence City</th>\n",
       "      <th>Residence State</th>\n",
       "      <th>Residence County</th>\n",
       "      <th>Death City</th>\n",
       "      <th>Death State</th>\n",
       "      <th>...</th>\n",
       "      <th>Benzodiazepine</th>\n",
       "      <th>Methadone</th>\n",
       "      <th>Amphet</th>\n",
       "      <th>Tramad</th>\n",
       "      <th>Morphine (not heroin)</th>\n",
       "      <th>Other</th>\n",
       "      <th>Any Opioid</th>\n",
       "      <th>MannerofDeath</th>\n",
       "      <th>AmendedMannerofDeath</th>\n",
       "      <th>DeathLoc</th>\n",
       "    </tr>\n",
       "  </thead>\n",
       "  <tbody>\n",
       "    <tr>\n",
       "      <th>1407</th>\n",
       "      <td>15-18095</td>\n",
       "      <td>11/12/2015</td>\n",
       "      <td>Male</td>\n",
       "      <td>White</td>\n",
       "      <td>55.0</td>\n",
       "      <td>WATERBURY</td>\n",
       "      <td>CT</td>\n",
       "      <td>NEW HAVEN</td>\n",
       "      <td>WATERBURY</td>\n",
       "      <td>CT</td>\n",
       "      <td>...</td>\n",
       "      <td>NaN</td>\n",
       "      <td>NaN</td>\n",
       "      <td>NaN</td>\n",
       "      <td>NaN</td>\n",
       "      <td>NaN</td>\n",
       "      <td>NaN</td>\n",
       "      <td>Y</td>\n",
       "      <td>Accident</td>\n",
       "      <td>NaN</td>\n",
       "      <td>WATERBURY, CT\\n(41.554261, -73.043069)</td>\n",
       "    </tr>\n",
       "    <tr>\n",
       "      <th>411</th>\n",
       "      <td>14-14611</td>\n",
       "      <td>09/29/2014</td>\n",
       "      <td>Male</td>\n",
       "      <td>White</td>\n",
       "      <td>28.0</td>\n",
       "      <td>NEW BRITAIN</td>\n",
       "      <td>NaN</td>\n",
       "      <td>NaN</td>\n",
       "      <td>NEW BRITAIN</td>\n",
       "      <td>NaN</td>\n",
       "      <td>...</td>\n",
       "      <td>NaN</td>\n",
       "      <td>NaN</td>\n",
       "      <td>NaN</td>\n",
       "      <td>NaN</td>\n",
       "      <td>NaN</td>\n",
       "      <td>NaN</td>\n",
       "      <td>NaN</td>\n",
       "      <td>Accident</td>\n",
       "      <td>NaN</td>\n",
       "      <td>NEW BRITAIN, CT\\n(41.667528, -72.783437)</td>\n",
       "    </tr>\n",
       "    <tr>\n",
       "      <th>802</th>\n",
       "      <td>15-12466</td>\n",
       "      <td>07/31/2015</td>\n",
       "      <td>Female</td>\n",
       "      <td>White</td>\n",
       "      <td>40.0</td>\n",
       "      <td>TORRINGTON</td>\n",
       "      <td>CT</td>\n",
       "      <td>LITCHFIELD</td>\n",
       "      <td>HARTFORD</td>\n",
       "      <td>CT</td>\n",
       "      <td>...</td>\n",
       "      <td>Y</td>\n",
       "      <td>NaN</td>\n",
       "      <td>NaN</td>\n",
       "      <td>NaN</td>\n",
       "      <td>NaN</td>\n",
       "      <td>MORPHINE</td>\n",
       "      <td>Y</td>\n",
       "      <td>Accident</td>\n",
       "      <td>NaN</td>\n",
       "      <td>HARTFORD, CT\\n(41.765775, -72.673356)</td>\n",
       "    </tr>\n",
       "    <tr>\n",
       "      <th>3033</th>\n",
       "      <td>16-3031</td>\n",
       "      <td>11/20/2016</td>\n",
       "      <td>Male</td>\n",
       "      <td>White</td>\n",
       "      <td>48.0</td>\n",
       "      <td>WALLINGFORD</td>\n",
       "      <td>NaN</td>\n",
       "      <td>NEW HAVEN</td>\n",
       "      <td>HARTFORD</td>\n",
       "      <td>NaN</td>\n",
       "      <td>...</td>\n",
       "      <td>Y</td>\n",
       "      <td>Y</td>\n",
       "      <td>NaN</td>\n",
       "      <td>NaN</td>\n",
       "      <td>NaN</td>\n",
       "      <td>NaN</td>\n",
       "      <td>NaN</td>\n",
       "      <td>Accident</td>\n",
       "      <td>NaN</td>\n",
       "      <td>HARTFORD, CT\\n(41.765775, -72.673356)</td>\n",
       "    </tr>\n",
       "    <tr>\n",
       "      <th>1546</th>\n",
       "      <td>14-9762</td>\n",
       "      <td>06/25/2014</td>\n",
       "      <td>Female</td>\n",
       "      <td>White</td>\n",
       "      <td>41.0</td>\n",
       "      <td>MIDDLETOWN</td>\n",
       "      <td>NaN</td>\n",
       "      <td>NaN</td>\n",
       "      <td>MIDDLETOWN</td>\n",
       "      <td>NaN</td>\n",
       "      <td>...</td>\n",
       "      <td>Y</td>\n",
       "      <td>NaN</td>\n",
       "      <td>NaN</td>\n",
       "      <td>NaN</td>\n",
       "      <td>NaN</td>\n",
       "      <td>NaN</td>\n",
       "      <td>NaN</td>\n",
       "      <td>Accident</td>\n",
       "      <td>NaN</td>\n",
       "      <td>MIDDLETOWN, CT\\n(41.544654, -72.651713)</td>\n",
       "    </tr>\n",
       "  </tbody>\n",
       "</table>\n",
       "<p>5 rows × 32 columns</p>\n",
       "</div>"
      ],
      "text/plain": [
       "     CaseNumber        Date     Sex   Race   Age Residence City  \\\n",
       "1407   15-18095  11/12/2015    Male  White  55.0      WATERBURY   \n",
       "411    14-14611  09/29/2014    Male  White  28.0    NEW BRITAIN   \n",
       "802    15-12466  07/31/2015  Female  White  40.0     TORRINGTON   \n",
       "3033    16-3031  11/20/2016    Male  White  48.0    WALLINGFORD   \n",
       "1546    14-9762  06/25/2014  Female  White  41.0     MIDDLETOWN   \n",
       "\n",
       "     Residence State Residence County   Death City Death State  \\\n",
       "1407              CT        NEW HAVEN    WATERBURY          CT   \n",
       "411              NaN              NaN  NEW BRITAIN         NaN   \n",
       "802               CT       LITCHFIELD     HARTFORD          CT   \n",
       "3033             NaN        NEW HAVEN     HARTFORD         NaN   \n",
       "1546             NaN              NaN   MIDDLETOWN         NaN   \n",
       "\n",
       "                        ...                    Benzodiazepine Methadone  \\\n",
       "1407                    ...                               NaN       NaN   \n",
       "411                     ...                               NaN       NaN   \n",
       "802                     ...                                 Y       NaN   \n",
       "3033                    ...                                 Y         Y   \n",
       "1546                    ...                                 Y       NaN   \n",
       "\n",
       "     Amphet Tramad Morphine (not heroin)     Other Any Opioid MannerofDeath  \\\n",
       "1407    NaN    NaN                   NaN       NaN          Y      Accident   \n",
       "411     NaN    NaN                   NaN       NaN        NaN      Accident   \n",
       "802     NaN    NaN                   NaN  MORPHINE          Y      Accident   \n",
       "3033    NaN    NaN                   NaN       NaN        NaN      Accident   \n",
       "1546    NaN    NaN                   NaN       NaN        NaN      Accident   \n",
       "\n",
       "     AmendedMannerofDeath                                  DeathLoc  \n",
       "1407                  NaN    WATERBURY, CT\\n(41.554261, -73.043069)  \n",
       "411                   NaN  NEW BRITAIN, CT\\n(41.667528, -72.783437)  \n",
       "802                   NaN     HARTFORD, CT\\n(41.765775, -72.673356)  \n",
       "3033                  NaN     HARTFORD, CT\\n(41.765775, -72.673356)  \n",
       "1546                  NaN   MIDDLETOWN, CT\\n(41.544654, -72.651713)  \n",
       "\n",
       "[5 rows x 32 columns]"
      ]
     },
     "execution_count": 322,
     "metadata": {},
     "output_type": "execute_result"
    }
   ],
   "source": [
    "test_set.head()"
   ]
  },
  {
   "cell_type": "code",
   "execution_count": null,
   "metadata": {},
   "outputs": [],
   "source": []
  },
  {
   "cell_type": "code",
   "execution_count": 324,
   "metadata": {},
   "outputs": [
    {
     "data": {
      "text/plain": [
       "' -73.189476'"
      ]
     },
     "execution_count": 324,
     "metadata": {},
     "output_type": "execute_result"
    }
   ],
   "source": [
    "\n"
   ]
  },
  {
   "cell_type": "code",
   "execution_count": 325,
   "metadata": {},
   "outputs": [],
   "source": []
  },
  {
   "cell_type": "code",
   "execution_count": null,
   "metadata": {},
   "outputs": [],
   "source": []
  },
  {
   "cell_type": "code",
   "execution_count": null,
   "metadata": {},
   "outputs": [],
   "source": []
  },
  {
   "cell_type": "code",
   "execution_count": 352,
   "metadata": {},
   "outputs": [
    {
     "data": {
      "text/plain": [
       "count    3579.000000\n",
       "mean       42.005029\n",
       "std        12.338571\n",
       "min        14.000000\n",
       "25%        32.000000\n",
       "50%        43.000000\n",
       "75%        52.000000\n",
       "max        87.000000\n",
       "Name: Age, dtype: float64"
      ]
     },
     "execution_count": 352,
     "metadata": {},
     "output_type": "execute_result"
    }
   ],
   "source": [
    "data['Age'].describe()"
   ]
  },
  {
   "cell_type": "code",
   "execution_count": 326,
   "metadata": {
    "collapsed": true
   },
   "outputs": [],
   "source": [
    "data['lat'] = pd.to_numeric(data['lat'], errors='coerce').fillna(0)\n",
    "\n",
    "data['lon'] = pd.to_numeric(data['lon'], errors='coerce').fillna(0)\n"
   ]
  },
  {
   "cell_type": "code",
   "execution_count": 327,
   "metadata": {},
   "outputs": [
    {
     "data": {
      "text/plain": [
       "count    3583.000000\n",
       "mean       41.403000\n",
       "std         3.820658\n",
       "min       -72.651713\n",
       "25%        41.316843\n",
       "50%        41.554261\n",
       "75%        41.765775\n",
       "max        42.025992\n",
       "Name: lat, dtype: float64"
      ]
     },
     "execution_count": 327,
     "metadata": {},
     "output_type": "execute_result"
    }
   ],
   "source": [
    "data['lat'].describe()"
   ]
  },
  {
   "cell_type": "code",
   "execution_count": 328,
   "metadata": {},
   "outputs": [
    {
     "data": {
      "text/plain": [
       "count    3583.000000\n",
       "mean      -72.802924\n",
       "std         0.390928\n",
       "min       -73.628549\n",
       "25%       -73.057564\n",
       "50%       -72.824947\n",
       "75%       -72.643785\n",
       "max       -71.808899\n",
       "Name: lon, dtype: float64"
      ]
     },
     "execution_count": 328,
     "metadata": {},
     "output_type": "execute_result"
    }
   ],
   "source": [
    "data['lon'].describe()"
   ]
  },
  {
   "cell_type": "code",
   "execution_count": 340,
   "metadata": {},
   "outputs": [],
   "source": [
    "data = data[data['lat'] != data['lat'].min()]"
   ]
  },
  {
   "cell_type": "markdown",
   "metadata": {},
   "source": [
    "# Discover and visualize the data to gain insights"
   ]
  },
  {
   "cell_type": "code",
   "execution_count": 341,
   "metadata": {},
   "outputs": [
    {
     "data": {
      "text/plain": [
       "count    3579.000000\n",
       "mean       41.530471\n",
       "std         0.234003\n",
       "min        41.026526\n",
       "25%        41.316843\n",
       "50%        41.554261\n",
       "75%        41.765775\n",
       "max        42.025992\n",
       "Name: lat, dtype: float64"
      ]
     },
     "execution_count": 341,
     "metadata": {},
     "output_type": "execute_result"
    }
   ],
   "source": [
    "data['lat'].describe()"
   ]
  },
  {
   "cell_type": "code",
   "execution_count": 342,
   "metadata": {},
   "outputs": [
    {
     "name": "stdout",
     "output_type": "stream",
     "text": [
      "Saving figure bad_visualization_plot\n"
     ]
    },
    {
     "data": {
      "image/png": "[encoded data removed]",
      "text/plain": [
       "<matplotlib.figure.Figure at 0x1a2b4dfd30>"
      ]
     },
     "metadata": {},
     "output_type": "display_data"
    }
   ],
   "source": [
    "data.plot(kind=\"scatter\", x=\"lon\", y=\"lat\")\n",
    "save_fig(\"bad_visualization_plot\")"
   ]
  },
  {
   "cell_type": "code",
   "execution_count": 343,
   "metadata": {},
   "outputs": [
    {
     "name": "stdout",
     "output_type": "stream",
     "text": [
      "Saving figure better_visualization_plot\n"
     ]
    },
    {
     "data": {
      "image/png": "[encoded data removed]",
      "text/plain": [
       "<matplotlib.figure.Figure at 0x11da5b550>"
      ]
     },
     "metadata": {},
     "output_type": "display_data"
    }
   ],
   "source": [
    "data.plot(kind=\"scatter\", x=\"lon\", y=\"lat\", alpha=0.1)\n",
    "save_fig(\"better_visualization_plot\")"
   ]
  },
  {
   "cell_type": "markdown",
   "metadata": {},
   "source": [
    "The argument `sharex=False` fixes a display bug (the x-axis values and legend were not displayed). This is a temporary fix (see: https://github.com/pandas-dev/pandas/issues/10611). Thanks to Wilmer Arellano for pointing it out."
   ]
  },
  {
   "cell_type": "code",
   "execution_count": 349,
   "metadata": {},
   "outputs": [
    {
     "name": "stdout",
     "output_type": "stream",
     "text": [
      "Saving figure housing_prices_scatterplot\n"
     ]
    },
    {
     "data": {
      "image/png": "[encoded data removed]",
      "text/plain": [
       "<matplotlib.figure.Figure at 0x1a2b53e390>"
      ]
     },
     "metadata": {},
     "output_type": "display_data"
    }
   ],
   "source": [
    "data.plot(kind=\"scatter\", x=\"lon\", y=\"lat\", alpha=0.4,\n",
    "    s=data[\"Age\"], label=\"Age\", figsize=(10,7),\n",
    "    c=\"Age\", cmap=plt.get_cmap(\"jet\"), colorbar=True,\n",
    "    sharex=False)\n",
    "plt.legend()\n",
    "save_fig(\"housing_prices_scatterplot\")"
   ]
  },
  {
   "cell_type": "code",
   "execution_count": null,
   "metadata": {
    "collapsed": true
   },
   "outputs": [],
   "source": [
    "import matplotlib.image as mpimg\n",
    "california_img=mpimg.imread(PROJECT_ROOT_DIR + '/images/end_to_end_project/california.png')\n",
    "ax = housing.plot(kind=\"scatter\", x=\"longitude\", y=\"latitude\", figsize=(10,7),\n",
    "                       s=housing['population']/100, label=\"Population\",\n",
    "                       c=\"median_house_value\", cmap=plt.get_cmap(\"jet\"),\n",
    "                       colorbar=False, alpha=0.4,\n",
    "                      )\n",
    "plt.imshow(california_img, extent=[-124.55, -113.80, 32.45, 42.05], alpha=0.5)\n",
    "plt.ylabel(\"Latitude\", fontsize=14)\n",
    "plt.xlabel(\"Longitude\", fontsize=14)\n",
    "\n",
    "prices = housing[\"median_house_value\"]\n",
    "tick_values = np.linspace(prices.min(), prices.max(), 11)\n",
    "cbar = plt.colorbar()\n",
    "cbar.ax.set_yticklabels([\"$%dk\"%(round(v/1000)) for v in tick_values], fontsize=14)\n",
    "cbar.set_label('Median House Value', fontsize=16)\n",
    "\n",
    "plt.legend(fontsize=16)\n",
    "save_fig(\"california_housing_prices_plot\")\n",
    "plt.show()"
   ]
  },
  {
   "cell_type": "code",
   "execution_count": null,
   "metadata": {
    "collapsed": true
   },
   "outputs": [],
   "source": [
    "corr_matrix = housing.corr()"
   ]
  },
  {
   "cell_type": "code",
   "execution_count": null,
   "metadata": {
    "collapsed": true
   },
   "outputs": [],
   "source": [
    "corr_matrix[\"median_house_value\"].sort_values(ascending=False)"
   ]
  },
  {
   "cell_type": "code",
   "execution_count": null,
   "metadata": {
    "collapsed": true
   },
   "outputs": [],
   "source": [
    "# from pandas.tools.plotting import scatter_matrix # For older versions of Pandas\n",
    "from pandas.plotting import scatter_matrix\n",
    "\n",
    "attributes = [\"median_house_value\", \"median_income\", \"total_rooms\",\n",
    "              \"housing_median_age\"]\n",
    "scatter_matrix(housing[attributes], figsize=(12, 8))\n",
    "save_fig(\"scatter_matrix_plot\")"
   ]
  },
  {
   "cell_type": "code",
   "execution_count": null,
   "metadata": {
    "collapsed": true
   },
   "outputs": [],
   "source": [
    "housing.plot(kind=\"scatter\", x=\"median_income\", y=\"median_house_value\",\n",
    "             alpha=0.1)\n",
    "plt.axis([0, 16, 0, 550000])\n",
    "save_fig(\"income_vs_house_value_scatterplot\")"
   ]
  },
  {
   "cell_type": "code",
   "execution_count": null,
   "metadata": {
    "collapsed": true
   },
   "outputs": [],
   "source": [
    "housing[\"rooms_per_household\"] = housing[\"total_rooms\"]/housing[\"households\"]\n",
    "housing[\"bedrooms_per_room\"] = housing[\"total_bedrooms\"]/housing[\"total_rooms\"]\n",
    "housing[\"population_per_household\"]=housing[\"population\"]/housing[\"households\"]"
   ]
  },
  {
   "cell_type": "markdown",
   "metadata": {},
   "source": [
    "Note: there was a bug in the previous cell, in the definition of the `rooms_per_household` attribute. This explains why the correlation value below differs slightly from the value in the book (unless you are reading the latest version)."
   ]
  },
  {
   "cell_type": "code",
   "execution_count": null,
   "metadata": {
    "collapsed": true
   },
   "outputs": [],
   "source": [
    "corr_matrix = housing.corr()\n",
    "corr_matrix[\"median_house_value\"].sort_values(ascending=False)"
   ]
  },
  {
   "cell_type": "code",
   "execution_count": null,
   "metadata": {
    "collapsed": true
   },
   "outputs": [],
   "source": [
    "housing.plot(kind=\"scatter\", x=\"rooms_per_household\", y=\"median_house_value\",\n",
    "             alpha=0.2)\n",
    "plt.axis([0, 5, 0, 520000])\n",
    "plt.show()"
   ]
  },
  {
   "cell_type": "code",
   "execution_count": null,
   "metadata": {
    "collapsed": true
   },
   "outputs": [],
   "source": [
    "housing.describe()"
   ]
  },
  {
   "cell_type": "markdown",
   "metadata": {},
   "source": [
    "# Prepare the data for Machine Learning algorithms"
   ]
  },
  {
   "cell_type": "code",
   "execution_count": null,
   "metadata": {
    "collapsed": true
   },
   "outputs": [],
   "source": [
    "housing = strat_train_set.drop(\"median_house_value\", axis=1) # drop labels for training set\n",
    "housing_labels = strat_train_set[\"median_house_value\"].copy()"
   ]
  },
  {
   "cell_type": "code",
   "execution_count": null,
   "metadata": {
    "collapsed": true
   },
   "outputs": [],
   "source": [
    "sample_incomplete_rows = housing[housing.isnull().any(axis=1)].head()\n",
    "sample_incomplete_rows"
   ]
  },
  {
   "cell_type": "code",
   "execution_count": null,
   "metadata": {
    "collapsed": true
   },
   "outputs": [],
   "source": [
    "sample_incomplete_rows.dropna(subset=[\"total_bedrooms\"])    # option 1"
   ]
  },
  {
   "cell_type": "code",
   "execution_count": null,
   "metadata": {
    "collapsed": true
   },
   "outputs": [],
   "source": [
    "sample_incomplete_rows.drop(\"total_bedrooms\", axis=1)       # option 2"
   ]
  },
  {
   "cell_type": "code",
   "execution_count": null,
   "metadata": {
    "collapsed": true
   },
   "outputs": [],
   "source": [
    "median = housing[\"total_bedrooms\"].median()\n",
    "sample_incomplete_rows[\"total_bedrooms\"].fillna(median, inplace=True) # option 3\n",
    "sample_incomplete_rows"
   ]
  },
  {
   "cell_type": "code",
   "execution_count": null,
   "metadata": {
    "collapsed": true
   },
   "outputs": [],
   "source": [
    "from sklearn.preprocessing import Imputer\n",
    "\n",
    "imputer = Imputer(strategy=\"median\")"
   ]
  },
  {
   "cell_type": "markdown",
   "metadata": {},
   "source": [
    "Remove the text attribute because median can only be calculated on numerical attributes:"
   ]
  },
  {
   "cell_type": "code",
   "execution_count": null,
   "metadata": {
    "collapsed": true
   },
   "outputs": [],
   "source": [
    "housing_num = housing.drop('ocean_proximity', axis=1)\n",
    "# alternatively: housing_num = housing.select_dtypes(include=[np.number])"
   ]
  },
  {
   "cell_type": "code",
   "execution_count": null,
   "metadata": {
    "collapsed": true
   },
   "outputs": [],
   "source": [
    "imputer.fit(housing_num)"
   ]
  },
  {
   "cell_type": "code",
   "execution_count": null,
   "metadata": {
    "collapsed": true
   },
   "outputs": [],
   "source": [
    "imputer.statistics_"
   ]
  },
  {
   "cell_type": "markdown",
   "metadata": {},
   "source": [
    "Check that this is the same as manually computing the median of each attribute:"
   ]
  },
  {
   "cell_type": "code",
   "execution_count": null,
   "metadata": {
    "collapsed": true
   },
   "outputs": [],
   "source": [
    "housing_num.median().values"
   ]
  },
  {
   "cell_type": "markdown",
   "metadata": {},
   "source": [
    "Transform the training set:"
   ]
  },
  {
   "cell_type": "code",
   "execution_count": null,
   "metadata": {
    "collapsed": true
   },
   "outputs": [],
   "source": [
    "X = imputer.transform(housing_num)"
   ]
  },
  {
   "cell_type": "code",
   "execution_count": null,
   "metadata": {
    "collapsed": true
   },
   "outputs": [],
   "source": [
    "housing_tr = pd.DataFrame(X, columns=housing_num.columns,\n",
    "                          index = list(housing.index.values))"
   ]
  },
  {
   "cell_type": "code",
   "execution_count": null,
   "metadata": {
    "collapsed": true
   },
   "outputs": [],
   "source": [
    "housing_tr.loc[sample_incomplete_rows.index.values]"
   ]
  },
  {
   "cell_type": "code",
   "execution_count": null,
   "metadata": {
    "collapsed": true
   },
   "outputs": [],
   "source": [
    "imputer.strategy"
   ]
  },
  {
   "cell_type": "code",
   "execution_count": null,
   "metadata": {
    "collapsed": true
   },
   "outputs": [],
   "source": [
    "housing_tr = pd.DataFrame(X, columns=housing_num.columns)\n",
    "housing_tr.head()"
   ]
  },
  {
   "cell_type": "markdown",
   "metadata": {},
   "source": [
    "Now let's preprocess the categorical input feature, `ocean_proximity`:"
   ]
  },
  {
   "cell_type": "code",
   "execution_count": null,
   "metadata": {
    "collapsed": true
   },
   "outputs": [],
   "source": [
    "housing_cat = housing['ocean_proximity']\n",
    "housing_cat.head(10)"
   ]
  },
  {
   "cell_type": "markdown",
   "metadata": {},
   "source": [
    "We can use Pandas' `factorize()` method to convert this string categorical feature to an integer categorical feature, which will be easier for Machine Learning algorithms to handle:"
   ]
  },
  {
   "cell_type": "code",
   "execution_count": null,
   "metadata": {
    "collapsed": true
   },
   "outputs": [],
   "source": [
    "housing_cat_encoded, housing_categories = housing_cat.factorize()\n",
    "housing_cat_encoded[:10]"
   ]
  },
  {
   "cell_type": "code",
   "execution_count": null,
   "metadata": {
    "collapsed": true
   },
   "outputs": [],
   "source": [
    "housing_categories"
   ]
  },
  {
   "cell_type": "markdown",
   "metadata": {},
   "source": [
    "**Warning**: earlier versions of the book used the `LabelEncoder` class instead of Pandas' `factorize()` method. This was incorrect: indeed, as its name suggests, the `LabelEncoder` class was designed for labels, not for input features. The code worked because we were handling a single categorical input feature, but it would break if you passed multiple categorical input features."
   ]
  },
  {
   "cell_type": "markdown",
   "metadata": {},
   "source": [
    "We can convert each categorical value to a one-hot vector using a `OneHotEncoder`:"
   ]
  },
  {
   "cell_type": "code",
   "execution_count": null,
   "metadata": {
    "collapsed": true
   },
   "outputs": [],
   "source": [
    "from sklearn.preprocessing import OneHotEncoder\n",
    "\n",
    "encoder = OneHotEncoder()\n",
    "housing_cat_1hot = encoder.fit_transform(housing_cat_encoded.reshape(-1,1))\n",
    "housing_cat_1hot"
   ]
  },
  {
   "cell_type": "markdown",
   "metadata": {},
   "source": [
    "The `OneHotEncoder` returns a sparse array by default, but we can convert it to a dense array if needed:"
   ]
  },
  {
   "cell_type": "code",
   "execution_count": null,
   "metadata": {
    "collapsed": true
   },
   "outputs": [],
   "source": [
    "housing_cat_1hot.toarray()"
   ]
  },
  {
   "cell_type": "markdown",
   "metadata": {},
   "source": [
    "**Warning**: earlier versions of the book used the `LabelBinarizer` class at this point. Again, this was incorrect: just like the `LabelEncoder` class, the `LabelBinarizer` class was designed to preprocess labels, not input features. A better solution is to use Scikit-Learn's upcoming `CategoricalEncoder` class: it will soon be added to Scikit-Learn, and in the meantime you can use the code below (copied from [Pull Request #9151](https://github.com/scikit-learn/scikit-learn/pull/9151))."
   ]
  },
  {
   "cell_type": "code",
   "execution_count": null,
   "metadata": {
    "collapsed": true
   },
   "outputs": [],
   "source": [
    "# Definition of the CategoricalEncoder class, copied from PR #9151.\n",
    "# Just run this cell, or copy it to your code, do not try to understand it (yet).\n",
    "\n",
    "from sklearn.base import BaseEstimator, TransformerMixin\n",
    "from sklearn.utils import check_array\n",
    "from sklearn.preprocessing import LabelEncoder\n",
    "from scipy import sparse\n",
    "\n",
    "class CategoricalEncoder(BaseEstimator, TransformerMixin):\n",
    "    \"\"\"Encode categorical features as a numeric array.\n",
    "    The input to this transformer should be a matrix of integers or strings,\n",
    "    denoting the values taken on by categorical (discrete) features.\n",
    "    The features can be encoded using a one-hot aka one-of-K scheme\n",
    "    (``encoding='onehot'``, the default) or converted to ordinal integers\n",
    "    (``encoding='ordinal'``).\n",
    "    This encoding is needed for feeding categorical data to many scikit-learn\n",
    "    estimators, notably linear models and SVMs with the standard kernels.\n",
    "    Read more in the :ref:`User Guide <preprocessing_categorical_features>`.\n",
    "    Parameters\n",
    "    ----------\n",
    "    encoding : str, 'onehot', 'onehot-dense' or 'ordinal'\n",
    "        The type of encoding to use (default is 'onehot'):\n",
    "        - 'onehot': encode the features using a one-hot aka one-of-K scheme\n",
    "          (or also called 'dummy' encoding). This creates a binary column for\n",
    "          each category and returns a sparse matrix.\n",
    "        - 'onehot-dense': the same as 'onehot' but returns a dense array\n",
    "          instead of a sparse matrix.\n",
    "        - 'ordinal': encode the features as ordinal integers. This results in\n",
    "          a single column of integers (0 to n_categories - 1) per feature.\n",
    "    categories : 'auto' or a list of lists/arrays of values.\n",
    "        Categories (unique values) per feature:\n",
    "        - 'auto' : Determine categories automatically from the training data.\n",
    "        - list : ``categories[i]`` holds the categories expected in the ith\n",
    "          column. The passed categories are sorted before encoding the data\n",
    "          (used categories can be found in the ``categories_`` attribute).\n",
    "    dtype : number type, default np.float64\n",
    "        Desired dtype of output.\n",
    "    handle_unknown : 'error' (default) or 'ignore'\n",
    "        Whether to raise an error or ignore if a unknown categorical feature is\n",
    "        present during transform (default is to raise). When this is parameter\n",
    "        is set to 'ignore' and an unknown category is encountered during\n",
    "        transform, the resulting one-hot encoded columns for this feature\n",
    "        will be all zeros.\n",
    "        Ignoring unknown categories is not supported for\n",
    "        ``encoding='ordinal'``.\n",
    "    Attributes\n",
    "    ----------\n",
    "    categories_ : list of arrays\n",
    "        The categories of each feature determined during fitting. When\n",
    "        categories were specified manually, this holds the sorted categories\n",
    "        (in order corresponding with output of `transform`).\n",
    "    Examples\n",
    "    --------\n",
    "    Given a dataset with three features and two samples, we let the encoder\n",
    "    find the maximum value per feature and transform the data to a binary\n",
    "    one-hot encoding.\n",
    "    >>> from sklearn.preprocessing import CategoricalEncoder\n",
    "    >>> enc = CategoricalEncoder(handle_unknown='ignore')\n",
    "    >>> enc.fit([[0, 0, 3], [1, 1, 0], [0, 2, 1], [1, 0, 2]])\n",
    "    ... # doctest: +ELLIPSIS\n",
    "    CategoricalEncoder(categories='auto', dtype=<... 'numpy.float64'>,\n",
    "              encoding='onehot', handle_unknown='ignore')\n",
    "    >>> enc.transform([[0, 1, 1], [1, 0, 4]]).toarray()\n",
    "    array([[ 1.,  0.,  0.,  1.,  0.,  0.,  1.,  0.,  0.],\n",
    "           [ 0.,  1.,  1.,  0.,  0.,  0.,  0.,  0.,  0.]])\n",
    "    See also\n",
    "    --------\n",
    "    sklearn.preprocessing.OneHotEncoder : performs a one-hot encoding of\n",
    "      integer ordinal features. The ``OneHotEncoder assumes`` that input\n",
    "      features take on values in the range ``[0, max(feature)]`` instead of\n",
    "      using the unique values.\n",
    "    sklearn.feature_extraction.DictVectorizer : performs a one-hot encoding of\n",
    "      dictionary items (also handles string-valued features).\n",
    "    sklearn.feature_extraction.FeatureHasher : performs an approximate one-hot\n",
    "      encoding of dictionary items or strings.\n",
    "    \"\"\"\n",
    "\n",
    "    def __init__(self, encoding='onehot', categories='auto', dtype=np.float64,\n",
    "                 handle_unknown='error'):\n",
    "        self.encoding = encoding\n",
    "        self.categories = categories\n",
    "        self.dtype = dtype\n",
    "        self.handle_unknown = handle_unknown\n",
    "\n",
    "    def fit(self, X, y=None):\n",
    "        \"\"\"Fit the CategoricalEncoder to X.\n",
    "        Parameters\n",
    "        ----------\n",
    "        X : array-like, shape [n_samples, n_feature]\n",
    "            The data to determine the categories of each feature.\n",
    "        Returns\n",
    "        -------\n",
    "        self\n",
    "        \"\"\"\n",
    "\n",
    "        if self.encoding not in ['onehot', 'onehot-dense', 'ordinal']:\n",
    "            template = (\"encoding should be either 'onehot', 'onehot-dense' \"\n",
    "                        \"or 'ordinal', got %s\")\n",
    "            raise ValueError(template % self.handle_unknown)\n",
    "\n",
    "        if self.handle_unknown not in ['error', 'ignore']:\n",
    "            template = (\"handle_unknown should be either 'error' or \"\n",
    "                        \"'ignore', got %s\")\n",
    "            raise ValueError(template % self.handle_unknown)\n",
    "\n",
    "        if self.encoding == 'ordinal' and self.handle_unknown == 'ignore':\n",
    "            raise ValueError(\"handle_unknown='ignore' is not supported for\"\n",
    "                             \" encoding='ordinal'\")\n",
    "\n",
    "        X = check_array(X, dtype=np.object, accept_sparse='csc', copy=True)\n",
    "        n_samples, n_features = X.shape\n",
    "\n",
    "        self._label_encoders_ = [LabelEncoder() for _ in range(n_features)]\n",
    "\n",
    "        for i in range(n_features):\n",
    "            le = self._label_encoders_[i]\n",
    "            Xi = X[:, i]\n",
    "            if self.categories == 'auto':\n",
    "                le.fit(Xi)\n",
    "            else:\n",
    "                valid_mask = np.in1d(Xi, self.categories[i])\n",
    "                if not np.all(valid_mask):\n",
    "                    if self.handle_unknown == 'error':\n",
    "                        diff = np.unique(Xi[~valid_mask])\n",
    "                        msg = (\"Found unknown categories {0} in column {1}\"\n",
    "                               \" during fit\".format(diff, i))\n",
    "                        raise ValueError(msg)\n",
    "                le.classes_ = np.array(np.sort(self.categories[i]))\n",
    "\n",
    "        self.categories_ = [le.classes_ for le in self._label_encoders_]\n",
    "\n",
    "        return self\n",
    "\n",
    "    def transform(self, X):\n",
    "        \"\"\"Transform X using one-hot encoding.\n",
    "        Parameters\n",
    "        ----------\n",
    "        X : array-like, shape [n_samples, n_features]\n",
    "            The data to encode.\n",
    "        Returns\n",
    "        -------\n",
    "        X_out : sparse matrix or a 2-d array\n",
    "            Transformed input.\n",
    "        \"\"\"\n",
    "        X = check_array(X, accept_sparse='csc', dtype=np.object, copy=True)\n",
    "        n_samples, n_features = X.shape\n",
    "        X_int = np.zeros_like(X, dtype=np.int)\n",
    "        X_mask = np.ones_like(X, dtype=np.bool)\n",
    "\n",
    "        for i in range(n_features):\n",
    "            valid_mask = np.in1d(X[:, i], self.categories_[i])\n",
    "\n",
    "            if not np.all(valid_mask):\n",
    "                if self.handle_unknown == 'error':\n",
    "                    diff = np.unique(X[~valid_mask, i])\n",
    "                    msg = (\"Found unknown categories {0} in column {1}\"\n",
    "                           \" during transform\".format(diff, i))\n",
    "                    raise ValueError(msg)\n",
    "                else:\n",
    "                    # Set the problematic rows to an acceptable value and\n",
    "                    # continue `The rows are marked `X_mask` and will be\n",
    "                    # removed later.\n",
    "                    X_mask[:, i] = valid_mask\n",
    "                    X[:, i][~valid_mask] = self.categories_[i][0]\n",
    "            X_int[:, i] = self._label_encoders_[i].transform(X[:, i])\n",
    "\n",
    "        if self.encoding == 'ordinal':\n",
    "            return X_int.astype(self.dtype, copy=False)\n",
    "\n",
    "        mask = X_mask.ravel()\n",
    "        n_values = [cats.shape[0] for cats in self.categories_]\n",
    "        n_values = np.array([0] + n_values)\n",
    "        indices = np.cumsum(n_values)\n",
    "\n",
    "        column_indices = (X_int + indices[:-1]).ravel()[mask]\n",
    "        row_indices = np.repeat(np.arange(n_samples, dtype=np.int32),\n",
    "                                n_features)[mask]\n",
    "        data = np.ones(n_samples * n_features)[mask]\n",
    "\n",
    "        out = sparse.csc_matrix((data, (row_indices, column_indices)),\n",
    "                                shape=(n_samples, indices[-1]),\n",
    "                                dtype=self.dtype).tocsr()\n",
    "        if self.encoding == 'onehot-dense':\n",
    "            return out.toarray()\n",
    "        else:\n",
    "            return out"
   ]
  },
  {
   "cell_type": "markdown",
   "metadata": {},
   "source": [
    "The `CategoricalEncoder` expects a 2D array containing one or more categorical input features. We need to reshape `housing_cat` to a 2D array:"
   ]
  },
  {
   "cell_type": "code",
   "execution_count": null,
   "metadata": {
    "collapsed": true
   },
   "outputs": [],
   "source": [
    "#from sklearn.preprocessing import CategoricalEncoder # in future versions of Scikit-Learn\n",
    "\n",
    "cat_encoder = CategoricalEncoder()\n",
    "housing_cat_reshaped = housing_cat.values.reshape(-1, 1)\n",
    "housing_cat_1hot = cat_encoder.fit_transform(housing_cat_reshaped)\n",
    "housing_cat_1hot"
   ]
  },
  {
   "cell_type": "markdown",
   "metadata": {},
   "source": [
    "The default encoding is one-hot, and it returns a sparse array. You can use `toarray()` to get a dense array:"
   ]
  },
  {
   "cell_type": "code",
   "execution_count": null,
   "metadata": {
    "collapsed": true
   },
   "outputs": [],
   "source": [
    "housing_cat_1hot.toarray()"
   ]
  },
  {
   "cell_type": "markdown",
   "metadata": {},
   "source": [
    "Alternatively, you can specify the encoding to be `\"onehot-dense\"` to get a dense matrix rather than a sparse matrix:"
   ]
  },
  {
   "cell_type": "code",
   "execution_count": null,
   "metadata": {
    "collapsed": true
   },
   "outputs": [],
   "source": [
    "cat_encoder = CategoricalEncoder(encoding=\"onehot-dense\")\n",
    "housing_cat_1hot = cat_encoder.fit_transform(housing_cat_reshaped)\n",
    "housing_cat_1hot"
   ]
  },
  {
   "cell_type": "code",
   "execution_count": null,
   "metadata": {
    "collapsed": true
   },
   "outputs": [],
   "source": [
    "cat_encoder.categories_"
   ]
  },
  {
   "cell_type": "markdown",
   "metadata": {},
   "source": [
    "Let's create a custom transformer to add extra attributes:"
   ]
  },
  {
   "cell_type": "code",
   "execution_count": null,
   "metadata": {
    "collapsed": true
   },
   "outputs": [],
   "source": [
    "from sklearn.base import BaseEstimator, TransformerMixin\n",
    "\n",
    "# column index\n",
    "rooms_ix, bedrooms_ix, population_ix, household_ix = 3, 4, 5, 6\n",
    "\n",
    "class CombinedAttributesAdder(BaseEstimator, TransformerMixin):\n",
    "    def __init__(self, add_bedrooms_per_room = True): # no *args or **kargs\n",
    "        self.add_bedrooms_per_room = add_bedrooms_per_room\n",
    "    def fit(self, X, y=None):\n",
    "        return self  # nothing else to do\n",
    "    def transform(self, X, y=None):\n",
    "        rooms_per_household = X[:, rooms_ix] / X[:, household_ix]\n",
    "        population_per_household = X[:, population_ix] / X[:, household_ix]\n",
    "        if self.add_bedrooms_per_room:\n",
    "            bedrooms_per_room = X[:, bedrooms_ix] / X[:, rooms_ix]\n",
    "            return np.c_[X, rooms_per_household, population_per_household,\n",
    "                         bedrooms_per_room]\n",
    "        else:\n",
    "            return np.c_[X, rooms_per_household, population_per_household]\n",
    "\n",
    "attr_adder = CombinedAttributesAdder(add_bedrooms_per_room=False)\n",
    "housing_extra_attribs = attr_adder.transform(housing.values)"
   ]
  },
  {
   "cell_type": "code",
   "execution_count": null,
   "metadata": {
    "collapsed": true
   },
   "outputs": [],
   "source": [
    "housing_extra_attribs = pd.DataFrame(housing_extra_attribs, columns=list(housing.columns)+[\"rooms_per_household\", \"population_per_household\"])\n",
    "housing_extra_attribs.head()"
   ]
  },
  {
   "cell_type": "markdown",
   "metadata": {},
   "source": [
    "Now let's build a pipeline for preprocessing the numerical attributes:"
   ]
  },
  {
   "cell_type": "code",
   "execution_count": null,
   "metadata": {
    "collapsed": true
   },
   "outputs": [],
   "source": [
    "from sklearn.pipeline import Pipeline\n",
    "from sklearn.preprocessing import StandardScaler\n",
    "\n",
    "num_pipeline = Pipeline([\n",
    "        ('imputer', Imputer(strategy=\"median\")),\n",
    "        ('attribs_adder', CombinedAttributesAdder()),\n",
    "        ('std_scaler', StandardScaler()),\n",
    "    ])\n",
    "\n",
    "housing_num_tr = num_pipeline.fit_transform(housing_num)"
   ]
  },
  {
   "cell_type": "code",
   "execution_count": null,
   "metadata": {
    "collapsed": true
   },
   "outputs": [],
   "source": [
    "housing_num_tr"
   ]
  },
  {
   "cell_type": "markdown",
   "metadata": {},
   "source": [
    "And a transformer to just select a subset of the Pandas DataFrame columns:"
   ]
  },
  {
   "cell_type": "code",
   "execution_count": null,
   "metadata": {
    "collapsed": true
   },
   "outputs": [],
   "source": [
    "from sklearn.base import BaseEstimator, TransformerMixin\n",
    "\n",
    "# Create a class to select numerical or categorical columns \n",
    "# since Scikit-Learn doesn't handle DataFrames yet\n",
    "class DataFrameSelector(BaseEstimator, TransformerMixin):\n",
    "    def __init__(self, attribute_names):\n",
    "        self.attribute_names = attribute_names\n",
    "    def fit(self, X, y=None):\n",
    "        return self\n",
    "    def transform(self, X):\n",
    "        return X[self.attribute_names].values"
   ]
  },
  {
   "cell_type": "markdown",
   "metadata": {},
   "source": [
    "Now let's join all these components into a big pipeline that will preprocess both the numerical and the categorical features:"
   ]
  },
  {
   "cell_type": "code",
   "execution_count": null,
   "metadata": {
    "collapsed": true
   },
   "outputs": [],
   "source": [
    "num_attribs = list(housing_num)\n",
    "cat_attribs = [\"ocean_proximity\"]\n",
    "\n",
    "num_pipeline = Pipeline([\n",
    "        ('selector', DataFrameSelector(num_attribs)),\n",
    "        ('imputer', Imputer(strategy=\"median\")),\n",
    "        ('attribs_adder', CombinedAttributesAdder()),\n",
    "        ('std_scaler', StandardScaler()),\n",
    "    ])\n",
    "\n",
    "cat_pipeline = Pipeline([\n",
    "        ('selector', DataFrameSelector(cat_attribs)),\n",
    "        ('cat_encoder', CategoricalEncoder(encoding=\"onehot-dense\")),\n",
    "    ])"
   ]
  },
  {
   "cell_type": "code",
   "execution_count": null,
   "metadata": {
    "collapsed": true
   },
   "outputs": [],
   "source": [
    "from sklearn.pipeline import FeatureUnion\n",
    "\n",
    "full_pipeline = FeatureUnion(transformer_list=[\n",
    "        (\"num_pipeline\", num_pipeline),\n",
    "        (\"cat_pipeline\", cat_pipeline),\n",
    "    ])"
   ]
  },
  {
   "cell_type": "code",
   "execution_count": null,
   "metadata": {
    "collapsed": true
   },
   "outputs": [],
   "source": [
    "housing_prepared = full_pipeline.fit_transform(housing)\n",
    "housing_prepared"
   ]
  },
  {
   "cell_type": "code",
   "execution_count": null,
   "metadata": {
    "collapsed": true
   },
   "outputs": [],
   "source": [
    "housing_prepared.shape"
   ]
  },
  {
   "cell_type": "markdown",
   "metadata": {},
   "source": [
    "# Select and train a model "
   ]
  },
  {
   "cell_type": "code",
   "execution_count": null,
   "metadata": {
    "collapsed": true
   },
   "outputs": [],
   "source": [
    "from sklearn.linear_model import LinearRegression\n",
    "\n",
    "lin_reg = LinearRegression()\n",
    "lin_reg.fit(housing_prepared, housing_labels)"
   ]
  },
  {
   "cell_type": "code",
   "execution_count": null,
   "metadata": {
    "collapsed": true
   },
   "outputs": [],
   "source": [
    "# let's try the full pipeline on a few training instances\n",
    "some_data = housing.iloc[:5]\n",
    "some_labels = housing_labels.iloc[:5]\n",
    "some_data_prepared = full_pipeline.transform(some_data)\n",
    "\n",
    "print(\"Predictions:\", lin_reg.predict(some_data_prepared))"
   ]
  },
  {
   "cell_type": "markdown",
   "metadata": {},
   "source": [
    "Compare against the actual values:"
   ]
  },
  {
   "cell_type": "code",
   "execution_count": null,
   "metadata": {
    "collapsed": true
   },
   "outputs": [],
   "source": [
    "print(\"Labels:\", list(some_labels))"
   ]
  },
  {
   "cell_type": "code",
   "execution_count": null,
   "metadata": {
    "collapsed": true
   },
   "outputs": [],
   "source": [
    "some_data_prepared"
   ]
  },
  {
   "cell_type": "code",
   "execution_count": null,
   "metadata": {
    "collapsed": true
   },
   "outputs": [],
   "source": [
    "from sklearn.metrics import mean_squared_error\n",
    "\n",
    "housing_predictions = lin_reg.predict(housing_prepared)\n",
    "lin_mse = mean_squared_error(housing_labels, housing_predictions)\n",
    "lin_rmse = np.sqrt(lin_mse)\n",
    "lin_rmse"
   ]
  },
  {
   "cell_type": "code",
   "execution_count": null,
   "metadata": {
    "collapsed": true
   },
   "outputs": [],
   "source": [
    "from sklearn.metrics import mean_absolute_error\n",
    "\n",
    "lin_mae = mean_absolute_error(housing_labels, housing_predictions)\n",
    "lin_mae"
   ]
  },
  {
   "cell_type": "code",
   "execution_count": null,
   "metadata": {
    "collapsed": true
   },
   "outputs": [],
   "source": [
    "from sklearn.tree import DecisionTreeRegressor\n",
    "\n",
    "tree_reg = DecisionTreeRegressor(random_state=42)\n",
    "tree_reg.fit(housing_prepared, housing_labels)"
   ]
  },
  {
   "cell_type": "code",
   "execution_count": null,
   "metadata": {
    "collapsed": true
   },
   "outputs": [],
   "source": [
    "housing_predictions = tree_reg.predict(housing_prepared)\n",
    "tree_mse = mean_squared_error(housing_labels, housing_predictions)\n",
    "tree_rmse = np.sqrt(tree_mse)\n",
    "tree_rmse"
   ]
  },
  {
   "cell_type": "markdown",
   "metadata": {},
   "source": [
    "# Fine-tune your model"
   ]
  },
  {
   "cell_type": "code",
   "execution_count": null,
   "metadata": {
    "collapsed": true
   },
   "outputs": [],
   "source": [
    "from sklearn.model_selection import cross_val_score\n",
    "\n",
    "scores = cross_val_score(tree_reg, housing_prepared, housing_labels,\n",
    "                         scoring=\"neg_mean_squared_error\", cv=10)\n",
    "tree_rmse_scores = np.sqrt(-scores)"
   ]
  },
  {
   "cell_type": "code",
   "execution_count": null,
   "metadata": {
    "collapsed": true
   },
   "outputs": [],
   "source": [
    "def display_scores(scores):\n",
    "    print(\"Scores:\", scores)\n",
    "    print(\"Mean:\", scores.mean())\n",
    "    print(\"Standard deviation:\", scores.std())\n",
    "\n",
    "display_scores(tree_rmse_scores)"
   ]
  },
  {
   "cell_type": "code",
   "execution_count": null,
   "metadata": {
    "collapsed": true
   },
   "outputs": [],
   "source": [
    "lin_scores = cross_val_score(lin_reg, housing_prepared, housing_labels,\n",
    "                             scoring=\"neg_mean_squared_error\", cv=10)\n",
    "lin_rmse_scores = np.sqrt(-lin_scores)\n",
    "display_scores(lin_rmse_scores)"
   ]
  },
  {
   "cell_type": "code",
   "execution_count": null,
   "metadata": {
    "collapsed": true
   },
   "outputs": [],
   "source": [
    "from sklearn.ensemble import RandomForestRegressor\n",
    "\n",
    "forest_reg = RandomForestRegressor(random_state=42)\n",
    "forest_reg.fit(housing_prepared, housing_labels)"
   ]
  },
  {
   "cell_type": "code",
   "execution_count": null,
   "metadata": {
    "collapsed": true
   },
   "outputs": [],
   "source": [
    "housing_predictions = forest_reg.predict(housing_prepared)\n",
    "forest_mse = mean_squared_error(housing_labels, housing_predictions)\n",
    "forest_rmse = np.sqrt(forest_mse)\n",
    "forest_rmse"
   ]
  },
  {
   "cell_type": "code",
   "execution_count": null,
   "metadata": {
    "collapsed": true
   },
   "outputs": [],
   "source": [
    "from sklearn.model_selection import cross_val_score\n",
    "\n",
    "forest_scores = cross_val_score(forest_reg, housing_prepared, housing_labels,\n",
    "                                scoring=\"neg_mean_squared_error\", cv=10)\n",
    "forest_rmse_scores = np.sqrt(-forest_scores)\n",
    "display_scores(forest_rmse_scores)"
   ]
  },
  {
   "cell_type": "code",
   "execution_count": null,
   "metadata": {
    "collapsed": true
   },
   "outputs": [],
   "source": [
    "scores = cross_val_score(lin_reg, housing_prepared, housing_labels, scoring=\"neg_mean_squared_error\", cv=10)\n",
    "pd.Series(np.sqrt(-scores)).describe()"
   ]
  },
  {
   "cell_type": "code",
   "execution_count": null,
   "metadata": {
    "collapsed": true
   },
   "outputs": [],
   "source": [
    "from sklearn.svm import SVR\n",
    "\n",
    "svm_reg = SVR(kernel=\"linear\")\n",
    "svm_reg.fit(housing_prepared, housing_labels)\n",
    "housing_predictions = svm_reg.predict(housing_prepared)\n",
    "svm_mse = mean_squared_error(housing_labels, housing_predictions)\n",
    "svm_rmse = np.sqrt(svm_mse)\n",
    "svm_rmse"
   ]
  },
  {
   "cell_type": "code",
   "execution_count": null,
   "metadata": {
    "collapsed": true
   },
   "outputs": [],
   "source": [
    "from sklearn.model_selection import GridSearchCV\n",
    "\n",
    "param_grid = [\n",
    "    # try 12 (3×4) combinations of hyperparameters\n",
    "    {'n_estimators': [3, 10, 30], 'max_features': [2, 4, 6, 8]},\n",
    "    # then try 6 (2×3) combinations with bootstrap set as False\n",
    "    {'bootstrap': [False], 'n_estimators': [3, 10], 'max_features': [2, 3, 4]},\n",
    "  ]\n",
    "\n",
    "forest_reg = RandomForestRegressor(random_state=42)\n",
    "# train across 5 folds, that's a total of (12+6)*5=90 rounds of training \n",
    "grid_search = GridSearchCV(forest_reg, param_grid, cv=5,\n",
    "                           scoring='neg_mean_squared_error')\n",
    "grid_search.fit(housing_prepared, housing_labels)"
   ]
  },
  {
   "cell_type": "markdown",
   "metadata": {},
   "source": [
    "The best hyperparameter combination found:"
   ]
  },
  {
   "cell_type": "code",
   "execution_count": null,
   "metadata": {
    "collapsed": true
   },
   "outputs": [],
   "source": [
    "grid_search.best_params_"
   ]
  },
  {
   "cell_type": "code",
   "execution_count": null,
   "metadata": {
    "collapsed": true
   },
   "outputs": [],
   "source": [
    "grid_search.best_estimator_"
   ]
  },
  {
   "cell_type": "markdown",
   "metadata": {},
   "source": [
    "Let's look at the score of each hyperparameter combination tested during the grid search:"
   ]
  },
  {
   "cell_type": "code",
   "execution_count": null,
   "metadata": {
    "collapsed": true
   },
   "outputs": [],
   "source": [
    "cvres = grid_search.cv_results_\n",
    "for mean_score, params in zip(cvres[\"mean_test_score\"], cvres[\"params\"]):\n",
    "    print(np.sqrt(-mean_score), params)"
   ]
  },
  {
   "cell_type": "code",
   "execution_count": null,
   "metadata": {
    "collapsed": true
   },
   "outputs": [],
   "source": [
    "pd.DataFrame(grid_search.cv_results_)"
   ]
  },
  {
   "cell_type": "code",
   "execution_count": null,
   "metadata": {
    "collapsed": true
   },
   "outputs": [],
   "source": [
    "from sklearn.model_selection import RandomizedSearchCV\n",
    "from scipy.stats import randint\n",
    "\n",
    "param_distribs = {\n",
    "        'n_estimators': randint(low=1, high=200),\n",
    "        'max_features': randint(low=1, high=8),\n",
    "    }\n",
    "\n",
    "forest_reg = RandomForestRegressor(random_state=42)\n",
    "rnd_search = RandomizedSearchCV(forest_reg, param_distributions=param_distribs,\n",
    "                                n_iter=10, cv=5, scoring='neg_mean_squared_error', random_state=42)\n",
    "rnd_search.fit(housing_prepared, housing_labels)"
   ]
  },
  {
   "cell_type": "code",
   "execution_count": null,
   "metadata": {
    "collapsed": true
   },
   "outputs": [],
   "source": [
    "cvres = rnd_search.cv_results_\n",
    "for mean_score, params in zip(cvres[\"mean_test_score\"], cvres[\"params\"]):\n",
    "    print(np.sqrt(-mean_score), params)"
   ]
  },
  {
   "cell_type": "code",
   "execution_count": null,
   "metadata": {
    "collapsed": true
   },
   "outputs": [],
   "source": [
    "feature_importances = grid_search.best_estimator_.feature_importances_\n",
    "feature_importances"
   ]
  },
  {
   "cell_type": "code",
   "execution_count": null,
   "metadata": {
    "collapsed": true
   },
   "outputs": [],
   "source": [
    "extra_attribs = [\"rooms_per_hhold\", \"pop_per_hhold\", \"bedrooms_per_room\"]\n",
    "cat_encoder = cat_pipeline.named_steps[\"cat_encoder\"]\n",
    "cat_one_hot_attribs = list(cat_encoder.categories_[0])\n",
    "attributes = num_attribs + extra_attribs + cat_one_hot_attribs\n",
    "sorted(zip(feature_importances, attributes), reverse=True)"
   ]
  },
  {
   "cell_type": "code",
   "execution_count": null,
   "metadata": {
    "collapsed": true
   },
   "outputs": [],
   "source": [
    "final_model = grid_search.best_estimator_\n",
    "\n",
    "X_test = strat_test_set.drop(\"median_house_value\", axis=1)\n",
    "y_test = strat_test_set[\"median_house_value\"].copy()\n",
    "\n",
    "X_test_prepared = full_pipeline.transform(X_test)\n",
    "final_predictions = final_model.predict(X_test_prepared)\n",
    "\n",
    "final_mse = mean_squared_error(y_test, final_predictions)\n",
    "final_rmse = np.sqrt(final_mse)"
   ]
  },
  {
   "cell_type": "code",
   "execution_count": null,
   "metadata": {
    "collapsed": true
   },
   "outputs": [],
   "source": [
    "final_rmse"
   ]
  },
  {
   "cell_type": "markdown",
   "metadata": {},
   "source": [
    "# Extra material"
   ]
  },
  {
   "cell_type": "markdown",
   "metadata": {},
   "source": [
    "## A full pipeline with both preparation and prediction"
   ]
  },
  {
   "cell_type": "code",
   "execution_count": null,
   "metadata": {
    "collapsed": true
   },
   "outputs": [],
   "source": [
    "full_pipeline_with_predictor = Pipeline([\n",
    "        (\"preparation\", full_pipeline),\n",
    "        (\"linear\", LinearRegression())\n",
    "    ])\n",
    "\n",
    "full_pipeline_with_predictor.fit(housing, housing_labels)\n",
    "full_pipeline_with_predictor.predict(some_data)"
   ]
  },
  {
   "cell_type": "markdown",
   "metadata": {},
   "source": [
    "## Model persistence using joblib"
   ]
  },
  {
   "cell_type": "code",
   "execution_count": null,
   "metadata": {
    "collapsed": true
   },
   "outputs": [],
   "source": [
    "my_model = full_pipeline_with_predictor"
   ]
  },
  {
   "cell_type": "code",
   "execution_count": null,
   "metadata": {
    "collapsed": true
   },
   "outputs": [],
   "source": [
    "from sklearn.externals import joblib\n",
    "joblib.dump(my_model, \"my_model.pkl\") # DIFF\n",
    "#...\n",
    "my_model_loaded = joblib.load(\"my_model.pkl\") # DIFF"
   ]
  },
  {
   "cell_type": "markdown",
   "metadata": {},
   "source": [
    "## Example SciPy distributions for `RandomizedSearchCV`"
   ]
  },
  {
   "cell_type": "code",
   "execution_count": null,
   "metadata": {
    "collapsed": true
   },
   "outputs": [],
   "source": [
    "from scipy.stats import geom, expon\n",
    "geom_distrib=geom(0.5).rvs(10000, random_state=42)\n",
    "expon_distrib=expon(scale=1).rvs(10000, random_state=42)\n",
    "plt.hist(geom_distrib, bins=50)\n",
    "plt.show()\n",
    "plt.hist(expon_distrib, bins=50)\n",
    "plt.show()"
   ]
  },
  {
   "cell_type": "markdown",
   "metadata": {},
   "source": [
    "# Exercise solutions"
   ]
  },
  {
   "cell_type": "markdown",
   "metadata": {},
   "source": [
    "## 1."
   ]
  },
  {
   "cell_type": "markdown",
   "metadata": {
    "collapsed": true
   },
   "source": [
    "Question: Try a Support Vector Machine regressor (`sklearn.svm.SVR`), with various hyperparameters such as `kernel=\"linear\"` (with various values for the `C` hyperparameter) or `kernel=\"rbf\"` (with various values for the `C` and `gamma` hyperparameters). Don't worry about what these hyperparameters mean for now. How does the best `SVR` predictor perform?"
   ]
  },
  {
   "cell_type": "code",
   "execution_count": null,
   "metadata": {
    "collapsed": true
   },
   "outputs": [],
   "source": [
    "from sklearn.model_selection import GridSearchCV\n",
    "\n",
    "param_grid = [\n",
    "        {'kernel': ['linear'], 'C': [10., 30., 100., 300., 1000., 3000., 10000., 30000.0]},\n",
    "        {'kernel': ['rbf'], 'C': [1.0, 3.0, 10., 30., 100., 300., 1000.0],\n",
    "         'gamma': [0.01, 0.03, 0.1, 0.3, 1.0, 3.0]},\n",
    "    ]\n",
    "\n",
    "svm_reg = SVR()\n",
    "grid_search = GridSearchCV(svm_reg, param_grid, cv=5, scoring='neg_mean_squared_error', verbose=2, n_jobs=4)\n",
    "grid_search.fit(housing_prepared, housing_labels)"
   ]
  },
  {
   "cell_type": "markdown",
   "metadata": {},
   "source": [
    "The best model achieves the following score (evaluated using 5-fold cross validation):"
   ]
  },
  {
   "cell_type": "code",
   "execution_count": null,
   "metadata": {
    "collapsed": true
   },
   "outputs": [],
   "source": [
    "negative_mse = grid_search.best_score_\n",
    "rmse = np.sqrt(-negative_mse)\n",
    "rmse"
   ]
  },
  {
   "cell_type": "markdown",
   "metadata": {},
   "source": [
    "That's much worse than the `RandomForestRegressor`. Let's check the best hyperparameters found:"
   ]
  },
  {
   "cell_type": "code",
   "execution_count": null,
   "metadata": {
    "collapsed": true
   },
   "outputs": [],
   "source": [
    "grid_search.best_params_"
   ]
  },
  {
   "cell_type": "markdown",
   "metadata": {},
   "source": [
    "The linear kernel seems better than the RBF kernel. Notice that the value of `C` is the maximum tested value. When this happens you definitely want to launch the grid search again with higher values for `C` (removing the smallest values), because it is likely that higher values of `C` will be better."
   ]
  },
  {
   "cell_type": "markdown",
   "metadata": {},
   "source": [
    "## 2."
   ]
  },
  {
   "cell_type": "markdown",
   "metadata": {},
   "source": [
    "Question: Try replacing `GridSearchCV` with `RandomizedSearchCV`."
   ]
  },
  {
   "cell_type": "code",
   "execution_count": null,
   "metadata": {
    "collapsed": true
   },
   "outputs": [],
   "source": [
    "from sklearn.model_selection import RandomizedSearchCV\n",
    "from scipy.stats import expon, reciprocal\n",
    "\n",
    "# see https://docs.scipy.org/doc/scipy-0.19.0/reference/stats.html\n",
    "# for `expon()` and `reciprocal()` documentation and more probability distribution functions.\n",
    "\n",
    "# Note: gamma is ignored when kernel is \"linear\"\n",
    "param_distribs = {\n",
    "        'kernel': ['linear', 'rbf'],\n",
    "        'C': reciprocal(20, 200000),\n",
    "        'gamma': expon(scale=1.0),\n",
    "    }\n",
    "\n",
    "svm_reg = SVR()\n",
    "rnd_search = RandomizedSearchCV(svm_reg, param_distributions=param_distribs,\n",
    "                                n_iter=50, cv=5, scoring='neg_mean_squared_error',\n",
    "                                verbose=2, n_jobs=4, random_state=42)\n",
    "rnd_search.fit(housing_prepared, housing_labels)"
   ]
  },
  {
   "cell_type": "markdown",
   "metadata": {},
   "source": [
    "The best model achieves the following score (evaluated using 5-fold cross validation):"
   ]
  },
  {
   "cell_type": "code",
   "execution_count": null,
   "metadata": {
    "collapsed": true
   },
   "outputs": [],
   "source": [
    "negative_mse = rnd_search.best_score_\n",
    "rmse = np.sqrt(-negative_mse)\n",
    "rmse"
   ]
  },
  {
   "cell_type": "markdown",
   "metadata": {},
   "source": [
    "Now this is much closer to the performance of the `RandomForestRegressor` (but not quite there yet). Let's check the best hyperparameters found:"
   ]
  },
  {
   "cell_type": "code",
   "execution_count": null,
   "metadata": {
    "collapsed": true
   },
   "outputs": [],
   "source": [
    "rnd_search.best_params_"
   ]
  },
  {
   "cell_type": "markdown",
   "metadata": {},
   "source": [
    "This time the search found a good set of hyperparameters for the RBF kernel. Randomized search tends to find better hyperparameters than grid search in the same amount of time."
   ]
  },
  {
   "cell_type": "markdown",
   "metadata": {},
   "source": [
    "Let's look at the exponential distribution we used, with `scale=1.0`. Note that some samples are much larger or smaller than 1.0, but when you look at the log of the distribution, you can see that most values are actually concentrated roughly in the range of exp(-2) to exp(+2), which is about 0.1 to 7.4."
   ]
  },
  {
   "cell_type": "code",
   "execution_count": null,
   "metadata": {
    "collapsed": true
   },
   "outputs": [],
   "source": [
    "expon_distrib = expon(scale=1.)\n",
    "samples = expon_distrib.rvs(10000, random_state=42)\n",
    "plt.figure(figsize=(10, 4))\n",
    "plt.subplot(121)\n",
    "plt.title(\"Exponential distribution (scale=1.0)\")\n",
    "plt.hist(samples, bins=50)\n",
    "plt.subplot(122)\n",
    "plt.title(\"Log of this distribution\")\n",
    "plt.hist(np.log(samples), bins=50)\n",
    "plt.show()"
   ]
  },
  {
   "cell_type": "markdown",
   "metadata": {},
   "source": [
    "The distribution we used for `C` looks quite different: the scale of the samples is picked from a uniform distribution within a given range, which is why the right graph, which represents the log of the samples, looks roughly constant. This distribution is useful when you don't have a clue of what the target scale is:"
   ]
  },
  {
   "cell_type": "code",
   "execution_count": null,
   "metadata": {
    "collapsed": true
   },
   "outputs": [],
   "source": [
    "reciprocal_distrib = reciprocal(20, 200000)\n",
    "samples = reciprocal_distrib.rvs(10000, random_state=42)\n",
    "plt.figure(figsize=(10, 4))\n",
    "plt.subplot(121)\n",
    "plt.title(\"Reciprocal distribution (scale=1.0)\")\n",
    "plt.hist(samples, bins=50)\n",
    "plt.subplot(122)\n",
    "plt.title(\"Log of this distribution\")\n",
    "plt.hist(np.log(samples), bins=50)\n",
    "plt.show()"
   ]
  },
  {
   "cell_type": "markdown",
   "metadata": {},
   "source": [
    "The reciprocal distribution is useful when you have no idea what the scale of the hyperparameter should be (indeed, as you can see on the figure on the right, all scales are equally likely, within the given range), whereas the exponential distribution is best when you know (more or less) what the scale of the hyperparameter should be."
   ]
  },
  {
   "cell_type": "markdown",
   "metadata": {},
   "source": [
    "## 3."
   ]
  },
  {
   "cell_type": "markdown",
   "metadata": {},
   "source": [
    "Question: Try adding a transformer in the preparation pipeline to select only the most important attributes."
   ]
  },
  {
   "cell_type": "code",
   "execution_count": null,
   "metadata": {
    "collapsed": true
   },
   "outputs": [],
   "source": [
    "from sklearn.base import BaseEstimator, TransformerMixin\n",
    "\n",
    "def indices_of_top_k(arr, k):\n",
    "    return np.sort(np.argpartition(np.array(arr), -k)[-k:])\n",
    "\n",
    "class TopFeatureSelector(BaseEstimator, TransformerMixin):\n",
    "    def __init__(self, feature_importances, k):\n",
    "        self.feature_importances = feature_importances\n",
    "        self.k = k\n",
    "    def fit(self, X, y=None):\n",
    "        self.feature_indices_ = indices_of_top_k(self.feature_importances, self.k)\n",
    "        return self\n",
    "    def transform(self, X):\n",
    "        return X[:, self.feature_indices_]"
   ]
  },
  {
   "cell_type": "markdown",
   "metadata": {},
   "source": [
    "Note: this feature selector assumes that you have already computed the feature importances somehow (for example using a `RandomForestRegressor`). You may be tempted to compute them directly in the `TopFeatureSelector`'s `fit()` method, however this would likely slow down grid/randomized search since the feature importances would have to be computed for every hyperparameter combination (unless you implement some sort of cache)."
   ]
  },
  {
   "cell_type": "markdown",
   "metadata": {},
   "source": [
    "Let's define the number of top features we want to keep:"
   ]
  },
  {
   "cell_type": "code",
   "execution_count": null,
   "metadata": {
    "collapsed": true
   },
   "outputs": [],
   "source": [
    "k = 5"
   ]
  },
  {
   "cell_type": "markdown",
   "metadata": {},
   "source": [
    "Now let's look for the indices of the top k features:"
   ]
  },
  {
   "cell_type": "code",
   "execution_count": null,
   "metadata": {
    "collapsed": true
   },
   "outputs": [],
   "source": [
    "top_k_feature_indices = indices_of_top_k(feature_importances, k)\n",
    "top_k_feature_indices"
   ]
  },
  {
   "cell_type": "code",
   "execution_count": null,
   "metadata": {
    "collapsed": true
   },
   "outputs": [],
   "source": [
    "np.array(attributes)[top_k_feature_indices]"
   ]
  },
  {
   "cell_type": "markdown",
   "metadata": {},
   "source": [
    "Let's double check that these are indeed the top k features:"
   ]
  },
  {
   "cell_type": "code",
   "execution_count": null,
   "metadata": {
    "collapsed": true
   },
   "outputs": [],
   "source": [
    "sorted(zip(feature_importances, attributes), reverse=True)[:k]"
   ]
  },
  {
   "cell_type": "markdown",
   "metadata": {},
   "source": [
    "Looking good... Now let's create a new pipeline that runs the previously defined preparation pipeline, and adds top k feature selection:"
   ]
  },
  {
   "cell_type": "code",
   "execution_count": null,
   "metadata": {
    "collapsed": true
   },
   "outputs": [],
   "source": [
    "preparation_and_feature_selection_pipeline = Pipeline([\n",
    "    ('preparation', full_pipeline),\n",
    "    ('feature_selection', TopFeatureSelector(feature_importances, k))\n",
    "])"
   ]
  },
  {
   "cell_type": "code",
   "execution_count": null,
   "metadata": {
    "collapsed": true
   },
   "outputs": [],
   "source": [
    "housing_prepared_top_k_features = preparation_and_feature_selection_pipeline.fit_transform(housing)"
   ]
  },
  {
   "cell_type": "markdown",
   "metadata": {},
   "source": [
    "Let's look at the features of the first 3 instances:"
   ]
  },
  {
   "cell_type": "code",
   "execution_count": null,
   "metadata": {
    "collapsed": true
   },
   "outputs": [],
   "source": [
    "housing_prepared_top_k_features[0:3]"
   ]
  },
  {
   "cell_type": "markdown",
   "metadata": {},
   "source": [
    "Now let's double check that these are indeed the top k features:"
   ]
  },
  {
   "cell_type": "code",
   "execution_count": null,
   "metadata": {
    "collapsed": true
   },
   "outputs": [],
   "source": [
    "housing_prepared[0:3, top_k_feature_indices]"
   ]
  },
  {
   "cell_type": "markdown",
   "metadata": {},
   "source": [
    "Works great!  :)"
   ]
  },
  {
   "cell_type": "markdown",
   "metadata": {},
   "source": [
    "## 4."
   ]
  },
  {
   "cell_type": "markdown",
   "metadata": {},
   "source": [
    "Question: Try creating a single pipeline that does the full data preparation plus the final prediction."
   ]
  },
  {
   "cell_type": "code",
   "execution_count": null,
   "metadata": {
    "collapsed": true
   },
   "outputs": [],
   "source": [
    "prepare_select_and_predict_pipeline = Pipeline([\n",
    "    ('preparation', full_pipeline),\n",
    "    ('feature_selection', TopFeatureSelector(feature_importances, k)),\n",
    "    ('svm_reg', SVR(**rnd_search.best_params_))\n",
    "])"
   ]
  },
  {
   "cell_type": "code",
   "execution_count": null,
   "metadata": {
    "collapsed": true
   },
   "outputs": [],
   "source": [
    "prepare_select_and_predict_pipeline.fit(housing, housing_labels)"
   ]
  },
  {
   "cell_type": "markdown",
   "metadata": {},
   "source": [
    "Let's try the full pipeline on a few instances:"
   ]
  },
  {
   "cell_type": "code",
   "execution_count": null,
   "metadata": {
    "collapsed": true
   },
   "outputs": [],
   "source": [
    "some_data = housing.iloc[:4]\n",
    "some_labels = housing_labels.iloc[:4]\n",
    "\n",
    "print(\"Predictions:\\t\", prepare_select_and_predict_pipeline.predict(some_data))\n",
    "print(\"Labels:\\t\\t\", list(some_labels))"
   ]
  },
  {
   "cell_type": "markdown",
   "metadata": {},
   "source": [
    "Well, the full pipeline seems to work fine. Of course, the predictions are not fantastic: they would be better if we used the best `RandomForestRegressor` that we found earlier, rather than the best `SVR`."
   ]
  },
  {
   "cell_type": "markdown",
   "metadata": {},
   "source": [
    "## 5."
   ]
  },
  {
   "cell_type": "markdown",
   "metadata": {},
   "source": [
    "Question: Automatically explore some preparation options using `GridSearchCV`."
   ]
  },
  {
   "cell_type": "code",
   "execution_count": null,
   "metadata": {
    "collapsed": true
   },
   "outputs": [],
   "source": [
    "param_grid = [\n",
    "        {'preparation__num_pipeline__imputer__strategy': ['mean', 'median', 'most_frequent'],\n",
    "         'feature_selection__k': [3, 4, 5, 6, 7]}\n",
    "]\n",
    "\n",
    "grid_search_prep = GridSearchCV(prepare_select_and_predict_pipeline, param_grid, cv=5,\n",
    "                                scoring='neg_mean_squared_error', verbose=2, n_jobs=4)\n",
    "grid_search_prep.fit(housing, housing_labels)"
   ]
  },
  {
   "cell_type": "code",
   "execution_count": null,
   "metadata": {
    "collapsed": true
   },
   "outputs": [],
   "source": [
    "grid_search_prep.best_params_"
   ]
  },
  {
   "cell_type": "markdown",
   "metadata": {},
   "source": [
    "Great! It seems that we had the right imputer strategy (median), and apparently only the top 7 features are useful (out of 9), the last 2 seem to just add some noise."
   ]
  },
  {
   "cell_type": "code",
   "execution_count": null,
   "metadata": {
    "collapsed": true
   },
   "outputs": [],
   "source": [
    "housing.shape"
   ]
  },
  {
   "cell_type": "markdown",
   "metadata": {},
   "source": [
    "Congratulations! You already know quite a lot about Machine Learning. :)"
   ]
  }
 ],
 "metadata": {
  "kernelspec": {
   "display_name": "Python 3",
   "language": "python",
   "name": "python3"
  },
  "language_info": {
   "codemirror_mode": {
    "name": "ipython",
    "version": 3
   },
   "file_extension": ".py",
   "mimetype": "text/x-python",
   "name": "python",
   "nbconvert_exporter": "python",
   "pygments_lexer": "ipython3",
   "version": "3.5.4"
  },
  "nav_menu": {
   "height": "279px",
   "width": "309px"
  },
  "toc": {
   "nav_menu": {},
   "number_sections": true,
   "sideBar": true,
   "skip_h1_title": false,
   "toc_cell": false,
   "toc_position": {},
   "toc_section_display": "block",
   "toc_window_display": false
  }
 },
 "nbformat": 4,
 "nbformat_minor": 1
}
