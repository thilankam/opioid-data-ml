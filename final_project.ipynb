{
 "cells": [
  {
   "cell_type": "markdown",
   "metadata": {},
   "source": [
    "# Opioid Data Project\n",
    "\n",
    "*This project uses several machine learning models to gain insights from opioid data available from data.gov.*\n"
   ]
  },
  {
   "cell_type": "markdown",
   "metadata": {},
   "source": [
    "I looked at the data set titled \"Accidental Drug Related Deaths 2012-June 2017\" available at: https://catalog.data.gov/dataset/accidental-drug-related-deaths-january-2012-sept-2015.\n",
    "\n",
    "In particular, I attempted to answer the following question:\n",
    "\"Given an accidental drug overdose related death, can we predict the drug that was used? i.e. whether the overdose is related to a street drug (such as Heroin, Cocaine), or a prescription drug (such as Fentanyl, Oxycodone, Oxymorphone, EtOH, Hydrocodone, Benzodiazepine, Methadone, Amphet, Tramad, Morphine)?\"\n"
   ]
  },
  {
   "cell_type": "markdown",
   "metadata": {},
   "source": [
    "## Setup "
   ]
  },
  {
   "cell_type": "markdown",
   "metadata": {},
   "source": [
    "First, let's make sure this notebook works well in both python 2 and 3, import a few common modules, ensure MatplotLib plots figures inline and prepare a function to save the figures:"
   ]
  },
  {
   "cell_type": "code",
   "execution_count": 391,
   "metadata": {
    "collapsed": true
   },
   "outputs": [],
   "source": [
    "# To support both python 2 and python 3\n",
    "from __future__ import division, print_function, unicode_literals\n",
    "\n",
    "# Common imports\n",
    "import numpy as np\n",
    "import os\n",
    "\n",
    "# For handling data frames\n",
    "import io\n",
    "import requests\n",
    "import pandas as pd\n",
    "\n",
    "pd.options.mode.chained_assignment = None  # default='warn'\n",
    "\n",
    "# to make this notebook's output stable across runs\n",
    "np.random.seed(42)\n",
    "\n",
    "# To plot pretty figures\n",
    "%matplotlib inline\n",
    "import matplotlib\n",
    "import matplotlib.pyplot as plt\n",
    "\n",
    "plt.rcParams['axes.labelsize'] = 14\n",
    "plt.rcParams['xtick.labelsize'] = 12\n",
    "plt.rcParams['ytick.labelsize'] = 12\n",
    "\n",
    "# Where to save the figures\n",
    "PROJECT_ROOT_DIR = \".\"\n",
    "IMAGES_PATH = os.path.join(PROJECT_ROOT_DIR, \"images\")\n",
    "\n",
    "def save_fig(fig_id, tight_layout=True, fig_extension=\"png\", resolution=300):\n",
    "    if not os.path.exists(IMAGES_PATH):\n",
    "        os.makedirs(IMAGES_PATH)\n",
    "\n",
    "    path = os.path.join(IMAGES_PATH, fig_id + \".\" + fig_extension)\n",
    "    print(\"Saving figure\", fig_id)\n",
    "    if tight_layout:\n",
    "        plt.tight_layout()\n",
    "    plt.savefig(path, format=fig_extension, dpi=resolution)"
   ]
  },
  {
   "cell_type": "markdown",
   "metadata": {},
   "source": [
    "## Get the Data"
   ]
  },
  {
   "cell_type": "code",
   "execution_count": 1,
   "metadata": {
    "collapsed": true
   },
   "outputs": [],
   "source": [
    "# Everytime we run this notebook, we get the updated data from the following webpage. \n",
    "DOWNLOAD_URL = \"https://data.ct.gov/api/views/rybz-nyjw/rows.csv\"\n",
    "DATA_SET_FILE = \"Accidental_Drug_Related_Deaths__2012-June_2017.csv\"\n",
    "\n",
    "\n",
    "def fetch_opioid_data():\n",
    "    s=requests.get(DOWNLOAD_URL).content\n",
    "    return pd.read_csv(io.StringIO(s.decode('utf-8')))"
   ]
  },
  {
   "cell_type": "code",
   "execution_count": 393,
   "metadata": {},
   "outputs": [
    {
     "name": "stdout",
     "output_type": "stream",
     "text": [
      "<class 'pandas.core.frame.DataFrame'>\n",
      "RangeIndex: 3583 entries, 0 to 3582\n",
      "Data columns (total 32 columns):\n",
      "CaseNumber               3583 non-null object\n",
      "Date                     3581 non-null object\n",
      "Sex                      3580 non-null object\n",
      "Race                     3573 non-null object\n",
      "Age                      3581 non-null float64\n",
      "Residence City           3490 non-null object\n",
      "Residence State          1663 non-null object\n",
      "Residence County         2885 non-null object\n",
      "Death City               3579 non-null object\n",
      "Death State              1702 non-null object\n",
      "Death County             2405 non-null object\n",
      "Location                 3561 non-null object\n",
      "DescriptionofInjury      998 non-null object\n",
      "InjuryPlace              3506 non-null object\n",
      "ImmediateCauseA          3581 non-null object\n",
      "Heroin                   1936 non-null object\n",
      "Cocaine                  998 non-null object\n",
      "Fentanyl                 1114 non-null object\n",
      "Oxycodone                491 non-null object\n",
      "Oxymorphone              95 non-null object\n",
      "EtOH                     772 non-null object\n",
      "Hydrocodone              98 non-null object\n",
      "Benzodiazepine           884 non-null object\n",
      "Methadone                336 non-null object\n",
      "Amphet                   81 non-null object\n",
      "Tramad                   79 non-null object\n",
      "Morphine (not heroin)    50 non-null object\n",
      "Other                    321 non-null object\n",
      "Any Opioid               710 non-null object\n",
      "MannerofDeath            3576 non-null object\n",
      "AmendedMannerofDeath     538 non-null object\n",
      "DeathLoc                 3583 non-null object\n",
      "dtypes: float64(1), object(31)\n",
      "memory usage: 895.8+ KB\n"
     ]
    }
   ],
   "source": [
    "data = fetch_opioid_data()\n",
    "data.info()"
   ]
  },
  {
   "cell_type": "markdown",
   "metadata": {},
   "source": [
    "## Clean the Data"
   ]
  },
  {
   "cell_type": "code",
   "execution_count": 394,
   "metadata": {},
   "outputs": [
    {
     "data": {
      "text/plain": [
       "CaseNumber               False\n",
       "Date                      True\n",
       "Sex                       True\n",
       "Race                      True\n",
       "Age                       True\n",
       "Residence City            True\n",
       "Residence State           True\n",
       "Residence County          True\n",
       "Death City                True\n",
       "Death State               True\n",
       "Death County              True\n",
       "Location                  True\n",
       "DescriptionofInjury       True\n",
       "InjuryPlace               True\n",
       "ImmediateCauseA           True\n",
       "Heroin                    True\n",
       "Cocaine                   True\n",
       "Fentanyl                  True\n",
       "Oxycodone                 True\n",
       "Oxymorphone               True\n",
       "EtOH                      True\n",
       "Hydrocodone               True\n",
       "Benzodiazepine            True\n",
       "Methadone                 True\n",
       "Amphet                    True\n",
       "Tramad                    True\n",
       "Morphine (not heroin)     True\n",
       "Other                     True\n",
       "Any Opioid                True\n",
       "MannerofDeath             True\n",
       "AmendedMannerofDeath      True\n",
       "DeathLoc                 False\n",
       "dtype: bool"
      ]
     },
     "execution_count": 394,
     "metadata": {},
     "output_type": "execute_result"
    }
   ],
   "source": [
    "data.isnull().any()"
   ]
  },
  {
   "cell_type": "code",
   "execution_count": 319,
   "metadata": {
    "collapsed": true
   },
   "outputs": [],
   "source": [
    "# Remove all the rows where the age and the MannerofDeath are missing\n",
    "data = data.dropna(subset=[\"Age\", \"MannerofDeath\"])"
   ]
  },
  {
   "cell_type": "code",
   "execution_count": 320,
   "metadata": {},
   "outputs": [
    {
     "data": {
      "text/html": [
       "<div>\n",
       "<style>\n",
       "    .dataframe thead tr:only-child th {\n",
       "        text-align: right;\n",
       "    }\n",
       "\n",
       "    .dataframe thead th {\n",
       "        text-align: left;\n",
       "    }\n",
       "\n",
       "    .dataframe tbody tr th {\n",
       "        vertical-align: top;\n",
       "    }\n",
       "</style>\n",
       "<table border=\"1\" class=\"dataframe\">\n",
       "  <thead>\n",
       "    <tr style=\"text-align: right;\">\n",
       "      <th></th>\n",
       "      <th>Age</th>\n",
       "    </tr>\n",
       "  </thead>\n",
       "  <tbody>\n",
       "    <tr>\n",
       "      <th>count</th>\n",
       "      <td>3574.000000</td>\n",
       "    </tr>\n",
       "    <tr>\n",
       "      <th>mean</th>\n",
       "      <td>41.982373</td>\n",
       "    </tr>\n",
       "    <tr>\n",
       "      <th>std</th>\n",
       "      <td>12.325512</td>\n",
       "    </tr>\n",
       "    <tr>\n",
       "      <th>min</th>\n",
       "      <td>14.000000</td>\n",
       "    </tr>\n",
       "    <tr>\n",
       "      <th>25%</th>\n",
       "      <td>32.000000</td>\n",
       "    </tr>\n",
       "    <tr>\n",
       "      <th>50%</th>\n",
       "      <td>43.000000</td>\n",
       "    </tr>\n",
       "    <tr>\n",
       "      <th>75%</th>\n",
       "      <td>52.000000</td>\n",
       "    </tr>\n",
       "    <tr>\n",
       "      <th>max</th>\n",
       "      <td>87.000000</td>\n",
       "    </tr>\n",
       "  </tbody>\n",
       "</table>\n",
       "</div>"
      ],
      "text/plain": [
       "               Age\n",
       "count  3574.000000\n",
       "mean     41.982373\n",
       "std      12.325512\n",
       "min      14.000000\n",
       "25%      32.000000\n",
       "50%      43.000000\n",
       "75%      52.000000\n",
       "max      87.000000"
      ]
     },
     "execution_count": 320,
     "metadata": {},
     "output_type": "execute_result"
    }
   ],
   "source": [
    "data.describe()"
   ]
  },
  {
   "cell_type": "code",
   "execution_count": 321,
   "metadata": {},
   "outputs": [
    {
     "name": "stdout",
     "output_type": "stream",
     "text": [
      "<class 'pandas.core.frame.DataFrame'>\n",
      "Int64Index: 3574 entries, 0 to 3582\n",
      "Data columns (total 32 columns):\n",
      "CaseNumber               3574 non-null object\n",
      "Date                     3574 non-null object\n",
      "Sex                      3573 non-null object\n",
      "Race                     3566 non-null object\n",
      "Age                      3574 non-null float64\n",
      "Residence City           3484 non-null object\n",
      "Residence State          1663 non-null object\n",
      "Residence County         2881 non-null object\n",
      "Death City               3573 non-null object\n",
      "Death State              1702 non-null object\n",
      "Death County             2399 non-null object\n",
      "Location                 3555 non-null object\n",
      "DescriptionofInjury      998 non-null object\n",
      "InjuryPlace              3498 non-null object\n",
      "ImmediateCauseA          3572 non-null object\n",
      "Heroin                   1935 non-null object\n",
      "Cocaine                  994 non-null object\n",
      "Fentanyl                 1113 non-null object\n",
      "Oxycodone                490 non-null object\n",
      "Oxymorphone              95 non-null object\n",
      "EtOH                     772 non-null object\n",
      "Hydrocodone              97 non-null object\n",
      "Benzodiazepine           883 non-null object\n",
      "Methadone                336 non-null object\n",
      "Amphet                   81 non-null object\n",
      "Tramad                   79 non-null object\n",
      "Morphine (not heroin)    50 non-null object\n",
      "Other                    318 non-null object\n",
      "Any Opioid               710 non-null object\n",
      "MannerofDeath            3574 non-null object\n",
      "AmendedMannerofDeath     538 non-null object\n",
      "DeathLoc                 3574 non-null object\n",
      "dtypes: float64(1), object(31)\n",
      "memory usage: 921.4+ KB\n"
     ]
    }
   ],
   "source": [
    "data.info()"
   ]
  },
  {
   "cell_type": "code",
   "execution_count": 322,
   "metadata": {
    "collapsed": true
   },
   "outputs": [],
   "source": [
    "\"\"\"\n",
    "The DeathLoc includes the city, state as well as the lattitude (lat) and longitude (lon) values. \n",
    "By extracting the lat and lon values, we can display the data on a map along with other features.\n",
    "\n",
    "I have used a regular expression to extract the lat and lon values.\n",
    "\"\"\"\n",
    "import re\n",
    "\n",
    "data['DeathLoc2'] = data['DeathLoc'].apply( lambda x: re.sub(\"\\s*[A-Za-z()\\s]+\\s*\", \"\", str(x)) );\n",
    "\n",
    "data['lat'] = data['DeathLoc2'].apply( lambda x: x.split(',')[1] )\n",
    "data['lon'] = data['DeathLoc2'].apply( lambda x: x.split(',')[-1] )"
   ]
  },
  {
   "cell_type": "code",
   "execution_count": 323,
   "metadata": {},
   "outputs": [
    {
     "data": {
      "text/plain": [
       "count          3574\n",
       "unique          197\n",
       "top       41.765775\n",
       "freq            367\n",
       "Name: lat, dtype: object"
      ]
     },
     "execution_count": 323,
     "metadata": {},
     "output_type": "execute_result"
    }
   ],
   "source": [
    "data['lat'].describe()"
   ]
  },
  {
   "cell_type": "code",
   "execution_count": 324,
   "metadata": {},
   "outputs": [
    {
     "data": {
      "text/plain": [
       "count           3574\n",
       "unique           196\n",
       "top       -72.673356\n",
       "freq             367\n",
       "Name: lon, dtype: object"
      ]
     },
     "execution_count": 324,
     "metadata": {},
     "output_type": "execute_result"
    }
   ],
   "source": [
    "data['lon'].describe()"
   ]
  },
  {
   "cell_type": "code",
   "execution_count": 325,
   "metadata": {
    "collapsed": true
   },
   "outputs": [],
   "source": [
    "#Convert the lat and lon columns from object to numerical values\n",
    "\n",
    "data['lat'] = pd.to_numeric(data['lat'], errors='coerce').fillna(0)\n",
    "\n",
    "data['lon'] = pd.to_numeric(data['lon'], errors='coerce').fillna(0)"
   ]
  },
  {
   "cell_type": "code",
   "execution_count": 326,
   "metadata": {},
   "outputs": [
    {
     "data": {
      "text/plain": [
       "count    3574.000000\n",
       "mean       41.498188\n",
       "std         1.924222\n",
       "min       -72.651713\n",
       "25%        41.316843\n",
       "50%        41.554261\n",
       "75%        41.765775\n",
       "max        42.025992\n",
       "Name: lat, dtype: float64"
      ]
     },
     "execution_count": 326,
     "metadata": {},
     "output_type": "execute_result"
    }
   ],
   "source": [
    "data['lat'].describe()"
   ]
  },
  {
   "cell_type": "code",
   "execution_count": 327,
   "metadata": {},
   "outputs": [
    {
     "data": {
      "text/plain": [
       "count    3574.000000\n",
       "mean      -72.803145\n",
       "std         0.391349\n",
       "min       -73.628549\n",
       "25%       -73.057564\n",
       "50%       -72.824947\n",
       "75%       -72.643785\n",
       "max       -71.808899\n",
       "Name: lon, dtype: float64"
      ]
     },
     "execution_count": 327,
     "metadata": {},
     "output_type": "execute_result"
    }
   ],
   "source": [
    "data['lon'].describe()"
   ]
  },
  {
   "cell_type": "code",
   "execution_count": 328,
   "metadata": {},
   "outputs": [
    {
     "data": {
      "text/plain": [
       "count    3573.000000\n",
       "mean       41.530136\n",
       "std         0.234034\n",
       "min        41.026526\n",
       "25%        41.316843\n",
       "50%        41.554261\n",
       "75%        41.765775\n",
       "max        42.025992\n",
       "Name: lat, dtype: float64"
      ]
     },
     "execution_count": 328,
     "metadata": {},
     "output_type": "execute_result"
    }
   ],
   "source": [
    "# To fix the error due to incorrect data split, we remove the minimum lat values.\n",
    "\n",
    "data = data[data['lat'] != data['lat'].min()]\n",
    "\n",
    "# Now we check the lat info to see if the min value is as expected\n",
    "\n",
    "data['lat'].describe()"
   ]
  },
  {
   "cell_type": "markdown",
   "metadata": {},
   "source": [
    "## Handle the Text and Categorical Features"
   ]
  },
  {
   "cell_type": "markdown",
   "metadata": {},
   "source": [
    "Many of the columns in the dataset have textual values, therefore, we need to convert to categorical values.\n",
    "\n",
    "We can use Pandas' `factorize()` method to convert this string categorical feature to an integer categorical feature, which will be easier for Machine Learning algorithms to handle:"
   ]
  },
  {
   "cell_type": "markdown",
   "metadata": {},
   "source": [
    "Now let's preprocess the categorical input feature, `Sex`:"
   ]
  },
  {
   "cell_type": "code",
   "execution_count": 329,
   "metadata": {},
   "outputs": [
    {
     "data": {
      "text/plain": [
       "0    Female\n",
       "1      Male\n",
       "2      Male\n",
       "3    Female\n",
       "4    Female\n",
       "5    Female\n",
       "6      Male\n",
       "7      Male\n",
       "8    Female\n",
       "9      Male\n",
       "Name: Sex, dtype: object"
      ]
     },
     "execution_count": 329,
     "metadata": {},
     "output_type": "execute_result"
    }
   ],
   "source": [
    "data['Sex'].head(10)"
   ]
  },
  {
   "cell_type": "code",
   "execution_count": 330,
   "metadata": {},
   "outputs": [
    {
     "data": {
      "text/plain": [
       "0    0\n",
       "1    1\n",
       "2    1\n",
       "3    0\n",
       "4    0\n",
       "5    0\n",
       "6    1\n",
       "7    1\n",
       "8    0\n",
       "9    1\n",
       "Name: Sex_Encoded, dtype: int64"
      ]
     },
     "execution_count": 330,
     "metadata": {},
     "output_type": "execute_result"
    }
   ],
   "source": [
    "sex_categories_encoded, sex_categories = data['Sex'].factorize()\n",
    "data['Sex_Encoded'] = sex_categories_encoded\n",
    "data['Sex_Encoded'].head(10)"
   ]
  },
  {
   "cell_type": "code",
   "execution_count": 331,
   "metadata": {},
   "outputs": [
    {
     "data": {
      "text/plain": [
       "Index(['Female', 'Male'], dtype='object')"
      ]
     },
     "execution_count": 331,
     "metadata": {},
     "output_type": "execute_result"
    }
   ],
   "source": [
    "sex_categories"
   ]
  },
  {
   "cell_type": "markdown",
   "metadata": {},
   "source": [
    "Let's preprocess the categorical input feature, `Race`:"
   ]
  },
  {
   "cell_type": "code",
   "execution_count": 332,
   "metadata": {},
   "outputs": [
    {
     "data": {
      "text/plain": [
       "0              White\n",
       "1              White\n",
       "2              White\n",
       "3              White\n",
       "4              White\n",
       "5              White\n",
       "6              White\n",
       "7    Hispanic, White\n",
       "8              White\n",
       "9              White\n",
       "Name: Race, dtype: object"
      ]
     },
     "execution_count": 332,
     "metadata": {},
     "output_type": "execute_result"
    }
   ],
   "source": [
    "data['Race'].head(10)"
   ]
  },
  {
   "cell_type": "code",
   "execution_count": 333,
   "metadata": {},
   "outputs": [
    {
     "data": {
      "text/plain": [
       "0    0\n",
       "1    0\n",
       "2    0\n",
       "3    0\n",
       "4    0\n",
       "5    0\n",
       "6    0\n",
       "7    1\n",
       "8    0\n",
       "9    0\n",
       "Name: Race_Encoded, dtype: int64"
      ]
     },
     "execution_count": 333,
     "metadata": {},
     "output_type": "execute_result"
    }
   ],
   "source": [
    "race_categories_encoded, race_categories = data['Race'].factorize()\n",
    "data['Race_Encoded'] = race_categories_encoded\n",
    "data['Race_Encoded'].head(10)"
   ]
  },
  {
   "cell_type": "code",
   "execution_count": 334,
   "metadata": {},
   "outputs": [
    {
     "data": {
      "text/plain": [
       "Index(['White', 'Hispanic, White', 'Unknown', 'Black', 'Asian, Other', 'Other',\n",
       "       'Hispanic, Black', 'Native American, Other', 'Asian Indian', 'Chinese',\n",
       "       'Hawaiian'],\n",
       "      dtype='object')"
      ]
     },
     "execution_count": 334,
     "metadata": {},
     "output_type": "execute_result"
    }
   ],
   "source": [
    "race_categories"
   ]
  },
  {
   "cell_type": "markdown",
   "metadata": {},
   "source": [
    "Let's preprocess the categorical input feature, `MannerofDeath`:"
   ]
  },
  {
   "cell_type": "code",
   "execution_count": 335,
   "metadata": {},
   "outputs": [
    {
     "data": {
      "text/plain": [
       "0    Accident\n",
       "1    Accident\n",
       "2    Accident\n",
       "3    Accident\n",
       "4    Accident\n",
       "5    Accident\n",
       "6     Pending\n",
       "7    Accident\n",
       "8    Accident\n",
       "9    Accident\n",
       "Name: MannerofDeath, dtype: object"
      ]
     },
     "execution_count": 335,
     "metadata": {},
     "output_type": "execute_result"
    }
   ],
   "source": [
    "data['MannerofDeath'].head(10)"
   ]
  },
  {
   "cell_type": "code",
   "execution_count": 336,
   "metadata": {
    "collapsed": true
   },
   "outputs": [],
   "source": [
    "MannerofDeath_categories_encoded, MannerofDeath_categories = data['MannerofDeath'].factorize()"
   ]
  },
  {
   "cell_type": "code",
   "execution_count": 337,
   "metadata": {},
   "outputs": [
    {
     "data": {
      "text/plain": [
       "Index(['Accident', 'Pending', 'accident', 'Natural', 'ACCIDENT'], dtype='object')"
      ]
     },
     "execution_count": 337,
     "metadata": {},
     "output_type": "execute_result"
    }
   ],
   "source": [
    "MannerofDeath_categories"
   ]
  },
  {
   "cell_type": "code",
   "execution_count": 338,
   "metadata": {},
   "outputs": [
    {
     "data": {
      "text/plain": [
       "{'ACCIDENT': 'Accident',\n",
       " 'Accident': 'Accident',\n",
       " 'Natural': 'Natural',\n",
       " 'Pending': 'Pending',\n",
       " 'accident': 'Accident'}"
      ]
     },
     "execution_count": 338,
     "metadata": {},
     "output_type": "execute_result"
    }
   ],
   "source": [
    "# This is a manual step to clean up, and consolidate the categories\n",
    "# since there are some redundant categories for Accident.\n",
    "manner_of_death_classification_dict = {\n",
    "    'Accident': ['Accident','accident','ACCIDENT'], \n",
    "    'Pending': ['Pending'], \n",
    "    'Natural': ['Natural']}\n",
    "manner_of_death_classification = {v: k for k,vv in manner_of_death_classification_dict.items() for v in vv}\n",
    "manner_of_death_classification"
   ]
  },
  {
   "cell_type": "code",
   "execution_count": 339,
   "metadata": {
    "collapsed": true
   },
   "outputs": [],
   "source": [
    "data['MannerofDeath'] = data['MannerofDeath'].apply( lambda x: manner_of_death_classification[x])"
   ]
  },
  {
   "cell_type": "code",
   "execution_count": 340,
   "metadata": {},
   "outputs": [
    {
     "data": {
      "text/plain": [
       "0    0\n",
       "1    0\n",
       "2    0\n",
       "3    0\n",
       "4    0\n",
       "5    0\n",
       "6    1\n",
       "7    0\n",
       "8    0\n",
       "9    0\n",
       "Name: MannerofDeath_Encoded, dtype: int64"
      ]
     },
     "execution_count": 340,
     "metadata": {},
     "output_type": "execute_result"
    }
   ],
   "source": [
    "# Now that the MannerofDeath categories are cleaned up, let's run the factorize again, \n",
    "# and update the manner_of_death categories\n",
    "\n",
    "manner_of_death_final_categories_encoded, manner_of_death_final_categories = data['MannerofDeath'].factorize()\n",
    "data['MannerofDeath_Encoded'] = manner_of_death_final_categories_encoded\n",
    "data['MannerofDeath_Encoded'].head(10)"
   ]
  },
  {
   "cell_type": "code",
   "execution_count": 341,
   "metadata": {},
   "outputs": [
    {
     "data": {
      "text/plain": [
       "Index(['Accident', 'Pending', 'Natural'], dtype='object')"
      ]
     },
     "execution_count": 341,
     "metadata": {},
     "output_type": "execute_result"
    }
   ],
   "source": [
    "manner_of_death_final_categories"
   ]
  },
  {
   "cell_type": "markdown",
   "metadata": {},
   "source": [
    "Let's preprocess the categorical input feature, `Location`:"
   ]
  },
  {
   "cell_type": "code",
   "execution_count": 342,
   "metadata": {},
   "outputs": [
    {
     "data": {
      "text/plain": [
       "0    Residence\n",
       "1     Hospital\n",
       "2    Residence\n",
       "3    Residence\n",
       "4        Other\n",
       "5     Hospital\n",
       "6     Hospital\n",
       "7    Residence\n",
       "8     Hospital\n",
       "9    Residence\n",
       "Name: Location, dtype: object"
      ]
     },
     "execution_count": 342,
     "metadata": {},
     "output_type": "execute_result"
    }
   ],
   "source": [
    "data['Location'].head(10)"
   ]
  },
  {
   "cell_type": "code",
   "execution_count": 343,
   "metadata": {},
   "outputs": [
    {
     "data": {
      "text/plain": [
       "0    0\n",
       "1    1\n",
       "2    0\n",
       "3    0\n",
       "4    2\n",
       "5    1\n",
       "6    1\n",
       "7    0\n",
       "8    1\n",
       "9    0\n",
       "Name: Location_Encoded, dtype: int64"
      ]
     },
     "execution_count": 343,
     "metadata": {},
     "output_type": "execute_result"
    }
   ],
   "source": [
    "death_location_categories_encoded, death_location_categories = data['Location'].factorize()\n",
    "data['Location_Encoded'] = death_location_categories_encoded\n",
    "data['Location_Encoded'].head(10)"
   ]
  },
  {
   "cell_type": "code",
   "execution_count": 344,
   "metadata": {},
   "outputs": [
    {
     "data": {
      "text/plain": [
       "Index(['Residence', 'Hospital', 'Other', 'Convalescent Home', 'Hospice'], dtype='object')"
      ]
     },
     "execution_count": 344,
     "metadata": {},
     "output_type": "execute_result"
    }
   ],
   "source": [
    "death_location_categories"
   ]
  },
  {
   "cell_type": "markdown",
   "metadata": {},
   "source": [
    "Let's preprocess the categorical input feature, `InjuryPlace`:"
   ]
  },
  {
   "cell_type": "code",
   "execution_count": 345,
   "metadata": {},
   "outputs": [
    {
     "data": {
      "text/plain": [
       "0                     NaN\n",
       "1               Residence\n",
       "2               Residence\n",
       "3               Residence\n",
       "4    Residential Building\n",
       "5               Residence\n",
       "6                     NaN\n",
       "7               Residence\n",
       "8               Residence\n",
       "9               Residence\n",
       "Name: InjuryPlace, dtype: object"
      ]
     },
     "execution_count": 345,
     "metadata": {},
     "output_type": "execute_result"
    }
   ],
   "source": [
    "data['InjuryPlace'].head(10)"
   ]
  },
  {
   "cell_type": "code",
   "execution_count": 346,
   "metadata": {},
   "outputs": [
    {
     "data": {
      "text/plain": [
       "0   -1\n",
       "1    0\n",
       "2    0\n",
       "3    0\n",
       "4    1\n",
       "5    0\n",
       "6   -1\n",
       "7    0\n",
       "8    0\n",
       "9    0\n",
       "Name: InjuryPlace_Encoded, dtype: int64"
      ]
     },
     "execution_count": 346,
     "metadata": {},
     "output_type": "execute_result"
    }
   ],
   "source": [
    "injury_place_categories_encoded, injury_place_categories = data['InjuryPlace'].factorize()\n",
    "data['InjuryPlace_Encoded'] = injury_place_categories_encoded\n",
    "data['InjuryPlace_Encoded'].head(10)"
   ]
  },
  {
   "cell_type": "code",
   "execution_count": 347,
   "metadata": {},
   "outputs": [
    {
     "data": {
      "text/plain": [
       "Index(['Residence', 'Residential Building', 'Other', 'Restaurant',\n",
       "       'Automobile', 'Hospital', 'Unknown', 'Hotel or Motel',\n",
       "       'Other indoor Area', 'Other, Industrial Area', 'Other (unknown)',\n",
       "       'Other, Other Outdoor Area', 'Other, Public Buildings', 'In Vehicle',\n",
       "       'Store or Shopping Area', 'Other, Residential Institution', 'Alleyway',\n",
       "       'Office Building', 'Driveway', 'Hospital or Emergency Room',\n",
       "       'Apartment', 'Parking Lot', 'Public Park, Urban or Suburban', 'Casino',\n",
       "       'School, Primary or Secondary', 'Bar or Night Club', 'Campgrounds',\n",
       "       'Boat/Marina', 'Forest, Wooded Area', 'Sidewalk', 'Porch', 'Field',\n",
       "       'House', 'Street', 'Roadway', 'Halfway House',\n",
       "       'Train or Subway Station', 'Public Park', 'Beach',\n",
       "       'Other, Park or Recreational Area', 'Nursing Home',\n",
       "       'Detoxification Center', 'Rest Home', 'Rehab House', 'Garage',\n",
       "       'Building', 'Friend's Residence', 'homeless shelter', 'Backyard',\n",
       "       'University or College', 'Railroad Track', 'Church',\n",
       "       'Multiple Locations', 'Other, Farm or Ranch', 'Convenience Store',\n",
       "       'Warehouse', 'car in hartford', 'Apartment House', 'Cemetery', 'Yard',\n",
       "       'residence', 'Shed', 'Gas Station'],\n",
       "      dtype='object')"
      ]
     },
     "execution_count": 347,
     "metadata": {},
     "output_type": "execute_result"
    }
   ],
   "source": [
    "injury_place_categories"
   ]
  },
  {
   "cell_type": "markdown",
   "metadata": {},
   "source": [
    "Let's preprocess the different drug types available in the data, and create \n",
    "categorical input feature called `DrugType`, which specifies whether it is a `street_drug` \n",
    "or a `prescription_drug`."
   ]
  },
  {
   "cell_type": "code",
   "execution_count": 348,
   "metadata": {},
   "outputs": [
    {
     "data": {
      "text/plain": [
       "{'prescription_drug': ['Fentanyl',\n",
       "  'Oxycodone',\n",
       "  'Oxymorphone',\n",
       "  'EtOH',\n",
       "  'Hydrocodone',\n",
       "  'Benzodiazepine',\n",
       "  'Methadone',\n",
       "  'Amphet',\n",
       "  'Tramad',\n",
       "  'Morphine (not heroin)',\n",
       "  'Other',\n",
       "  'Any Opioid'],\n",
       " 'street_drug': ['Heroin', 'Cocaine']}"
      ]
     },
     "execution_count": 348,
     "metadata": {},
     "output_type": "execute_result"
    }
   ],
   "source": [
    "# Combine the drugs found in the decesed individual into either street or prescription drugs.\n",
    "\n",
    "drug_types = { \n",
    "'street_drug': \n",
    "    ['Heroin', 'Cocaine'],\n",
    "'prescription_drug' : \n",
    "    ['Fentanyl', 'Oxycodone', 'Oxymorphone','EtOH','Hydrocodone', 'Benzodiazepine', 'Methadone', 'Amphet', 'Tramad', 'Morphine (not heroin)', 'Other', 'Any Opioid']}\n",
    "\n",
    "drug_types"
   ]
  },
  {
   "cell_type": "code",
   "execution_count": 349,
   "metadata": {
    "collapsed": true
   },
   "outputs": [],
   "source": [
    "drug_type_list = {v: k for k,vv in drug_types.items() for v in vv}"
   ]
  },
  {
   "cell_type": "code",
   "execution_count": 350,
   "metadata": {},
   "outputs": [
    {
     "data": {
      "text/plain": [
       "street_drug          1794\n",
       "prescription_drug    1720\n",
       "Name: DrugType, dtype: int64"
      ]
     },
     "execution_count": 350,
     "metadata": {},
     "output_type": "execute_result"
    }
   ],
   "source": [
    "def label_drug (row):\n",
    "    for k, v in drug_type_list.items():\n",
    "        if row[k]  == 'Y' or row[k] == 'y':\n",
    "            return v\n",
    "\n",
    "data['DrugType'] = data.apply (lambda row: label_drug (row),axis=1)\n",
    "\n",
    "data['DrugType'].value_counts()"
   ]
  },
  {
   "cell_type": "code",
   "execution_count": 351,
   "metadata": {},
   "outputs": [
    {
     "data": {
      "text/plain": [
       "0    prescription_drug\n",
       "1    prescription_drug\n",
       "2    prescription_drug\n",
       "3          street_drug\n",
       "4          street_drug\n",
       "5    prescription_drug\n",
       "6          street_drug\n",
       "7          street_drug\n",
       "8          street_drug\n",
       "9          street_drug\n",
       "Name: DrugType, dtype: object"
      ]
     },
     "execution_count": 351,
     "metadata": {},
     "output_type": "execute_result"
    }
   ],
   "source": [
    "data['DrugType'].head(10)"
   ]
  },
  {
   "cell_type": "markdown",
   "metadata": {},
   "source": [
    "Let's apply the same preprocess the categorical input feature, `DrugType`:"
   ]
  },
  {
   "cell_type": "code",
   "execution_count": 352,
   "metadata": {},
   "outputs": [
    {
     "data": {
      "text/plain": [
       "0    0\n",
       "1    0\n",
       "2    0\n",
       "3    1\n",
       "4    1\n",
       "5    0\n",
       "6    1\n",
       "7    1\n",
       "8    1\n",
       "9    1\n",
       "Name: DrugType_Encoded, dtype: int64"
      ]
     },
     "execution_count": 352,
     "metadata": {},
     "output_type": "execute_result"
    }
   ],
   "source": [
    "drug_type_categories_encoded, drug_type_categories = data['DrugType'].factorize()\n",
    "data['DrugType_Encoded'] = drug_type_categories_encoded\n",
    "data['DrugType_Encoded'].head(10)"
   ]
  },
  {
   "cell_type": "code",
   "execution_count": 353,
   "metadata": {},
   "outputs": [
    {
     "data": {
      "text/plain": [
       "Index(['prescription_drug', 'street_drug'], dtype='object')"
      ]
     },
     "execution_count": 353,
     "metadata": {},
     "output_type": "execute_result"
    }
   ],
   "source": [
    "drug_type_categories"
   ]
  },
  {
   "cell_type": "markdown",
   "metadata": {},
   "source": [
    "# Visualize the Data"
   ]
  },
  {
   "cell_type": "markdown",
   "metadata": {},
   "source": [
    "## Histogram Plots"
   ]
  },
  {
   "cell_type": "code",
   "execution_count": 354,
   "metadata": {},
   "outputs": [
    {
     "name": "stdout",
     "output_type": "stream",
     "text": [
      "Saving figure histogram_plots\n"
     ]
    },
    {
     "data": {
      "image/png": "[encoded data removed]",
      "text/plain": [
       "<matplotlib.figure.Figure at 0x11674fc50>"
      ]
     },
     "metadata": {},
     "output_type": "display_data"
    }
   ],
   "source": [
    "# Generate the histogram plots of the different numerical data\n",
    "\n",
    "%matplotlib inline\n",
    "import matplotlib.pyplot as plt\n",
    "data.hist(bins=50, figsize=(20,15))\n",
    "save_fig(\"histogram_plots\")\n",
    "plt.show()"
   ]
  },
  {
   "cell_type": "markdown",
   "metadata": {},
   "source": [
    "## Scatter Plots"
   ]
  },
  {
   "cell_type": "markdown",
   "metadata": {},
   "source": [
    "### Overall Occurences"
   ]
  },
  {
   "cell_type": "code",
   "execution_count": 355,
   "metadata": {},
   "outputs": [
    {
     "name": "stdout",
     "output_type": "stream",
     "text": [
      "Saving figure occurences_visualization_plot\n"
     ]
    },
    {
     "data": {
      "image/png": "[encoded data removed]",
      "text/plain": [
       "<matplotlib.figure.Figure at 0x11eb1b5c0>"
      ]
     },
     "metadata": {},
     "output_type": "display_data"
    }
   ],
   "source": [
    "# Scatter plot of the Age of the individuals who died plotted against the lat and lon values\n",
    "# Notice the outline of Connecticut in this plot.\n",
    "\n",
    "data.plot(kind=\"scatter\", x=\"lon\", y=\"lat\", alpha=0.1)\n",
    "save_fig(\"occurences_visualization_plot\")"
   ]
  },
  {
   "cell_type": "markdown",
   "metadata": {},
   "source": [
    "### Age"
   ]
  },
  {
   "cell_type": "code",
   "execution_count": 356,
   "metadata": {},
   "outputs": [
    {
     "name": "stdout",
     "output_type": "stream",
     "text": [
      "Saving figure age_color_scatterplot\n"
     ]
    },
    {
     "data": {
      "image/png": "[encoded data removed]",
      "text/plain": [
       "<matplotlib.figure.Figure at 0x10e1be400>"
      ]
     },
     "metadata": {},
     "output_type": "display_data"
    }
   ],
   "source": [
    "# Even better plot with a color map showing the age of the individuals who died.\n",
    "\n",
    "data.plot(kind=\"scatter\", x=\"lon\", y=\"lat\", alpha=0.4,\n",
    "    label=\"Age\", figsize=(10,7),\n",
    "    c=\"Age\", cmap=plt.get_cmap(\"jet\"), colorbar=True,\n",
    "    sharex=False)\n",
    "plt.legend()\n",
    "save_fig(\"age_color_scatterplot\")"
   ]
  },
  {
   "cell_type": "markdown",
   "metadata": {},
   "source": [
    "### Drug Type"
   ]
  },
  {
   "cell_type": "code",
   "execution_count": 357,
   "metadata": {},
   "outputs": [
    {
     "name": "stdout",
     "output_type": "stream",
     "text": [
      "Saving figure drug_type_color_scatterplot\n"
     ]
    },
    {
     "data": {
      "image/png": "[encoded data removed]",
      "text/plain": [
       "<matplotlib.figure.Figure at 0x1a23316198>"
      ]
     },
     "metadata": {},
     "output_type": "display_data"
    }
   ],
   "source": [
    "# Even better plot with a color map showing the drug used by the individuals who died.\n",
    "# TODO: there may be a bug here: there are only two drug types, but why does it show a spectrum?\n",
    "\n",
    "data.plot(kind=\"scatter\", x=\"lon\", y=\"lat\", alpha=0.4,\n",
    "    label=\"DrugType\", figsize=(10,7),\n",
    "    c=\"DrugType_Encoded\", cmap=plt.get_cmap(\"jet\"), colorbar=True,\n",
    "    sharex=False)\n",
    "plt.legend()\n",
    "save_fig(\"drug_type_color_scatterplot\")"
   ]
  },
  {
   "cell_type": "markdown",
   "metadata": {},
   "source": [
    "# Train/Test Split"
   ]
  },
  {
   "cell_type": "markdown",
   "metadata": {},
   "source": [
    " ## Gather Statistics"
   ]
  },
  {
   "cell_type": "code",
   "execution_count": 358,
   "metadata": {},
   "outputs": [
    {
     "data": {
      "text/plain": [
       " 1    1794\n",
       " 0    1720\n",
       "-1      59\n",
       "Name: DrugType_Encoded, dtype: int64"
      ]
     },
     "execution_count": 358,
     "metadata": {},
     "output_type": "execute_result"
    }
   ],
   "source": [
    "data[\"DrugType_Encoded\"].value_counts()\n",
    "\n",
    "# DrugType encodings\n",
    "# 0 : prescription_drug\n",
    "# 1 : street_drug\n",
    "# -1 : No Information about the drug\n",
    "# (check the drug_type_categories variable)"
   ]
  },
  {
   "cell_type": "code",
   "execution_count": 359,
   "metadata": {},
   "outputs": [
    {
     "data": {
      "text/plain": [
       "<matplotlib.axes._subplots.AxesSubplot at 0x1a246c8208>"
      ]
     },
     "execution_count": 359,
     "metadata": {},
     "output_type": "execute_result"
    },
    {
     "data": {
      "image/png": "[encoded data removed]",
      "text/plain": [
       "<matplotlib.figure.Figure at 0x1a2334a710>"
      ]
     },
     "metadata": {},
     "output_type": "display_data"
    }
   ],
   "source": [
    "data[\"DrugType_Encoded\"].hist()"
   ]
  },
  {
   "cell_type": "markdown",
   "metadata": {},
   "source": [
    "## Stratified Shuffle Split"
   ]
  },
  {
   "cell_type": "code",
   "execution_count": 360,
   "metadata": {
    "collapsed": true
   },
   "outputs": [],
   "source": [
    "\"\"\" StratifiedShuffleSplit splits the dataset better than randomly splitting the dataset.\n",
    "\"\"\"\n",
    "from sklearn.model_selection import StratifiedShuffleSplit\n",
    "\n",
    "split = StratifiedShuffleSplit(n_splits=1, test_size=0.2, random_state=42)\n",
    "for train_index, test_index in split.split(data, data[\"DrugType_Encoded\"]):\n",
    "    strat_train_set = data.loc[train_index]\n",
    "    strat_test_set = data.loc[test_index]"
   ]
  },
  {
   "cell_type": "code",
   "execution_count": 361,
   "metadata": {},
   "outputs": [
    {
     "data": {
      "text/plain": [
       " 1.0    0.503497\n",
       " 0.0    0.481119\n",
       "-1.0    0.011189\n",
       "Name: DrugType_Encoded, dtype: float64"
      ]
     },
     "execution_count": 361,
     "metadata": {},
     "output_type": "execute_result"
    }
   ],
   "source": [
    "# Check the portion of each category of the DrugType in test set values\n",
    "strat_test_set[\"DrugType_Encoded\"].value_counts() / len(strat_test_set)"
   ]
  },
  {
   "cell_type": "code",
   "execution_count": 362,
   "metadata": {},
   "outputs": [
    {
     "data": {
      "text/plain": [
       " 1    0.502099\n",
       " 0    0.481388\n",
       "-1    0.016513\n",
       "Name: DrugType_Encoded, dtype: float64"
      ]
     },
     "execution_count": 362,
     "metadata": {},
     "output_type": "execute_result"
    }
   ],
   "source": [
    "# Check the portion of each category of the DrugType in original data set\n",
    "\n",
    "data[\"DrugType_Encoded\"].value_counts() / len(data)"
   ]
  },
  {
   "cell_type": "markdown",
   "metadata": {},
   "source": [
    "## Random Split"
   ]
  },
  {
   "cell_type": "code",
   "execution_count": 363,
   "metadata": {
    "collapsed": true
   },
   "outputs": [],
   "source": [
    "# Only importing to compare the split with Stratified Split\n",
    "\n",
    "from sklearn.model_selection import train_test_split\n",
    "\n",
    "def drug_type_category_proportions(df):\n",
    "    return df[\"DrugType_Encoded\"].value_counts() / len(df)\n",
    "\n",
    "random_train_set, random_test_set = train_test_split(data, test_size=0.2, random_state=42)"
   ]
  },
  {
   "cell_type": "markdown",
   "metadata": {},
   "source": [
    "## Compare the Two Splits"
   ]
  },
  {
   "cell_type": "code",
   "execution_count": 364,
   "metadata": {
    "collapsed": true
   },
   "outputs": [],
   "source": [
    "compare_props = pd.DataFrame({\n",
    "    \"Overall\": drug_type_category_proportions(data),\n",
    "    \"Stratified\": drug_type_category_proportions(strat_test_set),\n",
    "    \"Random\": drug_type_category_proportions(random_test_set),\n",
    "}).sort_index()\n",
    "\n",
    "compare_props[\"Rand. %error\"] = 100 * compare_props[\"Random\"] / compare_props[\"Overall\"] - 100\n",
    "compare_props[\"Strat. %error\"] = 100 * compare_props[\"Stratified\"] / compare_props[\"Overall\"] - 100"
   ]
  },
  {
   "cell_type": "code",
   "execution_count": 365,
   "metadata": {},
   "outputs": [
    {
     "data": {
      "text/html": [
       "<div>\n",
       "<style>\n",
       "    .dataframe thead tr:only-child th {\n",
       "        text-align: right;\n",
       "    }\n",
       "\n",
       "    .dataframe thead th {\n",
       "        text-align: left;\n",
       "    }\n",
       "\n",
       "    .dataframe tbody tr th {\n",
       "        vertical-align: top;\n",
       "    }\n",
       "</style>\n",
       "<table border=\"1\" class=\"dataframe\">\n",
       "  <thead>\n",
       "    <tr style=\"text-align: right;\">\n",
       "      <th></th>\n",
       "      <th>Overall</th>\n",
       "      <th>Random</th>\n",
       "      <th>Stratified</th>\n",
       "      <th>Rand. %error</th>\n",
       "      <th>Strat. %error</th>\n",
       "    </tr>\n",
       "  </thead>\n",
       "  <tbody>\n",
       "    <tr>\n",
       "      <th>-1</th>\n",
       "      <td>0.016513</td>\n",
       "      <td>0.016783</td>\n",
       "      <td>0.011189</td>\n",
       "      <td>1.638023</td>\n",
       "      <td>-32.241318</td>\n",
       "    </tr>\n",
       "    <tr>\n",
       "      <th>0</th>\n",
       "      <td>0.481388</td>\n",
       "      <td>0.458741</td>\n",
       "      <td>0.481119</td>\n",
       "      <td>-4.704505</td>\n",
       "      <td>-0.055944</td>\n",
       "    </tr>\n",
       "    <tr>\n",
       "      <th>1</th>\n",
       "      <td>0.502099</td>\n",
       "      <td>0.524476</td>\n",
       "      <td>0.503497</td>\n",
       "      <td>4.456580</td>\n",
       "      <td>0.278317</td>\n",
       "    </tr>\n",
       "  </tbody>\n",
       "</table>\n",
       "</div>"
      ],
      "text/plain": [
       "     Overall    Random  Stratified  Rand. %error  Strat. %error\n",
       "-1  0.016513  0.016783    0.011189      1.638023     -32.241318\n",
       " 0  0.481388  0.458741    0.481119     -4.704505      -0.055944\n",
       " 1  0.502099  0.524476    0.503497      4.456580       0.278317"
      ]
     },
     "execution_count": 365,
     "metadata": {},
     "output_type": "execute_result"
    }
   ],
   "source": [
    "# Comparing the two split approaches\n",
    "compare_props"
   ]
  },
  {
   "cell_type": "markdown",
   "metadata": {},
   "source": [
    "# Prepare the Data for Machine Learning Algorithms"
   ]
  },
  {
   "cell_type": "markdown",
   "metadata": {},
   "source": [
    "## Drop the Feature Explored"
   ]
  },
  {
   "cell_type": "markdown",
   "metadata": {},
   "source": [
    "We need to remove the `DrugType_Encoded` column from the train and test sets"
   ]
  },
  {
   "cell_type": "code",
   "execution_count": 366,
   "metadata": {
    "collapsed": true
   },
   "outputs": [],
   "source": [
    "# The stratified split apporach is definitely better. \n",
    "# Therefore using that split.\n",
    "\n",
    "train_set = strat_train_set.drop(\"DrugType_Encoded\", axis=1) # drop labels for training set\n",
    "opioid_labels = strat_train_set[\"DrugType_Encoded\"].copy()\n",
    "\n",
    "test_set = strat_test_set.copy()"
   ]
  },
  {
   "cell_type": "code",
   "execution_count": 395,
   "metadata": {},
   "outputs": [
    {
     "data": {
      "text/plain": [
       "CaseNumber               True\n",
       "Date                     True\n",
       "Sex                      True\n",
       "Race                     True\n",
       "Age                      True\n",
       "Residence City           True\n",
       "Residence State          True\n",
       "Residence County         True\n",
       "Death City               True\n",
       "Death State              True\n",
       "Death County             True\n",
       "Location                 True\n",
       "DescriptionofInjury      True\n",
       "InjuryPlace              True\n",
       "ImmediateCauseA          True\n",
       "Heroin                   True\n",
       "Cocaine                  True\n",
       "Fentanyl                 True\n",
       "Oxycodone                True\n",
       "Oxymorphone              True\n",
       "EtOH                     True\n",
       "Hydrocodone              True\n",
       "Benzodiazepine           True\n",
       "Methadone                True\n",
       "Amphet                   True\n",
       "Tramad                   True\n",
       "Morphine (not heroin)    True\n",
       "Other                    True\n",
       "Any Opioid               True\n",
       "MannerofDeath            True\n",
       "AmendedMannerofDeath     True\n",
       "DeathLoc                 True\n",
       "DeathLoc2                True\n",
       "lat                      True\n",
       "lon                      True\n",
       "Sex_Encoded              True\n",
       "Race_Encoded             True\n",
       "MannerofDeath_Encoded    True\n",
       "Location_Encoded         True\n",
       "InjuryPlace_Encoded      True\n",
       "DrugType                 True\n",
       "dtype: bool"
      ]
     },
     "execution_count": 395,
     "metadata": {},
     "output_type": "execute_result"
    }
   ],
   "source": [
    "train_set.isnull().any()"
   ]
  },
  {
   "cell_type": "markdown",
   "metadata": {},
   "source": [
    "## Explore the Split of Data Set"
   ]
  },
  {
   "cell_type": "code",
   "execution_count": 367,
   "metadata": {},
   "outputs": [
    {
     "data": {
      "text/html": [
       "<div>\n",
       "<style>\n",
       "    .dataframe thead tr:only-child th {\n",
       "        text-align: right;\n",
       "    }\n",
       "\n",
       "    .dataframe thead th {\n",
       "        text-align: left;\n",
       "    }\n",
       "\n",
       "    .dataframe tbody tr th {\n",
       "        vertical-align: top;\n",
       "    }\n",
       "</style>\n",
       "<table border=\"1\" class=\"dataframe\">\n",
       "  <thead>\n",
       "    <tr style=\"text-align: right;\">\n",
       "      <th></th>\n",
       "      <th>CaseNumber</th>\n",
       "      <th>Date</th>\n",
       "      <th>Sex</th>\n",
       "      <th>Race</th>\n",
       "      <th>Age</th>\n",
       "      <th>Residence City</th>\n",
       "      <th>Residence State</th>\n",
       "      <th>Residence County</th>\n",
       "      <th>Death City</th>\n",
       "      <th>Death State</th>\n",
       "      <th>...</th>\n",
       "      <th>DeathLoc2</th>\n",
       "      <th>lat</th>\n",
       "      <th>lon</th>\n",
       "      <th>Sex_Encoded</th>\n",
       "      <th>Race_Encoded</th>\n",
       "      <th>MannerofDeath_Encoded</th>\n",
       "      <th>Location_Encoded</th>\n",
       "      <th>InjuryPlace_Encoded</th>\n",
       "      <th>DrugType</th>\n",
       "      <th>DrugType_Encoded</th>\n",
       "    </tr>\n",
       "  </thead>\n",
       "  <tbody>\n",
       "    <tr>\n",
       "      <th>1697</th>\n",
       "      <td>13-3629</td>\n",
       "      <td>03/02/2013</td>\n",
       "      <td>Male</td>\n",
       "      <td>White</td>\n",
       "      <td>28.0</td>\n",
       "      <td>BALTIC</td>\n",
       "      <td>NaN</td>\n",
       "      <td>NEW LONDON</td>\n",
       "      <td>SALEM</td>\n",
       "      <td>NaN</td>\n",
       "      <td>...</td>\n",
       "      <td>,41.487106,-72.274406</td>\n",
       "      <td>41.487106</td>\n",
       "      <td>-72.274406</td>\n",
       "      <td>1.0</td>\n",
       "      <td>0.0</td>\n",
       "      <td>0.0</td>\n",
       "      <td>2.0</td>\n",
       "      <td>2.0</td>\n",
       "      <td>street_drug</td>\n",
       "      <td>1.0</td>\n",
       "    </tr>\n",
       "    <tr>\n",
       "      <th>959</th>\n",
       "      <td>14-4334</td>\n",
       "      <td>03/16/2014</td>\n",
       "      <td>Male</td>\n",
       "      <td>White</td>\n",
       "      <td>66.0</td>\n",
       "      <td>NORTH HAVEN</td>\n",
       "      <td>NaN</td>\n",
       "      <td>NaN</td>\n",
       "      <td>NORTH HAVEN</td>\n",
       "      <td>NaN</td>\n",
       "      <td>...</td>\n",
       "      <td>,41.38864,-72.860826</td>\n",
       "      <td>41.388640</td>\n",
       "      <td>-72.860826</td>\n",
       "      <td>1.0</td>\n",
       "      <td>0.0</td>\n",
       "      <td>0.0</td>\n",
       "      <td>0.0</td>\n",
       "      <td>0.0</td>\n",
       "      <td>street_drug</td>\n",
       "      <td>1.0</td>\n",
       "    </tr>\n",
       "    <tr>\n",
       "      <th>1690</th>\n",
       "      <td>14-5049</td>\n",
       "      <td>03/29/2014</td>\n",
       "      <td>Male</td>\n",
       "      <td>White</td>\n",
       "      <td>24.0</td>\n",
       "      <td>MANCHESTER</td>\n",
       "      <td>NaN</td>\n",
       "      <td>NaN</td>\n",
       "      <td>HARTFORD</td>\n",
       "      <td>NaN</td>\n",
       "      <td>...</td>\n",
       "      <td>,41.765775,-72.673356</td>\n",
       "      <td>41.765775</td>\n",
       "      <td>-72.673356</td>\n",
       "      <td>1.0</td>\n",
       "      <td>0.0</td>\n",
       "      <td>0.0</td>\n",
       "      <td>1.0</td>\n",
       "      <td>0.0</td>\n",
       "      <td>street_drug</td>\n",
       "      <td>1.0</td>\n",
       "    </tr>\n",
       "    <tr>\n",
       "      <th>2558</th>\n",
       "      <td>16-2914</td>\n",
       "      <td>11/13/2016</td>\n",
       "      <td>Male</td>\n",
       "      <td>Hispanic, Black</td>\n",
       "      <td>47.0</td>\n",
       "      <td>HARTFORD</td>\n",
       "      <td>NaN</td>\n",
       "      <td>HARTFORD</td>\n",
       "      <td>HARTFORD</td>\n",
       "      <td>NaN</td>\n",
       "      <td>...</td>\n",
       "      <td>,41.765775,-72.673356</td>\n",
       "      <td>41.765775</td>\n",
       "      <td>-72.673356</td>\n",
       "      <td>1.0</td>\n",
       "      <td>6.0</td>\n",
       "      <td>0.0</td>\n",
       "      <td>0.0</td>\n",
       "      <td>0.0</td>\n",
       "      <td>street_drug</td>\n",
       "      <td>1.0</td>\n",
       "    </tr>\n",
       "    <tr>\n",
       "      <th>322</th>\n",
       "      <td>14-18905</td>\n",
       "      <td>12/17/2014</td>\n",
       "      <td>Male</td>\n",
       "      <td>White</td>\n",
       "      <td>54.0</td>\n",
       "      <td>SALISBURY</td>\n",
       "      <td>NaN</td>\n",
       "      <td>NaN</td>\n",
       "      <td>SALISBURY</td>\n",
       "      <td>NaN</td>\n",
       "      <td>...</td>\n",
       "      <td>,41.983411,-73.422268</td>\n",
       "      <td>41.983411</td>\n",
       "      <td>-73.422268</td>\n",
       "      <td>1.0</td>\n",
       "      <td>0.0</td>\n",
       "      <td>0.0</td>\n",
       "      <td>0.0</td>\n",
       "      <td>0.0</td>\n",
       "      <td>street_drug</td>\n",
       "      <td>1.0</td>\n",
       "    </tr>\n",
       "  </tbody>\n",
       "</table>\n",
       "<p>5 rows × 42 columns</p>\n",
       "</div>"
      ],
      "text/plain": [
       "     CaseNumber        Date   Sex             Race   Age Residence City  \\\n",
       "1697    13-3629  03/02/2013  Male            White  28.0         BALTIC   \n",
       "959     14-4334  03/16/2014  Male            White  66.0    NORTH HAVEN   \n",
       "1690    14-5049  03/29/2014  Male            White  24.0     MANCHESTER   \n",
       "2558    16-2914  11/13/2016  Male  Hispanic, Black  47.0       HARTFORD   \n",
       "322    14-18905  12/17/2014  Male            White  54.0      SALISBURY   \n",
       "\n",
       "     Residence State Residence County   Death City Death State  \\\n",
       "1697             NaN       NEW LONDON        SALEM         NaN   \n",
       "959              NaN              NaN  NORTH HAVEN         NaN   \n",
       "1690             NaN              NaN     HARTFORD         NaN   \n",
       "2558             NaN         HARTFORD     HARTFORD         NaN   \n",
       "322              NaN              NaN    SALISBURY         NaN   \n",
       "\n",
       "           ...                     DeathLoc2        lat        lon  \\\n",
       "1697       ...         ,41.487106,-72.274406  41.487106 -72.274406   \n",
       "959        ...          ,41.38864,-72.860826  41.388640 -72.860826   \n",
       "1690       ...         ,41.765775,-72.673356  41.765775 -72.673356   \n",
       "2558       ...         ,41.765775,-72.673356  41.765775 -72.673356   \n",
       "322        ...         ,41.983411,-73.422268  41.983411 -73.422268   \n",
       "\n",
       "     Sex_Encoded Race_Encoded MannerofDeath_Encoded Location_Encoded  \\\n",
       "1697         1.0          0.0                   0.0              2.0   \n",
       "959          1.0          0.0                   0.0              0.0   \n",
       "1690         1.0          0.0                   0.0              1.0   \n",
       "2558         1.0          6.0                   0.0              0.0   \n",
       "322          1.0          0.0                   0.0              0.0   \n",
       "\n",
       "     InjuryPlace_Encoded     DrugType DrugType_Encoded  \n",
       "1697                 2.0  street_drug              1.0  \n",
       "959                  0.0  street_drug              1.0  \n",
       "1690                 0.0  street_drug              1.0  \n",
       "2558                 0.0  street_drug              1.0  \n",
       "322                  0.0  street_drug              1.0  \n",
       "\n",
       "[5 rows x 42 columns]"
      ]
     },
     "execution_count": 367,
     "metadata": {},
     "output_type": "execute_result"
    }
   ],
   "source": [
    "test_set.head()"
   ]
  },
  {
   "cell_type": "code",
   "execution_count": 368,
   "metadata": {},
   "outputs": [
    {
     "data": {
      "text/html": [
       "<div>\n",
       "<style>\n",
       "    .dataframe thead tr:only-child th {\n",
       "        text-align: right;\n",
       "    }\n",
       "\n",
       "    .dataframe thead th {\n",
       "        text-align: left;\n",
       "    }\n",
       "\n",
       "    .dataframe tbody tr th {\n",
       "        vertical-align: top;\n",
       "    }\n",
       "</style>\n",
       "<table border=\"1\" class=\"dataframe\">\n",
       "  <thead>\n",
       "    <tr style=\"text-align: right;\">\n",
       "      <th></th>\n",
       "      <th>CaseNumber</th>\n",
       "      <th>Date</th>\n",
       "      <th>Sex</th>\n",
       "      <th>Race</th>\n",
       "      <th>Age</th>\n",
       "      <th>Residence City</th>\n",
       "      <th>Residence State</th>\n",
       "      <th>Residence County</th>\n",
       "      <th>Death City</th>\n",
       "      <th>Death State</th>\n",
       "      <th>...</th>\n",
       "      <th>DeathLoc</th>\n",
       "      <th>DeathLoc2</th>\n",
       "      <th>lat</th>\n",
       "      <th>lon</th>\n",
       "      <th>Sex_Encoded</th>\n",
       "      <th>Race_Encoded</th>\n",
       "      <th>MannerofDeath_Encoded</th>\n",
       "      <th>Location_Encoded</th>\n",
       "      <th>InjuryPlace_Encoded</th>\n",
       "      <th>DrugType</th>\n",
       "    </tr>\n",
       "  </thead>\n",
       "  <tbody>\n",
       "    <tr>\n",
       "      <th>1975</th>\n",
       "      <td>14-5197</td>\n",
       "      <td>04/01/2014</td>\n",
       "      <td>Male</td>\n",
       "      <td>White</td>\n",
       "      <td>35.0</td>\n",
       "      <td>BETHEL</td>\n",
       "      <td>NaN</td>\n",
       "      <td>NaN</td>\n",
       "      <td>BETHEL</td>\n",
       "      <td>NaN</td>\n",
       "      <td>...</td>\n",
       "      <td>BETHEL, CT\\n(41.371727, -73.407448)</td>\n",
       "      <td>,41.371727,-73.407448</td>\n",
       "      <td>41.371727</td>\n",
       "      <td>-73.407448</td>\n",
       "      <td>1.0</td>\n",
       "      <td>0.0</td>\n",
       "      <td>0.0</td>\n",
       "      <td>2.0</td>\n",
       "      <td>7.0</td>\n",
       "      <td>street_drug</td>\n",
       "    </tr>\n",
       "    <tr>\n",
       "      <th>188</th>\n",
       "      <td>13-8677</td>\n",
       "      <td>06/08/2013</td>\n",
       "      <td>Male</td>\n",
       "      <td>White</td>\n",
       "      <td>35.0</td>\n",
       "      <td>MERIDEN</td>\n",
       "      <td>NaN</td>\n",
       "      <td>NEW HAVEN</td>\n",
       "      <td>MERIDEN</td>\n",
       "      <td>NaN</td>\n",
       "      <td>...</td>\n",
       "      <td>MERIDEN, CT\\n(41.537589, -72.8011)</td>\n",
       "      <td>,41.537589,-72.8011</td>\n",
       "      <td>41.537589</td>\n",
       "      <td>-72.801100</td>\n",
       "      <td>1.0</td>\n",
       "      <td>0.0</td>\n",
       "      <td>0.0</td>\n",
       "      <td>0.0</td>\n",
       "      <td>0.0</td>\n",
       "      <td>prescription_drug</td>\n",
       "    </tr>\n",
       "    <tr>\n",
       "      <th>328</th>\n",
       "      <td>13-8427</td>\n",
       "      <td>06/03/2013</td>\n",
       "      <td>Female</td>\n",
       "      <td>White</td>\n",
       "      <td>26.0</td>\n",
       "      <td>STRATFORD</td>\n",
       "      <td>NaN</td>\n",
       "      <td>FAIRFIELD</td>\n",
       "      <td>BRIDGEPORT</td>\n",
       "      <td>NaN</td>\n",
       "      <td>...</td>\n",
       "      <td>BRIDGEPORT, CT\\n(41.179195, -73.189476)</td>\n",
       "      <td>,41.179195,-73.189476</td>\n",
       "      <td>41.179195</td>\n",
       "      <td>-73.189476</td>\n",
       "      <td>0.0</td>\n",
       "      <td>0.0</td>\n",
       "      <td>0.0</td>\n",
       "      <td>1.0</td>\n",
       "      <td>0.0</td>\n",
       "      <td>street_drug</td>\n",
       "    </tr>\n",
       "    <tr>\n",
       "      <th>1965</th>\n",
       "      <td>15-9821</td>\n",
       "      <td>06/13/2015</td>\n",
       "      <td>Male</td>\n",
       "      <td>White</td>\n",
       "      <td>34.0</td>\n",
       "      <td>WEBSTER</td>\n",
       "      <td>MA</td>\n",
       "      <td>WORCESTER</td>\n",
       "      <td>THOMPSON</td>\n",
       "      <td>CT</td>\n",
       "      <td>...</td>\n",
       "      <td>THOMPSON, CT\\n(41.958546, -71.86272)</td>\n",
       "      <td>,41.958546,-71.86272</td>\n",
       "      <td>41.958546</td>\n",
       "      <td>-71.862720</td>\n",
       "      <td>1.0</td>\n",
       "      <td>0.0</td>\n",
       "      <td>0.0</td>\n",
       "      <td>2.0</td>\n",
       "      <td>-1.0</td>\n",
       "      <td>prescription_drug</td>\n",
       "    </tr>\n",
       "    <tr>\n",
       "      <th>991</th>\n",
       "      <td>14-15997</td>\n",
       "      <td>10/26/2014</td>\n",
       "      <td>Male</td>\n",
       "      <td>White</td>\n",
       "      <td>57.0</td>\n",
       "      <td>WEST HAVEN</td>\n",
       "      <td>NaN</td>\n",
       "      <td>NaN</td>\n",
       "      <td>WEST HAVEN</td>\n",
       "      <td>NaN</td>\n",
       "      <td>...</td>\n",
       "      <td>WEST HAVEN, CT\\n(41.272336, -72.949817)</td>\n",
       "      <td>,41.272336,-72.949817</td>\n",
       "      <td>41.272336</td>\n",
       "      <td>-72.949817</td>\n",
       "      <td>1.0</td>\n",
       "      <td>0.0</td>\n",
       "      <td>0.0</td>\n",
       "      <td>0.0</td>\n",
       "      <td>0.0</td>\n",
       "      <td>prescription_drug</td>\n",
       "    </tr>\n",
       "  </tbody>\n",
       "</table>\n",
       "<p>5 rows × 41 columns</p>\n",
       "</div>"
      ],
      "text/plain": [
       "     CaseNumber        Date     Sex   Race   Age Residence City  \\\n",
       "1975    14-5197  04/01/2014    Male  White  35.0         BETHEL   \n",
       "188     13-8677  06/08/2013    Male  White  35.0        MERIDEN   \n",
       "328     13-8427  06/03/2013  Female  White  26.0      STRATFORD   \n",
       "1965    15-9821  06/13/2015    Male  White  34.0        WEBSTER   \n",
       "991    14-15997  10/26/2014    Male  White  57.0     WEST HAVEN   \n",
       "\n",
       "     Residence State Residence County  Death City Death State  \\\n",
       "1975             NaN              NaN      BETHEL         NaN   \n",
       "188              NaN        NEW HAVEN     MERIDEN         NaN   \n",
       "328              NaN        FAIRFIELD  BRIDGEPORT         NaN   \n",
       "1965              MA        WORCESTER    THOMPSON          CT   \n",
       "991              NaN              NaN  WEST HAVEN         NaN   \n",
       "\n",
       "            ...                                         DeathLoc  \\\n",
       "1975        ...              BETHEL, CT\\n(41.371727, -73.407448)   \n",
       "188         ...               MERIDEN, CT\\n(41.537589, -72.8011)   \n",
       "328         ...          BRIDGEPORT, CT\\n(41.179195, -73.189476)   \n",
       "1965        ...             THOMPSON, CT\\n(41.958546, -71.86272)   \n",
       "991         ...          WEST HAVEN, CT\\n(41.272336, -72.949817)   \n",
       "\n",
       "                  DeathLoc2        lat        lon Sex_Encoded Race_Encoded  \\\n",
       "1975  ,41.371727,-73.407448  41.371727 -73.407448         1.0          0.0   \n",
       "188     ,41.537589,-72.8011  41.537589 -72.801100         1.0          0.0   \n",
       "328   ,41.179195,-73.189476  41.179195 -73.189476         0.0          0.0   \n",
       "1965   ,41.958546,-71.86272  41.958546 -71.862720         1.0          0.0   \n",
       "991   ,41.272336,-72.949817  41.272336 -72.949817         1.0          0.0   \n",
       "\n",
       "     MannerofDeath_Encoded Location_Encoded InjuryPlace_Encoded  \\\n",
       "1975                   0.0              2.0                 7.0   \n",
       "188                    0.0              0.0                 0.0   \n",
       "328                    0.0              1.0                 0.0   \n",
       "1965                   0.0              2.0                -1.0   \n",
       "991                    0.0              0.0                 0.0   \n",
       "\n",
       "               DrugType  \n",
       "1975        street_drug  \n",
       "188   prescription_drug  \n",
       "328         street_drug  \n",
       "1965  prescription_drug  \n",
       "991   prescription_drug  \n",
       "\n",
       "[5 rows x 41 columns]"
      ]
     },
     "execution_count": 368,
     "metadata": {},
     "output_type": "execute_result"
    }
   ],
   "source": [
    "train_set.head()"
   ]
  },
  {
   "cell_type": "markdown",
   "metadata": {},
   "source": [
    "## Seperate the Data Frame Into Numerical and Categorical Frames"
   ]
  },
  {
   "cell_type": "markdown",
   "metadata": {},
   "source": [
    "### Numerical Frame"
   ]
  },
  {
   "cell_type": "code",
   "execution_count": 369,
   "metadata": {},
   "outputs": [
    {
     "data": {
      "text/html": [
       "<div>\n",
       "<style>\n",
       "    .dataframe thead tr:only-child th {\n",
       "        text-align: right;\n",
       "    }\n",
       "\n",
       "    .dataframe thead th {\n",
       "        text-align: left;\n",
       "    }\n",
       "\n",
       "    .dataframe tbody tr th {\n",
       "        vertical-align: top;\n",
       "    }\n",
       "</style>\n",
       "<table border=\"1\" class=\"dataframe\">\n",
       "  <thead>\n",
       "    <tr style=\"text-align: right;\">\n",
       "      <th></th>\n",
       "      <th>Age</th>\n",
       "      <th>lat</th>\n",
       "      <th>lon</th>\n",
       "      <th>Sex_Encoded</th>\n",
       "      <th>Race_Encoded</th>\n",
       "      <th>MannerofDeath_Encoded</th>\n",
       "      <th>Location_Encoded</th>\n",
       "      <th>InjuryPlace_Encoded</th>\n",
       "    </tr>\n",
       "  </thead>\n",
       "  <tbody>\n",
       "    <tr>\n",
       "      <th>1975</th>\n",
       "      <td>35.0</td>\n",
       "      <td>41.371727</td>\n",
       "      <td>-73.407448</td>\n",
       "      <td>1.0</td>\n",
       "      <td>0.0</td>\n",
       "      <td>0.0</td>\n",
       "      <td>2.0</td>\n",
       "      <td>7.0</td>\n",
       "    </tr>\n",
       "    <tr>\n",
       "      <th>188</th>\n",
       "      <td>35.0</td>\n",
       "      <td>41.537589</td>\n",
       "      <td>-72.801100</td>\n",
       "      <td>1.0</td>\n",
       "      <td>0.0</td>\n",
       "      <td>0.0</td>\n",
       "      <td>0.0</td>\n",
       "      <td>0.0</td>\n",
       "    </tr>\n",
       "    <tr>\n",
       "      <th>328</th>\n",
       "      <td>26.0</td>\n",
       "      <td>41.179195</td>\n",
       "      <td>-73.189476</td>\n",
       "      <td>0.0</td>\n",
       "      <td>0.0</td>\n",
       "      <td>0.0</td>\n",
       "      <td>1.0</td>\n",
       "      <td>0.0</td>\n",
       "    </tr>\n",
       "    <tr>\n",
       "      <th>1965</th>\n",
       "      <td>34.0</td>\n",
       "      <td>41.958546</td>\n",
       "      <td>-71.862720</td>\n",
       "      <td>1.0</td>\n",
       "      <td>0.0</td>\n",
       "      <td>0.0</td>\n",
       "      <td>2.0</td>\n",
       "      <td>-1.0</td>\n",
       "    </tr>\n",
       "    <tr>\n",
       "      <th>991</th>\n",
       "      <td>57.0</td>\n",
       "      <td>41.272336</td>\n",
       "      <td>-72.949817</td>\n",
       "      <td>1.0</td>\n",
       "      <td>0.0</td>\n",
       "      <td>0.0</td>\n",
       "      <td>0.0</td>\n",
       "      <td>0.0</td>\n",
       "    </tr>\n",
       "  </tbody>\n",
       "</table>\n",
       "</div>"
      ],
      "text/plain": [
       "       Age        lat        lon  Sex_Encoded  Race_Encoded  \\\n",
       "1975  35.0  41.371727 -73.407448          1.0           0.0   \n",
       "188   35.0  41.537589 -72.801100          1.0           0.0   \n",
       "328   26.0  41.179195 -73.189476          0.0           0.0   \n",
       "1965  34.0  41.958546 -71.862720          1.0           0.0   \n",
       "991   57.0  41.272336 -72.949817          1.0           0.0   \n",
       "\n",
       "      MannerofDeath_Encoded  Location_Encoded  InjuryPlace_Encoded  \n",
       "1975                    0.0               2.0                  7.0  \n",
       "188                     0.0               0.0                  0.0  \n",
       "328                     0.0               1.0                  0.0  \n",
       "1965                    0.0               2.0                 -1.0  \n",
       "991                     0.0               0.0                  0.0  "
      ]
     },
     "execution_count": 369,
     "metadata": {},
     "output_type": "execute_result"
    }
   ],
   "source": [
    "train_set_num = train_set.filter(['Age','lat','lon', 'Sex_Encoded', 'Race_Encoded', 'MannerofDeath_Encoded', 'Location_Encoded', 'InjuryPlace_Encoded'], axis=1)\n",
    "train_set_num.head()"
   ]
  },
  {
   "cell_type": "code",
   "execution_count": 370,
   "metadata": {},
   "outputs": [
    {
     "data": {
      "text/html": [
       "<div>\n",
       "<style>\n",
       "    .dataframe thead tr:only-child th {\n",
       "        text-align: right;\n",
       "    }\n",
       "\n",
       "    .dataframe thead th {\n",
       "        text-align: left;\n",
       "    }\n",
       "\n",
       "    .dataframe tbody tr th {\n",
       "        vertical-align: top;\n",
       "    }\n",
       "</style>\n",
       "<table border=\"1\" class=\"dataframe\">\n",
       "  <thead>\n",
       "    <tr style=\"text-align: right;\">\n",
       "      <th></th>\n",
       "      <th>CaseNumber</th>\n",
       "      <th>Date</th>\n",
       "      <th>Sex</th>\n",
       "      <th>Race</th>\n",
       "      <th>Age</th>\n",
       "      <th>Residence City</th>\n",
       "      <th>Residence State</th>\n",
       "      <th>Residence County</th>\n",
       "      <th>Death City</th>\n",
       "      <th>Death State</th>\n",
       "      <th>...</th>\n",
       "      <th>DeathLoc</th>\n",
       "      <th>DeathLoc2</th>\n",
       "      <th>lat</th>\n",
       "      <th>lon</th>\n",
       "      <th>Sex_Encoded</th>\n",
       "      <th>Race_Encoded</th>\n",
       "      <th>MannerofDeath_Encoded</th>\n",
       "      <th>Location_Encoded</th>\n",
       "      <th>InjuryPlace_Encoded</th>\n",
       "      <th>DrugType</th>\n",
       "    </tr>\n",
       "  </thead>\n",
       "  <tbody>\n",
       "    <tr>\n",
       "      <th>1975</th>\n",
       "      <td>14-5197</td>\n",
       "      <td>04/01/2014</td>\n",
       "      <td>Male</td>\n",
       "      <td>White</td>\n",
       "      <td>35.0</td>\n",
       "      <td>BETHEL</td>\n",
       "      <td>NaN</td>\n",
       "      <td>NaN</td>\n",
       "      <td>BETHEL</td>\n",
       "      <td>NaN</td>\n",
       "      <td>...</td>\n",
       "      <td>BETHEL, CT\\n(41.371727, -73.407448)</td>\n",
       "      <td>,41.371727,-73.407448</td>\n",
       "      <td>41.371727</td>\n",
       "      <td>-73.407448</td>\n",
       "      <td>1.0</td>\n",
       "      <td>0.0</td>\n",
       "      <td>0.0</td>\n",
       "      <td>2.0</td>\n",
       "      <td>7.0</td>\n",
       "      <td>street_drug</td>\n",
       "    </tr>\n",
       "    <tr>\n",
       "      <th>188</th>\n",
       "      <td>13-8677</td>\n",
       "      <td>06/08/2013</td>\n",
       "      <td>Male</td>\n",
       "      <td>White</td>\n",
       "      <td>35.0</td>\n",
       "      <td>MERIDEN</td>\n",
       "      <td>NaN</td>\n",
       "      <td>NEW HAVEN</td>\n",
       "      <td>MERIDEN</td>\n",
       "      <td>NaN</td>\n",
       "      <td>...</td>\n",
       "      <td>MERIDEN, CT\\n(41.537589, -72.8011)</td>\n",
       "      <td>,41.537589,-72.8011</td>\n",
       "      <td>41.537589</td>\n",
       "      <td>-72.801100</td>\n",
       "      <td>1.0</td>\n",
       "      <td>0.0</td>\n",
       "      <td>0.0</td>\n",
       "      <td>0.0</td>\n",
       "      <td>0.0</td>\n",
       "      <td>prescription_drug</td>\n",
       "    </tr>\n",
       "    <tr>\n",
       "      <th>328</th>\n",
       "      <td>13-8427</td>\n",
       "      <td>06/03/2013</td>\n",
       "      <td>Female</td>\n",
       "      <td>White</td>\n",
       "      <td>26.0</td>\n",
       "      <td>STRATFORD</td>\n",
       "      <td>NaN</td>\n",
       "      <td>FAIRFIELD</td>\n",
       "      <td>BRIDGEPORT</td>\n",
       "      <td>NaN</td>\n",
       "      <td>...</td>\n",
       "      <td>BRIDGEPORT, CT\\n(41.179195, -73.189476)</td>\n",
       "      <td>,41.179195,-73.189476</td>\n",
       "      <td>41.179195</td>\n",
       "      <td>-73.189476</td>\n",
       "      <td>0.0</td>\n",
       "      <td>0.0</td>\n",
       "      <td>0.0</td>\n",
       "      <td>1.0</td>\n",
       "      <td>0.0</td>\n",
       "      <td>street_drug</td>\n",
       "    </tr>\n",
       "    <tr>\n",
       "      <th>1965</th>\n",
       "      <td>15-9821</td>\n",
       "      <td>06/13/2015</td>\n",
       "      <td>Male</td>\n",
       "      <td>White</td>\n",
       "      <td>34.0</td>\n",
       "      <td>WEBSTER</td>\n",
       "      <td>MA</td>\n",
       "      <td>WORCESTER</td>\n",
       "      <td>THOMPSON</td>\n",
       "      <td>CT</td>\n",
       "      <td>...</td>\n",
       "      <td>THOMPSON, CT\\n(41.958546, -71.86272)</td>\n",
       "      <td>,41.958546,-71.86272</td>\n",
       "      <td>41.958546</td>\n",
       "      <td>-71.862720</td>\n",
       "      <td>1.0</td>\n",
       "      <td>0.0</td>\n",
       "      <td>0.0</td>\n",
       "      <td>2.0</td>\n",
       "      <td>-1.0</td>\n",
       "      <td>prescription_drug</td>\n",
       "    </tr>\n",
       "    <tr>\n",
       "      <th>991</th>\n",
       "      <td>14-15997</td>\n",
       "      <td>10/26/2014</td>\n",
       "      <td>Male</td>\n",
       "      <td>White</td>\n",
       "      <td>57.0</td>\n",
       "      <td>WEST HAVEN</td>\n",
       "      <td>NaN</td>\n",
       "      <td>NaN</td>\n",
       "      <td>WEST HAVEN</td>\n",
       "      <td>NaN</td>\n",
       "      <td>...</td>\n",
       "      <td>WEST HAVEN, CT\\n(41.272336, -72.949817)</td>\n",
       "      <td>,41.272336,-72.949817</td>\n",
       "      <td>41.272336</td>\n",
       "      <td>-72.949817</td>\n",
       "      <td>1.0</td>\n",
       "      <td>0.0</td>\n",
       "      <td>0.0</td>\n",
       "      <td>0.0</td>\n",
       "      <td>0.0</td>\n",
       "      <td>prescription_drug</td>\n",
       "    </tr>\n",
       "  </tbody>\n",
       "</table>\n",
       "<p>5 rows × 41 columns</p>\n",
       "</div>"
      ],
      "text/plain": [
       "     CaseNumber        Date     Sex   Race   Age Residence City  \\\n",
       "1975    14-5197  04/01/2014    Male  White  35.0         BETHEL   \n",
       "188     13-8677  06/08/2013    Male  White  35.0        MERIDEN   \n",
       "328     13-8427  06/03/2013  Female  White  26.0      STRATFORD   \n",
       "1965    15-9821  06/13/2015    Male  White  34.0        WEBSTER   \n",
       "991    14-15997  10/26/2014    Male  White  57.0     WEST HAVEN   \n",
       "\n",
       "     Residence State Residence County  Death City Death State  \\\n",
       "1975             NaN              NaN      BETHEL         NaN   \n",
       "188              NaN        NEW HAVEN     MERIDEN         NaN   \n",
       "328              NaN        FAIRFIELD  BRIDGEPORT         NaN   \n",
       "1965              MA        WORCESTER    THOMPSON          CT   \n",
       "991              NaN              NaN  WEST HAVEN         NaN   \n",
       "\n",
       "            ...                                         DeathLoc  \\\n",
       "1975        ...              BETHEL, CT\\n(41.371727, -73.407448)   \n",
       "188         ...               MERIDEN, CT\\n(41.537589, -72.8011)   \n",
       "328         ...          BRIDGEPORT, CT\\n(41.179195, -73.189476)   \n",
       "1965        ...             THOMPSON, CT\\n(41.958546, -71.86272)   \n",
       "991         ...          WEST HAVEN, CT\\n(41.272336, -72.949817)   \n",
       "\n",
       "                  DeathLoc2        lat        lon Sex_Encoded Race_Encoded  \\\n",
       "1975  ,41.371727,-73.407448  41.371727 -73.407448         1.0          0.0   \n",
       "188     ,41.537589,-72.8011  41.537589 -72.801100         1.0          0.0   \n",
       "328   ,41.179195,-73.189476  41.179195 -73.189476         0.0          0.0   \n",
       "1965   ,41.958546,-71.86272  41.958546 -71.862720         1.0          0.0   \n",
       "991   ,41.272336,-72.949817  41.272336 -72.949817         1.0          0.0   \n",
       "\n",
       "     MannerofDeath_Encoded Location_Encoded InjuryPlace_Encoded  \\\n",
       "1975                   0.0              2.0                 7.0   \n",
       "188                    0.0              0.0                 0.0   \n",
       "328                    0.0              1.0                 0.0   \n",
       "1965                   0.0              2.0                -1.0   \n",
       "991                    0.0              0.0                 0.0   \n",
       "\n",
       "               DrugType  \n",
       "1975        street_drug  \n",
       "188   prescription_drug  \n",
       "328         street_drug  \n",
       "1965  prescription_drug  \n",
       "991   prescription_drug  \n",
       "\n",
       "[5 rows x 41 columns]"
      ]
     },
     "execution_count": 370,
     "metadata": {},
     "output_type": "execute_result"
    }
   ],
   "source": [
    "# Find the rows that have NaN values\n",
    "sample_incomplete_rows = train_set[train_set.isnull().any(axis=1)].head()\n",
    "sample_incomplete_rows"
   ]
  },
  {
   "cell_type": "code",
   "execution_count": 371,
   "metadata": {
    "collapsed": true
   },
   "outputs": [],
   "source": [
    "# Remove the not useful columns with NaN values\n",
    "# train_set.drop(\"Residence State\", axis=1, inplace=True)\n",
    "# train_set.drop(\"Residence County\", axis=1, inplace=True)\n",
    "# train_set.drop(\"Death State\", axis=1, inplace=True)\n",
    "# train_set.drop(\"InjuryPlace\", axis=1, inplace=True)\n",
    "# train_set.drop(\"DescriptionofInjury\", axis=1, inplace=True)\n"
   ]
  },
  {
   "cell_type": "code",
   "execution_count": 372,
   "metadata": {},
   "outputs": [
    {
     "data": {
      "text/html": [
       "<div>\n",
       "<style>\n",
       "    .dataframe thead tr:only-child th {\n",
       "        text-align: right;\n",
       "    }\n",
       "\n",
       "    .dataframe thead th {\n",
       "        text-align: left;\n",
       "    }\n",
       "\n",
       "    .dataframe tbody tr th {\n",
       "        vertical-align: top;\n",
       "    }\n",
       "</style>\n",
       "<table border=\"1\" class=\"dataframe\">\n",
       "  <thead>\n",
       "    <tr style=\"text-align: right;\">\n",
       "      <th></th>\n",
       "      <th>Sex</th>\n",
       "      <th>Race</th>\n",
       "      <th>MannerofDeath</th>\n",
       "      <th>Location</th>\n",
       "      <th>InjuryPlace</th>\n",
       "      <th>DrugType</th>\n",
       "    </tr>\n",
       "  </thead>\n",
       "  <tbody>\n",
       "    <tr>\n",
       "      <th>1975</th>\n",
       "      <td>Male</td>\n",
       "      <td>White</td>\n",
       "      <td>Accident</td>\n",
       "      <td>Other</td>\n",
       "      <td>Hotel or Motel</td>\n",
       "      <td>street_drug</td>\n",
       "    </tr>\n",
       "    <tr>\n",
       "      <th>188</th>\n",
       "      <td>Male</td>\n",
       "      <td>White</td>\n",
       "      <td>Accident</td>\n",
       "      <td>Residence</td>\n",
       "      <td>Residence</td>\n",
       "      <td>prescription_drug</td>\n",
       "    </tr>\n",
       "    <tr>\n",
       "      <th>328</th>\n",
       "      <td>Female</td>\n",
       "      <td>White</td>\n",
       "      <td>Accident</td>\n",
       "      <td>Hospital</td>\n",
       "      <td>Residence</td>\n",
       "      <td>street_drug</td>\n",
       "    </tr>\n",
       "    <tr>\n",
       "      <th>1965</th>\n",
       "      <td>Male</td>\n",
       "      <td>White</td>\n",
       "      <td>Accident</td>\n",
       "      <td>Other</td>\n",
       "      <td>NaN</td>\n",
       "      <td>prescription_drug</td>\n",
       "    </tr>\n",
       "    <tr>\n",
       "      <th>991</th>\n",
       "      <td>Male</td>\n",
       "      <td>White</td>\n",
       "      <td>Accident</td>\n",
       "      <td>Residence</td>\n",
       "      <td>Residence</td>\n",
       "      <td>prescription_drug</td>\n",
       "    </tr>\n",
       "  </tbody>\n",
       "</table>\n",
       "</div>"
      ],
      "text/plain": [
       "         Sex   Race MannerofDeath   Location     InjuryPlace  \\\n",
       "1975    Male  White      Accident      Other  Hotel or Motel   \n",
       "188     Male  White      Accident  Residence       Residence   \n",
       "328   Female  White      Accident   Hospital       Residence   \n",
       "1965    Male  White      Accident      Other             NaN   \n",
       "991     Male  White      Accident  Residence       Residence   \n",
       "\n",
       "               DrugType  \n",
       "1975        street_drug  \n",
       "188   prescription_drug  \n",
       "328         street_drug  \n",
       "1965  prescription_drug  \n",
       "991   prescription_drug  "
      ]
     },
     "execution_count": 372,
     "metadata": {},
     "output_type": "execute_result"
    }
   ],
   "source": [
    "train_set_cat = train_set.filter(['Sex','Race','MannerofDeath','Location', 'InjuryPlace', 'DrugType'], axis=1)\n",
    "train_set_cat.head()"
   ]
  },
  {
   "cell_type": "code",
   "execution_count": 373,
   "metadata": {},
   "outputs": [
    {
     "data": {
      "text/html": [
       "<div>\n",
       "<style>\n",
       "    .dataframe thead tr:only-child th {\n",
       "        text-align: right;\n",
       "    }\n",
       "\n",
       "    .dataframe thead th {\n",
       "        text-align: left;\n",
       "    }\n",
       "\n",
       "    .dataframe tbody tr th {\n",
       "        vertical-align: top;\n",
       "    }\n",
       "</style>\n",
       "<table border=\"1\" class=\"dataframe\">\n",
       "  <thead>\n",
       "    <tr style=\"text-align: right;\">\n",
       "      <th></th>\n",
       "      <th>Sex_Encoded</th>\n",
       "      <th>Race_Encoded</th>\n",
       "      <th>MannerofDeath_Encoded</th>\n",
       "      <th>Location_Encoded</th>\n",
       "      <th>InjuryPlace_Encoded</th>\n",
       "    </tr>\n",
       "  </thead>\n",
       "  <tbody>\n",
       "    <tr>\n",
       "      <th>1975</th>\n",
       "      <td>1.0</td>\n",
       "      <td>0.0</td>\n",
       "      <td>0.0</td>\n",
       "      <td>2.0</td>\n",
       "      <td>7.0</td>\n",
       "    </tr>\n",
       "    <tr>\n",
       "      <th>188</th>\n",
       "      <td>1.0</td>\n",
       "      <td>0.0</td>\n",
       "      <td>0.0</td>\n",
       "      <td>0.0</td>\n",
       "      <td>0.0</td>\n",
       "    </tr>\n",
       "    <tr>\n",
       "      <th>328</th>\n",
       "      <td>0.0</td>\n",
       "      <td>0.0</td>\n",
       "      <td>0.0</td>\n",
       "      <td>1.0</td>\n",
       "      <td>0.0</td>\n",
       "    </tr>\n",
       "    <tr>\n",
       "      <th>1965</th>\n",
       "      <td>1.0</td>\n",
       "      <td>0.0</td>\n",
       "      <td>0.0</td>\n",
       "      <td>2.0</td>\n",
       "      <td>-1.0</td>\n",
       "    </tr>\n",
       "    <tr>\n",
       "      <th>991</th>\n",
       "      <td>1.0</td>\n",
       "      <td>0.0</td>\n",
       "      <td>0.0</td>\n",
       "      <td>0.0</td>\n",
       "      <td>0.0</td>\n",
       "    </tr>\n",
       "  </tbody>\n",
       "</table>\n",
       "</div>"
      ],
      "text/plain": [
       "      Sex_Encoded  Race_Encoded  MannerofDeath_Encoded  Location_Encoded  \\\n",
       "1975          1.0           0.0                    0.0               2.0   \n",
       "188           1.0           0.0                    0.0               0.0   \n",
       "328           0.0           0.0                    0.0               1.0   \n",
       "1965          1.0           0.0                    0.0               2.0   \n",
       "991           1.0           0.0                    0.0               0.0   \n",
       "\n",
       "      InjuryPlace_Encoded  \n",
       "1975                  7.0  \n",
       "188                   0.0  \n",
       "328                   0.0  \n",
       "1965                 -1.0  \n",
       "991                   0.0  "
      ]
     },
     "execution_count": 373,
     "metadata": {},
     "output_type": "execute_result"
    }
   ],
   "source": [
    "# TODO: This may not be necessary.\n",
    "train_set_cat_encoded = train_set.filter(['Sex_Encoded','Race_Encoded','MannerofDeath_Encoded','Location_Encoded', 'InjuryPlace_Encoded', 'DrugType_Encoded'], axis=1)\n",
    "train_set_cat_encoded.head()"
   ]
  },
  {
   "cell_type": "markdown",
   "metadata": {},
   "source": [
    "## Encode the Categories"
   ]
  },
  {
   "cell_type": "code",
   "execution_count": 374,
   "metadata": {
    "collapsed": true
   },
   "outputs": [],
   "source": [
    "# Definition of the CategoricalEncoder class, copied from PR #9151.\n",
    "# https://github.com/scikit-learn/scikit-learn/pull/9151\n",
    "\n",
    "from sklearn.base import BaseEstimator, TransformerMixin\n",
    "from sklearn.utils import check_array\n",
    "from sklearn.preprocessing import LabelEncoder\n",
    "from scipy import sparse\n",
    "\n",
    "class CategoricalEncoder(BaseEstimator, TransformerMixin):\n",
    "    \"\"\"Encode categorical features as a numeric array.\n",
    "    The input to this transformer should be a matrix of integers or strings,\n",
    "    denoting the values taken on by categorical (discrete) features.\n",
    "    The features can be encoded using a one-hot aka one-of-K scheme\n",
    "    (``encoding='onehot'``, the default) or converted to ordinal integers\n",
    "    (``encoding='ordinal'``).\n",
    "    This encoding is needed for feeding categorical data to many scikit-learn\n",
    "    estimators, notably linear models and SVMs with the standard kernels.\n",
    "    Read more in the :ref:`User Guide <preprocessing_categorical_features>`.\n",
    "    Parameters\n",
    "    ----------\n",
    "    encoding : str, 'onehot', 'onehot-dense' or 'ordinal'\n",
    "        The type of encoding to use (default is 'onehot'):\n",
    "        - 'onehot': encode the features using a one-hot aka one-of-K scheme\n",
    "          (or also called 'dummy' encoding). This creates a binary column for\n",
    "          each category and returns a sparse matrix.\n",
    "        - 'onehot-dense': the same as 'onehot' but returns a dense array\n",
    "          instead of a sparse matrix.\n",
    "        - 'ordinal': encode the features as ordinal integers. This results in\n",
    "          a single column of integers (0 to n_categories - 1) per feature.\n",
    "    categories : 'auto' or a list of lists/arrays of values.\n",
    "        Categories (unique values) per feature:\n",
    "        - 'auto' : Determine categories automatically from the training data.\n",
    "        - list : ``categories[i]`` holds the categories expected in the ith\n",
    "          column. The passed categories are sorted before encoding the data\n",
    "          (used categories can be found in the ``categories_`` attribute).\n",
    "    dtype : number type, default np.float64\n",
    "        Desired dtype of output.\n",
    "    handle_unknown : 'error' (default) or 'ignore'\n",
    "        Whether to raise an error or ignore if a unknown categorical feature is\n",
    "        present during transform (default is to raise). When this is parameter\n",
    "        is set to 'ignore' and an unknown category is encountered during\n",
    "        transform, the resulting one-hot encoded columns for this feature\n",
    "        will be all zeros.\n",
    "        Ignoring unknown categories is not supported for\n",
    "        ``encoding='ordinal'``.\n",
    "    Attributes\n",
    "    ----------\n",
    "    categories_ : list of arrays\n",
    "        The categories of each feature determined during fitting. When\n",
    "        categories were specified manually, this holds the sorted categories\n",
    "        (in order corresponding with output of `transform`).\n",
    "    Examples\n",
    "    --------\n",
    "    Given a dataset with three features and two samples, we let the encoder\n",
    "    find the maximum value per feature and transform the data to a binary\n",
    "    one-hot encoding.\n",
    "    >>> from sklearn.preprocessing import CategoricalEncoder\n",
    "    >>> enc = CategoricalEncoder(handle_unknown='ignore')\n",
    "    >>> enc.fit([[0, 0, 3], [1, 1, 0], [0, 2, 1], [1, 0, 2]])\n",
    "    ... # doctest: +ELLIPSIS\n",
    "    CategoricalEncoder(categories='auto', dtype=<... 'numpy.float64'>,\n",
    "              encoding='onehot', handle_unknown='ignore')\n",
    "    >>> enc.transform([[0, 1, 1], [1, 0, 4]]).toarray()\n",
    "    array([[ 1.,  0.,  0.,  1.,  0.,  0.,  1.,  0.,  0.],\n",
    "           [ 0.,  1.,  1.,  0.,  0.,  0.,  0.,  0.,  0.]])\n",
    "    See also\n",
    "    --------\n",
    "    sklearn.preprocessing.OneHotEncoder : performs a one-hot encoding of\n",
    "      integer ordinal features. The ``OneHotEncoder assumes`` that input\n",
    "      features take on values in the range ``[0, max(feature)]`` instead of\n",
    "      using the unique values.\n",
    "    sklearn.feature_extraction.DictVectorizer : performs a one-hot encoding of\n",
    "      dictionary items (also handles string-valued features).\n",
    "    sklearn.feature_extraction.FeatureHasher : performs an approximate one-hot\n",
    "      encoding of dictionary items or strings.\n",
    "    \"\"\"\n",
    "\n",
    "    def __init__(self, encoding='onehot', categories='auto', dtype=np.float64,\n",
    "                 handle_unknown='error'):\n",
    "        self.encoding = encoding\n",
    "        self.categories = categories\n",
    "        self.dtype = dtype\n",
    "        self.handle_unknown = handle_unknown\n",
    "\n",
    "    def fit(self, X, y=None):\n",
    "        \"\"\"Fit the CategoricalEncoder to X.\n",
    "        Parameters\n",
    "        ----------\n",
    "        X : array-like, shape [n_samples, n_feature]\n",
    "            The data to determine the categories of each feature.\n",
    "        Returns\n",
    "        -------\n",
    "        self\n",
    "        \"\"\"\n",
    "\n",
    "        if self.encoding not in ['onehot', 'onehot-dense', 'ordinal']:\n",
    "            template = (\"encoding should be either 'onehot', 'onehot-dense' \"\n",
    "                        \"or 'ordinal', got %s\")\n",
    "            raise ValueError(template % self.handle_unknown)\n",
    "\n",
    "        if self.handle_unknown not in ['error', 'ignore']:\n",
    "            template = (\"handle_unknown should be either 'error' or \"\n",
    "                        \"'ignore', got %s\")\n",
    "            raise ValueError(template % self.handle_unknown)\n",
    "\n",
    "        if self.encoding == 'ordinal' and self.handle_unknown == 'ignore':\n",
    "            raise ValueError(\"handle_unknown='ignore' is not supported for\"\n",
    "                             \" encoding='ordinal'\")\n",
    "\n",
    "        X = check_array(X, dtype=np.object, accept_sparse='csc', copy=True)\n",
    "        n_samples, n_features = X.shape\n",
    "\n",
    "        self._label_encoders_ = [LabelEncoder() for _ in range(n_features)]\n",
    "\n",
    "        for i in range(n_features):\n",
    "            le = self._label_encoders_[i]\n",
    "            Xi = X[:, i]\n",
    "            if self.categories == 'auto':\n",
    "                le.fit(Xi)\n",
    "            else:\n",
    "                valid_mask = np.in1d(Xi, self.categories[i])\n",
    "                if not np.all(valid_mask):\n",
    "                    if self.handle_unknown == 'error':\n",
    "                        diff = np.unique(Xi[~valid_mask])\n",
    "                        msg = (\"Found unknown categories {0} in column {1}\"\n",
    "                               \" during fit\".format(diff, i))\n",
    "                        raise ValueError(msg)\n",
    "                le.classes_ = np.array(np.sort(self.categories[i]))\n",
    "\n",
    "        self.categories_ = [le.classes_ for le in self._label_encoders_]\n",
    "\n",
    "        return self\n",
    "\n",
    "    def transform(self, X):\n",
    "        \"\"\"Transform X using one-hot encoding.\n",
    "        Parameters\n",
    "        ----------\n",
    "        X : array-like, shape [n_samples, n_features]\n",
    "            The data to encode.\n",
    "        Returns\n",
    "        -------\n",
    "        X_out : sparse matrix or a 2-d array\n",
    "            Transformed input.\n",
    "        \"\"\"\n",
    "        X = check_array(X, accept_sparse='csc', dtype=np.object, copy=True)\n",
    "        n_samples, n_features = X.shape\n",
    "        X_int = np.zeros_like(X, dtype=np.int)\n",
    "        X_mask = np.ones_like(X, dtype=np.bool)\n",
    "\n",
    "        for i in range(n_features):\n",
    "            valid_mask = np.in1d(X[:, i], self.categories_[i])\n",
    "\n",
    "            if not np.all(valid_mask):\n",
    "                if self.handle_unknown == 'error':\n",
    "                    diff = np.unique(X[~valid_mask, i])\n",
    "                    msg = (\"Found unknown categories {0} in column {1}\"\n",
    "                           \" during transform\".format(diff, i))\n",
    "                    raise ValueError(msg)\n",
    "                else:\n",
    "                    # Set the problematic rows to an acceptable value and\n",
    "                    # continue `The rows are marked `X_mask` and will be\n",
    "                    # removed later.\n",
    "                    X_mask[:, i] = valid_mask\n",
    "                    X[:, i][~valid_mask] = self.categories_[i][0]\n",
    "            X_int[:, i] = self._label_encoders_[i].transform(X[:, i])\n",
    "\n",
    "        if self.encoding == 'ordinal':\n",
    "            return X_int.astype(self.dtype, copy=False)\n",
    "\n",
    "        mask = X_mask.ravel()\n",
    "        n_values = [cats.shape[0] for cats in self.categories_]\n",
    "        n_values = np.array([0] + n_values)\n",
    "        indices = np.cumsum(n_values)\n",
    "\n",
    "        column_indices = (X_int + indices[:-1]).ravel()[mask]\n",
    "        row_indices = np.repeat(np.arange(n_samples, dtype=np.int32),\n",
    "                                n_features)[mask]\n",
    "        data = np.ones(n_samples * n_features)[mask]\n",
    "\n",
    "        out = sparse.csc_matrix((data, (row_indices, column_indices)),\n",
    "                                shape=(n_samples, indices[-1]),\n",
    "                                dtype=self.dtype).tocsr()\n",
    "        if self.encoding == 'onehot-dense':\n",
    "            return out.toarray()\n",
    "        else:\n",
    "            return out"
   ]
  },
  {
   "cell_type": "markdown",
   "metadata": {},
   "source": [
    "The `CategoricalEncoder` expects a 2D array containing one or more categorical input features. We need to reshape `sex_categories` to a 2D array:"
   ]
  },
  {
   "cell_type": "code",
   "execution_count": 375,
   "metadata": {},
   "outputs": [
    {
     "data": {
      "text/plain": [
       "<2x2 sparse matrix of type '<class 'numpy.float64'>'\n",
       "\twith 2 stored elements in Compressed Sparse Row format>"
      ]
     },
     "execution_count": 375,
     "metadata": {},
     "output_type": "execute_result"
    }
   ],
   "source": [
    "cat_encoder = CategoricalEncoder()\n",
    "drug_type_categories_reshaped = drug_type_categories.values.reshape(-1, 1)\n",
    "drug_type_categories_1hot = cat_encoder.fit_transform(drug_type_categories_reshaped)\n",
    "drug_type_categories_1hot"
   ]
  },
  {
   "cell_type": "code",
   "execution_count": 376,
   "metadata": {},
   "outputs": [
    {
     "data": {
      "text/plain": [
       "array([[ 1.,  0.],\n",
       "       [ 0.,  1.]])"
      ]
     },
     "execution_count": 376,
     "metadata": {},
     "output_type": "execute_result"
    }
   ],
   "source": [
    "drug_type_categories_1hot.toarray()"
   ]
  },
  {
   "cell_type": "markdown",
   "metadata": {},
   "source": [
    "The default encoding is one-hot, and it returns a sparse array. You can use `toarray()` to get a dense array:"
   ]
  },
  {
   "cell_type": "markdown",
   "metadata": {},
   "source": [
    "Alternatively, we can specify the encoding to be `\"onehot-dense\"` to get a dense matrix rather than a sparse matrix:"
   ]
  },
  {
   "cell_type": "code",
   "execution_count": 377,
   "metadata": {},
   "outputs": [
    {
     "data": {
      "text/plain": [
       "[array(['prescription_drug', 'street_drug'], dtype=object)]"
      ]
     },
     "execution_count": 377,
     "metadata": {},
     "output_type": "execute_result"
    }
   ],
   "source": [
    "cat_encoder.categories_"
   ]
  },
  {
   "cell_type": "code",
   "execution_count": 378,
   "metadata": {},
   "outputs": [
    {
     "data": {
      "text/plain": [
       "array([[ 1.,  0.],\n",
       "       [ 0.,  1.]])"
      ]
     },
     "execution_count": 378,
     "metadata": {},
     "output_type": "execute_result"
    }
   ],
   "source": [
    "cat_encoder = CategoricalEncoder(encoding=\"onehot-dense\")\n",
    "drug_type_categories_1hot = cat_encoder.fit_transform(drug_type_categories_reshaped)\n",
    "drug_type_categories_1hot"
   ]
  },
  {
   "cell_type": "markdown",
   "metadata": {},
   "source": [
    "# Gather Insights"
   ]
  },
  {
   "cell_type": "code",
   "execution_count": 379,
   "metadata": {},
   "outputs": [
    {
     "data": {
      "text/html": [
       "<div>\n",
       "<style>\n",
       "    .dataframe thead tr:only-child th {\n",
       "        text-align: right;\n",
       "    }\n",
       "\n",
       "    .dataframe thead th {\n",
       "        text-align: left;\n",
       "    }\n",
       "\n",
       "    .dataframe tbody tr th {\n",
       "        vertical-align: top;\n",
       "    }\n",
       "</style>\n",
       "<table border=\"1\" class=\"dataframe\">\n",
       "  <thead>\n",
       "    <tr style=\"text-align: right;\">\n",
       "      <th></th>\n",
       "      <th>Age</th>\n",
       "      <th>lat</th>\n",
       "      <th>lon</th>\n",
       "      <th>Sex_Encoded</th>\n",
       "      <th>Race_Encoded</th>\n",
       "      <th>MannerofDeath_Encoded</th>\n",
       "      <th>Location_Encoded</th>\n",
       "      <th>InjuryPlace_Encoded</th>\n",
       "    </tr>\n",
       "  </thead>\n",
       "  <tbody>\n",
       "    <tr>\n",
       "      <th>Age</th>\n",
       "      <td>1.000000</td>\n",
       "      <td>-0.014225</td>\n",
       "      <td>0.005794</td>\n",
       "      <td>-0.061070</td>\n",
       "      <td>0.073162</td>\n",
       "      <td>0.008254</td>\n",
       "      <td>-0.091706</td>\n",
       "      <td>-0.029072</td>\n",
       "    </tr>\n",
       "    <tr>\n",
       "      <th>lat</th>\n",
       "      <td>-0.014225</td>\n",
       "      <td>1.000000</td>\n",
       "      <td>0.426430</td>\n",
       "      <td>-0.002626</td>\n",
       "      <td>-0.066387</td>\n",
       "      <td>-0.009361</td>\n",
       "      <td>-0.037885</td>\n",
       "      <td>-0.038257</td>\n",
       "    </tr>\n",
       "    <tr>\n",
       "      <th>lon</th>\n",
       "      <td>0.005794</td>\n",
       "      <td>0.426430</td>\n",
       "      <td>1.000000</td>\n",
       "      <td>0.011824</td>\n",
       "      <td>-0.052410</td>\n",
       "      <td>-0.025875</td>\n",
       "      <td>-0.053294</td>\n",
       "      <td>-0.033164</td>\n",
       "    </tr>\n",
       "    <tr>\n",
       "      <th>Sex_Encoded</th>\n",
       "      <td>-0.061070</td>\n",
       "      <td>-0.002626</td>\n",
       "      <td>0.011824</td>\n",
       "      <td>1.000000</td>\n",
       "      <td>0.035650</td>\n",
       "      <td>-0.003227</td>\n",
       "      <td>0.035024</td>\n",
       "      <td>0.052084</td>\n",
       "    </tr>\n",
       "    <tr>\n",
       "      <th>Race_Encoded</th>\n",
       "      <td>0.073162</td>\n",
       "      <td>-0.066387</td>\n",
       "      <td>-0.052410</td>\n",
       "      <td>0.035650</td>\n",
       "      <td>1.000000</td>\n",
       "      <td>0.004995</td>\n",
       "      <td>0.054284</td>\n",
       "      <td>0.029439</td>\n",
       "    </tr>\n",
       "    <tr>\n",
       "      <th>MannerofDeath_Encoded</th>\n",
       "      <td>0.008254</td>\n",
       "      <td>-0.009361</td>\n",
       "      <td>-0.025875</td>\n",
       "      <td>-0.003227</td>\n",
       "      <td>0.004995</td>\n",
       "      <td>1.000000</td>\n",
       "      <td>0.006355</td>\n",
       "      <td>-0.022378</td>\n",
       "    </tr>\n",
       "    <tr>\n",
       "      <th>Location_Encoded</th>\n",
       "      <td>-0.091706</td>\n",
       "      <td>-0.037885</td>\n",
       "      <td>-0.053294</td>\n",
       "      <td>0.035024</td>\n",
       "      <td>0.054284</td>\n",
       "      <td>0.006355</td>\n",
       "      <td>1.000000</td>\n",
       "      <td>0.350838</td>\n",
       "    </tr>\n",
       "    <tr>\n",
       "      <th>InjuryPlace_Encoded</th>\n",
       "      <td>-0.029072</td>\n",
       "      <td>-0.038257</td>\n",
       "      <td>-0.033164</td>\n",
       "      <td>0.052084</td>\n",
       "      <td>0.029439</td>\n",
       "      <td>-0.022378</td>\n",
       "      <td>0.350838</td>\n",
       "      <td>1.000000</td>\n",
       "    </tr>\n",
       "  </tbody>\n",
       "</table>\n",
       "</div>"
      ],
      "text/plain": [
       "                            Age       lat       lon  Sex_Encoded  \\\n",
       "Age                    1.000000 -0.014225  0.005794    -0.061070   \n",
       "lat                   -0.014225  1.000000  0.426430    -0.002626   \n",
       "lon                    0.005794  0.426430  1.000000     0.011824   \n",
       "Sex_Encoded           -0.061070 -0.002626  0.011824     1.000000   \n",
       "Race_Encoded           0.073162 -0.066387 -0.052410     0.035650   \n",
       "MannerofDeath_Encoded  0.008254 -0.009361 -0.025875    -0.003227   \n",
       "Location_Encoded      -0.091706 -0.037885 -0.053294     0.035024   \n",
       "InjuryPlace_Encoded   -0.029072 -0.038257 -0.033164     0.052084   \n",
       "\n",
       "                       Race_Encoded  MannerofDeath_Encoded  Location_Encoded  \\\n",
       "Age                        0.073162               0.008254         -0.091706   \n",
       "lat                       -0.066387              -0.009361         -0.037885   \n",
       "lon                       -0.052410              -0.025875         -0.053294   \n",
       "Sex_Encoded                0.035650              -0.003227          0.035024   \n",
       "Race_Encoded               1.000000               0.004995          0.054284   \n",
       "MannerofDeath_Encoded      0.004995               1.000000          0.006355   \n",
       "Location_Encoded           0.054284               0.006355          1.000000   \n",
       "InjuryPlace_Encoded        0.029439              -0.022378          0.350838   \n",
       "\n",
       "                       InjuryPlace_Encoded  \n",
       "Age                              -0.029072  \n",
       "lat                              -0.038257  \n",
       "lon                              -0.033164  \n",
       "Sex_Encoded                       0.052084  \n",
       "Race_Encoded                      0.029439  \n",
       "MannerofDeath_Encoded            -0.022378  \n",
       "Location_Encoded                  0.350838  \n",
       "InjuryPlace_Encoded               1.000000  "
      ]
     },
     "execution_count": 379,
     "metadata": {},
     "output_type": "execute_result"
    }
   ],
   "source": [
    "corr_matrix = train_set.corr()\n",
    "corr_matrix"
   ]
  },
  {
   "cell_type": "code",
   "execution_count": 380,
   "metadata": {},
   "outputs": [
    {
     "data": {
      "text/plain": [
       "InjuryPlace_Encoded      1.000000\n",
       "Location_Encoded         0.350838\n",
       "Sex_Encoded              0.052084\n",
       "Race_Encoded             0.029439\n",
       "MannerofDeath_Encoded   -0.022378\n",
       "Age                     -0.029072\n",
       "lon                     -0.033164\n",
       "lat                     -0.038257\n",
       "Name: InjuryPlace_Encoded, dtype: float64"
      ]
     },
     "execution_count": 380,
     "metadata": {},
     "output_type": "execute_result"
    }
   ],
   "source": [
    "# Corelation between the InjuryPlace and other parameters.\n",
    "# It can be reasoned that there is a good corelation between the injury place,\n",
    "# and the location (i.e house, hospital) the person died.\n",
    "\n",
    "corr_matrix[\"InjuryPlace_Encoded\"].sort_values(ascending=False)"
   ]
  },
  {
   "cell_type": "code",
   "execution_count": 381,
   "metadata": {},
   "outputs": [
    {
     "data": {
      "text/html": [
       "<div>\n",
       "<style>\n",
       "    .dataframe thead tr:only-child th {\n",
       "        text-align: right;\n",
       "    }\n",
       "\n",
       "    .dataframe thead th {\n",
       "        text-align: left;\n",
       "    }\n",
       "\n",
       "    .dataframe tbody tr th {\n",
       "        vertical-align: top;\n",
       "    }\n",
       "</style>\n",
       "<table border=\"1\" class=\"dataframe\">\n",
       "  <thead>\n",
       "    <tr style=\"text-align: right;\">\n",
       "      <th></th>\n",
       "      <th>Age</th>\n",
       "      <th>lat</th>\n",
       "      <th>lon</th>\n",
       "      <th>Sex_Encoded</th>\n",
       "      <th>Race_Encoded</th>\n",
       "      <th>MannerofDeath_Encoded</th>\n",
       "      <th>Location_Encoded</th>\n",
       "      <th>InjuryPlace_Encoded</th>\n",
       "    </tr>\n",
       "  </thead>\n",
       "  <tbody>\n",
       "    <tr>\n",
       "      <th>count</th>\n",
       "      <td>2851.000000</td>\n",
       "      <td>2851.000000</td>\n",
       "      <td>2851.000000</td>\n",
       "      <td>2851.000000</td>\n",
       "      <td>2851.000000</td>\n",
       "      <td>2851.000000</td>\n",
       "      <td>2851.000000</td>\n",
       "      <td>2851.000000</td>\n",
       "    </tr>\n",
       "    <tr>\n",
       "      <th>mean</th>\n",
       "      <td>41.780077</td>\n",
       "      <td>41.529346</td>\n",
       "      <td>-72.804288</td>\n",
       "      <td>0.724307</td>\n",
       "      <td>0.412487</td>\n",
       "      <td>0.003508</td>\n",
       "      <td>0.620835</td>\n",
       "      <td>2.441950</td>\n",
       "    </tr>\n",
       "    <tr>\n",
       "      <th>std</th>\n",
       "      <td>12.364821</td>\n",
       "      <td>0.234544</td>\n",
       "      <td>0.389758</td>\n",
       "      <td>0.446941</td>\n",
       "      <td>1.039723</td>\n",
       "      <td>0.059131</td>\n",
       "      <td>0.739161</td>\n",
       "      <td>7.270878</td>\n",
       "    </tr>\n",
       "    <tr>\n",
       "      <th>min</th>\n",
       "      <td>14.000000</td>\n",
       "      <td>41.026526</td>\n",
       "      <td>-73.628549</td>\n",
       "      <td>0.000000</td>\n",
       "      <td>-1.000000</td>\n",
       "      <td>0.000000</td>\n",
       "      <td>-1.000000</td>\n",
       "      <td>-1.000000</td>\n",
       "    </tr>\n",
       "    <tr>\n",
       "      <th>25%</th>\n",
       "      <td>31.000000</td>\n",
       "      <td>41.313993</td>\n",
       "      <td>-73.056564</td>\n",
       "      <td>0.000000</td>\n",
       "      <td>0.000000</td>\n",
       "      <td>0.000000</td>\n",
       "      <td>0.000000</td>\n",
       "      <td>0.000000</td>\n",
       "    </tr>\n",
       "    <tr>\n",
       "      <th>50%</th>\n",
       "      <td>42.000000</td>\n",
       "      <td>41.554261</td>\n",
       "      <td>-72.824947</td>\n",
       "      <td>1.000000</td>\n",
       "      <td>0.000000</td>\n",
       "      <td>0.000000</td>\n",
       "      <td>0.000000</td>\n",
       "      <td>0.000000</td>\n",
       "    </tr>\n",
       "    <tr>\n",
       "      <th>75%</th>\n",
       "      <td>52.000000</td>\n",
       "      <td>41.765775</td>\n",
       "      <td>-72.643785</td>\n",
       "      <td>1.000000</td>\n",
       "      <td>0.000000</td>\n",
       "      <td>0.000000</td>\n",
       "      <td>1.000000</td>\n",
       "      <td>1.000000</td>\n",
       "    </tr>\n",
       "    <tr>\n",
       "      <th>max</th>\n",
       "      <td>81.000000</td>\n",
       "      <td>42.025992</td>\n",
       "      <td>-71.808899</td>\n",
       "      <td>1.000000</td>\n",
       "      <td>10.000000</td>\n",
       "      <td>1.000000</td>\n",
       "      <td>4.000000</td>\n",
       "      <td>62.000000</td>\n",
       "    </tr>\n",
       "  </tbody>\n",
       "</table>\n",
       "</div>"
      ],
      "text/plain": [
       "               Age          lat          lon  Sex_Encoded  Race_Encoded  \\\n",
       "count  2851.000000  2851.000000  2851.000000  2851.000000   2851.000000   \n",
       "mean     41.780077    41.529346   -72.804288     0.724307      0.412487   \n",
       "std      12.364821     0.234544     0.389758     0.446941      1.039723   \n",
       "min      14.000000    41.026526   -73.628549     0.000000     -1.000000   \n",
       "25%      31.000000    41.313993   -73.056564     0.000000      0.000000   \n",
       "50%      42.000000    41.554261   -72.824947     1.000000      0.000000   \n",
       "75%      52.000000    41.765775   -72.643785     1.000000      0.000000   \n",
       "max      81.000000    42.025992   -71.808899     1.000000     10.000000   \n",
       "\n",
       "       MannerofDeath_Encoded  Location_Encoded  InjuryPlace_Encoded  \n",
       "count            2851.000000       2851.000000          2851.000000  \n",
       "mean                0.003508          0.620835             2.441950  \n",
       "std                 0.059131          0.739161             7.270878  \n",
       "min                 0.000000         -1.000000            -1.000000  \n",
       "25%                 0.000000          0.000000             0.000000  \n",
       "50%                 0.000000          0.000000             0.000000  \n",
       "75%                 0.000000          1.000000             1.000000  \n",
       "max                 1.000000          4.000000            62.000000  "
      ]
     },
     "execution_count": 381,
     "metadata": {},
     "output_type": "execute_result"
    }
   ],
   "source": [
    "train_set.describe()"
   ]
  },
  {
   "cell_type": "markdown",
   "metadata": {},
   "source": [
    "# Build the Machine Learning Pipeline"
   ]
  },
  {
   "cell_type": "markdown",
   "metadata": {},
   "source": [
    "Now let's build a pipeline for preprocessing the numerical attributes:"
   ]
  },
  {
   "cell_type": "code",
   "execution_count": 382,
   "metadata": {
    "collapsed": true
   },
   "outputs": [],
   "source": [
    "from sklearn.pipeline import Pipeline\n",
    "from sklearn.preprocessing import StandardScaler\n",
    "from sklearn.preprocessing import Imputer\n",
    "\n",
    "num_pipeline = Pipeline([\n",
    "        ('imputer', Imputer(strategy=\"median\")),\n",
    "        ('std_scaler', StandardScaler()),\n",
    "    ])\n",
    "\n",
    "train_set_num_tr = num_pipeline.fit_transform(train_set_num)"
   ]
  },
  {
   "cell_type": "code",
   "execution_count": 383,
   "metadata": {},
   "outputs": [
    {
     "data": {
      "text/plain": [
       "array([[-0.5491485 , -0.67321694, -1.54955938, ..., -0.05925568,\n",
       "         1.86891514,  0.6285074 ],\n",
       "       [-0.5491485 ,  0.03493448,  0.00832181, ..., -0.05925568,\n",
       "        -0.83831216, -0.3354545 ],\n",
       "       [-1.27804048, -1.49523651, -0.98952706, ..., -0.05925568,\n",
       "         0.51530149, -0.3354545 ],\n",
       "       ..., \n",
       "       [ 1.07061146,  0.10611594, -0.61336566, ..., -0.05925568,\n",
       "         0.51530149, -0.3354545 ],\n",
       "       [ 0.09875548, -0.80022241, -0.70387388, ..., -0.05925568,\n",
       "        -0.83831216, -0.3354545 ],\n",
       "       [-1.19705248,  0.10611594, -0.61336566, ..., -0.05925568,\n",
       "        -0.83831216, -0.3354545 ]])"
      ]
     },
     "execution_count": 383,
     "metadata": {},
     "output_type": "execute_result"
    }
   ],
   "source": [
    "train_set_num_tr"
   ]
  },
  {
   "cell_type": "markdown",
   "metadata": {},
   "source": [
    "And a transformer to just select a subset of the Pandas DataFrame columns:"
   ]
  },
  {
   "cell_type": "code",
   "execution_count": 384,
   "metadata": {
    "collapsed": true
   },
   "outputs": [],
   "source": [
    "from sklearn.base import BaseEstimator, TransformerMixin\n",
    "\n",
    "# Create a class to select numerical or categorical columns \n",
    "# since Scikit-Learn doesn't handle DataFrames yet\n",
    "class DataFrameSelector(BaseEstimator, TransformerMixin):\n",
    "    def __init__(self, attribute_names):\n",
    "        self.attribute_names = attribute_names\n",
    "    def fit(self, X, y=None):\n",
    "        return self\n",
    "    def transform(self, X):\n",
    "        return X[self.attribute_names].values"
   ]
  },
  {
   "cell_type": "markdown",
   "metadata": {},
   "source": [
    "Now let's join all these components into a big pipeline that will preprocess both the numerical and the categorical features:"
   ]
  },
  {
   "cell_type": "code",
   "execution_count": 385,
   "metadata": {
    "collapsed": true
   },
   "outputs": [],
   "source": [
    "# TODO: Investigate how to use the CategoricalEncoder.\n",
    "\n",
    "num_attribs = list(train_set_num)\n",
    "#cat_attribs = list(train_set_cat_encoded)\n",
    "\n",
    "num_pipeline = Pipeline([\n",
    "        ('selector', DataFrameSelector(num_attribs)),\n",
    "        ('imputer', Imputer(strategy=\"median\")),\n",
    "        ('std_scaler', StandardScaler()),\n",
    "    ])\n",
    "\n",
    "# cat_pipeline = Pipeline([\n",
    "#         ('selector', DataFrameSelector(cat_attribs)),\n",
    "#         ('cat_encoder', CategoricalEncoder(encoding=\"onehot-dense\")),\n",
    "#     ])"
   ]
  },
  {
   "cell_type": "code",
   "execution_count": 386,
   "metadata": {
    "collapsed": true
   },
   "outputs": [],
   "source": [
    "from sklearn.pipeline import FeatureUnion\n",
    "\n",
    "full_pipeline = FeatureUnion(transformer_list=[\n",
    "        (\"num_pipeline\", num_pipeline),\n",
    "#         (\"cat_pipeline\", cat_pipeline),\n",
    "    ])"
   ]
  },
  {
   "cell_type": "code",
   "execution_count": 387,
   "metadata": {},
   "outputs": [
    {
     "data": {
      "text/plain": [
       "array([[-0.5491485 , -0.67321694, -1.54955938, ..., -0.05925568,\n",
       "         1.86891514,  0.6285074 ],\n",
       "       [-0.5491485 ,  0.03493448,  0.00832181, ..., -0.05925568,\n",
       "        -0.83831216, -0.3354545 ],\n",
       "       [-1.27804048, -1.49523651, -0.98952706, ..., -0.05925568,\n",
       "         0.51530149, -0.3354545 ],\n",
       "       ..., \n",
       "       [ 1.07061146,  0.10611594, -0.61336566, ..., -0.05925568,\n",
       "         0.51530149, -0.3354545 ],\n",
       "       [ 0.09875548, -0.80022241, -0.70387388, ..., -0.05925568,\n",
       "        -0.83831216, -0.3354545 ],\n",
       "       [-1.19705248,  0.10611594, -0.61336566, ..., -0.05925568,\n",
       "        -0.83831216, -0.3354545 ]])"
      ]
     },
     "execution_count": 387,
     "metadata": {},
     "output_type": "execute_result"
    }
   ],
   "source": [
    "train_set_prepared = full_pipeline.fit_transform(train_set)\n",
    "train_set_prepared"
   ]
  },
  {
   "cell_type": "code",
   "execution_count": 388,
   "metadata": {},
   "outputs": [
    {
     "data": {
      "text/plain": [
       "(2858, 8)"
      ]
     },
     "execution_count": 388,
     "metadata": {},
     "output_type": "execute_result"
    }
   ],
   "source": [
    "train_set_prepared.shape"
   ]
  },
  {
   "cell_type": "markdown",
   "metadata": {},
   "source": [
    "## Select and Train a Model "
   ]
  },
  {
   "cell_type": "markdown",
   "metadata": {},
   "source": [
    "### Model for Predicting `DrugType` "
   ]
  },
  {
   "cell_type": "code",
   "execution_count": 390,
   "metadata": {},
   "outputs": [
    {
     "ename": "ValueError",
     "evalue": "Input contains NaN, infinity or a value too large for dtype('float64').",
     "output_type": "error",
     "traceback": [
      "\u001b[0;31m---------------------------------------------------------------------------\u001b[0m",
      "\u001b[0;31mValueError\u001b[0m                                Traceback (most recent call last)",
      "\u001b[0;32m<ipython-input-390-c04014f2ee0f>\u001b[0m in \u001b[0;36m<module>\u001b[0;34m()\u001b[0m\n\u001b[1;32m      2\u001b[0m \u001b[0;34m\u001b[0m\u001b[0m\n\u001b[1;32m      3\u001b[0m \u001b[0mlin_reg\u001b[0m \u001b[0;34m=\u001b[0m \u001b[0mLinearRegression\u001b[0m\u001b[0;34m(\u001b[0m\u001b[0;34m)\u001b[0m\u001b[0;34m\u001b[0m\u001b[0m\n\u001b[0;32m----> 4\u001b[0;31m \u001b[0mlin_reg\u001b[0m\u001b[0;34m.\u001b[0m\u001b[0mfit\u001b[0m\u001b[0;34m(\u001b[0m\u001b[0mtrain_set_prepared\u001b[0m\u001b[0;34m,\u001b[0m \u001b[0mopioid_labels\u001b[0m\u001b[0;34m)\u001b[0m\u001b[0;34m\u001b[0m\u001b[0m\n\u001b[0m",
      "\u001b[0;32m~/anaconda/envs/opioid-data-ml/lib/python3.5/site-packages/sklearn/linear_model/base.py\u001b[0m in \u001b[0;36mfit\u001b[0;34m(self, X, y, sample_weight)\u001b[0m\n\u001b[1;32m    480\u001b[0m         \u001b[0mn_jobs_\u001b[0m \u001b[0;34m=\u001b[0m \u001b[0mself\u001b[0m\u001b[0;34m.\u001b[0m\u001b[0mn_jobs\u001b[0m\u001b[0;34m\u001b[0m\u001b[0m\n\u001b[1;32m    481\u001b[0m         X, y = check_X_y(X, y, accept_sparse=['csr', 'csc', 'coo'],\n\u001b[0;32m--> 482\u001b[0;31m                          y_numeric=True, multi_output=True)\n\u001b[0m\u001b[1;32m    483\u001b[0m \u001b[0;34m\u001b[0m\u001b[0m\n\u001b[1;32m    484\u001b[0m         \u001b[0;32mif\u001b[0m \u001b[0msample_weight\u001b[0m \u001b[0;32mis\u001b[0m \u001b[0;32mnot\u001b[0m \u001b[0;32mNone\u001b[0m \u001b[0;32mand\u001b[0m \u001b[0mnp\u001b[0m\u001b[0;34m.\u001b[0m\u001b[0matleast_1d\u001b[0m\u001b[0;34m(\u001b[0m\u001b[0msample_weight\u001b[0m\u001b[0;34m)\u001b[0m\u001b[0;34m.\u001b[0m\u001b[0mndim\u001b[0m \u001b[0;34m>\u001b[0m \u001b[0;36m1\u001b[0m\u001b[0;34m:\u001b[0m\u001b[0;34m\u001b[0m\u001b[0m\n",
      "\u001b[0;32m~/anaconda/envs/opioid-data-ml/lib/python3.5/site-packages/sklearn/utils/validation.py\u001b[0m in \u001b[0;36mcheck_X_y\u001b[0;34m(X, y, accept_sparse, dtype, order, copy, force_all_finite, ensure_2d, allow_nd, multi_output, ensure_min_samples, ensure_min_features, y_numeric, warn_on_dtype, estimator)\u001b[0m\n\u001b[1;32m    574\u001b[0m     \u001b[0;32mif\u001b[0m \u001b[0mmulti_output\u001b[0m\u001b[0;34m:\u001b[0m\u001b[0;34m\u001b[0m\u001b[0m\n\u001b[1;32m    575\u001b[0m         y = check_array(y, 'csr', force_all_finite=True, ensure_2d=False,\n\u001b[0;32m--> 576\u001b[0;31m                         dtype=None)\n\u001b[0m\u001b[1;32m    577\u001b[0m     \u001b[0;32melse\u001b[0m\u001b[0;34m:\u001b[0m\u001b[0;34m\u001b[0m\u001b[0m\n\u001b[1;32m    578\u001b[0m         \u001b[0my\u001b[0m \u001b[0;34m=\u001b[0m \u001b[0mcolumn_or_1d\u001b[0m\u001b[0;34m(\u001b[0m\u001b[0my\u001b[0m\u001b[0;34m,\u001b[0m \u001b[0mwarn\u001b[0m\u001b[0;34m=\u001b[0m\u001b[0;32mTrue\u001b[0m\u001b[0;34m)\u001b[0m\u001b[0;34m\u001b[0m\u001b[0m\n",
      "\u001b[0;32m~/anaconda/envs/opioid-data-ml/lib/python3.5/site-packages/sklearn/utils/validation.py\u001b[0m in \u001b[0;36mcheck_array\u001b[0;34m(array, accept_sparse, dtype, order, copy, force_all_finite, ensure_2d, allow_nd, ensure_min_samples, ensure_min_features, warn_on_dtype, estimator)\u001b[0m\n\u001b[1;32m    451\u001b[0m                              % (array.ndim, estimator_name))\n\u001b[1;32m    452\u001b[0m         \u001b[0;32mif\u001b[0m \u001b[0mforce_all_finite\u001b[0m\u001b[0;34m:\u001b[0m\u001b[0;34m\u001b[0m\u001b[0m\n\u001b[0;32m--> 453\u001b[0;31m             \u001b[0m_assert_all_finite\u001b[0m\u001b[0;34m(\u001b[0m\u001b[0marray\u001b[0m\u001b[0;34m)\u001b[0m\u001b[0;34m\u001b[0m\u001b[0m\n\u001b[0m\u001b[1;32m    454\u001b[0m \u001b[0;34m\u001b[0m\u001b[0m\n\u001b[1;32m    455\u001b[0m     \u001b[0mshape_repr\u001b[0m \u001b[0;34m=\u001b[0m \u001b[0m_shape_repr\u001b[0m\u001b[0;34m(\u001b[0m\u001b[0marray\u001b[0m\u001b[0;34m.\u001b[0m\u001b[0mshape\u001b[0m\u001b[0;34m)\u001b[0m\u001b[0;34m\u001b[0m\u001b[0m\n",
      "\u001b[0;32m~/anaconda/envs/opioid-data-ml/lib/python3.5/site-packages/sklearn/utils/validation.py\u001b[0m in \u001b[0;36m_assert_all_finite\u001b[0;34m(X)\u001b[0m\n\u001b[1;32m     42\u001b[0m             and not np.isfinite(X).all()):\n\u001b[1;32m     43\u001b[0m         raise ValueError(\"Input contains NaN, infinity\"\n\u001b[0;32m---> 44\u001b[0;31m                          \" or a value too large for %r.\" % X.dtype)\n\u001b[0m\u001b[1;32m     45\u001b[0m \u001b[0;34m\u001b[0m\u001b[0m\n\u001b[1;32m     46\u001b[0m \u001b[0;34m\u001b[0m\u001b[0m\n",
      "\u001b[0;31mValueError\u001b[0m: Input contains NaN, infinity or a value too large for dtype('float64')."
     ]
    }
   ],
   "source": [
    "from sklearn.linear_model import LinearRegression\n",
    "\n",
    "lin_reg = LinearRegression()\n",
    "lin_reg.fit(train_set_prepared, opioid_labels)"
   ]
  },
  {
   "cell_type": "code",
   "execution_count": 147,
   "metadata": {},
   "outputs": [
    {
     "ename": "NameError",
     "evalue": "name 'opioid_labels' is not defined",
     "output_type": "error",
     "traceback": [
      "\u001b[0;31m---------------------------------------------------------------------------\u001b[0m",
      "\u001b[0;31mNameError\u001b[0m                                 Traceback (most recent call last)",
      "\u001b[0;32m<ipython-input-147-70180e54bbf4>\u001b[0m in \u001b[0;36m<module>\u001b[0;34m()\u001b[0m\n\u001b[1;32m      1\u001b[0m \u001b[0;31m# let's try the full pipeline on a few training instances\u001b[0m\u001b[0;34m\u001b[0m\u001b[0;34m\u001b[0m\u001b[0m\n\u001b[1;32m      2\u001b[0m \u001b[0msome_data\u001b[0m \u001b[0;34m=\u001b[0m \u001b[0mtrain_set\u001b[0m\u001b[0;34m.\u001b[0m\u001b[0miloc\u001b[0m\u001b[0;34m[\u001b[0m\u001b[0;34m:\u001b[0m\u001b[0;36m5\u001b[0m\u001b[0;34m]\u001b[0m\u001b[0;34m\u001b[0m\u001b[0m\n\u001b[0;32m----> 3\u001b[0;31m \u001b[0msome_labels\u001b[0m \u001b[0;34m=\u001b[0m \u001b[0mopioid_labels\u001b[0m\u001b[0;34m.\u001b[0m\u001b[0miloc\u001b[0m\u001b[0;34m[\u001b[0m\u001b[0;34m:\u001b[0m\u001b[0;36m5\u001b[0m\u001b[0;34m]\u001b[0m\u001b[0;34m\u001b[0m\u001b[0m\n\u001b[0m\u001b[1;32m      4\u001b[0m \u001b[0msome_data_prepared\u001b[0m \u001b[0;34m=\u001b[0m \u001b[0mfull_pipeline\u001b[0m\u001b[0;34m.\u001b[0m\u001b[0mtransform\u001b[0m\u001b[0;34m(\u001b[0m\u001b[0msome_data\u001b[0m\u001b[0;34m)\u001b[0m\u001b[0;34m\u001b[0m\u001b[0m\n\u001b[1;32m      5\u001b[0m \u001b[0;34m\u001b[0m\u001b[0m\n",
      "\u001b[0;31mNameError\u001b[0m: name 'opioid_labels' is not defined"
     ]
    }
   ],
   "source": [
    "# let's try the full pipeline on a few training instances\n",
    "some_data = train_set.iloc[:5]\n",
    "some_labels = opioid_labels.iloc[:5]\n",
    "some_data_prepared = full_pipeline.transform(some_data)\n",
    "\n",
    "print(\"Predictions:\", lin_reg.predict(some_data_prepared))"
   ]
  },
  {
   "cell_type": "markdown",
   "metadata": {},
   "source": [
    "Compare against the actual values:"
   ]
  },
  {
   "cell_type": "code",
   "execution_count": 1244,
   "metadata": {},
   "outputs": [
    {
     "name": "stdout",
     "output_type": "stream",
     "text": [
      "Labels: [62.0, 25.0, 54.0, 30.0, 58.0]\n"
     ]
    }
   ],
   "source": [
    "print(\"Labels:\", list(some_labels))"
   ]
  },
  {
   "cell_type": "code",
   "execution_count": 1245,
   "metadata": {},
   "outputs": [
    {
     "data": {
      "text/plain": [
       "2.4554371725665121e-14"
      ]
     },
     "execution_count": 1245,
     "metadata": {},
     "output_type": "execute_result"
    }
   ],
   "source": [
    "from sklearn.metrics import mean_squared_error\n",
    "\n",
    "opioid_predictions = lin_reg.predict(train_set_prepared)\n",
    "lin_mse = mean_squared_error(opioid_labels, opioid_predictions)\n",
    "lin_rmse = np.sqrt(lin_mse)\n",
    "lin_rmse"
   ]
  },
  {
   "cell_type": "code",
   "execution_count": 1246,
   "metadata": {},
   "outputs": [
    {
     "data": {
      "text/plain": [
       "2.0539359032477494e-14"
      ]
     },
     "execution_count": 1246,
     "metadata": {},
     "output_type": "execute_result"
    }
   ],
   "source": [
    "from sklearn.metrics import mean_absolute_error\n",
    "\n",
    "lin_mae = mean_absolute_error(opioid_labels, opioid_predictions)\n",
    "lin_mae"
   ]
  },
  {
   "cell_type": "code",
   "execution_count": 1247,
   "metadata": {},
   "outputs": [
    {
     "data": {
      "text/plain": [
       "DecisionTreeRegressor(criterion='mse', max_depth=None, max_features=None,\n",
       "           max_leaf_nodes=None, min_impurity_decrease=0.0,\n",
       "           min_impurity_split=None, min_samples_leaf=1,\n",
       "           min_samples_split=2, min_weight_fraction_leaf=0.0,\n",
       "           presort=False, random_state=42, splitter='best')"
      ]
     },
     "execution_count": 1247,
     "metadata": {},
     "output_type": "execute_result"
    }
   ],
   "source": [
    "from sklearn.tree import DecisionTreeRegressor\n",
    "\n",
    "tree_reg = DecisionTreeRegressor(random_state=42)\n",
    "tree_reg.fit(train_set_prepared, opioid_labels)"
   ]
  },
  {
   "cell_type": "code",
   "execution_count": 1248,
   "metadata": {},
   "outputs": [
    {
     "data": {
      "text/plain": [
       "0.0"
      ]
     },
     "execution_count": 1248,
     "metadata": {},
     "output_type": "execute_result"
    }
   ],
   "source": [
    "opioid_predictions = tree_reg.predict(train_set_prepared)\n",
    "tree_mse = mean_squared_error(opioid_labels, opioid_predictions)\n",
    "tree_rmse = np.sqrt(tree_mse)\n",
    "tree_rmse"
   ]
  },
  {
   "cell_type": "markdown",
   "metadata": {},
   "source": [
    "## Fine-tuning the Model"
   ]
  },
  {
   "cell_type": "code",
   "execution_count": 1249,
   "metadata": {
    "collapsed": true
   },
   "outputs": [],
   "source": [
    "from sklearn.model_selection import cross_val_score\n",
    "\n",
    "scores = cross_val_score(tree_reg, train_set_prepared, opioid_labels,\n",
    "                         scoring=\"neg_mean_squared_error\", cv=10)\n",
    "tree_rmse_scores = np.sqrt(-scores)"
   ]
  },
  {
   "cell_type": "code",
   "execution_count": 1250,
   "metadata": {},
   "outputs": [
    {
     "name": "stdout",
     "output_type": "stream",
     "text": [
      "Scores: [ 0.56096819  0.          0.          0.          0.          0.11826248\n",
      "  0.70957488  0.11826248  0.          0.        ]\n",
      "Mean: 0.150706802759\n",
      "Standard deviation: 0.248802821965\n"
     ]
    }
   ],
   "source": [
    "def display_scores(scores):\n",
    "    print(\"Scores:\", scores)\n",
    "    print(\"Mean:\", scores.mean())\n",
    "    print(\"Standard deviation:\", scores.std())\n",
    "\n",
    "display_scores(tree_rmse_scores)"
   ]
  },
  {
   "cell_type": "code",
   "execution_count": 1251,
   "metadata": {},
   "outputs": [
    {
     "name": "stdout",
     "output_type": "stream",
     "text": [
      "Scores: [  2.24883929e-03   3.82223205e-05   1.48783906e-14   2.51880689e-03\n",
      "   6.85907685e-04   6.90729609e-04   2.28384990e-14   6.52910918e-04\n",
      "   1.62985537e-03   4.07370285e-02]\n",
      "Mean: 0.00492023005821\n",
      "Standard deviation: 0.0119701807741\n"
     ]
    }
   ],
   "source": [
    "lin_scores = cross_val_score(lin_reg, train_set_prepared, opioid_labels,\n",
    "                             scoring=\"neg_mean_squared_error\", cv=10)\n",
    "lin_rmse_scores = np.sqrt(-lin_scores)\n",
    "display_scores(lin_rmse_scores)"
   ]
  },
  {
   "cell_type": "code",
   "execution_count": 1252,
   "metadata": {},
   "outputs": [
    {
     "data": {
      "text/plain": [
       "RandomForestRegressor(bootstrap=True, criterion='mse', max_depth=None,\n",
       "           max_features='auto', max_leaf_nodes=None,\n",
       "           min_impurity_decrease=0.0, min_impurity_split=None,\n",
       "           min_samples_leaf=1, min_samples_split=2,\n",
       "           min_weight_fraction_leaf=0.0, n_estimators=10, n_jobs=1,\n",
       "           oob_score=False, random_state=42, verbose=0, warm_start=False)"
      ]
     },
     "execution_count": 1252,
     "metadata": {},
     "output_type": "execute_result"
    }
   ],
   "source": [
    "from sklearn.ensemble import RandomForestRegressor\n",
    "\n",
    "forest_reg = RandomForestRegressor(random_state=42)\n",
    "forest_reg.fit(train_set_prepared, opioid_labels)"
   ]
  },
  {
   "cell_type": "code",
   "execution_count": 1253,
   "metadata": {},
   "outputs": [
    {
     "data": {
      "text/plain": [
       "0.12774624952897595"
      ]
     },
     "execution_count": 1253,
     "metadata": {},
     "output_type": "execute_result"
    }
   ],
   "source": [
    "opioid_predictions = forest_reg.predict(train_set_prepared)\n",
    "forest_mse = mean_squared_error(opioid_labels, opioid_predictions)\n",
    "forest_rmse = np.sqrt(forest_mse)\n",
    "forest_rmse"
   ]
  },
  {
   "cell_type": "code",
   "execution_count": 1254,
   "metadata": {},
   "outputs": [
    {
     "name": "stdout",
     "output_type": "stream",
     "text": [
      "Scores: [ 0.29601077  0.00591312  0.00591312  0.01024183  0.01182625  0.1362587\n",
      "  0.76920629  0.01961161  0.02135744  0.02442317]\n",
      "Mean: 0.130076231992\n",
      "Standard deviation: 0.230308663288\n"
     ]
    }
   ],
   "source": [
    "from sklearn.model_selection import cross_val_score\n",
    "\n",
    "forest_scores = cross_val_score(forest_reg, train_set_prepared, opioid_labels,\n",
    "                                scoring=\"neg_mean_squared_error\", cv=10)\n",
    "forest_rmse_scores = np.sqrt(-forest_scores)\n",
    "display_scores(forest_rmse_scores)"
   ]
  },
  {
   "cell_type": "code",
   "execution_count": 1255,
   "metadata": {},
   "outputs": [
    {
     "data": {
      "text/plain": [
       "count    1.000000e+01\n",
       "mean     4.920230e-03\n",
       "std      1.261768e-02\n",
       "min      3.879309e-15\n",
       "25%      1.918945e-04\n",
       "50%      6.883186e-04\n",
       "75%      2.094093e-03\n",
       "max      4.073703e-02\n",
       "dtype: float64"
      ]
     },
     "execution_count": 1255,
     "metadata": {},
     "output_type": "execute_result"
    }
   ],
   "source": [
    "scores = cross_val_score(lin_reg, train_set_prepared, opioid_labels, scoring=\"neg_mean_squared_error\", cv=10)\n",
    "pd.Series(np.sqrt(-scores)).describe()"
   ]
  },
  {
   "cell_type": "code",
   "execution_count": 1256,
   "metadata": {},
   "outputs": [
    {
     "data": {
      "text/plain": [
       "0.044602693803930143"
      ]
     },
     "execution_count": 1256,
     "metadata": {},
     "output_type": "execute_result"
    }
   ],
   "source": [
    "from sklearn.svm import SVR\n",
    "\n",
    "svm_reg = SVR(kernel=\"linear\")\n",
    "svm_reg.fit(train_set_prepared, opioid_labels)\n",
    "opioid_predictions = svm_reg.predict(train_set_prepared)\n",
    "svm_mse = mean_squared_error(opioid_labels, opioid_predictions)\n",
    "svm_rmse = np.sqrt(svm_mse)\n",
    "svm_rmse"
   ]
  },
  {
   "cell_type": "code",
   "execution_count": 1257,
   "metadata": {},
   "outputs": [
    {
     "data": {
      "text/plain": [
       "GridSearchCV(cv=5, error_score='raise',\n",
       "       estimator=RandomForestRegressor(bootstrap=True, criterion='mse', max_depth=None,\n",
       "           max_features='auto', max_leaf_nodes=None,\n",
       "           min_impurity_decrease=0.0, min_impurity_split=None,\n",
       "           min_samples_leaf=1, min_samples_split=2,\n",
       "           min_weight_fraction_leaf=0.0, n_estimators=10, n_jobs=1,\n",
       "           oob_score=False, random_state=42, verbose=0, warm_start=False),\n",
       "       fit_params=None, iid=True, n_jobs=1,\n",
       "       param_grid=[{'max_features': [2, 4, 6, 8], 'n_estimators': [3, 10, 30]}, {'bootstrap': [False], 'n_estimators': [3, 10], 'max_features': [2, 3, 4]}],\n",
       "       pre_dispatch='2*n_jobs', refit=True, return_train_score='warn',\n",
       "       scoring='neg_mean_squared_error', verbose=0)"
      ]
     },
     "execution_count": 1257,
     "metadata": {},
     "output_type": "execute_result"
    }
   ],
   "source": [
    "from sklearn.model_selection import GridSearchCV\n",
    "\n",
    "param_grid = [\n",
    "    # try 12 (3×4) combinations of hyperparameters\n",
    "    {'n_estimators': [3, 10, 30], 'max_features': [2, 4, 6, 8]},\n",
    "    # then try 6 (2×3) combinations with bootstrap set as False\n",
    "    {'bootstrap': [False], 'n_estimators': [3, 10], 'max_features': [2, 3, 4]},\n",
    "  ]\n",
    "\n",
    "forest_reg = RandomForestRegressor(random_state=42)\n",
    "# train across 5 folds, that's a total of (12+6)*5=90 rounds of training \n",
    "grid_search = GridSearchCV(forest_reg, param_grid, cv=5,\n",
    "                           scoring='neg_mean_squared_error')\n",
    "grid_search.fit(train_set_prepared, opioid_labels)"
   ]
  },
  {
   "cell_type": "markdown",
   "metadata": {},
   "source": [
    "The best hyperparameter combination found:"
   ]
  },
  {
   "cell_type": "code",
   "execution_count": 1258,
   "metadata": {},
   "outputs": [
    {
     "data": {
      "text/plain": [
       "{'max_features': 8, 'n_estimators': 30}"
      ]
     },
     "execution_count": 1258,
     "metadata": {},
     "output_type": "execute_result"
    }
   ],
   "source": [
    "grid_search.best_params_"
   ]
  },
  {
   "cell_type": "code",
   "execution_count": 1259,
   "metadata": {},
   "outputs": [
    {
     "data": {
      "text/plain": [
       "RandomForestRegressor(bootstrap=True, criterion='mse', max_depth=None,\n",
       "           max_features=8, max_leaf_nodes=None, min_impurity_decrease=0.0,\n",
       "           min_impurity_split=None, min_samples_leaf=1,\n",
       "           min_samples_split=2, min_weight_fraction_leaf=0.0,\n",
       "           n_estimators=30, n_jobs=1, oob_score=False, random_state=42,\n",
       "           verbose=0, warm_start=False)"
      ]
     },
     "execution_count": 1259,
     "metadata": {},
     "output_type": "execute_result"
    }
   ],
   "source": [
    "grid_search.best_estimator_"
   ]
  },
  {
   "cell_type": "markdown",
   "metadata": {},
   "source": [
    "Let's look at the score of each hyperparameter combination tested during the grid search:"
   ]
  },
  {
   "cell_type": "code",
   "execution_count": 1260,
   "metadata": {},
   "outputs": [
    {
     "name": "stdout",
     "output_type": "stream",
     "text": [
      "5.85041901171 {'max_features': 2, 'n_estimators': 3}\n",
      "4.85237951411 {'max_features': 2, 'n_estimators': 10}\n",
      "4.55305067219 {'max_features': 2, 'n_estimators': 30}\n",
      "6.17740162217 {'max_features': 4, 'n_estimators': 3}\n",
      "4.39485725966 {'max_features': 4, 'n_estimators': 10}\n",
      "4.17434635813 {'max_features': 4, 'n_estimators': 30}\n",
      "5.61058778385 {'max_features': 6, 'n_estimators': 3}\n",
      "3.96266238114 {'max_features': 6, 'n_estimators': 10}\n",
      "3.59566723823 {'max_features': 6, 'n_estimators': 30}\n",
      "5.08045831427 {'max_features': 8, 'n_estimators': 3}\n",
      "3.64947246466 {'max_features': 8, 'n_estimators': 10}\n",
      "3.45191722337 {'max_features': 8, 'n_estimators': 30}\n",
      "4.69925051049 {'bootstrap': False, 'n_estimators': 3, 'max_features': 2}\n",
      "4.5842823021 {'bootstrap': False, 'n_estimators': 10, 'max_features': 2}\n",
      "5.44508324706 {'bootstrap': False, 'n_estimators': 3, 'max_features': 3}\n",
      "4.42571866447 {'bootstrap': False, 'n_estimators': 10, 'max_features': 3}\n",
      "4.91558869388 {'bootstrap': False, 'n_estimators': 3, 'max_features': 4}\n",
      "4.43057460444 {'bootstrap': False, 'n_estimators': 10, 'max_features': 4}\n"
     ]
    }
   ],
   "source": [
    "cvres = grid_search.cv_results_\n",
    "for mean_score, params in zip(cvres[\"mean_test_score\"], cvres[\"params\"]):\n",
    "    print(np.sqrt(-mean_score), params)"
   ]
  },
  {
   "cell_type": "code",
   "execution_count": 1261,
   "metadata": {},
   "outputs": [
    {
     "name": "stderr",
     "output_type": "stream",
     "text": [
      "/Users/oshani/anaconda/envs/opioid-data-ml/lib/python3.5/site-packages/sklearn/utils/deprecation.py:122: FutureWarning: You are accessing a training score ('mean_train_score'), which will not be available by default any more in 0.21. If you need training scores, please set return_train_score=True\n",
      "  warnings.warn(*warn_args, **warn_kwargs)\n",
      "/Users/oshani/anaconda/envs/opioid-data-ml/lib/python3.5/site-packages/sklearn/utils/deprecation.py:122: FutureWarning: You are accessing a training score ('split0_train_score'), which will not be available by default any more in 0.21. If you need training scores, please set return_train_score=True\n",
      "  warnings.warn(*warn_args, **warn_kwargs)\n",
      "/Users/oshani/anaconda/envs/opioid-data-ml/lib/python3.5/site-packages/sklearn/utils/deprecation.py:122: FutureWarning: You are accessing a training score ('split1_train_score'), which will not be available by default any more in 0.21. If you need training scores, please set return_train_score=True\n",
      "  warnings.warn(*warn_args, **warn_kwargs)\n",
      "/Users/oshani/anaconda/envs/opioid-data-ml/lib/python3.5/site-packages/sklearn/utils/deprecation.py:122: FutureWarning: You are accessing a training score ('split2_train_score'), which will not be available by default any more in 0.21. If you need training scores, please set return_train_score=True\n",
      "  warnings.warn(*warn_args, **warn_kwargs)\n",
      "/Users/oshani/anaconda/envs/opioid-data-ml/lib/python3.5/site-packages/sklearn/utils/deprecation.py:122: FutureWarning: You are accessing a training score ('split3_train_score'), which will not be available by default any more in 0.21. If you need training scores, please set return_train_score=True\n",
      "  warnings.warn(*warn_args, **warn_kwargs)\n",
      "/Users/oshani/anaconda/envs/opioid-data-ml/lib/python3.5/site-packages/sklearn/utils/deprecation.py:122: FutureWarning: You are accessing a training score ('split4_train_score'), which will not be available by default any more in 0.21. If you need training scores, please set return_train_score=True\n",
      "  warnings.warn(*warn_args, **warn_kwargs)\n",
      "/Users/oshani/anaconda/envs/opioid-data-ml/lib/python3.5/site-packages/sklearn/utils/deprecation.py:122: FutureWarning: You are accessing a training score ('std_train_score'), which will not be available by default any more in 0.21. If you need training scores, please set return_train_score=True\n",
      "  warnings.warn(*warn_args, **warn_kwargs)\n"
     ]
    },
    {
     "data": {
      "text/html": [
       "<div>\n",
       "<style>\n",
       "    .dataframe thead tr:only-child th {\n",
       "        text-align: right;\n",
       "    }\n",
       "\n",
       "    .dataframe thead th {\n",
       "        text-align: left;\n",
       "    }\n",
       "\n",
       "    .dataframe tbody tr th {\n",
       "        vertical-align: top;\n",
       "    }\n",
       "</style>\n",
       "<table border=\"1\" class=\"dataframe\">\n",
       "  <thead>\n",
       "    <tr style=\"text-align: right;\">\n",
       "      <th></th>\n",
       "      <th>mean_fit_time</th>\n",
       "      <th>mean_score_time</th>\n",
       "      <th>mean_test_score</th>\n",
       "      <th>mean_train_score</th>\n",
       "      <th>param_bootstrap</th>\n",
       "      <th>param_max_features</th>\n",
       "      <th>param_n_estimators</th>\n",
       "      <th>params</th>\n",
       "      <th>rank_test_score</th>\n",
       "      <th>split0_test_score</th>\n",
       "      <th>...</th>\n",
       "      <th>split2_test_score</th>\n",
       "      <th>split2_train_score</th>\n",
       "      <th>split3_test_score</th>\n",
       "      <th>split3_train_score</th>\n",
       "      <th>split4_test_score</th>\n",
       "      <th>split4_train_score</th>\n",
       "      <th>std_fit_time</th>\n",
       "      <th>std_score_time</th>\n",
       "      <th>std_test_score</th>\n",
       "      <th>std_train_score</th>\n",
       "    </tr>\n",
       "  </thead>\n",
       "  <tbody>\n",
       "    <tr>\n",
       "      <th>0</th>\n",
       "      <td>0.014322</td>\n",
       "      <td>0.001303</td>\n",
       "      <td>-34.227403</td>\n",
       "      <td>-9.865596</td>\n",
       "      <td>NaN</td>\n",
       "      <td>2</td>\n",
       "      <td>3</td>\n",
       "      <td>{'max_features': 2, 'n_estimators': 3}</td>\n",
       "      <td>17</td>\n",
       "      <td>-24.610528</td>\n",
       "      <td>...</td>\n",
       "      <td>-44.377040</td>\n",
       "      <td>-11.916010</td>\n",
       "      <td>-28.221444</td>\n",
       "      <td>-7.639120</td>\n",
       "      <td>-27.792177</td>\n",
       "      <td>-10.017684</td>\n",
       "      <td>0.001076</td>\n",
       "      <td>0.000095</td>\n",
       "      <td>9.104179</td>\n",
       "      <td>2.121668</td>\n",
       "    </tr>\n",
       "    <tr>\n",
       "      <th>1</th>\n",
       "      <td>0.040945</td>\n",
       "      <td>0.002460</td>\n",
       "      <td>-23.545587</td>\n",
       "      <td>-4.893773</td>\n",
       "      <td>NaN</td>\n",
       "      <td>2</td>\n",
       "      <td>10</td>\n",
       "      <td>{'max_features': 2, 'n_estimators': 10}</td>\n",
       "      <td>12</td>\n",
       "      <td>-22.364493</td>\n",
       "      <td>...</td>\n",
       "      <td>-23.108706</td>\n",
       "      <td>-5.202227</td>\n",
       "      <td>-22.427443</td>\n",
       "      <td>-4.559130</td>\n",
       "      <td>-18.712207</td>\n",
       "      <td>-4.608745</td>\n",
       "      <td>0.001171</td>\n",
       "      <td>0.000157</td>\n",
       "      <td>4.082960</td>\n",
       "      <td>0.496780</td>\n",
       "    </tr>\n",
       "    <tr>\n",
       "      <th>2</th>\n",
       "      <td>0.119013</td>\n",
       "      <td>0.005922</td>\n",
       "      <td>-20.730270</td>\n",
       "      <td>-3.309823</td>\n",
       "      <td>NaN</td>\n",
       "      <td>2</td>\n",
       "      <td>30</td>\n",
       "      <td>{'max_features': 2, 'n_estimators': 30}</td>\n",
       "      <td>9</td>\n",
       "      <td>-22.836876</td>\n",
       "      <td>...</td>\n",
       "      <td>-19.280484</td>\n",
       "      <td>-3.393413</td>\n",
       "      <td>-21.651455</td>\n",
       "      <td>-3.188764</td>\n",
       "      <td>-16.585010</td>\n",
       "      <td>-3.375617</td>\n",
       "      <td>0.003725</td>\n",
       "      <td>0.000235</td>\n",
       "      <td>2.494938</td>\n",
       "      <td>0.099363</td>\n",
       "    </tr>\n",
       "    <tr>\n",
       "      <th>3</th>\n",
       "      <td>0.014229</td>\n",
       "      <td>0.001256</td>\n",
       "      <td>-38.160291</td>\n",
       "      <td>-9.856388</td>\n",
       "      <td>NaN</td>\n",
       "      <td>4</td>\n",
       "      <td>3</td>\n",
       "      <td>{'max_features': 4, 'n_estimators': 3}</td>\n",
       "      <td>18</td>\n",
       "      <td>-39.248252</td>\n",
       "      <td>...</td>\n",
       "      <td>-38.019037</td>\n",
       "      <td>-8.945708</td>\n",
       "      <td>-38.170656</td>\n",
       "      <td>-9.291308</td>\n",
       "      <td>-28.417202</td>\n",
       "      <td>-9.299276</td>\n",
       "      <td>0.000960</td>\n",
       "      <td>0.000094</td>\n",
       "      <td>5.881869</td>\n",
       "      <td>1.232750</td>\n",
       "    </tr>\n",
       "    <tr>\n",
       "      <th>4</th>\n",
       "      <td>0.043982</td>\n",
       "      <td>0.002906</td>\n",
       "      <td>-19.314770</td>\n",
       "      <td>-3.859121</td>\n",
       "      <td>NaN</td>\n",
       "      <td>4</td>\n",
       "      <td>10</td>\n",
       "      <td>{'max_features': 4, 'n_estimators': 10}</td>\n",
       "      <td>6</td>\n",
       "      <td>-19.825105</td>\n",
       "      <td>...</td>\n",
       "      <td>-15.914283</td>\n",
       "      <td>-3.537533</td>\n",
       "      <td>-23.333888</td>\n",
       "      <td>-4.382379</td>\n",
       "      <td>-13.572421</td>\n",
       "      <td>-3.481112</td>\n",
       "      <td>0.002603</td>\n",
       "      <td>0.000464</td>\n",
       "      <td>4.054103</td>\n",
       "      <td>0.395441</td>\n",
       "    </tr>\n",
       "    <tr>\n",
       "      <th>5</th>\n",
       "      <td>0.128844</td>\n",
       "      <td>0.006063</td>\n",
       "      <td>-17.425168</td>\n",
       "      <td>-2.844695</td>\n",
       "      <td>NaN</td>\n",
       "      <td>4</td>\n",
       "      <td>30</td>\n",
       "      <td>{'max_features': 4, 'n_estimators': 30}</td>\n",
       "      <td>5</td>\n",
       "      <td>-19.477830</td>\n",
       "      <td>...</td>\n",
       "      <td>-15.050156</td>\n",
       "      <td>-2.664961</td>\n",
       "      <td>-19.370567</td>\n",
       "      <td>-3.048386</td>\n",
       "      <td>-13.272877</td>\n",
       "      <td>-2.829535</td>\n",
       "      <td>0.005242</td>\n",
       "      <td>0.000316</td>\n",
       "      <td>2.729360</td>\n",
       "      <td>0.124441</td>\n",
       "    </tr>\n",
       "    <tr>\n",
       "      <th>6</th>\n",
       "      <td>0.013579</td>\n",
       "      <td>0.001065</td>\n",
       "      <td>-31.478695</td>\n",
       "      <td>-8.224122</td>\n",
       "      <td>NaN</td>\n",
       "      <td>6</td>\n",
       "      <td>3</td>\n",
       "      <td>{'max_features': 6, 'n_estimators': 3}</td>\n",
       "      <td>16</td>\n",
       "      <td>-38.744172</td>\n",
       "      <td>...</td>\n",
       "      <td>-18.666861</td>\n",
       "      <td>-5.066638</td>\n",
       "      <td>-28.560226</td>\n",
       "      <td>-7.769664</td>\n",
       "      <td>-32.106246</td>\n",
       "      <td>-10.511636</td>\n",
       "      <td>0.001058</td>\n",
       "      <td>0.000136</td>\n",
       "      <td>7.581386</td>\n",
       "      <td>1.821304</td>\n",
       "    </tr>\n",
       "    <tr>\n",
       "      <th>7</th>\n",
       "      <td>0.041104</td>\n",
       "      <td>0.002403</td>\n",
       "      <td>-15.702693</td>\n",
       "      <td>-3.212530</td>\n",
       "      <td>NaN</td>\n",
       "      <td>6</td>\n",
       "      <td>10</td>\n",
       "      <td>{'max_features': 6, 'n_estimators': 10}</td>\n",
       "      <td>4</td>\n",
       "      <td>-16.519218</td>\n",
       "      <td>...</td>\n",
       "      <td>-11.250792</td>\n",
       "      <td>-2.598429</td>\n",
       "      <td>-19.705340</td>\n",
       "      <td>-3.535112</td>\n",
       "      <td>-12.946835</td>\n",
       "      <td>-3.428456</td>\n",
       "      <td>0.003164</td>\n",
       "      <td>0.000383</td>\n",
       "      <td>3.156308</td>\n",
       "      <td>0.345509</td>\n",
       "    </tr>\n",
       "    <tr>\n",
       "      <th>8</th>\n",
       "      <td>0.130549</td>\n",
       "      <td>0.006179</td>\n",
       "      <td>-12.928823</td>\n",
       "      <td>-2.135009</td>\n",
       "      <td>NaN</td>\n",
       "      <td>6</td>\n",
       "      <td>30</td>\n",
       "      <td>{'max_features': 6, 'n_estimators': 30}</td>\n",
       "      <td>2</td>\n",
       "      <td>-15.499332</td>\n",
       "      <td>...</td>\n",
       "      <td>-11.555046</td>\n",
       "      <td>-2.140167</td>\n",
       "      <td>-13.557408</td>\n",
       "      <td>-1.955248</td>\n",
       "      <td>-9.481813</td>\n",
       "      <td>-2.056407</td>\n",
       "      <td>0.004131</td>\n",
       "      <td>0.000605</td>\n",
       "      <td>2.162434</td>\n",
       "      <td>0.120121</td>\n",
       "    </tr>\n",
       "    <tr>\n",
       "      <th>9</th>\n",
       "      <td>0.014434</td>\n",
       "      <td>0.001305</td>\n",
       "      <td>-25.811057</td>\n",
       "      <td>-7.560427</td>\n",
       "      <td>NaN</td>\n",
       "      <td>8</td>\n",
       "      <td>3</td>\n",
       "      <td>{'max_features': 8, 'n_estimators': 3}</td>\n",
       "      <td>14</td>\n",
       "      <td>-25.835859</td>\n",
       "      <td>...</td>\n",
       "      <td>-36.123349</td>\n",
       "      <td>-11.201128</td>\n",
       "      <td>-29.489784</td>\n",
       "      <td>-7.244571</td>\n",
       "      <td>-17.381981</td>\n",
       "      <td>-6.959870</td>\n",
       "      <td>0.001377</td>\n",
       "      <td>0.000182</td>\n",
       "      <td>6.666910</td>\n",
       "      <td>1.891648</td>\n",
       "    </tr>\n",
       "    <tr>\n",
       "      <th>10</th>\n",
       "      <td>0.043046</td>\n",
       "      <td>0.002579</td>\n",
       "      <td>-13.318649</td>\n",
       "      <td>-2.800154</td>\n",
       "      <td>NaN</td>\n",
       "      <td>8</td>\n",
       "      <td>10</td>\n",
       "      <td>{'max_features': 8, 'n_estimators': 10}</td>\n",
       "      <td>3</td>\n",
       "      <td>-13.457951</td>\n",
       "      <td>...</td>\n",
       "      <td>-12.633272</td>\n",
       "      <td>-2.831143</td>\n",
       "      <td>-14.417058</td>\n",
       "      <td>-2.537114</td>\n",
       "      <td>-11.906287</td>\n",
       "      <td>-3.022536</td>\n",
       "      <td>0.000733</td>\n",
       "      <td>0.000115</td>\n",
       "      <td>0.940916</td>\n",
       "      <td>0.154942</td>\n",
       "    </tr>\n",
       "    <tr>\n",
       "      <th>11</th>\n",
       "      <td>0.125695</td>\n",
       "      <td>0.005622</td>\n",
       "      <td>-11.915733</td>\n",
       "      <td>-1.962176</td>\n",
       "      <td>NaN</td>\n",
       "      <td>8</td>\n",
       "      <td>30</td>\n",
       "      <td>{'max_features': 8, 'n_estimators': 30}</td>\n",
       "      <td>1</td>\n",
       "      <td>-12.558656</td>\n",
       "      <td>...</td>\n",
       "      <td>-11.310673</td>\n",
       "      <td>-2.135790</td>\n",
       "      <td>-13.135453</td>\n",
       "      <td>-1.933361</td>\n",
       "      <td>-9.458072</td>\n",
       "      <td>-1.970969</td>\n",
       "      <td>0.004522</td>\n",
       "      <td>0.000136</td>\n",
       "      <td>1.395414</td>\n",
       "      <td>0.094255</td>\n",
       "    </tr>\n",
       "    <tr>\n",
       "      <th>12</th>\n",
       "      <td>0.017069</td>\n",
       "      <td>0.001313</td>\n",
       "      <td>-22.082955</td>\n",
       "      <td>-0.036777</td>\n",
       "      <td>False</td>\n",
       "      <td>2</td>\n",
       "      <td>3</td>\n",
       "      <td>{'bootstrap': False, 'n_estimators': 3, 'max_f...</td>\n",
       "      <td>11</td>\n",
       "      <td>-16.034577</td>\n",
       "      <td>...</td>\n",
       "      <td>-27.087995</td>\n",
       "      <td>-0.091572</td>\n",
       "      <td>-27.585328</td>\n",
       "      <td>-0.000000</td>\n",
       "      <td>-24.623619</td>\n",
       "      <td>-0.087159</td>\n",
       "      <td>0.000516</td>\n",
       "      <td>0.000027</td>\n",
       "      <td>5.425905</td>\n",
       "      <td>0.043003</td>\n",
       "    </tr>\n",
       "    <tr>\n",
       "      <th>13</th>\n",
       "      <td>0.051515</td>\n",
       "      <td>0.002604</td>\n",
       "      <td>-21.015644</td>\n",
       "      <td>-0.007847</td>\n",
       "      <td>False</td>\n",
       "      <td>2</td>\n",
       "      <td>10</td>\n",
       "      <td>{'bootstrap': False, 'n_estimators': 10, 'max_...</td>\n",
       "      <td>10</td>\n",
       "      <td>-22.292434</td>\n",
       "      <td>...</td>\n",
       "      <td>-20.154336</td>\n",
       "      <td>-0.016638</td>\n",
       "      <td>-24.093468</td>\n",
       "      <td>-0.000175</td>\n",
       "      <td>-19.475881</td>\n",
       "      <td>-0.010022</td>\n",
       "      <td>0.001805</td>\n",
       "      <td>0.000203</td>\n",
       "      <td>1.898085</td>\n",
       "      <td>0.005492</td>\n",
       "    </tr>\n",
       "    <tr>\n",
       "      <th>14</th>\n",
       "      <td>0.015135</td>\n",
       "      <td>0.001070</td>\n",
       "      <td>-29.648932</td>\n",
       "      <td>-0.033529</td>\n",
       "      <td>False</td>\n",
       "      <td>3</td>\n",
       "      <td>3</td>\n",
       "      <td>{'bootstrap': False, 'n_estimators': 3, 'max_f...</td>\n",
       "      <td>15</td>\n",
       "      <td>-30.827700</td>\n",
       "      <td>...</td>\n",
       "      <td>-34.073232</td>\n",
       "      <td>-0.021775</td>\n",
       "      <td>-31.076766</td>\n",
       "      <td>-0.010130</td>\n",
       "      <td>-23.046994</td>\n",
       "      <td>-0.004202</td>\n",
       "      <td>0.000398</td>\n",
       "      <td>0.000035</td>\n",
       "      <td>3.653683</td>\n",
       "      <td>0.029463</td>\n",
       "    </tr>\n",
       "    <tr>\n",
       "      <th>15</th>\n",
       "      <td>0.051146</td>\n",
       "      <td>0.002702</td>\n",
       "      <td>-19.586986</td>\n",
       "      <td>-0.012066</td>\n",
       "      <td>False</td>\n",
       "      <td>3</td>\n",
       "      <td>10</td>\n",
       "      <td>{'bootstrap': False, 'n_estimators': 10, 'max_...</td>\n",
       "      <td>7</td>\n",
       "      <td>-18.551540</td>\n",
       "      <td>...</td>\n",
       "      <td>-15.541696</td>\n",
       "      <td>-0.002870</td>\n",
       "      <td>-21.834107</td>\n",
       "      <td>-0.001847</td>\n",
       "      <td>-17.744777</td>\n",
       "      <td>-0.015061</td>\n",
       "      <td>0.001569</td>\n",
       "      <td>0.000301</td>\n",
       "      <td>3.090902</td>\n",
       "      <td>0.009616</td>\n",
       "    </tr>\n",
       "    <tr>\n",
       "      <th>16</th>\n",
       "      <td>0.015570</td>\n",
       "      <td>0.001079</td>\n",
       "      <td>-24.163012</td>\n",
       "      <td>-0.012442</td>\n",
       "      <td>False</td>\n",
       "      <td>4</td>\n",
       "      <td>3</td>\n",
       "      <td>{'bootstrap': False, 'n_estimators': 3, 'max_f...</td>\n",
       "      <td>13</td>\n",
       "      <td>-26.665307</td>\n",
       "      <td>...</td>\n",
       "      <td>-30.084305</td>\n",
       "      <td>-0.002722</td>\n",
       "      <td>-17.214439</td>\n",
       "      <td>-0.003887</td>\n",
       "      <td>-23.549134</td>\n",
       "      <td>-0.000777</td>\n",
       "      <td>0.000457</td>\n",
       "      <td>0.000048</td>\n",
       "      <td>4.259708</td>\n",
       "      <td>0.013831</td>\n",
       "    </tr>\n",
       "    <tr>\n",
       "      <th>17</th>\n",
       "      <td>0.049652</td>\n",
       "      <td>0.002471</td>\n",
       "      <td>-19.629991</td>\n",
       "      <td>-0.014070</td>\n",
       "      <td>False</td>\n",
       "      <td>4</td>\n",
       "      <td>10</td>\n",
       "      <td>{'bootstrap': False, 'n_estimators': 10, 'max_...</td>\n",
       "      <td>8</td>\n",
       "      <td>-24.474794</td>\n",
       "      <td>...</td>\n",
       "      <td>-18.073269</td>\n",
       "      <td>-0.001006</td>\n",
       "      <td>-17.569298</td>\n",
       "      <td>-0.003075</td>\n",
       "      <td>-17.088628</td>\n",
       "      <td>-0.008089</td>\n",
       "      <td>0.001836</td>\n",
       "      <td>0.000183</td>\n",
       "      <td>2.768177</td>\n",
       "      <td>0.018040</td>\n",
       "    </tr>\n",
       "  </tbody>\n",
       "</table>\n",
       "<p>18 rows × 23 columns</p>\n",
       "</div>"
      ],
      "text/plain": [
       "    mean_fit_time  mean_score_time  mean_test_score  mean_train_score  \\\n",
       "0        0.014322         0.001303       -34.227403         -9.865596   \n",
       "1        0.040945         0.002460       -23.545587         -4.893773   \n",
       "2        0.119013         0.005922       -20.730270         -3.309823   \n",
       "3        0.014229         0.001256       -38.160291         -9.856388   \n",
       "4        0.043982         0.002906       -19.314770         -3.859121   \n",
       "5        0.128844         0.006063       -17.425168         -2.844695   \n",
       "6        0.013579         0.001065       -31.478695         -8.224122   \n",
       "7        0.041104         0.002403       -15.702693         -3.212530   \n",
       "8        0.130549         0.006179       -12.928823         -2.135009   \n",
       "9        0.014434         0.001305       -25.811057         -7.560427   \n",
       "10       0.043046         0.002579       -13.318649         -2.800154   \n",
       "11       0.125695         0.005622       -11.915733         -1.962176   \n",
       "12       0.017069         0.001313       -22.082955         -0.036777   \n",
       "13       0.051515         0.002604       -21.015644         -0.007847   \n",
       "14       0.015135         0.001070       -29.648932         -0.033529   \n",
       "15       0.051146         0.002702       -19.586986         -0.012066   \n",
       "16       0.015570         0.001079       -24.163012         -0.012442   \n",
       "17       0.049652         0.002471       -19.629991         -0.014070   \n",
       "\n",
       "   param_bootstrap param_max_features param_n_estimators  \\\n",
       "0              NaN                  2                  3   \n",
       "1              NaN                  2                 10   \n",
       "2              NaN                  2                 30   \n",
       "3              NaN                  4                  3   \n",
       "4              NaN                  4                 10   \n",
       "5              NaN                  4                 30   \n",
       "6              NaN                  6                  3   \n",
       "7              NaN                  6                 10   \n",
       "8              NaN                  6                 30   \n",
       "9              NaN                  8                  3   \n",
       "10             NaN                  8                 10   \n",
       "11             NaN                  8                 30   \n",
       "12           False                  2                  3   \n",
       "13           False                  2                 10   \n",
       "14           False                  3                  3   \n",
       "15           False                  3                 10   \n",
       "16           False                  4                  3   \n",
       "17           False                  4                 10   \n",
       "\n",
       "                                               params  rank_test_score  \\\n",
       "0              {'max_features': 2, 'n_estimators': 3}               17   \n",
       "1             {'max_features': 2, 'n_estimators': 10}               12   \n",
       "2             {'max_features': 2, 'n_estimators': 30}                9   \n",
       "3              {'max_features': 4, 'n_estimators': 3}               18   \n",
       "4             {'max_features': 4, 'n_estimators': 10}                6   \n",
       "5             {'max_features': 4, 'n_estimators': 30}                5   \n",
       "6              {'max_features': 6, 'n_estimators': 3}               16   \n",
       "7             {'max_features': 6, 'n_estimators': 10}                4   \n",
       "8             {'max_features': 6, 'n_estimators': 30}                2   \n",
       "9              {'max_features': 8, 'n_estimators': 3}               14   \n",
       "10            {'max_features': 8, 'n_estimators': 10}                3   \n",
       "11            {'max_features': 8, 'n_estimators': 30}                1   \n",
       "12  {'bootstrap': False, 'n_estimators': 3, 'max_f...               11   \n",
       "13  {'bootstrap': False, 'n_estimators': 10, 'max_...               10   \n",
       "14  {'bootstrap': False, 'n_estimators': 3, 'max_f...               15   \n",
       "15  {'bootstrap': False, 'n_estimators': 10, 'max_...                7   \n",
       "16  {'bootstrap': False, 'n_estimators': 3, 'max_f...               13   \n",
       "17  {'bootstrap': False, 'n_estimators': 10, 'max_...                8   \n",
       "\n",
       "    split0_test_score       ...         split2_test_score  split2_train_score  \\\n",
       "0          -24.610528       ...                -44.377040          -11.916010   \n",
       "1          -22.364493       ...                -23.108706           -5.202227   \n",
       "2          -22.836876       ...                -19.280484           -3.393413   \n",
       "3          -39.248252       ...                -38.019037           -8.945708   \n",
       "4          -19.825105       ...                -15.914283           -3.537533   \n",
       "5          -19.477830       ...                -15.050156           -2.664961   \n",
       "6          -38.744172       ...                -18.666861           -5.066638   \n",
       "7          -16.519218       ...                -11.250792           -2.598429   \n",
       "8          -15.499332       ...                -11.555046           -2.140167   \n",
       "9          -25.835859       ...                -36.123349          -11.201128   \n",
       "10         -13.457951       ...                -12.633272           -2.831143   \n",
       "11         -12.558656       ...                -11.310673           -2.135790   \n",
       "12         -16.034577       ...                -27.087995           -0.091572   \n",
       "13         -22.292434       ...                -20.154336           -0.016638   \n",
       "14         -30.827700       ...                -34.073232           -0.021775   \n",
       "15         -18.551540       ...                -15.541696           -0.002870   \n",
       "16         -26.665307       ...                -30.084305           -0.002722   \n",
       "17         -24.474794       ...                -18.073269           -0.001006   \n",
       "\n",
       "    split3_test_score  split3_train_score  split4_test_score  \\\n",
       "0          -28.221444           -7.639120         -27.792177   \n",
       "1          -22.427443           -4.559130         -18.712207   \n",
       "2          -21.651455           -3.188764         -16.585010   \n",
       "3          -38.170656           -9.291308         -28.417202   \n",
       "4          -23.333888           -4.382379         -13.572421   \n",
       "5          -19.370567           -3.048386         -13.272877   \n",
       "6          -28.560226           -7.769664         -32.106246   \n",
       "7          -19.705340           -3.535112         -12.946835   \n",
       "8          -13.557408           -1.955248          -9.481813   \n",
       "9          -29.489784           -7.244571         -17.381981   \n",
       "10         -14.417058           -2.537114         -11.906287   \n",
       "11         -13.135453           -1.933361          -9.458072   \n",
       "12         -27.585328           -0.000000         -24.623619   \n",
       "13         -24.093468           -0.000175         -19.475881   \n",
       "14         -31.076766           -0.010130         -23.046994   \n",
       "15         -21.834107           -0.001847         -17.744777   \n",
       "16         -17.214439           -0.003887         -23.549134   \n",
       "17         -17.569298           -0.003075         -17.088628   \n",
       "\n",
       "    split4_train_score  std_fit_time  std_score_time  std_test_score  \\\n",
       "0           -10.017684      0.001076        0.000095        9.104179   \n",
       "1            -4.608745      0.001171        0.000157        4.082960   \n",
       "2            -3.375617      0.003725        0.000235        2.494938   \n",
       "3            -9.299276      0.000960        0.000094        5.881869   \n",
       "4            -3.481112      0.002603        0.000464        4.054103   \n",
       "5            -2.829535      0.005242        0.000316        2.729360   \n",
       "6           -10.511636      0.001058        0.000136        7.581386   \n",
       "7            -3.428456      0.003164        0.000383        3.156308   \n",
       "8            -2.056407      0.004131        0.000605        2.162434   \n",
       "9            -6.959870      0.001377        0.000182        6.666910   \n",
       "10           -3.022536      0.000733        0.000115        0.940916   \n",
       "11           -1.970969      0.004522        0.000136        1.395414   \n",
       "12           -0.087159      0.000516        0.000027        5.425905   \n",
       "13           -0.010022      0.001805        0.000203        1.898085   \n",
       "14           -0.004202      0.000398        0.000035        3.653683   \n",
       "15           -0.015061      0.001569        0.000301        3.090902   \n",
       "16           -0.000777      0.000457        0.000048        4.259708   \n",
       "17           -0.008089      0.001836        0.000183        2.768177   \n",
       "\n",
       "    std_train_score  \n",
       "0          2.121668  \n",
       "1          0.496780  \n",
       "2          0.099363  \n",
       "3          1.232750  \n",
       "4          0.395441  \n",
       "5          0.124441  \n",
       "6          1.821304  \n",
       "7          0.345509  \n",
       "8          0.120121  \n",
       "9          1.891648  \n",
       "10         0.154942  \n",
       "11         0.094255  \n",
       "12         0.043003  \n",
       "13         0.005492  \n",
       "14         0.029463  \n",
       "15         0.009616  \n",
       "16         0.013831  \n",
       "17         0.018040  \n",
       "\n",
       "[18 rows x 23 columns]"
      ]
     },
     "execution_count": 1261,
     "metadata": {},
     "output_type": "execute_result"
    }
   ],
   "source": [
    "pd.DataFrame(grid_search.cv_results_)"
   ]
  },
  {
   "cell_type": "code",
   "execution_count": 1262,
   "metadata": {},
   "outputs": [
    {
     "data": {
      "text/plain": [
       "RandomizedSearchCV(cv=5, error_score='raise',\n",
       "          estimator=RandomForestRegressor(bootstrap=True, criterion='mse', max_depth=None,\n",
       "           max_features='auto', max_leaf_nodes=None,\n",
       "           min_impurity_decrease=0.0, min_impurity_split=None,\n",
       "           min_samples_leaf=1, min_samples_split=2,\n",
       "           min_weight_fraction_leaf=0.0, n_estimators=10, n_jobs=1,\n",
       "           oob_score=False, random_state=42, verbose=0, warm_start=False),\n",
       "          fit_params=None, iid=True, n_iter=10, n_jobs=1,\n",
       "          param_distributions={'max_features': <scipy.stats._distn_infrastructure.rv_frozen object at 0x1a2b3428d0>, 'n_estimators': <scipy.stats._distn_infrastructure.rv_frozen object at 0x1a2b342f60>},\n",
       "          pre_dispatch='2*n_jobs', random_state=42, refit=True,\n",
       "          return_train_score='warn', scoring='neg_mean_squared_error',\n",
       "          verbose=0)"
      ]
     },
     "execution_count": 1262,
     "metadata": {},
     "output_type": "execute_result"
    }
   ],
   "source": [
    "from sklearn.model_selection import RandomizedSearchCV\n",
    "from scipy.stats import randint\n",
    "\n",
    "param_distribs = {\n",
    "        'n_estimators': randint(low=1, high=200),\n",
    "        'max_features': randint(low=1, high=8),\n",
    "    }\n",
    "\n",
    "forest_reg = RandomForestRegressor(random_state=42)\n",
    "rnd_search = RandomizedSearchCV(forest_reg, param_distributions=param_distribs,\n",
    "                                n_iter=10, cv=5, scoring='neg_mean_squared_error', random_state=42)\n",
    "rnd_search.fit(train_set_prepared, opioid_labels)"
   ]
  },
  {
   "cell_type": "code",
   "execution_count": 1263,
   "metadata": {},
   "outputs": [
    {
     "name": "stdout",
     "output_type": "stream",
     "text": [
      "3.30002935598 {'max_features': 7, 'n_estimators': 180}\n",
      "4.17163862265 {'max_features': 5, 'n_estimators': 15}\n",
      "4.16426051232 {'max_features': 3, 'n_estimators': 72}\n",
      "3.86688737401 {'max_features': 5, 'n_estimators': 21}\n",
      "3.32922412684 {'max_features': 7, 'n_estimators': 122}\n",
      "4.15755742834 {'max_features': 3, 'n_estimators': 75}\n",
      "4.21701031089 {'max_features': 3, 'n_estimators': 88}\n",
      "3.75968774954 {'max_features': 5, 'n_estimators': 100}\n",
      "4.19848170308 {'max_features': 3, 'n_estimators': 150}\n",
      "6.39051628513 {'max_features': 5, 'n_estimators': 2}\n"
     ]
    }
   ],
   "source": [
    "cvres = rnd_search.cv_results_\n",
    "for mean_score, params in zip(cvres[\"mean_test_score\"], cvres[\"params\"]):\n",
    "    print(np.sqrt(-mean_score), params)"
   ]
  },
  {
   "cell_type": "code",
   "execution_count": 1264,
   "metadata": {},
   "outputs": [
    {
     "data": {
      "text/plain": [
       "array([  7.95335533e-01,   4.66203263e-02,   4.96193343e-02,\n",
       "         1.00698100e-05,   5.96266807e-03,   5.17233383e-03,\n",
       "         1.30572869e-03,   5.71439863e-03,   2.60618740e-04,\n",
       "         9.18107422e-03,   3.28905645e-03,   1.69811851e-03,\n",
       "         3.15043733e-04,   1.25319302e-03,   8.87412303e-04,\n",
       "         3.71659763e-04,   3.76884199e-05,   8.96694641e-05,\n",
       "         6.65550015e-04,   6.71601325e-04,   2.21699021e-04,\n",
       "         1.28518348e-03,   4.07175382e-03,   6.67140872e-03,\n",
       "         4.63224605e-03,   6.96677193e-05,   1.52110451e-04,\n",
       "         3.21697516e-03,   2.85734630e-03,   5.41941290e-03,\n",
       "         4.46185779e-03,   2.16973705e-03,   1.68305843e-03,\n",
       "         1.71686369e-04,   4.00742354e-03,   2.55370335e-05,\n",
       "         1.02263816e-03,   3.74300068e-04,   2.83526077e-05,\n",
       "         1.05652200e-03,   4.20953678e-05,   8.47473582e-04,\n",
       "         4.44177730e-05,   1.06985935e-03,   1.04851249e-03,\n",
       "         7.42123845e-04,   3.22104315e-04,   1.29654370e-03,\n",
       "         5.52327932e-04,   1.73814484e-04,   5.83985094e-04,\n",
       "         6.05528992e-04,   3.53069886e-04,   4.78871758e-05,\n",
       "         7.45388397e-05,   1.26796942e-04,   3.37729869e-04,\n",
       "         1.21978141e-04,   1.18320553e-04,   1.45992099e-04,\n",
       "         1.20192600e-04,   8.72427361e-05,   2.09936677e-04,\n",
       "         2.18821441e-04,   8.76950959e-05,   4.11735383e-04,\n",
       "         1.84239063e-04,   4.49653628e-04,   4.19638851e-05,\n",
       "         1.38217976e-04,   6.04649216e-05,   1.08959992e-03,\n",
       "         9.97796868e-05,   1.19318778e-04,   1.03755789e-04,\n",
       "         1.88503420e-04,   5.54920703e-05,   7.71107533e-05,\n",
       "         3.26897644e-04,   1.33075326e-04,   1.43679407e-04,\n",
       "         5.11115777e-05,   7.71278252e-05,   4.05978512e-05,\n",
       "         3.52171023e-04,   4.45816860e-05,   2.07004151e-04,\n",
       "         5.62293000e-04,   2.94090601e-04,   2.82315046e-03,\n",
       "         5.10136403e-03,   5.38403628e-03])"
      ]
     },
     "execution_count": 1264,
     "metadata": {},
     "output_type": "execute_result"
    }
   ],
   "source": [
    "feature_importances = grid_search.best_estimator_.feature_importances_\n",
    "feature_importances"
   ]
  },
  {
   "cell_type": "code",
   "execution_count": 1269,
   "metadata": {},
   "outputs": [
    {
     "ename": "KeyError",
     "evalue": "\"['Age'] not in index\"",
     "output_type": "error",
     "traceback": [
      "\u001b[0;31m---------------------------------------------------------------------------\u001b[0m",
      "\u001b[0;31mKeyError\u001b[0m                                  Traceback (most recent call last)",
      "\u001b[0;32m<ipython-input-1269-37918c8ccdd0>\u001b[0m in \u001b[0;36m<module>\u001b[0;34m()\u001b[0m\n\u001b[1;32m      2\u001b[0m \u001b[0;34m\u001b[0m\u001b[0m\n\u001b[1;32m      3\u001b[0m \u001b[0mX_test\u001b[0m \u001b[0;34m=\u001b[0m \u001b[0mtest_set\u001b[0m\u001b[0;34m.\u001b[0m\u001b[0mdrop\u001b[0m\u001b[0;34m(\u001b[0m\u001b[0;34m\"Age\"\u001b[0m\u001b[0;34m,\u001b[0m \u001b[0maxis\u001b[0m\u001b[0;34m=\u001b[0m\u001b[0;36m1\u001b[0m\u001b[0;34m)\u001b[0m\u001b[0;34m\u001b[0m\u001b[0m\n\u001b[0;32m----> 4\u001b[0;31m \u001b[0mX_test_prepared\u001b[0m \u001b[0;34m=\u001b[0m \u001b[0mfull_pipeline\u001b[0m\u001b[0;34m.\u001b[0m\u001b[0mtransform\u001b[0m\u001b[0;34m(\u001b[0m\u001b[0mX_test\u001b[0m\u001b[0;34m)\u001b[0m\u001b[0;34m\u001b[0m\u001b[0m\n\u001b[0m\u001b[1;32m      5\u001b[0m \u001b[0;34m\u001b[0m\u001b[0m\n\u001b[1;32m      6\u001b[0m \u001b[0my_test\u001b[0m \u001b[0;34m=\u001b[0m \u001b[0mtest_set\u001b[0m\u001b[0;34m[\u001b[0m\u001b[0;34m\"Age\"\u001b[0m\u001b[0;34m]\u001b[0m\u001b[0;34m.\u001b[0m\u001b[0mcopy\u001b[0m\u001b[0;34m(\u001b[0m\u001b[0;34m)\u001b[0m\u001b[0;34m\u001b[0m\u001b[0m\n",
      "\u001b[0;32m~/anaconda/envs/opioid-data-ml/lib/python3.5/site-packages/sklearn/pipeline.py\u001b[0m in \u001b[0;36mtransform\u001b[0;34m(self, X)\u001b[0m\n\u001b[1;32m    766\u001b[0m         Xs = Parallel(n_jobs=self.n_jobs)(\n\u001b[1;32m    767\u001b[0m             \u001b[0mdelayed\u001b[0m\u001b[0;34m(\u001b[0m\u001b[0m_transform_one\u001b[0m\u001b[0;34m)\u001b[0m\u001b[0;34m(\u001b[0m\u001b[0mtrans\u001b[0m\u001b[0;34m,\u001b[0m \u001b[0mweight\u001b[0m\u001b[0;34m,\u001b[0m \u001b[0mX\u001b[0m\u001b[0;34m)\u001b[0m\u001b[0;34m\u001b[0m\u001b[0m\n\u001b[0;32m--> 768\u001b[0;31m             for name, trans, weight in self._iter())\n\u001b[0m\u001b[1;32m    769\u001b[0m         \u001b[0;32mif\u001b[0m \u001b[0;32mnot\u001b[0m \u001b[0mXs\u001b[0m\u001b[0;34m:\u001b[0m\u001b[0;34m\u001b[0m\u001b[0m\n\u001b[1;32m    770\u001b[0m             \u001b[0;31m# All transformers are None\u001b[0m\u001b[0;34m\u001b[0m\u001b[0;34m\u001b[0m\u001b[0m\n",
      "\u001b[0;32m~/anaconda/envs/opioid-data-ml/lib/python3.5/site-packages/sklearn/externals/joblib/parallel.py\u001b[0m in \u001b[0;36m__call__\u001b[0;34m(self, iterable)\u001b[0m\n\u001b[1;32m    777\u001b[0m             \u001b[0;31m# was dispatched. In particular this covers the edge\u001b[0m\u001b[0;34m\u001b[0m\u001b[0;34m\u001b[0m\u001b[0m\n\u001b[1;32m    778\u001b[0m             \u001b[0;31m# case of Parallel used with an exhausted iterator.\u001b[0m\u001b[0;34m\u001b[0m\u001b[0;34m\u001b[0m\u001b[0m\n\u001b[0;32m--> 779\u001b[0;31m             \u001b[0;32mwhile\u001b[0m \u001b[0mself\u001b[0m\u001b[0;34m.\u001b[0m\u001b[0mdispatch_one_batch\u001b[0m\u001b[0;34m(\u001b[0m\u001b[0miterator\u001b[0m\u001b[0;34m)\u001b[0m\u001b[0;34m:\u001b[0m\u001b[0;34m\u001b[0m\u001b[0m\n\u001b[0m\u001b[1;32m    780\u001b[0m                 \u001b[0mself\u001b[0m\u001b[0;34m.\u001b[0m\u001b[0m_iterating\u001b[0m \u001b[0;34m=\u001b[0m \u001b[0;32mTrue\u001b[0m\u001b[0;34m\u001b[0m\u001b[0m\n\u001b[1;32m    781\u001b[0m             \u001b[0;32melse\u001b[0m\u001b[0;34m:\u001b[0m\u001b[0;34m\u001b[0m\u001b[0m\n",
      "\u001b[0;32m~/anaconda/envs/opioid-data-ml/lib/python3.5/site-packages/sklearn/externals/joblib/parallel.py\u001b[0m in \u001b[0;36mdispatch_one_batch\u001b[0;34m(self, iterator)\u001b[0m\n\u001b[1;32m    623\u001b[0m                 \u001b[0;32mreturn\u001b[0m \u001b[0;32mFalse\u001b[0m\u001b[0;34m\u001b[0m\u001b[0m\n\u001b[1;32m    624\u001b[0m             \u001b[0;32melse\u001b[0m\u001b[0;34m:\u001b[0m\u001b[0;34m\u001b[0m\u001b[0m\n\u001b[0;32m--> 625\u001b[0;31m                 \u001b[0mself\u001b[0m\u001b[0;34m.\u001b[0m\u001b[0m_dispatch\u001b[0m\u001b[0;34m(\u001b[0m\u001b[0mtasks\u001b[0m\u001b[0;34m)\u001b[0m\u001b[0;34m\u001b[0m\u001b[0m\n\u001b[0m\u001b[1;32m    626\u001b[0m                 \u001b[0;32mreturn\u001b[0m \u001b[0;32mTrue\u001b[0m\u001b[0;34m\u001b[0m\u001b[0m\n\u001b[1;32m    627\u001b[0m \u001b[0;34m\u001b[0m\u001b[0m\n",
      "\u001b[0;32m~/anaconda/envs/opioid-data-ml/lib/python3.5/site-packages/sklearn/externals/joblib/parallel.py\u001b[0m in \u001b[0;36m_dispatch\u001b[0;34m(self, batch)\u001b[0m\n\u001b[1;32m    586\u001b[0m         \u001b[0mdispatch_timestamp\u001b[0m \u001b[0;34m=\u001b[0m \u001b[0mtime\u001b[0m\u001b[0;34m.\u001b[0m\u001b[0mtime\u001b[0m\u001b[0;34m(\u001b[0m\u001b[0;34m)\u001b[0m\u001b[0;34m\u001b[0m\u001b[0m\n\u001b[1;32m    587\u001b[0m         \u001b[0mcb\u001b[0m \u001b[0;34m=\u001b[0m \u001b[0mBatchCompletionCallBack\u001b[0m\u001b[0;34m(\u001b[0m\u001b[0mdispatch_timestamp\u001b[0m\u001b[0;34m,\u001b[0m \u001b[0mlen\u001b[0m\u001b[0;34m(\u001b[0m\u001b[0mbatch\u001b[0m\u001b[0;34m)\u001b[0m\u001b[0;34m,\u001b[0m \u001b[0mself\u001b[0m\u001b[0;34m)\u001b[0m\u001b[0;34m\u001b[0m\u001b[0m\n\u001b[0;32m--> 588\u001b[0;31m         \u001b[0mjob\u001b[0m \u001b[0;34m=\u001b[0m \u001b[0mself\u001b[0m\u001b[0;34m.\u001b[0m\u001b[0m_backend\u001b[0m\u001b[0;34m.\u001b[0m\u001b[0mapply_async\u001b[0m\u001b[0;34m(\u001b[0m\u001b[0mbatch\u001b[0m\u001b[0;34m,\u001b[0m \u001b[0mcallback\u001b[0m\u001b[0;34m=\u001b[0m\u001b[0mcb\u001b[0m\u001b[0;34m)\u001b[0m\u001b[0;34m\u001b[0m\u001b[0m\n\u001b[0m\u001b[1;32m    589\u001b[0m         \u001b[0mself\u001b[0m\u001b[0;34m.\u001b[0m\u001b[0m_jobs\u001b[0m\u001b[0;34m.\u001b[0m\u001b[0mappend\u001b[0m\u001b[0;34m(\u001b[0m\u001b[0mjob\u001b[0m\u001b[0;34m)\u001b[0m\u001b[0;34m\u001b[0m\u001b[0m\n\u001b[1;32m    590\u001b[0m \u001b[0;34m\u001b[0m\u001b[0m\n",
      "\u001b[0;32m~/anaconda/envs/opioid-data-ml/lib/python3.5/site-packages/sklearn/externals/joblib/_parallel_backends.py\u001b[0m in \u001b[0;36mapply_async\u001b[0;34m(self, func, callback)\u001b[0m\n\u001b[1;32m    109\u001b[0m     \u001b[0;32mdef\u001b[0m \u001b[0mapply_async\u001b[0m\u001b[0;34m(\u001b[0m\u001b[0mself\u001b[0m\u001b[0;34m,\u001b[0m \u001b[0mfunc\u001b[0m\u001b[0;34m,\u001b[0m \u001b[0mcallback\u001b[0m\u001b[0;34m=\u001b[0m\u001b[0;32mNone\u001b[0m\u001b[0;34m)\u001b[0m\u001b[0;34m:\u001b[0m\u001b[0;34m\u001b[0m\u001b[0m\n\u001b[1;32m    110\u001b[0m         \u001b[0;34m\"\"\"Schedule a func to be run\"\"\"\u001b[0m\u001b[0;34m\u001b[0m\u001b[0m\n\u001b[0;32m--> 111\u001b[0;31m         \u001b[0mresult\u001b[0m \u001b[0;34m=\u001b[0m \u001b[0mImmediateResult\u001b[0m\u001b[0;34m(\u001b[0m\u001b[0mfunc\u001b[0m\u001b[0;34m)\u001b[0m\u001b[0;34m\u001b[0m\u001b[0m\n\u001b[0m\u001b[1;32m    112\u001b[0m         \u001b[0;32mif\u001b[0m \u001b[0mcallback\u001b[0m\u001b[0;34m:\u001b[0m\u001b[0;34m\u001b[0m\u001b[0m\n\u001b[1;32m    113\u001b[0m             \u001b[0mcallback\u001b[0m\u001b[0;34m(\u001b[0m\u001b[0mresult\u001b[0m\u001b[0;34m)\u001b[0m\u001b[0;34m\u001b[0m\u001b[0m\n",
      "\u001b[0;32m~/anaconda/envs/opioid-data-ml/lib/python3.5/site-packages/sklearn/externals/joblib/_parallel_backends.py\u001b[0m in \u001b[0;36m__init__\u001b[0;34m(self, batch)\u001b[0m\n\u001b[1;32m    330\u001b[0m         \u001b[0;31m# Don't delay the application, to avoid keeping the input\u001b[0m\u001b[0;34m\u001b[0m\u001b[0;34m\u001b[0m\u001b[0m\n\u001b[1;32m    331\u001b[0m         \u001b[0;31m# arguments in memory\u001b[0m\u001b[0;34m\u001b[0m\u001b[0;34m\u001b[0m\u001b[0m\n\u001b[0;32m--> 332\u001b[0;31m         \u001b[0mself\u001b[0m\u001b[0;34m.\u001b[0m\u001b[0mresults\u001b[0m \u001b[0;34m=\u001b[0m \u001b[0mbatch\u001b[0m\u001b[0;34m(\u001b[0m\u001b[0;34m)\u001b[0m\u001b[0;34m\u001b[0m\u001b[0m\n\u001b[0m\u001b[1;32m    333\u001b[0m \u001b[0;34m\u001b[0m\u001b[0m\n\u001b[1;32m    334\u001b[0m     \u001b[0;32mdef\u001b[0m \u001b[0mget\u001b[0m\u001b[0;34m(\u001b[0m\u001b[0mself\u001b[0m\u001b[0;34m)\u001b[0m\u001b[0;34m:\u001b[0m\u001b[0;34m\u001b[0m\u001b[0m\n",
      "\u001b[0;32m~/anaconda/envs/opioid-data-ml/lib/python3.5/site-packages/sklearn/externals/joblib/parallel.py\u001b[0m in \u001b[0;36m__call__\u001b[0;34m(self)\u001b[0m\n\u001b[1;32m    129\u001b[0m \u001b[0;34m\u001b[0m\u001b[0m\n\u001b[1;32m    130\u001b[0m     \u001b[0;32mdef\u001b[0m \u001b[0m__call__\u001b[0m\u001b[0;34m(\u001b[0m\u001b[0mself\u001b[0m\u001b[0;34m)\u001b[0m\u001b[0;34m:\u001b[0m\u001b[0;34m\u001b[0m\u001b[0m\n\u001b[0;32m--> 131\u001b[0;31m         \u001b[0;32mreturn\u001b[0m \u001b[0;34m[\u001b[0m\u001b[0mfunc\u001b[0m\u001b[0;34m(\u001b[0m\u001b[0;34m*\u001b[0m\u001b[0margs\u001b[0m\u001b[0;34m,\u001b[0m \u001b[0;34m**\u001b[0m\u001b[0mkwargs\u001b[0m\u001b[0;34m)\u001b[0m \u001b[0;32mfor\u001b[0m \u001b[0mfunc\u001b[0m\u001b[0;34m,\u001b[0m \u001b[0margs\u001b[0m\u001b[0;34m,\u001b[0m \u001b[0mkwargs\u001b[0m \u001b[0;32min\u001b[0m \u001b[0mself\u001b[0m\u001b[0;34m.\u001b[0m\u001b[0mitems\u001b[0m\u001b[0;34m]\u001b[0m\u001b[0;34m\u001b[0m\u001b[0m\n\u001b[0m\u001b[1;32m    132\u001b[0m \u001b[0;34m\u001b[0m\u001b[0m\n\u001b[1;32m    133\u001b[0m     \u001b[0;32mdef\u001b[0m \u001b[0m__len__\u001b[0m\u001b[0;34m(\u001b[0m\u001b[0mself\u001b[0m\u001b[0;34m)\u001b[0m\u001b[0;34m:\u001b[0m\u001b[0;34m\u001b[0m\u001b[0m\n",
      "\u001b[0;32m~/anaconda/envs/opioid-data-ml/lib/python3.5/site-packages/sklearn/externals/joblib/parallel.py\u001b[0m in \u001b[0;36m<listcomp>\u001b[0;34m(.0)\u001b[0m\n\u001b[1;32m    129\u001b[0m \u001b[0;34m\u001b[0m\u001b[0m\n\u001b[1;32m    130\u001b[0m     \u001b[0;32mdef\u001b[0m \u001b[0m__call__\u001b[0m\u001b[0;34m(\u001b[0m\u001b[0mself\u001b[0m\u001b[0;34m)\u001b[0m\u001b[0;34m:\u001b[0m\u001b[0;34m\u001b[0m\u001b[0m\n\u001b[0;32m--> 131\u001b[0;31m         \u001b[0;32mreturn\u001b[0m \u001b[0;34m[\u001b[0m\u001b[0mfunc\u001b[0m\u001b[0;34m(\u001b[0m\u001b[0;34m*\u001b[0m\u001b[0margs\u001b[0m\u001b[0;34m,\u001b[0m \u001b[0;34m**\u001b[0m\u001b[0mkwargs\u001b[0m\u001b[0;34m)\u001b[0m \u001b[0;32mfor\u001b[0m \u001b[0mfunc\u001b[0m\u001b[0;34m,\u001b[0m \u001b[0margs\u001b[0m\u001b[0;34m,\u001b[0m \u001b[0mkwargs\u001b[0m \u001b[0;32min\u001b[0m \u001b[0mself\u001b[0m\u001b[0;34m.\u001b[0m\u001b[0mitems\u001b[0m\u001b[0;34m]\u001b[0m\u001b[0;34m\u001b[0m\u001b[0m\n\u001b[0m\u001b[1;32m    132\u001b[0m \u001b[0;34m\u001b[0m\u001b[0m\n\u001b[1;32m    133\u001b[0m     \u001b[0;32mdef\u001b[0m \u001b[0m__len__\u001b[0m\u001b[0;34m(\u001b[0m\u001b[0mself\u001b[0m\u001b[0;34m)\u001b[0m\u001b[0;34m:\u001b[0m\u001b[0;34m\u001b[0m\u001b[0m\n",
      "\u001b[0;32m~/anaconda/envs/opioid-data-ml/lib/python3.5/site-packages/sklearn/pipeline.py\u001b[0m in \u001b[0;36m_transform_one\u001b[0;34m(transformer, weight, X)\u001b[0m\n\u001b[1;32m    569\u001b[0m \u001b[0;34m\u001b[0m\u001b[0m\n\u001b[1;32m    570\u001b[0m \u001b[0;32mdef\u001b[0m \u001b[0m_transform_one\u001b[0m\u001b[0;34m(\u001b[0m\u001b[0mtransformer\u001b[0m\u001b[0;34m,\u001b[0m \u001b[0mweight\u001b[0m\u001b[0;34m,\u001b[0m \u001b[0mX\u001b[0m\u001b[0;34m)\u001b[0m\u001b[0;34m:\u001b[0m\u001b[0;34m\u001b[0m\u001b[0m\n\u001b[0;32m--> 571\u001b[0;31m     \u001b[0mres\u001b[0m \u001b[0;34m=\u001b[0m \u001b[0mtransformer\u001b[0m\u001b[0;34m.\u001b[0m\u001b[0mtransform\u001b[0m\u001b[0;34m(\u001b[0m\u001b[0mX\u001b[0m\u001b[0;34m)\u001b[0m\u001b[0;34m\u001b[0m\u001b[0m\n\u001b[0m\u001b[1;32m    572\u001b[0m     \u001b[0;31m# if we have a weight for this transformer, multiply output\u001b[0m\u001b[0;34m\u001b[0m\u001b[0;34m\u001b[0m\u001b[0m\n\u001b[1;32m    573\u001b[0m     \u001b[0;32mif\u001b[0m \u001b[0mweight\u001b[0m \u001b[0;32mis\u001b[0m \u001b[0;32mNone\u001b[0m\u001b[0;34m:\u001b[0m\u001b[0;34m\u001b[0m\u001b[0m\n",
      "\u001b[0;32m~/anaconda/envs/opioid-data-ml/lib/python3.5/site-packages/sklearn/pipeline.py\u001b[0m in \u001b[0;36m_transform\u001b[0;34m(self, X)\u001b[0m\n\u001b[1;32m    424\u001b[0m         \u001b[0;32mfor\u001b[0m \u001b[0mname\u001b[0m\u001b[0;34m,\u001b[0m \u001b[0mtransform\u001b[0m \u001b[0;32min\u001b[0m \u001b[0mself\u001b[0m\u001b[0;34m.\u001b[0m\u001b[0msteps\u001b[0m\u001b[0;34m:\u001b[0m\u001b[0;34m\u001b[0m\u001b[0m\n\u001b[1;32m    425\u001b[0m             \u001b[0;32mif\u001b[0m \u001b[0mtransform\u001b[0m \u001b[0;32mis\u001b[0m \u001b[0;32mnot\u001b[0m \u001b[0;32mNone\u001b[0m\u001b[0;34m:\u001b[0m\u001b[0;34m\u001b[0m\u001b[0m\n\u001b[0;32m--> 426\u001b[0;31m                 \u001b[0mXt\u001b[0m \u001b[0;34m=\u001b[0m \u001b[0mtransform\u001b[0m\u001b[0;34m.\u001b[0m\u001b[0mtransform\u001b[0m\u001b[0;34m(\u001b[0m\u001b[0mXt\u001b[0m\u001b[0;34m)\u001b[0m\u001b[0;34m\u001b[0m\u001b[0m\n\u001b[0m\u001b[1;32m    427\u001b[0m         \u001b[0;32mreturn\u001b[0m \u001b[0mXt\u001b[0m\u001b[0;34m\u001b[0m\u001b[0m\n\u001b[1;32m    428\u001b[0m \u001b[0;34m\u001b[0m\u001b[0m\n",
      "\u001b[0;32m<ipython-input-1237-8e20f752c7f7>\u001b[0m in \u001b[0;36mtransform\u001b[0;34m(self, X)\u001b[0m\n\u001b[1;32m      9\u001b[0m         \u001b[0;32mreturn\u001b[0m \u001b[0mself\u001b[0m\u001b[0;34m\u001b[0m\u001b[0m\n\u001b[1;32m     10\u001b[0m     \u001b[0;32mdef\u001b[0m \u001b[0mtransform\u001b[0m\u001b[0;34m(\u001b[0m\u001b[0mself\u001b[0m\u001b[0;34m,\u001b[0m \u001b[0mX\u001b[0m\u001b[0;34m)\u001b[0m\u001b[0;34m:\u001b[0m\u001b[0;34m\u001b[0m\u001b[0m\n\u001b[0;32m---> 11\u001b[0;31m         \u001b[0;32mreturn\u001b[0m \u001b[0mX\u001b[0m\u001b[0;34m[\u001b[0m\u001b[0mself\u001b[0m\u001b[0;34m.\u001b[0m\u001b[0mattribute_names\u001b[0m\u001b[0;34m]\u001b[0m\u001b[0;34m.\u001b[0m\u001b[0mvalues\u001b[0m\u001b[0;34m\u001b[0m\u001b[0m\n\u001b[0m",
      "\u001b[0;32m~/anaconda/envs/opioid-data-ml/lib/python3.5/site-packages/pandas/core/frame.py\u001b[0m in \u001b[0;36m__getitem__\u001b[0;34m(self, key)\u001b[0m\n\u001b[1;32m   1956\u001b[0m         \u001b[0;32mif\u001b[0m \u001b[0misinstance\u001b[0m\u001b[0;34m(\u001b[0m\u001b[0mkey\u001b[0m\u001b[0;34m,\u001b[0m \u001b[0;34m(\u001b[0m\u001b[0mSeries\u001b[0m\u001b[0;34m,\u001b[0m \u001b[0mnp\u001b[0m\u001b[0;34m.\u001b[0m\u001b[0mndarray\u001b[0m\u001b[0;34m,\u001b[0m \u001b[0mIndex\u001b[0m\u001b[0;34m,\u001b[0m \u001b[0mlist\u001b[0m\u001b[0;34m)\u001b[0m\u001b[0;34m)\u001b[0m\u001b[0;34m:\u001b[0m\u001b[0;34m\u001b[0m\u001b[0m\n\u001b[1;32m   1957\u001b[0m             \u001b[0;31m# either boolean or fancy integer index\u001b[0m\u001b[0;34m\u001b[0m\u001b[0;34m\u001b[0m\u001b[0m\n\u001b[0;32m-> 1958\u001b[0;31m             \u001b[0;32mreturn\u001b[0m \u001b[0mself\u001b[0m\u001b[0;34m.\u001b[0m\u001b[0m_getitem_array\u001b[0m\u001b[0;34m(\u001b[0m\u001b[0mkey\u001b[0m\u001b[0;34m)\u001b[0m\u001b[0;34m\u001b[0m\u001b[0m\n\u001b[0m\u001b[1;32m   1959\u001b[0m         \u001b[0;32melif\u001b[0m \u001b[0misinstance\u001b[0m\u001b[0;34m(\u001b[0m\u001b[0mkey\u001b[0m\u001b[0;34m,\u001b[0m \u001b[0mDataFrame\u001b[0m\u001b[0;34m)\u001b[0m\u001b[0;34m:\u001b[0m\u001b[0;34m\u001b[0m\u001b[0m\n\u001b[1;32m   1960\u001b[0m             \u001b[0;32mreturn\u001b[0m \u001b[0mself\u001b[0m\u001b[0;34m.\u001b[0m\u001b[0m_getitem_frame\u001b[0m\u001b[0;34m(\u001b[0m\u001b[0mkey\u001b[0m\u001b[0;34m)\u001b[0m\u001b[0;34m\u001b[0m\u001b[0m\n",
      "\u001b[0;32m~/anaconda/envs/opioid-data-ml/lib/python3.5/site-packages/pandas/core/frame.py\u001b[0m in \u001b[0;36m_getitem_array\u001b[0;34m(self, key)\u001b[0m\n\u001b[1;32m   2000\u001b[0m             \u001b[0;32mreturn\u001b[0m \u001b[0mself\u001b[0m\u001b[0;34m.\u001b[0m\u001b[0mtake\u001b[0m\u001b[0;34m(\u001b[0m\u001b[0mindexer\u001b[0m\u001b[0;34m,\u001b[0m \u001b[0maxis\u001b[0m\u001b[0;34m=\u001b[0m\u001b[0;36m0\u001b[0m\u001b[0;34m,\u001b[0m \u001b[0mconvert\u001b[0m\u001b[0;34m=\u001b[0m\u001b[0;32mFalse\u001b[0m\u001b[0;34m)\u001b[0m\u001b[0;34m\u001b[0m\u001b[0m\n\u001b[1;32m   2001\u001b[0m         \u001b[0;32melse\u001b[0m\u001b[0;34m:\u001b[0m\u001b[0;34m\u001b[0m\u001b[0m\n\u001b[0;32m-> 2002\u001b[0;31m             \u001b[0mindexer\u001b[0m \u001b[0;34m=\u001b[0m \u001b[0mself\u001b[0m\u001b[0;34m.\u001b[0m\u001b[0mloc\u001b[0m\u001b[0;34m.\u001b[0m\u001b[0m_convert_to_indexer\u001b[0m\u001b[0;34m(\u001b[0m\u001b[0mkey\u001b[0m\u001b[0;34m,\u001b[0m \u001b[0maxis\u001b[0m\u001b[0;34m=\u001b[0m\u001b[0;36m1\u001b[0m\u001b[0;34m)\u001b[0m\u001b[0;34m\u001b[0m\u001b[0m\n\u001b[0m\u001b[1;32m   2003\u001b[0m             \u001b[0;32mreturn\u001b[0m \u001b[0mself\u001b[0m\u001b[0;34m.\u001b[0m\u001b[0mtake\u001b[0m\u001b[0;34m(\u001b[0m\u001b[0mindexer\u001b[0m\u001b[0;34m,\u001b[0m \u001b[0maxis\u001b[0m\u001b[0;34m=\u001b[0m\u001b[0;36m1\u001b[0m\u001b[0;34m,\u001b[0m \u001b[0mconvert\u001b[0m\u001b[0;34m=\u001b[0m\u001b[0;32mTrue\u001b[0m\u001b[0;34m)\u001b[0m\u001b[0;34m\u001b[0m\u001b[0m\n\u001b[1;32m   2004\u001b[0m \u001b[0;34m\u001b[0m\u001b[0m\n",
      "\u001b[0;32m~/anaconda/envs/opioid-data-ml/lib/python3.5/site-packages/pandas/core/indexing.py\u001b[0m in \u001b[0;36m_convert_to_indexer\u001b[0;34m(self, obj, axis, is_setter)\u001b[0m\n\u001b[1;32m   1229\u001b[0m                 \u001b[0mmask\u001b[0m \u001b[0;34m=\u001b[0m \u001b[0mcheck\u001b[0m \u001b[0;34m==\u001b[0m \u001b[0;34m-\u001b[0m\u001b[0;36m1\u001b[0m\u001b[0;34m\u001b[0m\u001b[0m\n\u001b[1;32m   1230\u001b[0m                 \u001b[0;32mif\u001b[0m \u001b[0mmask\u001b[0m\u001b[0;34m.\u001b[0m\u001b[0many\u001b[0m\u001b[0;34m(\u001b[0m\u001b[0;34m)\u001b[0m\u001b[0;34m:\u001b[0m\u001b[0;34m\u001b[0m\u001b[0m\n\u001b[0;32m-> 1231\u001b[0;31m                     \u001b[0;32mraise\u001b[0m \u001b[0mKeyError\u001b[0m\u001b[0;34m(\u001b[0m\u001b[0;34m'%s not in index'\u001b[0m \u001b[0;34m%\u001b[0m \u001b[0mobjarr\u001b[0m\u001b[0;34m[\u001b[0m\u001b[0mmask\u001b[0m\u001b[0;34m]\u001b[0m\u001b[0;34m)\u001b[0m\u001b[0;34m\u001b[0m\u001b[0m\n\u001b[0m\u001b[1;32m   1232\u001b[0m \u001b[0;34m\u001b[0m\u001b[0m\n\u001b[1;32m   1233\u001b[0m                 \u001b[0;32mreturn\u001b[0m \u001b[0m_values_from_object\u001b[0m\u001b[0;34m(\u001b[0m\u001b[0mindexer\u001b[0m\u001b[0;34m)\u001b[0m\u001b[0;34m\u001b[0m\u001b[0m\n",
      "\u001b[0;31mKeyError\u001b[0m: \"['Age'] not in index\""
     ]
    }
   ],
   "source": [
    "final_model = grid_search.best_estimator_\n",
    "\n",
    "X_test = test_set.drop(\"Age\", axis=1)\n",
    "X_test_prepared = full_pipeline.transform(X_test)\n",
    "\n",
    "y_test = test_set[\"Age\"].copy()\n"
   ]
  },
  {
   "cell_type": "code",
   "execution_count": 1177,
   "metadata": {},
   "outputs": [
    {
     "ename": "KeyError",
     "evalue": "\"['Age'] not in index\"",
     "output_type": "error",
     "traceback": [
      "\u001b[0;31m---------------------------------------------------------------------------\u001b[0m",
      "\u001b[0;31mKeyError\u001b[0m                                  Traceback (most recent call last)",
      "\u001b[0;32m<ipython-input-1177-d1b96c7d085f>\u001b[0m in \u001b[0;36m<module>\u001b[0;34m()\u001b[0m\n\u001b[1;32m      4\u001b[0m \u001b[0my_test\u001b[0m \u001b[0;34m=\u001b[0m \u001b[0mtest_set\u001b[0m\u001b[0;34m[\u001b[0m\u001b[0;34m\"Age\"\u001b[0m\u001b[0;34m]\u001b[0m\u001b[0;34m.\u001b[0m\u001b[0mcopy\u001b[0m\u001b[0;34m(\u001b[0m\u001b[0;34m)\u001b[0m\u001b[0;34m\u001b[0m\u001b[0m\n\u001b[1;32m      5\u001b[0m \u001b[0;34m\u001b[0m\u001b[0m\n\u001b[0;32m----> 6\u001b[0;31m \u001b[0mX_test_prepared\u001b[0m \u001b[0;34m=\u001b[0m \u001b[0mfull_pipeline\u001b[0m\u001b[0;34m.\u001b[0m\u001b[0mtransform\u001b[0m\u001b[0;34m(\u001b[0m\u001b[0mX_test\u001b[0m\u001b[0;34m)\u001b[0m\u001b[0;34m\u001b[0m\u001b[0m\n\u001b[0m\u001b[1;32m      7\u001b[0m \u001b[0mfinal_predictions\u001b[0m \u001b[0;34m=\u001b[0m \u001b[0mfinal_model\u001b[0m\u001b[0;34m.\u001b[0m\u001b[0mpredict\u001b[0m\u001b[0;34m(\u001b[0m\u001b[0mX_test_prepared\u001b[0m\u001b[0;34m)\u001b[0m\u001b[0;34m\u001b[0m\u001b[0m\n\u001b[1;32m      8\u001b[0m \u001b[0;34m\u001b[0m\u001b[0m\n",
      "\u001b[0;32m~/anaconda/envs/opioid-data-ml/lib/python3.5/site-packages/sklearn/pipeline.py\u001b[0m in \u001b[0;36mtransform\u001b[0;34m(self, X)\u001b[0m\n\u001b[1;32m    766\u001b[0m         Xs = Parallel(n_jobs=self.n_jobs)(\n\u001b[1;32m    767\u001b[0m             \u001b[0mdelayed\u001b[0m\u001b[0;34m(\u001b[0m\u001b[0m_transform_one\u001b[0m\u001b[0;34m)\u001b[0m\u001b[0;34m(\u001b[0m\u001b[0mtrans\u001b[0m\u001b[0;34m,\u001b[0m \u001b[0mweight\u001b[0m\u001b[0;34m,\u001b[0m \u001b[0mX\u001b[0m\u001b[0;34m)\u001b[0m\u001b[0;34m\u001b[0m\u001b[0m\n\u001b[0;32m--> 768\u001b[0;31m             for name, trans, weight in self._iter())\n\u001b[0m\u001b[1;32m    769\u001b[0m         \u001b[0;32mif\u001b[0m \u001b[0;32mnot\u001b[0m \u001b[0mXs\u001b[0m\u001b[0;34m:\u001b[0m\u001b[0;34m\u001b[0m\u001b[0m\n\u001b[1;32m    770\u001b[0m             \u001b[0;31m# All transformers are None\u001b[0m\u001b[0;34m\u001b[0m\u001b[0;34m\u001b[0m\u001b[0m\n",
      "\u001b[0;32m~/anaconda/envs/opioid-data-ml/lib/python3.5/site-packages/sklearn/externals/joblib/parallel.py\u001b[0m in \u001b[0;36m__call__\u001b[0;34m(self, iterable)\u001b[0m\n\u001b[1;32m    777\u001b[0m             \u001b[0;31m# was dispatched. In particular this covers the edge\u001b[0m\u001b[0;34m\u001b[0m\u001b[0;34m\u001b[0m\u001b[0m\n\u001b[1;32m    778\u001b[0m             \u001b[0;31m# case of Parallel used with an exhausted iterator.\u001b[0m\u001b[0;34m\u001b[0m\u001b[0;34m\u001b[0m\u001b[0m\n\u001b[0;32m--> 779\u001b[0;31m             \u001b[0;32mwhile\u001b[0m \u001b[0mself\u001b[0m\u001b[0;34m.\u001b[0m\u001b[0mdispatch_one_batch\u001b[0m\u001b[0;34m(\u001b[0m\u001b[0miterator\u001b[0m\u001b[0;34m)\u001b[0m\u001b[0;34m:\u001b[0m\u001b[0;34m\u001b[0m\u001b[0m\n\u001b[0m\u001b[1;32m    780\u001b[0m                 \u001b[0mself\u001b[0m\u001b[0;34m.\u001b[0m\u001b[0m_iterating\u001b[0m \u001b[0;34m=\u001b[0m \u001b[0;32mTrue\u001b[0m\u001b[0;34m\u001b[0m\u001b[0m\n\u001b[1;32m    781\u001b[0m             \u001b[0;32melse\u001b[0m\u001b[0;34m:\u001b[0m\u001b[0;34m\u001b[0m\u001b[0m\n",
      "\u001b[0;32m~/anaconda/envs/opioid-data-ml/lib/python3.5/site-packages/sklearn/externals/joblib/parallel.py\u001b[0m in \u001b[0;36mdispatch_one_batch\u001b[0;34m(self, iterator)\u001b[0m\n\u001b[1;32m    623\u001b[0m                 \u001b[0;32mreturn\u001b[0m \u001b[0;32mFalse\u001b[0m\u001b[0;34m\u001b[0m\u001b[0m\n\u001b[1;32m    624\u001b[0m             \u001b[0;32melse\u001b[0m\u001b[0;34m:\u001b[0m\u001b[0;34m\u001b[0m\u001b[0m\n\u001b[0;32m--> 625\u001b[0;31m                 \u001b[0mself\u001b[0m\u001b[0;34m.\u001b[0m\u001b[0m_dispatch\u001b[0m\u001b[0;34m(\u001b[0m\u001b[0mtasks\u001b[0m\u001b[0;34m)\u001b[0m\u001b[0;34m\u001b[0m\u001b[0m\n\u001b[0m\u001b[1;32m    626\u001b[0m                 \u001b[0;32mreturn\u001b[0m \u001b[0;32mTrue\u001b[0m\u001b[0;34m\u001b[0m\u001b[0m\n\u001b[1;32m    627\u001b[0m \u001b[0;34m\u001b[0m\u001b[0m\n",
      "\u001b[0;32m~/anaconda/envs/opioid-data-ml/lib/python3.5/site-packages/sklearn/externals/joblib/parallel.py\u001b[0m in \u001b[0;36m_dispatch\u001b[0;34m(self, batch)\u001b[0m\n\u001b[1;32m    586\u001b[0m         \u001b[0mdispatch_timestamp\u001b[0m \u001b[0;34m=\u001b[0m \u001b[0mtime\u001b[0m\u001b[0;34m.\u001b[0m\u001b[0mtime\u001b[0m\u001b[0;34m(\u001b[0m\u001b[0;34m)\u001b[0m\u001b[0;34m\u001b[0m\u001b[0m\n\u001b[1;32m    587\u001b[0m         \u001b[0mcb\u001b[0m \u001b[0;34m=\u001b[0m \u001b[0mBatchCompletionCallBack\u001b[0m\u001b[0;34m(\u001b[0m\u001b[0mdispatch_timestamp\u001b[0m\u001b[0;34m,\u001b[0m \u001b[0mlen\u001b[0m\u001b[0;34m(\u001b[0m\u001b[0mbatch\u001b[0m\u001b[0;34m)\u001b[0m\u001b[0;34m,\u001b[0m \u001b[0mself\u001b[0m\u001b[0;34m)\u001b[0m\u001b[0;34m\u001b[0m\u001b[0m\n\u001b[0;32m--> 588\u001b[0;31m         \u001b[0mjob\u001b[0m \u001b[0;34m=\u001b[0m \u001b[0mself\u001b[0m\u001b[0;34m.\u001b[0m\u001b[0m_backend\u001b[0m\u001b[0;34m.\u001b[0m\u001b[0mapply_async\u001b[0m\u001b[0;34m(\u001b[0m\u001b[0mbatch\u001b[0m\u001b[0;34m,\u001b[0m \u001b[0mcallback\u001b[0m\u001b[0;34m=\u001b[0m\u001b[0mcb\u001b[0m\u001b[0;34m)\u001b[0m\u001b[0;34m\u001b[0m\u001b[0m\n\u001b[0m\u001b[1;32m    589\u001b[0m         \u001b[0mself\u001b[0m\u001b[0;34m.\u001b[0m\u001b[0m_jobs\u001b[0m\u001b[0;34m.\u001b[0m\u001b[0mappend\u001b[0m\u001b[0;34m(\u001b[0m\u001b[0mjob\u001b[0m\u001b[0;34m)\u001b[0m\u001b[0;34m\u001b[0m\u001b[0m\n\u001b[1;32m    590\u001b[0m \u001b[0;34m\u001b[0m\u001b[0m\n",
      "\u001b[0;32m~/anaconda/envs/opioid-data-ml/lib/python3.5/site-packages/sklearn/externals/joblib/_parallel_backends.py\u001b[0m in \u001b[0;36mapply_async\u001b[0;34m(self, func, callback)\u001b[0m\n\u001b[1;32m    109\u001b[0m     \u001b[0;32mdef\u001b[0m \u001b[0mapply_async\u001b[0m\u001b[0;34m(\u001b[0m\u001b[0mself\u001b[0m\u001b[0;34m,\u001b[0m \u001b[0mfunc\u001b[0m\u001b[0;34m,\u001b[0m \u001b[0mcallback\u001b[0m\u001b[0;34m=\u001b[0m\u001b[0;32mNone\u001b[0m\u001b[0;34m)\u001b[0m\u001b[0;34m:\u001b[0m\u001b[0;34m\u001b[0m\u001b[0m\n\u001b[1;32m    110\u001b[0m         \u001b[0;34m\"\"\"Schedule a func to be run\"\"\"\u001b[0m\u001b[0;34m\u001b[0m\u001b[0m\n\u001b[0;32m--> 111\u001b[0;31m         \u001b[0mresult\u001b[0m \u001b[0;34m=\u001b[0m \u001b[0mImmediateResult\u001b[0m\u001b[0;34m(\u001b[0m\u001b[0mfunc\u001b[0m\u001b[0;34m)\u001b[0m\u001b[0;34m\u001b[0m\u001b[0m\n\u001b[0m\u001b[1;32m    112\u001b[0m         \u001b[0;32mif\u001b[0m \u001b[0mcallback\u001b[0m\u001b[0;34m:\u001b[0m\u001b[0;34m\u001b[0m\u001b[0m\n\u001b[1;32m    113\u001b[0m             \u001b[0mcallback\u001b[0m\u001b[0;34m(\u001b[0m\u001b[0mresult\u001b[0m\u001b[0;34m)\u001b[0m\u001b[0;34m\u001b[0m\u001b[0m\n",
      "\u001b[0;32m~/anaconda/envs/opioid-data-ml/lib/python3.5/site-packages/sklearn/externals/joblib/_parallel_backends.py\u001b[0m in \u001b[0;36m__init__\u001b[0;34m(self, batch)\u001b[0m\n\u001b[1;32m    330\u001b[0m         \u001b[0;31m# Don't delay the application, to avoid keeping the input\u001b[0m\u001b[0;34m\u001b[0m\u001b[0;34m\u001b[0m\u001b[0m\n\u001b[1;32m    331\u001b[0m         \u001b[0;31m# arguments in memory\u001b[0m\u001b[0;34m\u001b[0m\u001b[0;34m\u001b[0m\u001b[0m\n\u001b[0;32m--> 332\u001b[0;31m         \u001b[0mself\u001b[0m\u001b[0;34m.\u001b[0m\u001b[0mresults\u001b[0m \u001b[0;34m=\u001b[0m \u001b[0mbatch\u001b[0m\u001b[0;34m(\u001b[0m\u001b[0;34m)\u001b[0m\u001b[0;34m\u001b[0m\u001b[0m\n\u001b[0m\u001b[1;32m    333\u001b[0m \u001b[0;34m\u001b[0m\u001b[0m\n\u001b[1;32m    334\u001b[0m     \u001b[0;32mdef\u001b[0m \u001b[0mget\u001b[0m\u001b[0;34m(\u001b[0m\u001b[0mself\u001b[0m\u001b[0;34m)\u001b[0m\u001b[0;34m:\u001b[0m\u001b[0;34m\u001b[0m\u001b[0m\n",
      "\u001b[0;32m~/anaconda/envs/opioid-data-ml/lib/python3.5/site-packages/sklearn/externals/joblib/parallel.py\u001b[0m in \u001b[0;36m__call__\u001b[0;34m(self)\u001b[0m\n\u001b[1;32m    129\u001b[0m \u001b[0;34m\u001b[0m\u001b[0m\n\u001b[1;32m    130\u001b[0m     \u001b[0;32mdef\u001b[0m \u001b[0m__call__\u001b[0m\u001b[0;34m(\u001b[0m\u001b[0mself\u001b[0m\u001b[0;34m)\u001b[0m\u001b[0;34m:\u001b[0m\u001b[0;34m\u001b[0m\u001b[0m\n\u001b[0;32m--> 131\u001b[0;31m         \u001b[0;32mreturn\u001b[0m \u001b[0;34m[\u001b[0m\u001b[0mfunc\u001b[0m\u001b[0;34m(\u001b[0m\u001b[0;34m*\u001b[0m\u001b[0margs\u001b[0m\u001b[0;34m,\u001b[0m \u001b[0;34m**\u001b[0m\u001b[0mkwargs\u001b[0m\u001b[0;34m)\u001b[0m \u001b[0;32mfor\u001b[0m \u001b[0mfunc\u001b[0m\u001b[0;34m,\u001b[0m \u001b[0margs\u001b[0m\u001b[0;34m,\u001b[0m \u001b[0mkwargs\u001b[0m \u001b[0;32min\u001b[0m \u001b[0mself\u001b[0m\u001b[0;34m.\u001b[0m\u001b[0mitems\u001b[0m\u001b[0;34m]\u001b[0m\u001b[0;34m\u001b[0m\u001b[0m\n\u001b[0m\u001b[1;32m    132\u001b[0m \u001b[0;34m\u001b[0m\u001b[0m\n\u001b[1;32m    133\u001b[0m     \u001b[0;32mdef\u001b[0m \u001b[0m__len__\u001b[0m\u001b[0;34m(\u001b[0m\u001b[0mself\u001b[0m\u001b[0;34m)\u001b[0m\u001b[0;34m:\u001b[0m\u001b[0;34m\u001b[0m\u001b[0m\n",
      "\u001b[0;32m~/anaconda/envs/opioid-data-ml/lib/python3.5/site-packages/sklearn/externals/joblib/parallel.py\u001b[0m in \u001b[0;36m<listcomp>\u001b[0;34m(.0)\u001b[0m\n\u001b[1;32m    129\u001b[0m \u001b[0;34m\u001b[0m\u001b[0m\n\u001b[1;32m    130\u001b[0m     \u001b[0;32mdef\u001b[0m \u001b[0m__call__\u001b[0m\u001b[0;34m(\u001b[0m\u001b[0mself\u001b[0m\u001b[0;34m)\u001b[0m\u001b[0;34m:\u001b[0m\u001b[0;34m\u001b[0m\u001b[0m\n\u001b[0;32m--> 131\u001b[0;31m         \u001b[0;32mreturn\u001b[0m \u001b[0;34m[\u001b[0m\u001b[0mfunc\u001b[0m\u001b[0;34m(\u001b[0m\u001b[0;34m*\u001b[0m\u001b[0margs\u001b[0m\u001b[0;34m,\u001b[0m \u001b[0;34m**\u001b[0m\u001b[0mkwargs\u001b[0m\u001b[0;34m)\u001b[0m \u001b[0;32mfor\u001b[0m \u001b[0mfunc\u001b[0m\u001b[0;34m,\u001b[0m \u001b[0margs\u001b[0m\u001b[0;34m,\u001b[0m \u001b[0mkwargs\u001b[0m \u001b[0;32min\u001b[0m \u001b[0mself\u001b[0m\u001b[0;34m.\u001b[0m\u001b[0mitems\u001b[0m\u001b[0;34m]\u001b[0m\u001b[0;34m\u001b[0m\u001b[0m\n\u001b[0m\u001b[1;32m    132\u001b[0m \u001b[0;34m\u001b[0m\u001b[0m\n\u001b[1;32m    133\u001b[0m     \u001b[0;32mdef\u001b[0m \u001b[0m__len__\u001b[0m\u001b[0;34m(\u001b[0m\u001b[0mself\u001b[0m\u001b[0;34m)\u001b[0m\u001b[0;34m:\u001b[0m\u001b[0;34m\u001b[0m\u001b[0m\n",
      "\u001b[0;32m~/anaconda/envs/opioid-data-ml/lib/python3.5/site-packages/sklearn/pipeline.py\u001b[0m in \u001b[0;36m_transform_one\u001b[0;34m(transformer, weight, X)\u001b[0m\n\u001b[1;32m    569\u001b[0m \u001b[0;34m\u001b[0m\u001b[0m\n\u001b[1;32m    570\u001b[0m \u001b[0;32mdef\u001b[0m \u001b[0m_transform_one\u001b[0m\u001b[0;34m(\u001b[0m\u001b[0mtransformer\u001b[0m\u001b[0;34m,\u001b[0m \u001b[0mweight\u001b[0m\u001b[0;34m,\u001b[0m \u001b[0mX\u001b[0m\u001b[0;34m)\u001b[0m\u001b[0;34m:\u001b[0m\u001b[0;34m\u001b[0m\u001b[0m\n\u001b[0;32m--> 571\u001b[0;31m     \u001b[0mres\u001b[0m \u001b[0;34m=\u001b[0m \u001b[0mtransformer\u001b[0m\u001b[0;34m.\u001b[0m\u001b[0mtransform\u001b[0m\u001b[0;34m(\u001b[0m\u001b[0mX\u001b[0m\u001b[0;34m)\u001b[0m\u001b[0;34m\u001b[0m\u001b[0m\n\u001b[0m\u001b[1;32m    572\u001b[0m     \u001b[0;31m# if we have a weight for this transformer, multiply output\u001b[0m\u001b[0;34m\u001b[0m\u001b[0;34m\u001b[0m\u001b[0m\n\u001b[1;32m    573\u001b[0m     \u001b[0;32mif\u001b[0m \u001b[0mweight\u001b[0m \u001b[0;32mis\u001b[0m \u001b[0;32mNone\u001b[0m\u001b[0;34m:\u001b[0m\u001b[0;34m\u001b[0m\u001b[0m\n",
      "\u001b[0;32m~/anaconda/envs/opioid-data-ml/lib/python3.5/site-packages/sklearn/pipeline.py\u001b[0m in \u001b[0;36m_transform\u001b[0;34m(self, X)\u001b[0m\n\u001b[1;32m    424\u001b[0m         \u001b[0;32mfor\u001b[0m \u001b[0mname\u001b[0m\u001b[0;34m,\u001b[0m \u001b[0mtransform\u001b[0m \u001b[0;32min\u001b[0m \u001b[0mself\u001b[0m\u001b[0;34m.\u001b[0m\u001b[0msteps\u001b[0m\u001b[0;34m:\u001b[0m\u001b[0;34m\u001b[0m\u001b[0m\n\u001b[1;32m    425\u001b[0m             \u001b[0;32mif\u001b[0m \u001b[0mtransform\u001b[0m \u001b[0;32mis\u001b[0m \u001b[0;32mnot\u001b[0m \u001b[0;32mNone\u001b[0m\u001b[0;34m:\u001b[0m\u001b[0;34m\u001b[0m\u001b[0m\n\u001b[0;32m--> 426\u001b[0;31m                 \u001b[0mXt\u001b[0m \u001b[0;34m=\u001b[0m \u001b[0mtransform\u001b[0m\u001b[0;34m.\u001b[0m\u001b[0mtransform\u001b[0m\u001b[0;34m(\u001b[0m\u001b[0mXt\u001b[0m\u001b[0;34m)\u001b[0m\u001b[0;34m\u001b[0m\u001b[0m\n\u001b[0m\u001b[1;32m    427\u001b[0m         \u001b[0;32mreturn\u001b[0m \u001b[0mXt\u001b[0m\u001b[0;34m\u001b[0m\u001b[0m\n\u001b[1;32m    428\u001b[0m \u001b[0;34m\u001b[0m\u001b[0m\n",
      "\u001b[0;32m<ipython-input-1147-8e20f752c7f7>\u001b[0m in \u001b[0;36mtransform\u001b[0;34m(self, X)\u001b[0m\n\u001b[1;32m      9\u001b[0m         \u001b[0;32mreturn\u001b[0m \u001b[0mself\u001b[0m\u001b[0;34m\u001b[0m\u001b[0m\n\u001b[1;32m     10\u001b[0m     \u001b[0;32mdef\u001b[0m \u001b[0mtransform\u001b[0m\u001b[0;34m(\u001b[0m\u001b[0mself\u001b[0m\u001b[0;34m,\u001b[0m \u001b[0mX\u001b[0m\u001b[0;34m)\u001b[0m\u001b[0;34m:\u001b[0m\u001b[0;34m\u001b[0m\u001b[0m\n\u001b[0;32m---> 11\u001b[0;31m         \u001b[0;32mreturn\u001b[0m \u001b[0mX\u001b[0m\u001b[0;34m[\u001b[0m\u001b[0mself\u001b[0m\u001b[0;34m.\u001b[0m\u001b[0mattribute_names\u001b[0m\u001b[0;34m]\u001b[0m\u001b[0;34m.\u001b[0m\u001b[0mvalues\u001b[0m\u001b[0;34m\u001b[0m\u001b[0m\n\u001b[0m",
      "\u001b[0;32m~/anaconda/envs/opioid-data-ml/lib/python3.5/site-packages/pandas/core/frame.py\u001b[0m in \u001b[0;36m__getitem__\u001b[0;34m(self, key)\u001b[0m\n\u001b[1;32m   1956\u001b[0m         \u001b[0;32mif\u001b[0m \u001b[0misinstance\u001b[0m\u001b[0;34m(\u001b[0m\u001b[0mkey\u001b[0m\u001b[0;34m,\u001b[0m \u001b[0;34m(\u001b[0m\u001b[0mSeries\u001b[0m\u001b[0;34m,\u001b[0m \u001b[0mnp\u001b[0m\u001b[0;34m.\u001b[0m\u001b[0mndarray\u001b[0m\u001b[0;34m,\u001b[0m \u001b[0mIndex\u001b[0m\u001b[0;34m,\u001b[0m \u001b[0mlist\u001b[0m\u001b[0;34m)\u001b[0m\u001b[0;34m)\u001b[0m\u001b[0;34m:\u001b[0m\u001b[0;34m\u001b[0m\u001b[0m\n\u001b[1;32m   1957\u001b[0m             \u001b[0;31m# either boolean or fancy integer index\u001b[0m\u001b[0;34m\u001b[0m\u001b[0;34m\u001b[0m\u001b[0m\n\u001b[0;32m-> 1958\u001b[0;31m             \u001b[0;32mreturn\u001b[0m \u001b[0mself\u001b[0m\u001b[0;34m.\u001b[0m\u001b[0m_getitem_array\u001b[0m\u001b[0;34m(\u001b[0m\u001b[0mkey\u001b[0m\u001b[0;34m)\u001b[0m\u001b[0;34m\u001b[0m\u001b[0m\n\u001b[0m\u001b[1;32m   1959\u001b[0m         \u001b[0;32melif\u001b[0m \u001b[0misinstance\u001b[0m\u001b[0;34m(\u001b[0m\u001b[0mkey\u001b[0m\u001b[0;34m,\u001b[0m \u001b[0mDataFrame\u001b[0m\u001b[0;34m)\u001b[0m\u001b[0;34m:\u001b[0m\u001b[0;34m\u001b[0m\u001b[0m\n\u001b[1;32m   1960\u001b[0m             \u001b[0;32mreturn\u001b[0m \u001b[0mself\u001b[0m\u001b[0;34m.\u001b[0m\u001b[0m_getitem_frame\u001b[0m\u001b[0;34m(\u001b[0m\u001b[0mkey\u001b[0m\u001b[0;34m)\u001b[0m\u001b[0;34m\u001b[0m\u001b[0m\n",
      "\u001b[0;32m~/anaconda/envs/opioid-data-ml/lib/python3.5/site-packages/pandas/core/frame.py\u001b[0m in \u001b[0;36m_getitem_array\u001b[0;34m(self, key)\u001b[0m\n\u001b[1;32m   2000\u001b[0m             \u001b[0;32mreturn\u001b[0m \u001b[0mself\u001b[0m\u001b[0;34m.\u001b[0m\u001b[0mtake\u001b[0m\u001b[0;34m(\u001b[0m\u001b[0mindexer\u001b[0m\u001b[0;34m,\u001b[0m \u001b[0maxis\u001b[0m\u001b[0;34m=\u001b[0m\u001b[0;36m0\u001b[0m\u001b[0;34m,\u001b[0m \u001b[0mconvert\u001b[0m\u001b[0;34m=\u001b[0m\u001b[0;32mFalse\u001b[0m\u001b[0;34m)\u001b[0m\u001b[0;34m\u001b[0m\u001b[0m\n\u001b[1;32m   2001\u001b[0m         \u001b[0;32melse\u001b[0m\u001b[0;34m:\u001b[0m\u001b[0;34m\u001b[0m\u001b[0m\n\u001b[0;32m-> 2002\u001b[0;31m             \u001b[0mindexer\u001b[0m \u001b[0;34m=\u001b[0m \u001b[0mself\u001b[0m\u001b[0;34m.\u001b[0m\u001b[0mloc\u001b[0m\u001b[0;34m.\u001b[0m\u001b[0m_convert_to_indexer\u001b[0m\u001b[0;34m(\u001b[0m\u001b[0mkey\u001b[0m\u001b[0;34m,\u001b[0m \u001b[0maxis\u001b[0m\u001b[0;34m=\u001b[0m\u001b[0;36m1\u001b[0m\u001b[0;34m)\u001b[0m\u001b[0;34m\u001b[0m\u001b[0m\n\u001b[0m\u001b[1;32m   2003\u001b[0m             \u001b[0;32mreturn\u001b[0m \u001b[0mself\u001b[0m\u001b[0;34m.\u001b[0m\u001b[0mtake\u001b[0m\u001b[0;34m(\u001b[0m\u001b[0mindexer\u001b[0m\u001b[0;34m,\u001b[0m \u001b[0maxis\u001b[0m\u001b[0;34m=\u001b[0m\u001b[0;36m1\u001b[0m\u001b[0;34m,\u001b[0m \u001b[0mconvert\u001b[0m\u001b[0;34m=\u001b[0m\u001b[0;32mTrue\u001b[0m\u001b[0;34m)\u001b[0m\u001b[0;34m\u001b[0m\u001b[0m\n\u001b[1;32m   2004\u001b[0m \u001b[0;34m\u001b[0m\u001b[0m\n",
      "\u001b[0;32m~/anaconda/envs/opioid-data-ml/lib/python3.5/site-packages/pandas/core/indexing.py\u001b[0m in \u001b[0;36m_convert_to_indexer\u001b[0;34m(self, obj, axis, is_setter)\u001b[0m\n\u001b[1;32m   1229\u001b[0m                 \u001b[0mmask\u001b[0m \u001b[0;34m=\u001b[0m \u001b[0mcheck\u001b[0m \u001b[0;34m==\u001b[0m \u001b[0;34m-\u001b[0m\u001b[0;36m1\u001b[0m\u001b[0;34m\u001b[0m\u001b[0m\n\u001b[1;32m   1230\u001b[0m                 \u001b[0;32mif\u001b[0m \u001b[0mmask\u001b[0m\u001b[0;34m.\u001b[0m\u001b[0many\u001b[0m\u001b[0;34m(\u001b[0m\u001b[0;34m)\u001b[0m\u001b[0;34m:\u001b[0m\u001b[0;34m\u001b[0m\u001b[0m\n\u001b[0;32m-> 1231\u001b[0;31m                     \u001b[0;32mraise\u001b[0m \u001b[0mKeyError\u001b[0m\u001b[0;34m(\u001b[0m\u001b[0;34m'%s not in index'\u001b[0m \u001b[0;34m%\u001b[0m \u001b[0mobjarr\u001b[0m\u001b[0;34m[\u001b[0m\u001b[0mmask\u001b[0m\u001b[0;34m]\u001b[0m\u001b[0;34m)\u001b[0m\u001b[0;34m\u001b[0m\u001b[0m\n\u001b[0m\u001b[1;32m   1232\u001b[0m \u001b[0;34m\u001b[0m\u001b[0m\n\u001b[1;32m   1233\u001b[0m                 \u001b[0;32mreturn\u001b[0m \u001b[0m_values_from_object\u001b[0m\u001b[0;34m(\u001b[0m\u001b[0mindexer\u001b[0m\u001b[0;34m)\u001b[0m\u001b[0;34m\u001b[0m\u001b[0m\n",
      "\u001b[0;31mKeyError\u001b[0m: \"['Age'] not in index\""
     ]
    }
   ],
   "source": [
    "final_model = grid_search.best_estimator_\n",
    "\n",
    "X_test = test_set.drop(\"Age\", axis=1)\n",
    "y_test = test_set[\"Age\"].copy()\n",
    "\n",
    "X_test_prepared = full_pipeline.transform(X_test)\n",
    "final_predictions = final_model.predict(X_test_prepared)\n",
    "\n",
    "final_mse = mean_squared_error(y_test, final_predictions)\n",
    "final_rmse = np.sqrt(final_mse)"
   ]
  },
  {
   "cell_type": "code",
   "execution_count": 1176,
   "metadata": {},
   "outputs": [
    {
     "ename": "NameError",
     "evalue": "name 'final_rmse' is not defined",
     "output_type": "error",
     "traceback": [
      "\u001b[0;31m---------------------------------------------------------------------------\u001b[0m",
      "\u001b[0;31mNameError\u001b[0m                                 Traceback (most recent call last)",
      "\u001b[0;32m<ipython-input-1176-6ad20bac1971>\u001b[0m in \u001b[0;36m<module>\u001b[0;34m()\u001b[0m\n\u001b[0;32m----> 1\u001b[0;31m \u001b[0mfinal_rmse\u001b[0m\u001b[0;34m\u001b[0m\u001b[0m\n\u001b[0m",
      "\u001b[0;31mNameError\u001b[0m: name 'final_rmse' is not defined"
     ]
    }
   ],
   "source": [
    "final_rmse"
   ]
  }
 ],
 "metadata": {
  "kernelspec": {
   "display_name": "Python 3",
   "language": "python",
   "name": "python3"
  },
  "language_info": {
   "codemirror_mode": {
    "name": "ipython",
    "version": 3
   },
   "file_extension": ".py",
   "mimetype": "text/x-python",
   "name": "python",
   "nbconvert_exporter": "python",
   "pygments_lexer": "ipython3",
   "version": "3.5.4"
  },
  "nav_menu": {
   "height": "279px",
   "width": "309px"
  },
  "toc": {
   "nav_menu": {},
   "number_sections": true,
   "sideBar": true,
   "skip_h1_title": false,
   "toc_cell": false,
   "toc_position": {},
   "toc_section_display": "block",
   "toc_window_display": false
  }
 },
 "nbformat": 4,
 "nbformat_minor": 1
}
